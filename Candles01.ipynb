{
  "nbformat": 4,
  "nbformat_minor": 0,
  "metadata": {
    "colab": {
      "name": "Candles01.ipynb",
      "provenance": [],
      "authorship_tag": "ABX9TyNzCOQSR/G0gG4wbDmBeut6",
      "include_colab_link": true
    },
    "kernelspec": {
      "name": "python3",
      "display_name": "Python 3"
    },
    "language_info": {
      "name": "python"
    }
  },
  "cells": [
    {
      "cell_type": "markdown",
      "metadata": {
        "id": "view-in-github",
        "colab_type": "text"
      },
      "source": [
        "<a href=\"https://colab.research.google.com/github/pcpiscator/01T2021/blob/main/Candles01.ipynb\" target=\"_parent\"><img src=\"https://colab.research.google.com/assets/colab-badge.svg\" alt=\"Open In Colab\"/></a>"
      ]
    },
    {
      "cell_type": "code",
      "metadata": {
        "colab": {
          "base_uri": "https://localhost:8080/"
        },
        "id": "-CXzzulgNScp",
        "outputId": "3ac48720-83a8-467e-f722-1be45bfc5b5b"
      },
      "source": [
        "pip install mpl_finance"
      ],
      "execution_count": 9,
      "outputs": [
        {
          "output_type": "stream",
          "text": [
            "Requirement already satisfied: mpl_finance in /usr/local/lib/python3.7/dist-packages (0.10.1)\n",
            "Requirement already satisfied: matplotlib in /usr/local/lib/python3.7/dist-packages (from mpl_finance) (3.2.2)\n",
            "Requirement already satisfied: pyparsing!=2.0.4,!=2.1.2,!=2.1.6,>=2.0.1 in /usr/local/lib/python3.7/dist-packages (from matplotlib->mpl_finance) (2.4.7)\n",
            "Requirement already satisfied: numpy>=1.11 in /usr/local/lib/python3.7/dist-packages (from matplotlib->mpl_finance) (1.19.5)\n",
            "Requirement already satisfied: python-dateutil>=2.1 in /usr/local/lib/python3.7/dist-packages (from matplotlib->mpl_finance) (2.8.1)\n",
            "Requirement already satisfied: cycler>=0.10 in /usr/local/lib/python3.7/dist-packages (from matplotlib->mpl_finance) (0.10.0)\n",
            "Requirement already satisfied: kiwisolver>=1.0.1 in /usr/local/lib/python3.7/dist-packages (from matplotlib->mpl_finance) (1.3.1)\n",
            "Requirement already satisfied: six>=1.5 in /usr/local/lib/python3.7/dist-packages (from python-dateutil>=2.1->matplotlib->mpl_finance) (1.15.0)\n"
          ],
          "name": "stdout"
        }
      ]
    },
    {
      "cell_type": "code",
      "metadata": {
        "id": "8V7zLRclNr4p"
      },
      "source": [
        "# python_candlestick_chart.py\n",
        "\n",
        "import matplotlib.pyplot as plt\n",
        "from mpl_finance import candlestick_ohlc\n",
        "import pandas as pd\n",
        "import matplotlib.dates as mpl_dates\n",
        "\n",
        "plt.style.use('ggplot')"
      ],
      "execution_count": 16,
      "outputs": []
    },
    {
      "cell_type": "code",
      "metadata": {
        "id": "WzJwTDdpN8Y5"
      },
      "source": [
        "# Extracting Data for plotting\n",
        "data = pd.read_csv('candlestick_python_data.csv')\n",
        "ohlc = data.loc[:, ['Date', 'Open', 'High', 'Low', 'Close']]\n",
        "ohlc['Date'] = pd.to_datetime(ohlc['Date'])\n",
        "ohlc['Date'] = ohlc['Date'].apply(mpl_dates.date2num)\n",
        "ohlc = ohlc.astype(float)"
      ],
      "execution_count": 23,
      "outputs": []
    },
    {
      "cell_type": "code",
      "metadata": {
        "colab": {
          "base_uri": "https://localhost:8080/",
          "height": 1000
        },
        "id": "5yRB0wLkQm5L",
        "outputId": "1d83b7d7-a87b-4500-d0e1-cc56322ae910"
      },
      "source": [
        "# Creating Subplots\n",
        "fig, ax = plt.subplots()\n",
        "\n",
        "candlestick_ohlc(ax, ohlc.values, width=0.6, colorup='green', colordown='red', alpha=0.8)\n"
      ],
      "execution_count": 24,
      "outputs": [
        {
          "output_type": "execute_result",
          "data": {
            "text/plain": [
              "([<matplotlib.lines.Line2D at 0x7ff696246dd0>,\n",
              "  <matplotlib.lines.Line2D at 0x7ff69627d090>,\n",
              "  <matplotlib.lines.Line2D at 0x7ff69627dfd0>,\n",
              "  <matplotlib.lines.Line2D at 0x7ff69627dd50>,\n",
              "  <matplotlib.lines.Line2D at 0x7ff696204f90>,\n",
              "  <matplotlib.lines.Line2D at 0x7ff69620c390>,\n",
              "  <matplotlib.lines.Line2D at 0x7ff69620cd10>,\n",
              "  <matplotlib.lines.Line2D at 0x7ff696214e90>,\n",
              "  <matplotlib.lines.Line2D at 0x7ff696214fd0>,\n",
              "  <matplotlib.lines.Line2D at 0x7ff69620cc10>,\n",
              "  <matplotlib.lines.Line2D at 0x7ff69622c350>,\n",
              "  <matplotlib.lines.Line2D at 0x7ff69622cf90>,\n",
              "  <matplotlib.lines.Line2D at 0x7ff696235b50>,\n",
              "  <matplotlib.lines.Line2D at 0x7ff696235c50>,\n",
              "  <matplotlib.lines.Line2D at 0x7ff69623ed90>,\n",
              "  <matplotlib.lines.Line2D at 0x7ff69623ee90>,\n",
              "  <matplotlib.lines.Line2D at 0x7ff6961c7fd0>,\n",
              "  <matplotlib.lines.Line2D at 0x7ff6961c79d0>,\n",
              "  <matplotlib.lines.Line2D at 0x7ff6961d2fd0>,\n",
              "  <matplotlib.lines.Line2D at 0x7ff6961dbb90>,\n",
              "  <matplotlib.lines.Line2D at 0x7ff6961dbc90>,\n",
              "  <matplotlib.lines.Line2D at 0x7ff6961e2dd0>,\n",
              "  <matplotlib.lines.Line2D at 0x7ff6961e2f10>,\n",
              "  <matplotlib.lines.Line2D at 0x7ff6961edfd0>,\n",
              "  <matplotlib.lines.Line2D at 0x7ff6961f6390>,\n",
              "  <matplotlib.lines.Line2D at 0x7ff6961f6fd0>,\n",
              "  <matplotlib.lines.Line2D at 0x7ff6961ffb90>,\n",
              "  <matplotlib.lines.Line2D at 0x7ff6961ffc90>],\n",
              " [<matplotlib.patches.Rectangle at 0x7ff69626ef90>,\n",
              "  <matplotlib.patches.Rectangle at 0x7ff69627d950>,\n",
              "  <matplotlib.patches.Rectangle at 0x7ff696204290>,\n",
              "  <matplotlib.patches.Rectangle at 0x7ff696204b90>,\n",
              "  <matplotlib.patches.Rectangle at 0x7ff69620c4d0>,\n",
              "  <matplotlib.patches.Rectangle at 0x7ff69620ced0>,\n",
              "  <matplotlib.patches.Rectangle at 0x7ff696214810>,\n",
              "  <matplotlib.patches.Rectangle at 0x7ff696222150>,\n",
              "  <matplotlib.patches.Rectangle at 0x7ff696222a50>,\n",
              "  <matplotlib.patches.Rectangle at 0x7ff69622c290>,\n",
              "  <matplotlib.patches.Rectangle at 0x7ff69622cb90>,\n",
              "  <matplotlib.patches.Rectangle at 0x7ff6962354d0>,\n",
              "  <matplotlib.patches.Rectangle at 0x7ff696235dd0>,\n",
              "  <matplotlib.patches.Rectangle at 0x7ff69623e710>,\n",
              "  <matplotlib.patches.Rectangle at 0x7ff69623efd0>,\n",
              "  <matplotlib.patches.Rectangle at 0x7ff6961c7a50>,\n",
              "  <matplotlib.patches.Rectangle at 0x7ff6961d2110>,\n",
              "  <matplotlib.patches.Rectangle at 0x7ff6961d2bd0>,\n",
              "  <matplotlib.patches.Rectangle at 0x7ff6961db510>,\n",
              "  <matplotlib.patches.Rectangle at 0x7ff6961dbe10>,\n",
              "  <matplotlib.patches.Rectangle at 0x7ff6961e2750>,\n",
              "  <matplotlib.patches.Rectangle at 0x7ff6961ed090>,\n",
              "  <matplotlib.patches.Rectangle at 0x7ff6961ed990>,\n",
              "  <matplotlib.patches.Rectangle at 0x7ff6961f62d0>,\n",
              "  <matplotlib.patches.Rectangle at 0x7ff6961f6bd0>,\n",
              "  <matplotlib.patches.Rectangle at 0x7ff6961ff510>,\n",
              "  <matplotlib.patches.Rectangle at 0x7ff6961ffe10>,\n",
              "  <matplotlib.patches.Rectangle at 0x7ff69618a750>])"
            ]
          },
          "metadata": {
            "tags": []
          },
          "execution_count": 24
        },
        {
          "output_type": "display_data",
          "data": {
            "image/png": "[encoded data removed]",
            "text/plain": [
              "<Figure size 432x288 with 1 Axes>"
            ]
          },
          "metadata": {
            "tags": []
          }
        }
      ]
    },
    {
      "cell_type": "code",
      "metadata": {
        "colab": {
          "base_uri": "https://localhost:8080/"
        },
        "id": "peWw8TyRSJxq",
        "outputId": "2b7a6062-475a-471c-b7f2-8970248e184f"
      },
      "source": [
        "# Setting labels & titles\n",
        "ax.set_xlabel('Date')\n",
        "ax.set_ylabel('Price')\n",
        "fig.suptitle('Daily Candlestick Chart of NIFTY50')\n"
      ],
      "execution_count": 25,
      "outputs": [
        {
          "output_type": "execute_result",
          "data": {
            "text/plain": [
              "Text(0.5, 0.98, 'Daily Candlestick Chart of NIFTY50')"
            ]
          },
          "metadata": {
            "tags": []
          },
          "execution_count": 25
        }
      ]
    },
    {
      "cell_type": "code",
      "metadata": {
        "id": "2Kl_s2z-SQ1b"
      },
      "source": [
        "# Formatting Date\n",
        "date_format = mpl_dates.DateFormatter('%d-%m-%Y')\n",
        "ax.xaxis.set_major_formatter(date_format)\n",
        "fig.autofmt_xdate()\n",
        "\n",
        "fig.tight_layout()\n",
        "\n",
        "plt.show()"
      ],
      "execution_count": 27,
      "outputs": []
    }
  ]
}