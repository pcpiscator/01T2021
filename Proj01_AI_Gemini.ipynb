{
  "cells": [
    {
      "cell_type": "markdown",
      "metadata": {
        "id": "view-in-github",
        "colab_type": "text"
      },
      "source": [
        "<a href=\"https://colab.research.google.com/github/pcpiscator/01T2021/blob/main/Proj01_AI_Gemini.ipynb\" target=\"_parent\"><img src=\"https://colab.research.google.com/assets/colab-badge.svg\" alt=\"Open In Colab\"/></a>"
      ]
    },
    {
      "cell_type": "code",
      "execution_count": 9,
      "metadata": {
        "id": "ibXxIzLJj8vR"
      },
      "outputs": [],
      "source": [
        "!pip install -q -U google-generativeai"
      ]
    },
    {
      "cell_type": "code",
      "execution_count": 3,
      "metadata": {
        "id": "p_ANCMLNpQjb"
      },
      "outputs": [],
      "source": [
        "from pathlib import Path"
      ]
    },
    {
      "cell_type": "code",
      "execution_count": 4,
      "metadata": {
        "id": "bDsRZGlOp4TI"
      },
      "outputs": [],
      "source": [
        "import hashlib"
      ]
    },
    {
      "cell_type": "code",
      "execution_count": 5,
      "metadata": {
        "id": "VAcvhO3KqAmy"
      },
      "outputs": [],
      "source": [
        "import google.generativeai as genai"
      ]
    },
    {
      "cell_type": "code",
      "execution_count": 6,
      "metadata": {
        "id": "rQex6o2VqZuS"
      },
      "outputs": [],
      "source": [
        "genai.configure(api_key=\"YOUR_API_KEY\")"
      ]
    },
    {
      "cell_type": "markdown",
      "metadata": {
        "id": "sHvVuHN099Qd"
      },
      "source": [
        "Configurando o modelo"
      ]
    },
    {
      "cell_type": "code",
      "source": [
        "# Set up the model\n",
        "generation_config = {\n",
        "  \"temperature\": 1,\n",
        "  \"top_p\": 0.95,\n",
        "  \"top_k\": 0,\n",
        "  \"max_output_tokens\": 8192,\n",
        "}\n"
      ],
      "metadata": {
        "id": "eq_hsGDF9KiA"
      },
      "execution_count": 11,
      "outputs": []
    },
    {
      "cell_type": "code",
      "execution_count": 12,
      "metadata": {
        "id": "5C6fb9Uw-JpX"
      },
      "outputs": [],
      "source": [
        "\n",
        "safety_settings = [\n",
        "  {\n",
        "    \"category\": \"HARM_CATEGORY_HARASSMENT\",\n",
        "    \"threshold\": \"BLOCK_MEDIUM_AND_ABOVE\"\n",
        "  },\n",
        "  {\n",
        "    \"category\": \"HARM_CATEGORY_HATE_SPEECH\",\n",
        "    \"threshold\": \"BLOCK_MEDIUM_AND_ABOVE\"\n",
        "  },\n",
        "  {\n",
        "    \"category\": \"HARM_CATEGORY_SEXUALLY_EXPLICIT\",\n",
        "    \"threshold\": \"BLOCK_MEDIUM_AND_ABOVE\"\n",
        "  },\n",
        "  {\n",
        "    \"category\": \"HARM_CATEGORY_DANGEROUS_CONTENT\",\n",
        "    \"threshold\": \"BLOCK_MEDIUM_AND_ABOVE\"\n",
        "  },\n",
        "]\n"
      ]
    },
    {
      "cell_type": "markdown",
      "source": [
        "system_instruction = \"Identificar e transcrever os caracteres em texto\""
      ],
      "metadata": {
        "id": "0JAyFRiy6vkI"
      }
    },
    {
      "cell_type": "code",
      "source": [
        "model = genai.GenerativeModel(model_name=\"gemini-1.5-pro-latest\",\n",
        "                              generation_config=generation_config,\n",
        "                              system_instruction= \"Identificar e transcrever os caracteres em texto\",\n",
        "                              safety_settings=safety_settings)\n"
      ],
      "metadata": {
        "id": "uuMWCJjF61V7"
      },
      "execution_count": 15,
      "outputs": []
    },
    {
      "cell_type": "code",
      "source": [
        "uploaded_files = []\n",
        "def upload_if_needed(pathname: str) -> list[str]:\n",
        "  path = Path(pathname)\n",
        "  hash_id = hashlib.sha256(path.read_bytes()).hexdigest()\n",
        "  try:\n",
        "    existing_file = genai.get_file(name=hash_id)\n",
        "    return [existing_file.uri]\n",
        "  except:\n",
        "    pass\n",
        "  uploaded_files.append(genai.upload_file(path=path, display_name=hash_id))\n",
        "  return [uploaded_files[-1].uri]\n",
        "\n",
        "convo = model.start_chat(history=[\n",
        "  {\n",
        "    \"role\": \"user\",\n",
        "    \"parts\": [\"Identificar e transcrever os caracteres em texto\"]\n",
        "  },\n",
        "  {\n",
        "    \"role\": \"model\",\n",
        "    \"parts\": [\"Por favor, forneça os caracteres que você deseja que eu identifique e transcreva. \\n\\nPor exemplo:\\n\\n* Uma imagem contendo caracteres\\n* Um texto com caracteres especiais\\n* Um código com caracteres unicode\\n\\nQuanto mais informação você me fornecer, mais preciso será o meu trabalho. 😊\"]\n",
        "  },\n",
        "  {\n",
        "    \"role\": \"user\",\n",
        "    \"parts\": upload_if_needed(\"<path>/image0.png\")\n",
        "  },\n",
        "  {\n",
        "    \"role\": \"user\",\n",
        "    \"parts\": upload_if_needed(\"<path>/image1.png\")\n",
        "  },\n",
        "  {\n",
        "    \"role\": \"model\",\n",
        "    \"parts\": [\"## Transcrição do Texto em Alemão:\\n\\n**Die Vögel des Orgelgebirges in Sachsen.** \\n_Von Dr. C.  L  Brehm in Renthendorf._\\n\\n(Fortsetzung.)\\n\\n**II. Adler.**\\n\\nWenn auch bei uns keine \\\"Lämmergeier\\\" in unserem engern Vaterlande brüten, noch jemals von irgend einem Naturforscher beobachtet worden sind, so haben wir doch noch Adler, über die wir dem Auslande, fremd- artigen Erdstrichen, nicht zu beneiden brauchen; denn wer kennt nicht den stolzen, kühnen Steinadler, diesen seinen Namen so sehr verdienenden Räuber der Lüfte, dessen Kühnheit, verbunden mit Kraft und Ausdauer, den Bewohner der Alpen so sehr in Furcht setzt.\\n\\nEs ist in der That ein herrlicher Anblick, wenn dieser Charaktervogel der Alpen, dieser \\\"Vogel Zeus,\\\" den die Hellenen (abgekürzt, der alte Plinius) so nannten, mit seinen starken Schwingen die Luft durchschneidet und in weiten Kreisen, ohne sichtbare Bewegung, bald höher, bald tiefer schwebt, mit einem scharfen, durchdringenden Blicke die Gegend unter sich überschauend. Der Schnabel gross, stark, auf dem Rücken stark gekrümmt, vorn gerade abgestutzt, an der Spitze mit einer starken Hornscheide versehen, die Nasenlöcher rund, offen; der Kopf und Hals mit spitzen, lanzettförmigen Federn bedeckt; die Füsse stark, mit kurzen, aber sehr kräftigen Zehen, von welchen drei nach vorn und eine nach hinten gerichtet sind, alle vier mit starken, langen, sehr scharfen und stark gekrümmten Krallen bewehrt; der Lauf bis zum Ansatz der Zehen dicht befiedert, die Flügel lang und breit, der Schwanz von gleicher Länge mit den Flügeln, am Ende etwas abgerundet - dies sind die Hauptkennzeichen unseres Steinadlers.\\n\\nSeine Grösse ist bedeutend; denn er misst vom Schnabel bis zum Ende der Schwanzfedern beinahe drei Fuss und seine Flügelspitzen erreichen eine Entfernung von sieben Fuss, ja wohl gar noch mehr. Das Gefieder ist dunkelbraun, auf dem Kopfe und Nacken licht rostgelb, die Schwung- und Steuerfedern schwarzbraun, die Schwanzfedern weisslich gesäumt. \\n\\nWenn der Steinadler in der Nähe seines Horstes kreist, so schreit er in hellen Tönen \\\"giak, giak,\\\" und wenn sich ihm ein andrer Adler nähert, so stürzt er sich, mit Blitzesschnelle auf denselben herab, und es entspannt sich ein Kampf in den Lüften, der oft mit dem Tode des einen oder des andern endigt. Sein Horst ist auf den höchsten und unzugänglichsten Felsen gebaut, aus dürren Aesten und Reisern kunstlos zusammengefügt und mit Moos und Wolle ausgepolstert. Er enthält zwei oder drei Junge, die von beiden Eltern mit Sorgfalt auferzogen und, nachdem sie flügge geworden sind, noch eine Zeit lang von denselben begleitet und im Fliegen unterrichtet werden.\\n\\nDie Nahrung des Steinadlers besteht in Gemsen, jungen Rehen, Füchsen, Hasen und grossen Vögeln. Er schlägt auch wohl einmal ein Lamm, ja selbst ein kleines Kind hat er schon, der Sage nach, entführt, und bei Befinden frisst er Aas, wie alle andern Adler.\\n\\nDie Alpen sind der eigentliche Aufenthalt des Steinadlers in Deutschland; doch kommt er auch zuweilen in andern Gebirgen vor, und es soll sich ein Paar auf dem hohen Schneeberge im Riesengebirge eingenistet haben. \\n\\nIm Jahre 1832 wurde ein Steinadler bei Jena geschossen, welcher eine weite Strecke über die Ebene geflogen sein musste, da er nirgends einen Ruhepunkt finden konnte. Im Winter 1837 wurde ein prächtiger Steinadler am Fusse des Kyffhäusers geschossen und ausgestopft. \\n\\n**Der Fischadler (Falco ossifragus)** ist ein ansehnlicher, grosser Raubvogel, der, obgleich er nicht in den Gebirgen, sondern in der Nähe grosser Seen und Flüsse sich aufhält, doch wegen seiner grossen Aehnlichkeit mit dem Steinadler hier Erwähnung verdient. Er ist etwas kleiner als der Steinadler, hat aber längere Flügel; diese sind an der Spitze etwas abgestumpft, der Schwanz kurz, am Ende gerade abgeschnitten, der Schnabel bläulich schwarz, die Füsse blau, die Krallen schwarz, lang und sehr spitzig. Die Oberseite ist dunkelbraun, der Kopf und Nacken weiss mit dunkelbraunen Längsstreifen, die Unterseite weiss, auf der Brust mit einigen dunkelbraunen Flecken. -\\n\\n**Cirkusaetus brachydactylus, der Kurzzehenadler** ist kleiner als der vorige, hat aber einen längern Schwanz. Die Farbe des Gefieders ist oben dunkelbraun, unten weiss; der Kopf und Hals sind weiss, mit braunen Längsflecken; die Füsse sind weisslich, die Krallen schwarz. Er gehört den südlichen Gegenden von Europa an, und nur zufällig ist er ein paar Mal bei uns vorgekommen. \\n\\n**Circaetus gallicus, der Schlangenadler**, unterscheidet sich von dem vorigen durch seinen rundlichen Schwanz, und dadurch, dass er auf der Unterseite einfarbig braun ist, mit kleinen, weissen Flecken. Er gehört südlichen Ländern an und hat sich nur selten bei uns gezeigt. \\n\\n**Aquila naevia, der Schreiadler** kommt unter allen Adlern am häufigsten in Deutschland vor; denn er brütet nicht nur in den grossen Forsten, sondern auch wohl in den grössern Waldungen der Ebene. Er ist etwas kleiner als der Steinadler, von dunkelbrauner Farbe, mit weisslichen Flecken auf dem Rücken und weissen, herzförmigen Flecken auf den Flügeln; die Schwanzfedern sind gebräunt und weiss gerandet, der Schwanz selbst am Ende abgerundet. Er baut seinen Horst auf hohen Bäumen und nährt sich von Hasen, Kaninchen, jungen Rehen, Vögeln und andern kleinen Thieren.\\n\\n**Aquila clanga, der Schelladler,** gleicht dem vorigen sehr, ist aber dunkler gefärbt und hat auf den Flügeln keine weissen Flecken. Er ist in seinen Sitten und Gewohnheiten dem Schreiadler ganz ähnlich, kommt aber seltener bei uns vor. \\n\\n**Aquila pennata, der Zwergadler** ist unser kleinster Adler. Er hat eine Länge von 1 Fuss 9 Zoll bis 2 Fuss, und die Flügelspitzen erreichen eine Entfernung von 4 Fuss 3 Zoll bis 4 Fuss 6 Zoll. Die Oberseite ist dunkelbraun, auf dem Kopfe und Nacken rostgelb, die Unterseite rostgelb mit dunkelbraunen Längsflecken; die Füsse sind befiedert, die Krallen schwarz. Er bewohnt die grossen Wälder und nährt sich von Eidechsen, kleinen Vögeln und Mäusen. \\n\\n**Pandion haliaetus, der Meeradler** hat mit den ächten Adlern nur die Schnabelbildung und die stark gekrümmten Krallen gemein; übrigens weicht er von denselben bedeutend ab. Er hat einen weniger starken, längern und dünnern Körper, längere Flügel, deren Spitzen spitziger sind, einen kurzen, abgerundeten Schwanz, mit kurzen, aber starken Füsse, deren Läufe bis zu den Zehen nackt und mit grossen Schuppen bedeckt sind. Die Oberseite ist dunkelbraun, der Kopf und Nacken weiss mit dunkelbraunen Längsstreifen, die Unterseite weiss. Er ist bei uns ein seltener Vogel und lebt ausschliesslich von Fischen, die er mit grosser Geschicklichkeit fängt. \\n\\n**Haliaetus albicilla, der Seeadler,** gleicht dem vorigen sehr, ist aber grösser, hat einen längern Schwanz und einen weissen Kopf und Nacken. Er lebt ebenfalls von Fischen und bewohnt die Ufer der Meere und die grossen Seen und Flüsse. \\n\\n\\n**(Schluss folgt.)**\"]\n",
        "  },\n",
        "  {\n",
        "    \"role\": \"user\",\n",
        "    \"parts\": [\"Traduza o texto acima para portugûes\"]\n",
        "  },\n",
        "  {\n",
        "    \"role\": \"model\",\n",
        "    \"parts\": [\"## As Aves dos Montes Metalíferos na Saxônia. \\n_Por Dr. C.  L  Brehm em Renthendorf._\\n\\n(Continuação.)\\n\\n**II. Águias.**\\n\\nEmbora não haja \\\"águias-quebra-ossos\\\" em nossa terra natal, nem nunca tenham sido observadas por qualquer naturalista, ainda temos águias que não precisamos invejar a terras estrangeiras; pois quem não conhece a orgulhosa e audaciosa águia-real, essa ladra dos ares que faz jus ao seu nome, cuja audácia, combinada com força e resistência, aterroriza tanto os habitantes dos Alpes.\\n\\nÉ realmente uma visão magnífica quando esta ave característica dos Alpes, esta \\\"ave de Zeus\\\", como os helenos (abreviado, o velho Plínio) a chamavam, corta o ar com suas fortes asas e paira em largos círculos, sem movimento visível, ora mais alto, ora mais baixo, com um olhar penetrante, perscrutando a área abaixo. O bico grande, forte, fortemente curvado nas costas, truncado na frente, provido de uma forte bainha córnea na ponta, as narinas redondas, abertas; a cabeça e o pescoço cobertos por penas pontiagudas, em forma de lança; os pés fortes, com dedos curtos, mas muito poderosos, dos quais três são direcionados para a frente e um para trás, todos os quatro armados com garras fortes, longas, muito afiadas e fortemente curvas; o tarso densamente coberto de penas até a base dos dedos, as asas longas e largas, a cauda do mesmo comprimento das asas, ligeiramente arredondada na ponta - estas são as principais características da nossa águia-real.\\n\\nSeu tamanho é considerável; pois mede do bico até a ponta das penas da cauda quase três pés, e a envergadura de suas asas atinge sete pés, ou talvez mais. A plumagem é marrom escura, a cabeça e o pescoço são castanho-claro, as penas de voo e da cauda são marrom-escuras, as penas da cauda são orladas de branco. \\n\\nQuando a águia-real circula perto do seu ninho, grita em tons agudos \\\"giak, giak\\\", e se outra águia se aproxima, ela se lança sobre ela com a velocidade de um relâmpago, e uma luta se desenrola no ar, que frequentemente termina com a morte de um ou do outro. Seu ninho é construído nas rochas mais altas e inacessíveis, feito de galhos secos e gravetos, grosseiramente unidos e forrados com musgo e lã. Ele contém dois ou três filhotes, que são criados por ambos os pais com cuidado e, depois de terem aprendido a voar, são acompanhados e instruídos no voo por eles por algum tempo.\\n\\nO alimento da águia-real consiste em camurças, corços jovens, raposas, lebres e grandes pássaros. Ocasionalmente também mata um cordeiro, e dizem que já raptou uma criança pequena, e quando a oportunidade se apresenta, alimenta-se de carniça, como todas as outras águias.\\n\\nOs Alpes são o lar real da águia-real na Alemanha; no entanto, também ocorre ocasionalmente em outras montanhas, e diz-se que um casal nidifica na alta montanha nevada nas Montanhas dos Gigantes. \\n\\nEm 1832, uma águia-real foi abatida perto de Jena, que deve ter voado uma longa distância sobre a planície, pois não conseguia encontrar nenhum lugar para descansar. No inverno de 1837, uma magnífica águia-real foi abatida no sopé do Kyffhäuser e empalhada. \\n\\n**A águia-pesqueira (Falco ossifragus)** é uma ave de rapina grande e imponente que, embora não habite as montanhas, mas sim as proximidades de grandes lagos e rios, ainda merece ser mencionada aqui devido à sua grande semelhança com a águia-real. É ligeiramente menor que a águia-real, mas tem asas mais longas; estas são um pouco arredondadas na ponta, a cauda é curta, cortada reta na ponta, o bico é preto-azulado, os pés são azuis, as garras são pretas, longas e muito afiadas. A parte superior é marrom escura, a cabeça e o pescoço são brancos com listras longitudinais marrom-escuras, a parte inferior é branca, com algumas manchas marrom-escuras no peito. -\\n\\n**Cirkusaetus brachydactylus, a águia-de-dedos-curtos** é menor que a anterior, mas tem uma cauda mais longa. A cor da plumagem é marrom escura acima, branca abaixo; a cabeça e o pescoço são brancos, com manchas marrons; os pés são esbranquiçados, as garras são pretas. Pertence às regiões do sul da Europa, e só apareceu algumas vezes em nosso país. \\n\\n**Circaetus gallicus, a águia-cobreira**, difere da anterior por sua cauda arredondada e por ser marrom sólido na parte inferior, com pequenas manchas brancas. Pertence aos países do sul e só raramente apareceu em nosso país. \\n\\n**Aquila naevia, a águia-gritadeira** é a mais comum de todas as águias na Alemanha; pois não nidifica apenas nas grandes florestas, mas também nas maiores florestas da planície. É um pouco menor que a águia-real, de cor marrom escura, com manchas esbranquiçadas nas costas e manchas brancas em forma de coração nas asas; as penas da cauda são marrons e orladas de branco, a própria cauda é arredondada na ponta. Constrói seu ninho em árvores altas e se alimenta de lebres, coelhos, corços jovens, pássaros e outros pequenos animais.\\n\\n**Aquila clanga, a águia-manchada**, é muito semelhante à anterior, mas é de cor mais escura e não tem manchas brancas nas asas. Em seus hábitos e costumes, é bastante semelhante à águia-gritadeira, mas é menos comum em nosso país. \\n\\n**Aquila pennata, a águia-anã** é a menor de nossas águias. Tem 1 pé e 9 polegadas a 2 pés de comprimento, e a envergadura de suas asas atinge de 4 pés 3 polegadas a 4 pés 6 polegadas. A parte superior é marrom escura, a cabeça e o pescoço são castanho-claros, a parte inferior é castanho-clara com manchas marrom-escuras longitudinais; os pés são emplumados, as garras são pretas. Habita grandes florestas e se alimenta de lagartos, pequenos pássaros e ratos. \\n\\n**Pandion haliaetus, a águia-pesqueira**, tem apenas a forma do bico e as garras fortemente curvas em comum com as verdadeiras águias; caso contrário, difere significativamente delas. Tem um corpo menos robusto, mais longo e mais fino, asas mais longas, cujas pontas são mais pontiagudas, uma cauda curta e arredondada, pés curtos, mas fortes, cujos tarsos são nus e cobertos por grandes escamas até os dedos. A parte superior é marrom escura, a cabeça e o pescoço são brancos com listras longitudinais marrom-escuras, a parte inferior é branca. É uma ave rara em nosso país e vive exclusivamente de peixes, que captura com grande habilidade. \\n\\n**Haliaetus albicilla, a águia-de-cabeça-branca**, é muito semelhante à anterior, mas é maior, tem uma cauda mais longa e cabeça e pescoço brancos. Também vive de peixes e habita as costas marítimas e os grandes lagos e rios. \\n\\n\\n**(Continua.)**\"]\n",
        "  },\n",
        "])\n"
      ],
      "metadata": {
        "colab": {
          "base_uri": "https://localhost:8080/",
          "height": 356
        },
        "collapsed": true,
        "id": "wUv0dN1DG0fS",
        "outputId": "3dd86bb3-4e84-40bf-c61a-4bc5d548626c"
      },
      "execution_count": 22,
      "outputs": [
        {
          "output_type": "error",
          "ename": "FileNotFoundError",
          "evalue": "[Errno 2] No such file or directory: '<path>/image0.png'",
          "traceback": [
            "\u001b[0;31m---------------------------------------------------------------------------\u001b[0m",
            "\u001b[0;31mFileNotFoundError\u001b[0m                         Traceback (most recent call last)",
            "\u001b[0;32m<ipython-input-22-1f26d6aa5953>\u001b[0m in \u001b[0;36m<cell line: 13>\u001b[0;34m()\u001b[0m\n\u001b[1;32m     22\u001b[0m   {\n\u001b[1;32m     23\u001b[0m     \u001b[0;34m\"role\"\u001b[0m\u001b[0;34m:\u001b[0m \u001b[0;34m\"user\"\u001b[0m\u001b[0;34m,\u001b[0m\u001b[0;34m\u001b[0m\u001b[0;34m\u001b[0m\u001b[0m\n\u001b[0;32m---> 24\u001b[0;31m     \u001b[0;34m\"parts\"\u001b[0m\u001b[0;34m:\u001b[0m \u001b[0mupload_if_needed\u001b[0m\u001b[0;34m(\u001b[0m\u001b[0;34m\"<path>/image0.png\"\u001b[0m\u001b[0;34m)\u001b[0m\u001b[0;34m\u001b[0m\u001b[0;34m\u001b[0m\u001b[0m\n\u001b[0m\u001b[1;32m     25\u001b[0m   },\n\u001b[1;32m     26\u001b[0m   {\n",
            "\u001b[0;32m<ipython-input-22-1f26d6aa5953>\u001b[0m in \u001b[0;36mupload_if_needed\u001b[0;34m(pathname)\u001b[0m\n\u001b[1;32m      2\u001b[0m \u001b[0;32mdef\u001b[0m \u001b[0mupload_if_needed\u001b[0m\u001b[0;34m(\u001b[0m\u001b[0mpathname\u001b[0m\u001b[0;34m:\u001b[0m \u001b[0mstr\u001b[0m\u001b[0;34m)\u001b[0m \u001b[0;34m->\u001b[0m \u001b[0mlist\u001b[0m\u001b[0;34m[\u001b[0m\u001b[0mstr\u001b[0m\u001b[0;34m]\u001b[0m\u001b[0;34m:\u001b[0m\u001b[0;34m\u001b[0m\u001b[0;34m\u001b[0m\u001b[0m\n\u001b[1;32m      3\u001b[0m   \u001b[0mpath\u001b[0m \u001b[0;34m=\u001b[0m \u001b[0mPath\u001b[0m\u001b[0;34m(\u001b[0m\u001b[0mpathname\u001b[0m\u001b[0;34m)\u001b[0m\u001b[0;34m\u001b[0m\u001b[0;34m\u001b[0m\u001b[0m\n\u001b[0;32m----> 4\u001b[0;31m   \u001b[0mhash_id\u001b[0m \u001b[0;34m=\u001b[0m \u001b[0mhashlib\u001b[0m\u001b[0;34m.\u001b[0m\u001b[0msha256\u001b[0m\u001b[0;34m(\u001b[0m\u001b[0mpath\u001b[0m\u001b[0;34m.\u001b[0m\u001b[0mread_bytes\u001b[0m\u001b[0;34m(\u001b[0m\u001b[0;34m)\u001b[0m\u001b[0;34m)\u001b[0m\u001b[0;34m.\u001b[0m\u001b[0mhexdigest\u001b[0m\u001b[0;34m(\u001b[0m\u001b[0;34m)\u001b[0m\u001b[0;34m\u001b[0m\u001b[0;34m\u001b[0m\u001b[0m\n\u001b[0m\u001b[1;32m      5\u001b[0m   \u001b[0;32mtry\u001b[0m\u001b[0;34m:\u001b[0m\u001b[0;34m\u001b[0m\u001b[0;34m\u001b[0m\u001b[0m\n\u001b[1;32m      6\u001b[0m     \u001b[0mexisting_file\u001b[0m \u001b[0;34m=\u001b[0m \u001b[0mgenai\u001b[0m\u001b[0;34m.\u001b[0m\u001b[0mget_file\u001b[0m\u001b[0;34m(\u001b[0m\u001b[0mname\u001b[0m\u001b[0;34m=\u001b[0m\u001b[0mhash_id\u001b[0m\u001b[0;34m)\u001b[0m\u001b[0;34m\u001b[0m\u001b[0;34m\u001b[0m\u001b[0m\n",
            "\u001b[0;32m/usr/lib/python3.10/pathlib.py\u001b[0m in \u001b[0;36mread_bytes\u001b[0;34m(self)\u001b[0m\n\u001b[1;32m   1124\u001b[0m         \u001b[0mOpen\u001b[0m \u001b[0mthe\u001b[0m \u001b[0mfile\u001b[0m \u001b[0;32min\u001b[0m \u001b[0mbytes\u001b[0m \u001b[0mmode\u001b[0m\u001b[0;34m,\u001b[0m \u001b[0mread\u001b[0m \u001b[0mit\u001b[0m\u001b[0;34m,\u001b[0m \u001b[0;32mand\u001b[0m \u001b[0mclose\u001b[0m \u001b[0mthe\u001b[0m \u001b[0mfile\u001b[0m\u001b[0;34m.\u001b[0m\u001b[0;34m\u001b[0m\u001b[0;34m\u001b[0m\u001b[0m\n\u001b[1;32m   1125\u001b[0m         \"\"\"\n\u001b[0;32m-> 1126\u001b[0;31m         \u001b[0;32mwith\u001b[0m \u001b[0mself\u001b[0m\u001b[0;34m.\u001b[0m\u001b[0mopen\u001b[0m\u001b[0;34m(\u001b[0m\u001b[0mmode\u001b[0m\u001b[0;34m=\u001b[0m\u001b[0;34m'rb'\u001b[0m\u001b[0;34m)\u001b[0m \u001b[0;32mas\u001b[0m \u001b[0mf\u001b[0m\u001b[0;34m:\u001b[0m\u001b[0;34m\u001b[0m\u001b[0;34m\u001b[0m\u001b[0m\n\u001b[0m\u001b[1;32m   1127\u001b[0m             \u001b[0;32mreturn\u001b[0m \u001b[0mf\u001b[0m\u001b[0;34m.\u001b[0m\u001b[0mread\u001b[0m\u001b[0;34m(\u001b[0m\u001b[0;34m)\u001b[0m\u001b[0;34m\u001b[0m\u001b[0;34m\u001b[0m\u001b[0m\n\u001b[1;32m   1128\u001b[0m \u001b[0;34m\u001b[0m\u001b[0m\n",
            "\u001b[0;32m/usr/lib/python3.10/pathlib.py\u001b[0m in \u001b[0;36mopen\u001b[0;34m(self, mode, buffering, encoding, errors, newline)\u001b[0m\n\u001b[1;32m   1117\u001b[0m         \u001b[0;32mif\u001b[0m \u001b[0;34m\"b\"\u001b[0m \u001b[0;32mnot\u001b[0m \u001b[0;32min\u001b[0m \u001b[0mmode\u001b[0m\u001b[0;34m:\u001b[0m\u001b[0;34m\u001b[0m\u001b[0;34m\u001b[0m\u001b[0m\n\u001b[1;32m   1118\u001b[0m             \u001b[0mencoding\u001b[0m \u001b[0;34m=\u001b[0m \u001b[0mio\u001b[0m\u001b[0;34m.\u001b[0m\u001b[0mtext_encoding\u001b[0m\u001b[0;34m(\u001b[0m\u001b[0mencoding\u001b[0m\u001b[0;34m)\u001b[0m\u001b[0;34m\u001b[0m\u001b[0;34m\u001b[0m\u001b[0m\n\u001b[0;32m-> 1119\u001b[0;31m         return self._accessor.open(self, mode, buffering, encoding, errors,\n\u001b[0m\u001b[1;32m   1120\u001b[0m                                    newline)\n\u001b[1;32m   1121\u001b[0m \u001b[0;34m\u001b[0m\u001b[0m\n",
            "\u001b[0;31mFileNotFoundError\u001b[0m: [Errno 2] No such file or directory: '<path>/image0.png'"
          ]
        }
      ]
    }
  ],
  "metadata": {
    "colab": {
      "provenance": [],
      "authorship_tag": "ABX9TyOHXoNgixUwbWFD8niO9I+S",
      "include_colab_link": true
    },
    "kernelspec": {
      "display_name": "Python 3",
      "name": "python3"
    },
    "language_info": {
      "name": "python"
    }
  },
  "nbformat": 4,
  "nbformat_minor": 0
}