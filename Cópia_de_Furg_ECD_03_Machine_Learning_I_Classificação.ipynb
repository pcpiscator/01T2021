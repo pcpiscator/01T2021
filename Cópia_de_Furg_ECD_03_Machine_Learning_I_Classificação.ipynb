{
  "nbformat": 4,
  "nbformat_minor": 0,
  "metadata": {
    "kernelspec": {
      "display_name": "Python 3",
      "language": "python",
      "name": "python3"
    },
    "language_info": {
      "codemirror_mode": {
        "name": "ipython",
        "version": 3
      },
      "file_extension": ".py",
      "mimetype": "text/x-python",
      "name": "python",
      "nbconvert_exporter": "python",
      "pygments_lexer": "ipython3",
      "version": "3.8.8"
    },
    "nav_menu": {},
    "toc": {
      "navigate_menu": true,
      "number_sections": true,
      "sideBar": true,
      "threshold": 6,
      "toc_cell": false,
      "toc_section_display": "block",
      "toc_window_display": false
    },
    "colab": {
      "name": "Cópia de Furg - ECD 03 - Machine Learning I - Classificação",
      "provenance": [],
      "collapsed_sections": [],
      "include_colab_link": true
    }
  },
  "cells": [
    {
      "cell_type": "markdown",
      "metadata": {
        "id": "view-in-github",
        "colab_type": "text"
      },
      "source": [
        "<a href=\"https://colab.research.google.com/github/pcpiscator/01T2021/blob/main/C%C3%B3pia_de_Furg_ECD_03_Machine_Learning_I_Classifica%C3%A7%C3%A3o.ipynb\" target=\"_parent\"><img src=\"https://colab.research.google.com/assets/colab-badge.svg\" alt=\"Open In Colab\"/></a>"
      ]
    },
    {
      "cell_type": "markdown",
      "metadata": {
        "id": "FcHSh4C7Hyxr"
      },
      "source": [
        "# Curso de Especialização em Ciência de Dados - FURG\n",
        "## Machine Learning I - Classificação\n",
        "### Prof. Marcelo Malheiros\n",
        "\n",
        "Código adaptado de Aurélien Geron (licença Apache-2.0)\n",
        "\n",
        "---"
      ]
    },
    {
      "cell_type": "markdown",
      "metadata": {
        "id": "fC_v5n-UHyx2"
      },
      "source": [
        "# Inicialização\n",
        "\n",
        "Aqui importamos as bibliotecas fundamentais de Python para este _notebook_:\n",
        "\n",
        "- NumPy: suporte a vetores, matrizes e operações de Álgebra Linear\n",
        "- Matplotlib: biblioteca de visualização de dados\n",
        "- Pandas: pacote estatístico e de manipulação de DataFrames\n",
        "- Scikit-Learn: biblioteca com algoritmos de Machine Learning"
      ]
    },
    {
      "cell_type": "code",
      "metadata": {
        "id": "Hf5ZWsv5Hyx2"
      },
      "source": [
        "%matplotlib inline\n",
        "import numpy as np\n",
        "import matplotlib.pyplot as plt\n",
        "import pandas as pd\n",
        "import sklearn"
      ],
      "execution_count": 1,
      "outputs": []
    },
    {
      "cell_type": "markdown",
      "metadata": {
        "id": "jCpJPEewHyx4"
      },
      "source": [
        "# Obter os dados\n",
        "\n",
        "\n",
        "Nesta atividade iremos usar o conjunto de dados MNIST, que é um conjunto de 70.000 pequenas imagens de dígitos escritos à mão. Cada imagem é identificada com o dígito que representa. Esse conjunto é bastante conhecido e também um excelente exemplo para trabalhar com tarefas de **classificação**.\n",
        "\n",
        "O Google Colaboratory já inclui uma versão reduzida desse conjunto de dados em seu ambiente online, dentro do diretório `sample_data`. O arquivo `mnist_train_small.csv` contém o conjunto de treinamento e o arquivo `mnist_test.csv` contém o conjunto de teste, ambos rotulados com os dígitos corretos."
      ]
    },
    {
      "cell_type": "code",
      "metadata": {
        "id": "ltPmaYdEHyx5",
        "colab": {
          "base_uri": "https://localhost:8080/"
        },
        "outputId": "93efbbf4-0199-4471-97c2-898f6413d33b"
      },
      "source": [
        "# cada linha representa um dígito: o rótulo está na coluna 0\n",
        "mnist_train = pd.read_csv('sample_data/mnist_train_small.csv', header=None)\n",
        "mnist_train.shape"
      ],
      "execution_count": 2,
      "outputs": [
        {
          "output_type": "execute_result",
          "data": {
            "text/plain": [
              "(20000, 785)"
            ]
          },
          "metadata": {
            "tags": []
          },
          "execution_count": 2
        }
      ]
    },
    {
      "cell_type": "code",
      "metadata": {
        "id": "IrHwXKoYHyx8",
        "colab": {
          "base_uri": "https://localhost:8080/",
          "height": 191
        },
        "outputId": "c0ec889e-b940-404a-d98c-0f95a457193a"
      },
      "source": [
        "mnist_train.head(3)"
      ],
      "execution_count": 3,
      "outputs": [
        {
          "output_type": "execute_result",
          "data": {
            "text/html": [
              "<div>\n",
              "<style scoped>\n",
              "    .dataframe tbody tr th:only-of-type {\n",
              "        vertical-align: middle;\n",
              "    }\n",
              "\n",
              "    .dataframe tbody tr th {\n",
              "        vertical-align: top;\n",
              "    }\n",
              "\n",
              "    .dataframe thead th {\n",
              "        text-align: right;\n",
              "    }\n",
              "</style>\n",
              "<table border=\"1\" class=\"dataframe\">\n",
              "  <thead>\n",
              "    <tr style=\"text-align: right;\">\n",
              "      <th></th>\n",
              "      <th>0</th>\n",
              "      <th>1</th>\n",
              "      <th>2</th>\n",
              "      <th>3</th>\n",
              "      <th>4</th>\n",
              "      <th>5</th>\n",
              "      <th>6</th>\n",
              "      <th>7</th>\n",
              "      <th>8</th>\n",
              "      <th>9</th>\n",
              "      <th>10</th>\n",
              "      <th>11</th>\n",
              "      <th>12</th>\n",
              "      <th>13</th>\n",
              "      <th>14</th>\n",
              "      <th>15</th>\n",
              "      <th>16</th>\n",
              "      <th>17</th>\n",
              "      <th>18</th>\n",
              "      <th>19</th>\n",
              "      <th>20</th>\n",
              "      <th>21</th>\n",
              "      <th>22</th>\n",
              "      <th>23</th>\n",
              "      <th>24</th>\n",
              "      <th>25</th>\n",
              "      <th>26</th>\n",
              "      <th>27</th>\n",
              "      <th>28</th>\n",
              "      <th>29</th>\n",
              "      <th>30</th>\n",
              "      <th>31</th>\n",
              "      <th>32</th>\n",
              "      <th>33</th>\n",
              "      <th>34</th>\n",
              "      <th>35</th>\n",
              "      <th>36</th>\n",
              "      <th>37</th>\n",
              "      <th>38</th>\n",
              "      <th>39</th>\n",
              "      <th>...</th>\n",
              "      <th>745</th>\n",
              "      <th>746</th>\n",
              "      <th>747</th>\n",
              "      <th>748</th>\n",
              "      <th>749</th>\n",
              "      <th>750</th>\n",
              "      <th>751</th>\n",
              "      <th>752</th>\n",
              "      <th>753</th>\n",
              "      <th>754</th>\n",
              "      <th>755</th>\n",
              "      <th>756</th>\n",
              "      <th>757</th>\n",
              "      <th>758</th>\n",
              "      <th>759</th>\n",
              "      <th>760</th>\n",
              "      <th>761</th>\n",
              "      <th>762</th>\n",
              "      <th>763</th>\n",
              "      <th>764</th>\n",
              "      <th>765</th>\n",
              "      <th>766</th>\n",
              "      <th>767</th>\n",
              "      <th>768</th>\n",
              "      <th>769</th>\n",
              "      <th>770</th>\n",
              "      <th>771</th>\n",
              "      <th>772</th>\n",
              "      <th>773</th>\n",
              "      <th>774</th>\n",
              "      <th>775</th>\n",
              "      <th>776</th>\n",
              "      <th>777</th>\n",
              "      <th>778</th>\n",
              "      <th>779</th>\n",
              "      <th>780</th>\n",
              "      <th>781</th>\n",
              "      <th>782</th>\n",
              "      <th>783</th>\n",
              "      <th>784</th>\n",
              "    </tr>\n",
              "  </thead>\n",
              "  <tbody>\n",
              "    <tr>\n",
              "      <th>0</th>\n",
              "      <td>6</td>\n",
              "      <td>0</td>\n",
              "      <td>0</td>\n",
              "      <td>0</td>\n",
              "      <td>0</td>\n",
              "      <td>0</td>\n",
              "      <td>0</td>\n",
              "      <td>0</td>\n",
              "      <td>0</td>\n",
              "      <td>0</td>\n",
              "      <td>0</td>\n",
              "      <td>0</td>\n",
              "      <td>0</td>\n",
              "      <td>0</td>\n",
              "      <td>0</td>\n",
              "      <td>0</td>\n",
              "      <td>0</td>\n",
              "      <td>0</td>\n",
              "      <td>0</td>\n",
              "      <td>0</td>\n",
              "      <td>0</td>\n",
              "      <td>0</td>\n",
              "      <td>0</td>\n",
              "      <td>0</td>\n",
              "      <td>0</td>\n",
              "      <td>0</td>\n",
              "      <td>0</td>\n",
              "      <td>0</td>\n",
              "      <td>0</td>\n",
              "      <td>0</td>\n",
              "      <td>0</td>\n",
              "      <td>0</td>\n",
              "      <td>0</td>\n",
              "      <td>0</td>\n",
              "      <td>0</td>\n",
              "      <td>0</td>\n",
              "      <td>0</td>\n",
              "      <td>0</td>\n",
              "      <td>0</td>\n",
              "      <td>0</td>\n",
              "      <td>...</td>\n",
              "      <td>0</td>\n",
              "      <td>0</td>\n",
              "      <td>0</td>\n",
              "      <td>0</td>\n",
              "      <td>0</td>\n",
              "      <td>0</td>\n",
              "      <td>0</td>\n",
              "      <td>0</td>\n",
              "      <td>0</td>\n",
              "      <td>0</td>\n",
              "      <td>0</td>\n",
              "      <td>0</td>\n",
              "      <td>0</td>\n",
              "      <td>0</td>\n",
              "      <td>0</td>\n",
              "      <td>0</td>\n",
              "      <td>0</td>\n",
              "      <td>0</td>\n",
              "      <td>0</td>\n",
              "      <td>0</td>\n",
              "      <td>0</td>\n",
              "      <td>0</td>\n",
              "      <td>0</td>\n",
              "      <td>0</td>\n",
              "      <td>0</td>\n",
              "      <td>0</td>\n",
              "      <td>0</td>\n",
              "      <td>0</td>\n",
              "      <td>0</td>\n",
              "      <td>0</td>\n",
              "      <td>0</td>\n",
              "      <td>0</td>\n",
              "      <td>0</td>\n",
              "      <td>0</td>\n",
              "      <td>0</td>\n",
              "      <td>0</td>\n",
              "      <td>0</td>\n",
              "      <td>0</td>\n",
              "      <td>0</td>\n",
              "      <td>0</td>\n",
              "    </tr>\n",
              "    <tr>\n",
              "      <th>1</th>\n",
              "      <td>5</td>\n",
              "      <td>0</td>\n",
              "      <td>0</td>\n",
              "      <td>0</td>\n",
              "      <td>0</td>\n",
              "      <td>0</td>\n",
              "      <td>0</td>\n",
              "      <td>0</td>\n",
              "      <td>0</td>\n",
              "      <td>0</td>\n",
              "      <td>0</td>\n",
              "      <td>0</td>\n",
              "      <td>0</td>\n",
              "      <td>0</td>\n",
              "      <td>0</td>\n",
              "      <td>0</td>\n",
              "      <td>0</td>\n",
              "      <td>0</td>\n",
              "      <td>0</td>\n",
              "      <td>0</td>\n",
              "      <td>0</td>\n",
              "      <td>0</td>\n",
              "      <td>0</td>\n",
              "      <td>0</td>\n",
              "      <td>0</td>\n",
              "      <td>0</td>\n",
              "      <td>0</td>\n",
              "      <td>0</td>\n",
              "      <td>0</td>\n",
              "      <td>0</td>\n",
              "      <td>0</td>\n",
              "      <td>0</td>\n",
              "      <td>0</td>\n",
              "      <td>0</td>\n",
              "      <td>0</td>\n",
              "      <td>0</td>\n",
              "      <td>0</td>\n",
              "      <td>0</td>\n",
              "      <td>0</td>\n",
              "      <td>0</td>\n",
              "      <td>...</td>\n",
              "      <td>0</td>\n",
              "      <td>0</td>\n",
              "      <td>0</td>\n",
              "      <td>0</td>\n",
              "      <td>0</td>\n",
              "      <td>0</td>\n",
              "      <td>0</td>\n",
              "      <td>0</td>\n",
              "      <td>0</td>\n",
              "      <td>0</td>\n",
              "      <td>0</td>\n",
              "      <td>0</td>\n",
              "      <td>0</td>\n",
              "      <td>0</td>\n",
              "      <td>0</td>\n",
              "      <td>0</td>\n",
              "      <td>0</td>\n",
              "      <td>0</td>\n",
              "      <td>0</td>\n",
              "      <td>0</td>\n",
              "      <td>0</td>\n",
              "      <td>0</td>\n",
              "      <td>0</td>\n",
              "      <td>0</td>\n",
              "      <td>0</td>\n",
              "      <td>0</td>\n",
              "      <td>0</td>\n",
              "      <td>0</td>\n",
              "      <td>0</td>\n",
              "      <td>0</td>\n",
              "      <td>0</td>\n",
              "      <td>0</td>\n",
              "      <td>0</td>\n",
              "      <td>0</td>\n",
              "      <td>0</td>\n",
              "      <td>0</td>\n",
              "      <td>0</td>\n",
              "      <td>0</td>\n",
              "      <td>0</td>\n",
              "      <td>0</td>\n",
              "    </tr>\n",
              "    <tr>\n",
              "      <th>2</th>\n",
              "      <td>7</td>\n",
              "      <td>0</td>\n",
              "      <td>0</td>\n",
              "      <td>0</td>\n",
              "      <td>0</td>\n",
              "      <td>0</td>\n",
              "      <td>0</td>\n",
              "      <td>0</td>\n",
              "      <td>0</td>\n",
              "      <td>0</td>\n",
              "      <td>0</td>\n",
              "      <td>0</td>\n",
              "      <td>0</td>\n",
              "      <td>0</td>\n",
              "      <td>0</td>\n",
              "      <td>0</td>\n",
              "      <td>0</td>\n",
              "      <td>0</td>\n",
              "      <td>0</td>\n",
              "      <td>0</td>\n",
              "      <td>0</td>\n",
              "      <td>0</td>\n",
              "      <td>0</td>\n",
              "      <td>0</td>\n",
              "      <td>0</td>\n",
              "      <td>0</td>\n",
              "      <td>0</td>\n",
              "      <td>0</td>\n",
              "      <td>0</td>\n",
              "      <td>0</td>\n",
              "      <td>0</td>\n",
              "      <td>0</td>\n",
              "      <td>0</td>\n",
              "      <td>0</td>\n",
              "      <td>0</td>\n",
              "      <td>0</td>\n",
              "      <td>0</td>\n",
              "      <td>0</td>\n",
              "      <td>0</td>\n",
              "      <td>0</td>\n",
              "      <td>...</td>\n",
              "      <td>0</td>\n",
              "      <td>0</td>\n",
              "      <td>0</td>\n",
              "      <td>0</td>\n",
              "      <td>0</td>\n",
              "      <td>0</td>\n",
              "      <td>0</td>\n",
              "      <td>0</td>\n",
              "      <td>0</td>\n",
              "      <td>0</td>\n",
              "      <td>0</td>\n",
              "      <td>0</td>\n",
              "      <td>0</td>\n",
              "      <td>0</td>\n",
              "      <td>0</td>\n",
              "      <td>0</td>\n",
              "      <td>0</td>\n",
              "      <td>0</td>\n",
              "      <td>0</td>\n",
              "      <td>0</td>\n",
              "      <td>0</td>\n",
              "      <td>0</td>\n",
              "      <td>0</td>\n",
              "      <td>0</td>\n",
              "      <td>0</td>\n",
              "      <td>0</td>\n",
              "      <td>0</td>\n",
              "      <td>0</td>\n",
              "      <td>0</td>\n",
              "      <td>0</td>\n",
              "      <td>0</td>\n",
              "      <td>0</td>\n",
              "      <td>0</td>\n",
              "      <td>0</td>\n",
              "      <td>0</td>\n",
              "      <td>0</td>\n",
              "      <td>0</td>\n",
              "      <td>0</td>\n",
              "      <td>0</td>\n",
              "      <td>0</td>\n",
              "    </tr>\n",
              "  </tbody>\n",
              "</table>\n",
              "<p>3 rows × 785 columns</p>\n",
              "</div>"
            ],
            "text/plain": [
              "   0    1    2    3    4    5    6    ...  778  779  780  781  782  783  784\n",
              "0    6    0    0    0    0    0    0  ...    0    0    0    0    0    0    0\n",
              "1    5    0    0    0    0    0    0  ...    0    0    0    0    0    0    0\n",
              "2    7    0    0    0    0    0    0  ...    0    0    0    0    0    0    0\n",
              "\n",
              "[3 rows x 785 columns]"
            ]
          },
          "metadata": {
            "tags": []
          },
          "execution_count": 3
        }
      ]
    },
    {
      "cell_type": "code",
      "metadata": {
        "id": "hyV1MfxBHyx-",
        "colab": {
          "base_uri": "https://localhost:8080/"
        },
        "outputId": "92b8d840-111a-4548-a3c9-49151f4dcd7c"
      },
      "source": [
        "# cada linha representa um dígito: o rótulo está na coluna 0\n",
        "mnist_test = pd.read_csv('sample_data/mnist_test.csv', header=None)\n",
        "mnist_test.shape"
      ],
      "execution_count": 4,
      "outputs": [
        {
          "output_type": "execute_result",
          "data": {
            "text/plain": [
              "(10000, 785)"
            ]
          },
          "metadata": {
            "tags": []
          },
          "execution_count": 4
        }
      ]
    },
    {
      "cell_type": "code",
      "metadata": {
        "id": "_Za2uqC3Hyx-",
        "colab": {
          "base_uri": "https://localhost:8080/",
          "height": 191
        },
        "outputId": "7fdca713-d512-4a2b-b196-162a00a6a407"
      },
      "source": [
        "mnist_test.head(3)"
      ],
      "execution_count": 5,
      "outputs": [
        {
          "output_type": "execute_result",
          "data": {
            "text/html": [
              "<div>\n",
              "<style scoped>\n",
              "    .dataframe tbody tr th:only-of-type {\n",
              "        vertical-align: middle;\n",
              "    }\n",
              "\n",
              "    .dataframe tbody tr th {\n",
              "        vertical-align: top;\n",
              "    }\n",
              "\n",
              "    .dataframe thead th {\n",
              "        text-align: right;\n",
              "    }\n",
              "</style>\n",
              "<table border=\"1\" class=\"dataframe\">\n",
              "  <thead>\n",
              "    <tr style=\"text-align: right;\">\n",
              "      <th></th>\n",
              "      <th>0</th>\n",
              "      <th>1</th>\n",
              "      <th>2</th>\n",
              "      <th>3</th>\n",
              "      <th>4</th>\n",
              "      <th>5</th>\n",
              "      <th>6</th>\n",
              "      <th>7</th>\n",
              "      <th>8</th>\n",
              "      <th>9</th>\n",
              "      <th>10</th>\n",
              "      <th>11</th>\n",
              "      <th>12</th>\n",
              "      <th>13</th>\n",
              "      <th>14</th>\n",
              "      <th>15</th>\n",
              "      <th>16</th>\n",
              "      <th>17</th>\n",
              "      <th>18</th>\n",
              "      <th>19</th>\n",
              "      <th>20</th>\n",
              "      <th>21</th>\n",
              "      <th>22</th>\n",
              "      <th>23</th>\n",
              "      <th>24</th>\n",
              "      <th>25</th>\n",
              "      <th>26</th>\n",
              "      <th>27</th>\n",
              "      <th>28</th>\n",
              "      <th>29</th>\n",
              "      <th>30</th>\n",
              "      <th>31</th>\n",
              "      <th>32</th>\n",
              "      <th>33</th>\n",
              "      <th>34</th>\n",
              "      <th>35</th>\n",
              "      <th>36</th>\n",
              "      <th>37</th>\n",
              "      <th>38</th>\n",
              "      <th>39</th>\n",
              "      <th>...</th>\n",
              "      <th>745</th>\n",
              "      <th>746</th>\n",
              "      <th>747</th>\n",
              "      <th>748</th>\n",
              "      <th>749</th>\n",
              "      <th>750</th>\n",
              "      <th>751</th>\n",
              "      <th>752</th>\n",
              "      <th>753</th>\n",
              "      <th>754</th>\n",
              "      <th>755</th>\n",
              "      <th>756</th>\n",
              "      <th>757</th>\n",
              "      <th>758</th>\n",
              "      <th>759</th>\n",
              "      <th>760</th>\n",
              "      <th>761</th>\n",
              "      <th>762</th>\n",
              "      <th>763</th>\n",
              "      <th>764</th>\n",
              "      <th>765</th>\n",
              "      <th>766</th>\n",
              "      <th>767</th>\n",
              "      <th>768</th>\n",
              "      <th>769</th>\n",
              "      <th>770</th>\n",
              "      <th>771</th>\n",
              "      <th>772</th>\n",
              "      <th>773</th>\n",
              "      <th>774</th>\n",
              "      <th>775</th>\n",
              "      <th>776</th>\n",
              "      <th>777</th>\n",
              "      <th>778</th>\n",
              "      <th>779</th>\n",
              "      <th>780</th>\n",
              "      <th>781</th>\n",
              "      <th>782</th>\n",
              "      <th>783</th>\n",
              "      <th>784</th>\n",
              "    </tr>\n",
              "  </thead>\n",
              "  <tbody>\n",
              "    <tr>\n",
              "      <th>0</th>\n",
              "      <td>7</td>\n",
              "      <td>0</td>\n",
              "      <td>0</td>\n",
              "      <td>0</td>\n",
              "      <td>0</td>\n",
              "      <td>0</td>\n",
              "      <td>0</td>\n",
              "      <td>0</td>\n",
              "      <td>0</td>\n",
              "      <td>0</td>\n",
              "      <td>0</td>\n",
              "      <td>0</td>\n",
              "      <td>0</td>\n",
              "      <td>0</td>\n",
              "      <td>0</td>\n",
              "      <td>0</td>\n",
              "      <td>0</td>\n",
              "      <td>0</td>\n",
              "      <td>0</td>\n",
              "      <td>0</td>\n",
              "      <td>0</td>\n",
              "      <td>0</td>\n",
              "      <td>0</td>\n",
              "      <td>0</td>\n",
              "      <td>0</td>\n",
              "      <td>0</td>\n",
              "      <td>0</td>\n",
              "      <td>0</td>\n",
              "      <td>0</td>\n",
              "      <td>0</td>\n",
              "      <td>0</td>\n",
              "      <td>0</td>\n",
              "      <td>0</td>\n",
              "      <td>0</td>\n",
              "      <td>0</td>\n",
              "      <td>0</td>\n",
              "      <td>0</td>\n",
              "      <td>0</td>\n",
              "      <td>0</td>\n",
              "      <td>0</td>\n",
              "      <td>...</td>\n",
              "      <td>0</td>\n",
              "      <td>0</td>\n",
              "      <td>0</td>\n",
              "      <td>0</td>\n",
              "      <td>0</td>\n",
              "      <td>0</td>\n",
              "      <td>0</td>\n",
              "      <td>0</td>\n",
              "      <td>0</td>\n",
              "      <td>0</td>\n",
              "      <td>0</td>\n",
              "      <td>0</td>\n",
              "      <td>0</td>\n",
              "      <td>0</td>\n",
              "      <td>0</td>\n",
              "      <td>0</td>\n",
              "      <td>0</td>\n",
              "      <td>0</td>\n",
              "      <td>0</td>\n",
              "      <td>0</td>\n",
              "      <td>0</td>\n",
              "      <td>0</td>\n",
              "      <td>0</td>\n",
              "      <td>0</td>\n",
              "      <td>0</td>\n",
              "      <td>0</td>\n",
              "      <td>0</td>\n",
              "      <td>0</td>\n",
              "      <td>0</td>\n",
              "      <td>0</td>\n",
              "      <td>0</td>\n",
              "      <td>0</td>\n",
              "      <td>0</td>\n",
              "      <td>0</td>\n",
              "      <td>0</td>\n",
              "      <td>0</td>\n",
              "      <td>0</td>\n",
              "      <td>0</td>\n",
              "      <td>0</td>\n",
              "      <td>0</td>\n",
              "    </tr>\n",
              "    <tr>\n",
              "      <th>1</th>\n",
              "      <td>2</td>\n",
              "      <td>0</td>\n",
              "      <td>0</td>\n",
              "      <td>0</td>\n",
              "      <td>0</td>\n",
              "      <td>0</td>\n",
              "      <td>0</td>\n",
              "      <td>0</td>\n",
              "      <td>0</td>\n",
              "      <td>0</td>\n",
              "      <td>0</td>\n",
              "      <td>0</td>\n",
              "      <td>0</td>\n",
              "      <td>0</td>\n",
              "      <td>0</td>\n",
              "      <td>0</td>\n",
              "      <td>0</td>\n",
              "      <td>0</td>\n",
              "      <td>0</td>\n",
              "      <td>0</td>\n",
              "      <td>0</td>\n",
              "      <td>0</td>\n",
              "      <td>0</td>\n",
              "      <td>0</td>\n",
              "      <td>0</td>\n",
              "      <td>0</td>\n",
              "      <td>0</td>\n",
              "      <td>0</td>\n",
              "      <td>0</td>\n",
              "      <td>0</td>\n",
              "      <td>0</td>\n",
              "      <td>0</td>\n",
              "      <td>0</td>\n",
              "      <td>0</td>\n",
              "      <td>0</td>\n",
              "      <td>0</td>\n",
              "      <td>0</td>\n",
              "      <td>0</td>\n",
              "      <td>0</td>\n",
              "      <td>0</td>\n",
              "      <td>...</td>\n",
              "      <td>0</td>\n",
              "      <td>0</td>\n",
              "      <td>0</td>\n",
              "      <td>0</td>\n",
              "      <td>0</td>\n",
              "      <td>0</td>\n",
              "      <td>0</td>\n",
              "      <td>0</td>\n",
              "      <td>0</td>\n",
              "      <td>0</td>\n",
              "      <td>0</td>\n",
              "      <td>0</td>\n",
              "      <td>0</td>\n",
              "      <td>0</td>\n",
              "      <td>0</td>\n",
              "      <td>0</td>\n",
              "      <td>0</td>\n",
              "      <td>0</td>\n",
              "      <td>0</td>\n",
              "      <td>0</td>\n",
              "      <td>0</td>\n",
              "      <td>0</td>\n",
              "      <td>0</td>\n",
              "      <td>0</td>\n",
              "      <td>0</td>\n",
              "      <td>0</td>\n",
              "      <td>0</td>\n",
              "      <td>0</td>\n",
              "      <td>0</td>\n",
              "      <td>0</td>\n",
              "      <td>0</td>\n",
              "      <td>0</td>\n",
              "      <td>0</td>\n",
              "      <td>0</td>\n",
              "      <td>0</td>\n",
              "      <td>0</td>\n",
              "      <td>0</td>\n",
              "      <td>0</td>\n",
              "      <td>0</td>\n",
              "      <td>0</td>\n",
              "    </tr>\n",
              "    <tr>\n",
              "      <th>2</th>\n",
              "      <td>1</td>\n",
              "      <td>0</td>\n",
              "      <td>0</td>\n",
              "      <td>0</td>\n",
              "      <td>0</td>\n",
              "      <td>0</td>\n",
              "      <td>0</td>\n",
              "      <td>0</td>\n",
              "      <td>0</td>\n",
              "      <td>0</td>\n",
              "      <td>0</td>\n",
              "      <td>0</td>\n",
              "      <td>0</td>\n",
              "      <td>0</td>\n",
              "      <td>0</td>\n",
              "      <td>0</td>\n",
              "      <td>0</td>\n",
              "      <td>0</td>\n",
              "      <td>0</td>\n",
              "      <td>0</td>\n",
              "      <td>0</td>\n",
              "      <td>0</td>\n",
              "      <td>0</td>\n",
              "      <td>0</td>\n",
              "      <td>0</td>\n",
              "      <td>0</td>\n",
              "      <td>0</td>\n",
              "      <td>0</td>\n",
              "      <td>0</td>\n",
              "      <td>0</td>\n",
              "      <td>0</td>\n",
              "      <td>0</td>\n",
              "      <td>0</td>\n",
              "      <td>0</td>\n",
              "      <td>0</td>\n",
              "      <td>0</td>\n",
              "      <td>0</td>\n",
              "      <td>0</td>\n",
              "      <td>0</td>\n",
              "      <td>0</td>\n",
              "      <td>...</td>\n",
              "      <td>0</td>\n",
              "      <td>0</td>\n",
              "      <td>0</td>\n",
              "      <td>0</td>\n",
              "      <td>0</td>\n",
              "      <td>0</td>\n",
              "      <td>0</td>\n",
              "      <td>0</td>\n",
              "      <td>0</td>\n",
              "      <td>0</td>\n",
              "      <td>0</td>\n",
              "      <td>0</td>\n",
              "      <td>0</td>\n",
              "      <td>0</td>\n",
              "      <td>0</td>\n",
              "      <td>0</td>\n",
              "      <td>0</td>\n",
              "      <td>0</td>\n",
              "      <td>0</td>\n",
              "      <td>0</td>\n",
              "      <td>0</td>\n",
              "      <td>0</td>\n",
              "      <td>0</td>\n",
              "      <td>0</td>\n",
              "      <td>0</td>\n",
              "      <td>0</td>\n",
              "      <td>0</td>\n",
              "      <td>0</td>\n",
              "      <td>0</td>\n",
              "      <td>0</td>\n",
              "      <td>0</td>\n",
              "      <td>0</td>\n",
              "      <td>0</td>\n",
              "      <td>0</td>\n",
              "      <td>0</td>\n",
              "      <td>0</td>\n",
              "      <td>0</td>\n",
              "      <td>0</td>\n",
              "      <td>0</td>\n",
              "      <td>0</td>\n",
              "    </tr>\n",
              "  </tbody>\n",
              "</table>\n",
              "<p>3 rows × 785 columns</p>\n",
              "</div>"
            ],
            "text/plain": [
              "   0    1    2    3    4    5    6    ...  778  779  780  781  782  783  784\n",
              "0    7    0    0    0    0    0    0  ...    0    0    0    0    0    0    0\n",
              "1    2    0    0    0    0    0    0  ...    0    0    0    0    0    0    0\n",
              "2    1    0    0    0    0    0    0  ...    0    0    0    0    0    0    0\n",
              "\n",
              "[3 rows x 785 columns]"
            ]
          },
          "metadata": {
            "tags": []
          },
          "execution_count": 5
        }
      ]
    },
    {
      "cell_type": "markdown",
      "metadata": {
        "id": "-mcl_QPTHyx_"
      },
      "source": [
        "Vamos aqui separar as 784 features (pixels) de cada instância dos rótulos (dígito reconhecido). Seguiremos a convenção de **X** para features e **y** para rótulos.\n",
        "\n",
        "Vale conferir se a separação está correta. Aqui usamos `.iloc[]` para separar uma faixa de colunas numeradas."
      ]
    },
    {
      "cell_type": "code",
      "metadata": {
        "id": "-LWpMkQKHyyB",
        "colab": {
          "base_uri": "https://localhost:8080/"
        },
        "outputId": "618eaf9a-c5e4-4127-e3cd-87d02fdcfa9f"
      },
      "source": [
        "X_train = mnist_train.iloc[:,1:]\n",
        "y_train = mnist_train.iloc[:,0]\n",
        "X_test  = mnist_test.iloc[:,1:]\n",
        "y_test  = mnist_test.iloc[:,0]\n",
        "print('X_train:', X_train.shape)\n",
        "print('y_train:', y_train.shape)\n",
        "print('X_test: ', X_test.shape)\n",
        "print('y_test: ', y_test.shape)"
      ],
      "execution_count": 6,
      "outputs": [
        {
          "output_type": "stream",
          "text": [
            "X_train: (20000, 784)\n",
            "y_train: (20000,)\n",
            "X_test:  (10000, 784)\n",
            "y_test:  (10000,)\n"
          ],
          "name": "stdout"
        }
      ]
    },
    {
      "cell_type": "markdown",
      "metadata": {
        "id": "R6BKgkjKHyyB"
      },
      "source": [
        "## Visualizar os dados\n",
        "\n",
        "Cada linha corresponde a uma matriz de 28 por 28 pixels (tons de cinza) correspondendo a uma única imagem de um dígito."
      ]
    },
    {
      "cell_type": "code",
      "metadata": {
        "id": "cJYOaUBkHyyD"
      },
      "source": [
        "# função auxiliar para mostrar uma imagem\n",
        "def plot_digit(data):\n",
        "    image = data.reshape(28, 28)\n",
        "    plt.imshow(image, cmap='binary')\n",
        "    plt.axis('off')"
      ],
      "execution_count": 7,
      "outputs": []
    },
    {
      "cell_type": "code",
      "metadata": {
        "id": "utcJcPd5HyyE",
        "colab": {
          "base_uri": "https://localhost:8080/",
          "height": 248
        },
        "outputId": "853c016d-ea39-4fe1-e392-43e01274208f"
      },
      "source": [
        "# imagem associada à instância de índice 1\n",
        "some_digit = X_train.iloc[1].values\n",
        "some_digit_image = some_digit.reshape(28, 28)\n",
        "plot_digit(some_digit_image)\n",
        "plt.show()"
      ],
      "execution_count": 8,
      "outputs": [
        {
          "output_type": "display_data",
          "data": {
            "image/png": "[encoded data removed]",
            "text/plain": [
              "<Figure size 432x288 with 1 Axes>"
            ]
          },
          "metadata": {
            "tags": [],
            "needs_background": "light"
          }
        }
      ]
    },
    {
      "cell_type": "code",
      "metadata": {
        "id": "cUdIEfDyHyyF",
        "colab": {
          "base_uri": "https://localhost:8080/"
        },
        "outputId": "15d0380b-7656-4347-c343-4b197ab2b685"
      },
      "source": [
        "# rótulo associado à instância de índice 1\n",
        "y_train.iloc[1]"
      ],
      "execution_count": 9,
      "outputs": [
        {
          "output_type": "execute_result",
          "data": {
            "text/plain": [
              "5"
            ]
          },
          "metadata": {
            "tags": []
          },
          "execution_count": 9
        }
      ]
    },
    {
      "cell_type": "code",
      "metadata": {
        "id": "DWuPqkwmHyyF"
      },
      "source": [
        "# função auxiliar para mostrar várias imagens\n",
        "def plot_digits(instances, images_per_row):\n",
        "    size = 28\n",
        "    images_per_row = min(len(instances), images_per_row)\n",
        "    images = [instance.reshape(size,size) for instance in instances]\n",
        "    n_rows = (len(instances) - 1) // images_per_row + 1\n",
        "    row_images = []\n",
        "    n_empty = n_rows * images_per_row - len(instances)\n",
        "    images.append(np.zeros((size, size * n_empty)))\n",
        "    for row in range(n_rows):\n",
        "        rimages = images[row * images_per_row : (row + 1) * images_per_row]\n",
        "        row_images.append(np.concatenate(rimages, axis=1))\n",
        "    image = np.concatenate(row_images, axis=0)\n",
        "    plt.imshow(image, cmap='binary')\n",
        "    plt.axis('off')"
      ],
      "execution_count": 10,
      "outputs": []
    },
    {
      "cell_type": "code",
      "metadata": {
        "id": "VSm3_Er4HyyG",
        "colab": {
          "base_uri": "https://localhost:8080/",
          "height": 182
        },
        "outputId": "e9de9c34-f86e-4c65-8d72-d5132e609582"
      },
      "source": [
        "# exibição das 30 primeiras imagens\n",
        "plt.figure(figsize=(9,9))\n",
        "example_images = X_train.iloc[:30].values\n",
        "plot_digits(example_images, images_per_row=10)\n",
        "plt.show()"
      ],
      "execution_count": 13,
      "outputs": [
        {
          "output_type": "display_data",
          "data": {
            "image/png": "[encoded data removed]",
            "text/plain": [
              "<Figure size 648x648 with 1 Axes>"
            ]
          },
          "metadata": {
            "tags": [],
            "needs_background": "light"
          }
        }
      ]
    },
    {
      "cell_type": "markdown",
      "metadata": {
        "id": "Xmcd-b0oHyyG"
      },
      "source": [
        "## Examinar a distribuição estatística dos rótulos\n",
        "\n",
        "Vale a pena conferir se os dígitos dos dados de treino tem uma distribuição estatisticamente semelhante à base de testes."
      ]
    },
    {
      "cell_type": "code",
      "metadata": {
        "id": "yHWHVkLgHyyG",
        "colab": {
          "base_uri": "https://localhost:8080/"
        },
        "outputId": "b422bb45-1cef-4056-fe5b-5d9af64f091a"
      },
      "source": [
        "y_train.describe()"
      ],
      "execution_count": 11,
      "outputs": [
        {
          "output_type": "execute_result",
          "data": {
            "text/plain": [
              "count    20000.000000\n",
              "mean         4.470200\n",
              "std          2.892755\n",
              "min          0.000000\n",
              "25%          2.000000\n",
              "50%          4.000000\n",
              "75%          7.000000\n",
              "max          9.000000\n",
              "Name: 0, dtype: float64"
            ]
          },
          "metadata": {
            "tags": []
          },
          "execution_count": 11
        }
      ]
    },
    {
      "cell_type": "code",
      "metadata": {
        "id": "sQKL6IwtHyyI",
        "colab": {
          "base_uri": "https://localhost:8080/"
        },
        "outputId": "00798152-5755-4cee-ff52-a976df85e2a8"
      },
      "source": [
        "y_train.value_counts()"
      ],
      "execution_count": 12,
      "outputs": [
        {
          "output_type": "execute_result",
          "data": {
            "text/plain": [
              "1    2243\n",
              "7    2126\n",
              "6    2039\n",
              "9    2023\n",
              "3    2021\n",
              "2    1989\n",
              "0    1962\n",
              "4    1924\n",
              "8    1912\n",
              "5    1761\n",
              "Name: 0, dtype: int64"
            ]
          },
          "metadata": {
            "tags": []
          },
          "execution_count": 12
        }
      ]
    },
    {
      "cell_type": "code",
      "metadata": {
        "id": "IjRIcZOHHyyJ",
        "colab": {
          "base_uri": "https://localhost:8080/"
        },
        "outputId": "13fccb25-f050-4a91-b600-a00f41eca5c1"
      },
      "source": [
        "y_test.value_counts()"
      ],
      "execution_count": 13,
      "outputs": [
        {
          "output_type": "execute_result",
          "data": {
            "text/plain": [
              "1    1135\n",
              "2    1032\n",
              "7    1028\n",
              "3    1010\n",
              "9    1009\n",
              "4     982\n",
              "0     980\n",
              "8     974\n",
              "6     958\n",
              "5     892\n",
              "Name: 0, dtype: int64"
            ]
          },
          "metadata": {
            "tags": []
          },
          "execution_count": 13
        }
      ]
    },
    {
      "cell_type": "code",
      "metadata": {
        "id": "apTkaVu_HyyJ",
        "colab": {
          "base_uri": "https://localhost:8080/",
          "height": 265
        },
        "outputId": "7ef26f25-77ab-4cd9-8b7b-379c758490d9"
      },
      "source": [
        "#y_train.hist()\n",
        "y_train.hist(bins=10, range=(0,10), align='left', rwidth=0.8)\n",
        "plt.show()"
      ],
      "execution_count": 14,
      "outputs": [
        {
          "output_type": "display_data",
          "data": {
            "image/png": "[encoded data removed]",
            "text/plain": [
              "<Figure size 432x288 with 1 Axes>"
            ]
          },
          "metadata": {
            "tags": [],
            "needs_background": "light"
          }
        }
      ]
    },
    {
      "cell_type": "code",
      "metadata": {
        "id": "Z3UL6ZVbHyyK",
        "colab": {
          "base_uri": "https://localhost:8080/",
          "height": 265
        },
        "outputId": "2955a07a-eb39-4437-b097-1898eee3cf3b"
      },
      "source": [
        "y_test.hist(bins=10, range=(0,10), align='left', rwidth=0.8)\n",
        "plt.show()"
      ],
      "execution_count": 15,
      "outputs": [
        {
          "output_type": "display_data",
          "data": {
            "image/png": "[encoded data removed]",
            "text/plain": [
              "<Figure size 432x288 with 1 Axes>"
            ]
          },
          "metadata": {
            "tags": [],
            "needs_background": "light"
          }
        }
      ]
    },
    {
      "cell_type": "code",
      "metadata": {
        "scrolled": true,
        "id": "EpgHUmARHyyK",
        "colab": {
          "base_uri": "https://localhost:8080/",
          "height": 265
        },
        "outputId": "0229d3b4-0a72-45ee-b77f-ef2be02b8d0b"
      },
      "source": [
        "# histograma combinado\n",
        "\n",
        "#y_train.hist(bins=10, range=(0,10), align='left', rwidth=0.8)\n",
        "#y_test.hist( bins=10, range=(0,10), align='left', rwidth=0.8)\n",
        "\n",
        "y_train.hist(bins=10, range=(0,10), align='left', density=True, histtype='step')\n",
        "y_test.hist( bins=10, range=(0,10), align='left', density=True, histtype='step')\n",
        "\n",
        "plt.show()"
      ],
      "execution_count": 16,
      "outputs": [
        {
          "output_type": "display_data",
          "data": {
            "image/png": "[encoded data removed]",
            "text/plain": [
              "<Figure size 432x288 with 1 Axes>"
            ]
          },
          "metadata": {
            "tags": [],
            "needs_background": "light"
          }
        }
      ]
    },
    {
      "cell_type": "markdown",
      "metadata": {
        "id": "Fp_BMa-vHyyK"
      },
      "source": [
        "## Criar um conjunto de testes\n",
        "\n",
        "Esta parte já está pronta. Então o conjunto de testes será deixado de lado."
      ]
    },
    {
      "cell_type": "markdown",
      "metadata": {
        "id": "E4z_S7hDHyyL"
      },
      "source": [
        "# Selecionar e treinar um modelo\n",
        "\n",
        "Podemos ir diretamente para a parte de seleção de um modelo e treinamento do mesmo."
      ]
    },
    {
      "cell_type": "markdown",
      "metadata": {
        "id": "pt7ErRB5HyyM"
      },
      "source": [
        "## Classificador binário\n",
        "\n",
        "Um classificador binário simplesmente dá uma resposta SIM ou NÃO para uma instância. Então nossos rótulos também tem que ter este formato.\n",
        "\n",
        "Por exemplo, o classificador pode indicar se a imagem associada a uma instância representa ou não um **dígito cinco**."
      ]
    },
    {
      "cell_type": "code",
      "metadata": {
        "id": "0MwGJibMHyyM"
      },
      "source": [
        "y_train_5 = (y_train == 5)\n",
        "y_test_5  = (y_test  == 5)"
      ],
      "execution_count": 17,
      "outputs": []
    },
    {
      "cell_type": "markdown",
      "metadata": {
        "id": "N3GTEZJMHyyN"
      },
      "source": [
        "Pode-se começar com o classificador por Descida de Gradiente Aleatório (Stochastic\n",
        "Gradient Descent - SGD), usando a classe `SGDClassifier` da biblioteca Scikit-Learn.\n",
        "\n",
        "Este classificador tem a vantagem de ser capaz de lidar eficientemente com conjuntos de dados grandes.\n",
        "Isso ocorre em parte porque o SGD lida com instâncias de treinamento de forma independente, uma de cada vez\n",
        "(o que também torna o SGD adequado para aprendizado _online_)."
      ]
    },
    {
      "cell_type": "code",
      "metadata": {
        "id": "NvSXSGPAHyyN",
        "colab": {
          "base_uri": "https://localhost:8080/"
        },
        "outputId": "fed53c84-01c9-47b0-cc7c-84f988f731f4"
      },
      "source": [
        "from sklearn.linear_model import SGDClassifier\n",
        "\n",
        "sgd_clf = SGDClassifier(random_state=42)\n",
        "sgd_clf.fit(X_train, y_train_5)"
      ],
      "execution_count": 18,
      "outputs": [
        {
          "output_type": "execute_result",
          "data": {
            "text/plain": [
              "SGDClassifier(alpha=0.0001, average=False, class_weight=None,\n",
              "              early_stopping=False, epsilon=0.1, eta0=0.0, fit_intercept=True,\n",
              "              l1_ratio=0.15, learning_rate='optimal', loss='hinge',\n",
              "              max_iter=1000, n_iter_no_change=5, n_jobs=None, penalty='l2',\n",
              "              power_t=0.5, random_state=42, shuffle=True, tol=0.001,\n",
              "              validation_fraction=0.1, verbose=0, warm_start=False)"
            ]
          },
          "metadata": {
            "tags": []
          },
          "execution_count": 18
        }
      ]
    },
    {
      "cell_type": "code",
      "metadata": {
        "id": "QCptn2wNHyyN",
        "colab": {
          "base_uri": "https://localhost:8080/"
        },
        "outputId": "9f33bf5b-d11a-4bf1-a974-b49649ece5d6"
      },
      "source": [
        "# predição para imagem de índice 1, que é um dígito 5\n",
        "sgd_clf.predict([some_digit])[0]"
      ],
      "execution_count": 19,
      "outputs": [
        {
          "output_type": "execute_result",
          "data": {
            "text/plain": [
              "True"
            ]
          },
          "metadata": {
            "tags": []
          },
          "execution_count": 19
        }
      ]
    },
    {
      "cell_type": "markdown",
      "metadata": {
        "id": "3vh6SMCxHyyN"
      },
      "source": [
        "## Medindo a acurácia usando validação cruzada\n",
        "\n",
        "Avaliar um classificador é mais complicado do que avaliar um regressor, pois existem várias medidas de  desempenho que podem ser usadas.\n",
        "\n",
        "A primeira medida a ser avaliada, usando **validação cruzada** do conjunto de treino, é a **acurácia** (_accuracy_)."
      ]
    },
    {
      "cell_type": "code",
      "metadata": {
        "id": "ZUPvh7uVHyyN",
        "colab": {
          "base_uri": "https://localhost:8080/"
        },
        "outputId": "24952dc0-f76c-4bcf-b27e-2c296b8a146b"
      },
      "source": [
        "# medindo a acurácia usando validação cruzada, com 3 dobras\n",
        "from sklearn.model_selection import cross_val_score\n",
        "\n",
        "scores = cross_val_score(sgd_clf, X_train, y_train_5, cv=3, scoring='accuracy')\n",
        "print(scores)"
      ],
      "execution_count": 20,
      "outputs": [
        {
          "output_type": "stream",
          "text": [
            "[0.96715164 0.93445328 0.96789679]\n"
          ],
          "name": "stdout"
        }
      ]
    },
    {
      "cell_type": "markdown",
      "metadata": {
        "id": "ktlxeDAHHyyO"
      },
      "source": [
        "O resultado sempre acima de 93% de acurácia, que é o percentual de acertos parece muito bom!\n",
        "\n",
        "Contudo é importante comparar este caso com um classificador trivial, que sempre responde **não** para a previsão de saída."
      ]
    },
    {
      "cell_type": "code",
      "metadata": {
        "id": "ZLL1oQXaHyyO"
      },
      "source": [
        "# classificador trivial que responde negativamente a todas as instâncias\n",
        "from sklearn.base import BaseEstimator\n",
        "\n",
        "class Never5Classifier(BaseEstimator):\n",
        "    def fit(self, X, y=None):\n",
        "        pass\n",
        "    def predict(self, X):\n",
        "        return np.zeros((len(X), 1), dtype=bool)"
      ],
      "execution_count": 21,
      "outputs": []
    },
    {
      "cell_type": "code",
      "metadata": {
        "id": "OqH5-XQTHyyP",
        "colab": {
          "base_uri": "https://localhost:8080/"
        },
        "outputId": "7c9941fd-219e-4a7d-8e26-66f590af2486"
      },
      "source": [
        "never_5_clf = Never5Classifier()\n",
        "scores = cross_val_score(never_5_clf, X_train, y_train_5, cv=3, scoring='accuracy')\n",
        "print(scores)"
      ],
      "execution_count": 22,
      "outputs": [
        {
          "output_type": "stream",
          "text": [
            "[0.91210439 0.9119544  0.91179118]\n"
          ],
          "name": "stdout"
        }
      ]
    },
    {
      "cell_type": "markdown",
      "metadata": {
        "id": "_wmDU3E-HyyP"
      },
      "source": [
        "Ou seja, mais de 90% de acurácia. Isso ocorre simplesmente porque apenas cerca de 10% das imagens são dígitos 5, então se o classificador semrpe supor que uma imagem não é um 5, ele estará certo 90% do tempo.\n",
        "\n",
        "Isso mostra que a acurácia geralmente não é a medida de desempenho mais adequada para classificadores, especialmente quando se está lidando com conjuntos de dados não-uniformemente distribuídos (ou seja, quando algumas das classes são muito mais frequentes do que outras)."
      ]
    },
    {
      "cell_type": "markdown",
      "metadata": {
        "id": "cilNaor8HyyP"
      },
      "source": [
        "## Matriz de confusão\n",
        "\n",
        "Assim como a função `cross_val_score()`, a função `cross_val_predict()` validação cruzada, mas em vez de retornar as pontuações da avaliação, esta última retorna as previsões feitas em cada dobra do teste.\n",
        "\n",
        "Isso significa que você obtém uma previsão clara para cada instância no conjunto de treinamento, justamente pela  previsão ter sido feita por um modelo que nunca viu tal instância durante o treinamento."
      ]
    },
    {
      "cell_type": "code",
      "metadata": {
        "id": "wThfcc4zHyyQ"
      },
      "source": [
        "# predição para todas as instâncias, usando validação cruzada\n",
        "from sklearn.model_selection import cross_val_predict\n",
        "\n",
        "y_train_pred = cross_val_predict(sgd_clf, X_train, y_train_5, cv=3)"
      ],
      "execution_count": 23,
      "outputs": []
    },
    {
      "cell_type": "markdown",
      "metadata": {
        "id": "G5EOKuR5HyyQ"
      },
      "source": [
        "Cada linha em uma **matriz de confusão** representa uma classe real, enquanto cada coluna representa uma classe prevista."
      ]
    },
    {
      "cell_type": "code",
      "metadata": {
        "id": "ED4ctBajHyyQ",
        "colab": {
          "base_uri": "https://localhost:8080/"
        },
        "outputId": "63cd5cce-5345-419b-a054-b0bb0b06797c"
      },
      "source": [
        "# geração da matriz de confusão\n",
        "from sklearn.metrics import confusion_matrix\n",
        "\n",
        "cm = confusion_matrix(y_train_5, y_train_pred)\n",
        "print(cm)"
      ],
      "execution_count": 24,
      "outputs": [
        {
          "output_type": "stream",
          "text": [
            "[[17701   538]\n",
            " [  332  1429]]\n"
          ],
          "name": "stdout"
        }
      ]
    },
    {
      "cell_type": "code",
      "metadata": {
        "id": "mFKVK1xUHyyR",
        "colab": {
          "base_uri": "https://localhost:8080/"
        },
        "outputId": "105e7e2d-32e9-4b09-c724-6883699659f3"
      },
      "source": [
        "print('verdadeiros negativos (VN):', cm[0, 0])\n",
        "print('falsos positivos      (FP):', cm[0, 1])\n",
        "print('falsos negativos      (FN):', cm[1, 0])\n",
        "print('verdadeiros positivos (VP):', cm[1, 1])"
      ],
      "execution_count": 30,
      "outputs": [
        {
          "output_type": "stream",
          "text": [
            "verdadeiros negativos (VN): 17701\n",
            "falsos positivos      (FP): 538\n",
            "falsos negativos      (FN): 332\n",
            "verdadeiros positivos (VP): 1429\n"
          ],
          "name": "stdout"
        }
      ]
    },
    {
      "cell_type": "markdown",
      "metadata": {
        "id": "tJ3g2p0NHyyS"
      },
      "source": [
        "Um classificador perfeito teria apenas verdadeiros positivos e verdadeiros negativos. Então sua matriz de confusão teria valores diferentes de zero apenas em sua diagonal:"
      ]
    },
    {
      "cell_type": "code",
      "metadata": {
        "id": "2VcIMsYIHyyS",
        "colab": {
          "base_uri": "https://localhost:8080/"
        },
        "outputId": "bbf3b671-746a-4226-8484-0eb2dfe0a079"
      },
      "source": [
        "# classificação perfeita: igual aos valores reais\n",
        "y_train_perfect_predictions = y_train_5\n",
        "print(confusion_matrix(y_train_5, y_train_perfect_predictions))"
      ],
      "execution_count": 25,
      "outputs": [
        {
          "output_type": "stream",
          "text": [
            "[[18239     0]\n",
            " [    0  1761]]\n"
          ],
          "name": "stdout"
        }
      ]
    },
    {
      "cell_type": "markdown",
      "metadata": {
        "id": "I3WP1FssHyyT"
      },
      "source": [
        "Uma métrica interessante é a **precisão** (_precision_), definida assim:\n",
        "    \n",
        "\\begin{equation}\n",
        "\\text{precisão} = \\frac{VP}{VP+FP}\n",
        "\\end{equation}\n",
        "\n",
        "Outra métrica chamada de **sensibilidade** (_sensitivity_) ou **revocação** (_recall_), é a proporção de instâncias positivas que são detectadas corretamente pelo classificador:\n",
        "\n",
        "\\begin{equation}\n",
        "\\text{sensibilidade} = \\frac{VP}{VP+FN}\n",
        "\\end{equation}"
      ]
    },
    {
      "cell_type": "code",
      "metadata": {
        "id": "3t2TLn2FHyyT",
        "colab": {
          "base_uri": "https://localhost:8080/"
        },
        "outputId": "188525a1-a496-4d80-87b5-d2856f37968e"
      },
      "source": [
        "# cálculo da precisão e da sensibilidade\n",
        "from sklearn.metrics import precision_score, recall_score\n",
        "\n",
        "precision_score(y_train_5, y_train_pred)"
      ],
      "execution_count": 26,
      "outputs": [
        {
          "output_type": "execute_result",
          "data": {
            "text/plain": [
              "0.726487036095577"
            ]
          },
          "metadata": {
            "tags": []
          },
          "execution_count": 26
        }
      ]
    },
    {
      "cell_type": "code",
      "metadata": {
        "id": "Zh0bcfaoHyyT",
        "colab": {
          "base_uri": "https://localhost:8080/"
        },
        "outputId": "e08ad45e-d5dd-4c51-e730-f0d6bb578173"
      },
      "source": [
        "recall_score(y_train_5, y_train_pred)"
      ],
      "execution_count": 27,
      "outputs": [
        {
          "output_type": "execute_result",
          "data": {
            "text/plain": [
              "0.8114707552526973"
            ]
          },
          "metadata": {
            "tags": []
          },
          "execution_count": 27
        }
      ]
    },
    {
      "cell_type": "markdown",
      "metadata": {
        "id": "Cgl_5cqXHyyU"
      },
      "source": [
        "A leitura que pode ser feita é que quando o classificador afirma que uma imagem representa um dígito 5, ele está **correto apenas 72,6% das vezes**. Mais ainda, este classificador detecta **apenas 81,1% dos dígitos 5 presentes**.\n",
        "\n",
        "Muitas vezes, é conveniente combinar precisão e sensibilidade em uma única métrica chamada **pontuação F1** (_F1 score_), em paerticular para poder comparar dois classificadores.\n",
        "\n",
        "\n",
        "A pontuação F1 é a média harmônica da precisão e da sensibilidade. Enquanto a média regular trata todos os valores igualmente, a média harmônica dá muito mais peso aos valores baixos:\n",
        "\n",
        "\\begin{equation}\n",
        "F_1 = \\frac{VP}{VP+\\frac{FN+FP}{2}}\n",
        "\\end{equation}\n",
        "\n",
        "Como resultado, o classificador só obterá uma pontuação F1 alta se ambos, recall e sensibilidade forem altos."
      ]
    },
    {
      "cell_type": "code",
      "metadata": {
        "id": "SdkmaCHXHyyU",
        "colab": {
          "base_uri": "https://localhost:8080/"
        },
        "outputId": "1052d3dd-6142-4137-af98-3e36776e85e9"
      },
      "source": [
        "from sklearn.metrics import f1_score\n",
        "\n",
        "f1_score(y_train_5, y_train_pred)"
      ],
      "execution_count": 28,
      "outputs": [
        {
          "output_type": "execute_result",
          "data": {
            "text/plain": [
              "0.7666309012875536"
            ]
          },
          "metadata": {
            "tags": []
          },
          "execution_count": 28
        }
      ]
    },
    {
      "cell_type": "markdown",
      "metadata": {
        "id": "uzzSTTLtHyyV"
      },
      "source": [
        "Note que a pontuação F1 favorece classificadores que têm precisão e sensibilidade semelhantes.\n",
        "\n",
        "Isso nem sempre é o que se deseja: em alguns contextos, é importante a precisão e, em outros, a sensibilidade."
      ]
    },
    {
      "cell_type": "markdown",
      "metadata": {
        "id": "-9i_QY14HyyV"
      },
      "source": [
        "## Outro classificador binário\n",
        "\n",
        "Agora será usado o modelo `RandomForestClassifier`."
      ]
    },
    {
      "cell_type": "code",
      "metadata": {
        "id": "-6MVO9rxHyyW"
      },
      "source": [
        "from sklearn.ensemble import RandomForestClassifier\n",
        "\n",
        "forest_clf = RandomForestClassifier(random_state=42)"
      ],
      "execution_count": 29,
      "outputs": []
    },
    {
      "cell_type": "code",
      "metadata": {
        "id": "pc-q999sHyyX"
      },
      "source": [
        "# predição para todas as instâncias, usando validação cruzada\n",
        "from sklearn.model_selection import cross_val_predict\n",
        "\n",
        "y_train_pred = cross_val_predict(forest_clf, X_train, y_train_5, cv=3)"
      ],
      "execution_count": 30,
      "outputs": []
    },
    {
      "cell_type": "code",
      "metadata": {
        "id": "n7hr9qUPHyyX",
        "colab": {
          "base_uri": "https://localhost:8080/"
        },
        "outputId": "a41b873c-de3b-4bc2-e6e3-1a421816f0c3"
      },
      "source": [
        "# geração da matriz de confusão\n",
        "from sklearn.metrics import confusion_matrix\n",
        "\n",
        "cm = confusion_matrix(y_train_5, y_train_pred)\n",
        "print('verdadeiros negativos (VN):', cm[0, 0])\n",
        "print('falsos positivos      (FP):', cm[0, 1])\n",
        "print('falsos negativos      (FN):', cm[1, 0])\n",
        "print('verdadeiros positivos (VP):', cm[1, 1])"
      ],
      "execution_count": 31,
      "outputs": [
        {
          "output_type": "stream",
          "text": [
            "verdadeiros negativos (VN): 18229\n",
            "falsos positivos      (FP): 10\n",
            "falsos negativos      (FN): 341\n",
            "verdadeiros positivos (VP): 1420\n"
          ],
          "name": "stdout"
        }
      ]
    },
    {
      "cell_type": "code",
      "metadata": {
        "id": "R600i6otHyyY",
        "colab": {
          "base_uri": "https://localhost:8080/"
        },
        "outputId": "72039086-fbae-4a41-fd35-291e95ee82fe"
      },
      "source": [
        "# medidas de desempenho\n",
        "from sklearn.metrics import precision_score, recall_score, f1_score\n",
        "\n",
        "print('precisão:     ', precision_score(y_train_5, y_train_pred))\n",
        "print('sensibilidade:', recall_score(y_train_5, y_train_pred))\n",
        "print('pontuação f1: ', f1_score(y_train_5, y_train_pred))"
      ],
      "execution_count": 32,
      "outputs": [
        {
          "output_type": "stream",
          "text": [
            "precisão:      0.993006993006993\n",
            "sensibilidade: 0.8063600227143668\n",
            "pontuação f1:  0.8900031338138514\n"
          ],
          "name": "stdout"
        }
      ]
    },
    {
      "cell_type": "markdown",
      "metadata": {
        "id": "hzeuNpoOHyyZ"
      },
      "source": [
        "# Classificação multiclasse\n",
        "\n",
        "\n",
        "É possível construir um classificador multiclasse usando vários classificadores binários.\n",
        "\n",
        "Felizmente a biblioteca Scikit-Learn escolhe a estratégia automaticamente, dependendo do algoritmo selecionado.\n",
        "\n",
        "Basta então criar o classificados e treiná-no com os rótulos completos em `y_train`, ao invés dos rótulos binários `y_train_5` usados anteriormente.\n",
        "\n",
        "O efeito prático é que classificadores multiclasse levarão mais tempo para serem treinados. Quanto mais classes envolvidas, mais demorado será."
      ]
    },
    {
      "cell_type": "code",
      "metadata": {
        "id": "lp7Y7_d2Hyya",
        "colab": {
          "base_uri": "https://localhost:8080/"
        },
        "outputId": "9d6916f4-143a-479c-dfb4-afbdbbfa080e"
      },
      "source": [
        "from sklearn.linear_model import SGDClassifier\n",
        "\n",
        "sgd_clf = SGDClassifier(random_state=42)\n",
        "\n",
        "# esta chamada pode demorar um pouco\n",
        "%time sgd_clf.fit(X_train, y_train)"
      ],
      "execution_count": 33,
      "outputs": [
        {
          "output_type": "stream",
          "text": [
            "CPU times: user 40.3 s, sys: 7.86 ms, total: 40.3 s\n",
            "Wall time: 40.4 s\n"
          ],
          "name": "stdout"
        },
        {
          "output_type": "execute_result",
          "data": {
            "text/plain": [
              "SGDClassifier(alpha=0.0001, average=False, class_weight=None,\n",
              "              early_stopping=False, epsilon=0.1, eta0=0.0, fit_intercept=True,\n",
              "              l1_ratio=0.15, learning_rate='optimal', loss='hinge',\n",
              "              max_iter=1000, n_iter_no_change=5, n_jobs=None, penalty='l2',\n",
              "              power_t=0.5, random_state=42, shuffle=True, tol=0.001,\n",
              "              validation_fraction=0.1, verbose=0, warm_start=False)"
            ]
          },
          "metadata": {
            "tags": []
          },
          "execution_count": 33
        }
      ]
    },
    {
      "cell_type": "code",
      "metadata": {
        "id": "fm98QRA2Hyya",
        "colab": {
          "base_uri": "https://localhost:8080/"
        },
        "outputId": "070b7e76-222c-45fc-fc8b-0ed76d2a156f"
      },
      "source": [
        "# predição para imagem de índice 1, que é um dígito 5\n",
        "sgd_clf.predict([some_digit])[0]"
      ],
      "execution_count": 34,
      "outputs": [
        {
          "output_type": "execute_result",
          "data": {
            "text/plain": [
              "5"
            ]
          },
          "metadata": {
            "tags": []
          },
          "execution_count": 34
        }
      ]
    },
    {
      "cell_type": "markdown",
      "metadata": {
        "id": "C6TEjZ5qHyya"
      },
      "source": [
        "Para entender como funciona um classificador multiclasse:\n",
        "\n",
        "1. Foram treinados 10 classificadores (um para cada classe).\n",
        "2. A entrada então foi aplicada em cada um dos 10, gerando 10 pontuações.\n",
        "3. A previsão é dada pelo rótulo associado ao classificador com a melhor pontuação."
      ]
    },
    {
      "cell_type": "code",
      "metadata": {
        "id": "XLvbgiu8Hyyb",
        "colab": {
          "base_uri": "https://localhost:8080/"
        },
        "outputId": "c592c7ba-4ea8-49b1-dd46-66c1febf8251"
      },
      "source": [
        "# pontuações individuais dos 10 classificadores internos\n",
        "some_digit_scores = sgd_clf.decision_function([some_digit])\n",
        "print(some_digit_scores)"
      ],
      "execution_count": 35,
      "outputs": [
        {
          "output_type": "stream",
          "text": [
            "[[ -85437.05087203 -135532.70696043 -101833.01376653   -3855.02398457\n",
            "   -60089.43095009   29372.3152098  -144521.89238795  -80689.21222431\n",
            "     -582.26139392  -33002.40194553]]\n"
          ],
          "name": "stdout"
        }
      ]
    },
    {
      "cell_type": "code",
      "metadata": {
        "id": "f_QZsmFBHyyc"
      },
      "source": [
        "# qual o índice que contém o maior score?\n",
        "index = np.argmax(some_digit_scores)"
      ],
      "execution_count": 36,
      "outputs": []
    },
    {
      "cell_type": "code",
      "metadata": {
        "id": "ubtgfp_JHyyc",
        "colab": {
          "base_uri": "https://localhost:8080/"
        },
        "outputId": "457bbaac-b3b7-4254-c191-b44c887a1444"
      },
      "source": [
        "# classe prevista\n",
        "sgd_clf.classes_[index]"
      ],
      "execution_count": 37,
      "outputs": [
        {
          "output_type": "execute_result",
          "data": {
            "text/plain": [
              "5"
            ]
          },
          "metadata": {
            "tags": []
          },
          "execution_count": 37
        }
      ]
    },
    {
      "cell_type": "markdown",
      "metadata": {
        "id": "-ysjsvK2Hyyc"
      },
      "source": [
        "## Medida de desempenho por validação cruzada"
      ]
    },
    {
      "cell_type": "code",
      "metadata": {
        "id": "OrULxRA-Hyyc",
        "colab": {
          "base_uri": "https://localhost:8080/"
        },
        "outputId": "cf84435a-d7a5-4d69-ab9c-efd824d7cb8e"
      },
      "source": [
        "# esta chamada pode demorar um pouco\n",
        "%time cross_val_score(sgd_clf, X_train, y_train, cv=3, scoring='accuracy')"
      ],
      "execution_count": 38,
      "outputs": [
        {
          "output_type": "stream",
          "text": [
            "CPU times: user 1min 4s, sys: 264 ms, total: 1min 4s\n",
            "Wall time: 1min 4s\n"
          ],
          "name": "stdout"
        },
        {
          "output_type": "execute_result",
          "data": {
            "text/plain": [
              "array([0.86215689, 0.87235638, 0.85223522])"
            ]
          },
          "metadata": {
            "tags": []
          },
          "execution_count": 38
        }
      ]
    },
    {
      "cell_type": "markdown",
      "metadata": {
        "id": "50yWgsvEHyyd"
      },
      "source": [
        "## Análise do erro\n",
        "\n",
        "Aqui podemos gerar a previsão para todas as instâncias, usando validação cruzada. Então podemos comparar o real com o previsto em uma matriz de confusão para todas as 10 classes."
      ]
    },
    {
      "cell_type": "code",
      "metadata": {
        "id": "tnrTVBzyHyyd",
        "colab": {
          "base_uri": "https://localhost:8080/"
        },
        "outputId": "572dc2bf-5503-4eba-aecd-e8accba49167"
      },
      "source": [
        "# esta chamada pode demorar um pouco\n",
        "%time y_train_pred = cross_val_predict(sgd_clf, X_train, y_train, cv=3)\n",
        "cm = confusion_matrix(y_train, y_train_pred)\n",
        "cm"
      ],
      "execution_count": 39,
      "outputs": [
        {
          "output_type": "stream",
          "text": [
            "CPU times: user 1min 5s, sys: 229 ms, total: 1min 5s\n",
            "Wall time: 1min 5s\n"
          ],
          "name": "stdout"
        },
        {
          "output_type": "execute_result",
          "data": {
            "text/plain": [
              "array([[1876,    0,    6,    9,    1,   19,   15,    2,   25,    9],\n",
              "       [   1, 2163,   19,    8,    8,   10,    3,    1,   25,    5],\n",
              "       [  14,   44, 1633,   54,   26,   28,   34,   46,   97,   13],\n",
              "       [   9,   23,   64, 1570,    7,  164,    9,   32,  109,   34],\n",
              "       [   3,   15,   17,    5, 1674,   19,   21,   24,   47,   99],\n",
              "       [  24,   15,   15,   52,   19, 1484,   48,   11,   71,   22],\n",
              "       [   7,    3,   21,    6,   21,   61, 1902,    3,   14,    1],\n",
              "       [   7,   12,   17,   10,   27,   12,    2, 1941,    9,   89],\n",
              "       [   9,   58,   25,   68,   24,  212,   16,   14, 1417,   69],\n",
              "       [  16,   14,    9,   33,  129,   54,    0,  147,   36, 1585]])"
            ]
          },
          "metadata": {
            "tags": []
          },
          "execution_count": 39
        }
      ]
    },
    {
      "cell_type": "code",
      "metadata": {
        "id": "GEniPBZDHyyd",
        "colab": {
          "base_uri": "https://localhost:8080/",
          "height": 275
        },
        "outputId": "70bcff8c-38c3-4bae-edd4-10d828db33e3"
      },
      "source": [
        "# exibição da matriz de confusão como imagem\n",
        "plt.matshow(cm, cmap='gray')\n",
        "plt.show()"
      ],
      "execution_count": 40,
      "outputs": [
        {
          "output_type": "display_data",
          "data": {
            "image/png": "[encoded data removed]",
            "text/plain": [
              "<Figure size 288x288 with 1 Axes>"
            ]
          },
          "metadata": {
            "tags": [],
            "needs_background": "light"
          }
        }
      ]
    },
    {
      "cell_type": "markdown",
      "metadata": {
        "id": "_LneWfzBHyye"
      },
      "source": [
        "Os resultados em geral são bons, pois a todos os dígitos foram em geral identificados como os próprios, como indica os valores mais claros na diagonal.\n",
        "\n",
        "Para visualizar o erro nos demais casos, a matriz será normalizada e os elementos da diagonal serão zerados."
      ]
    },
    {
      "cell_type": "code",
      "metadata": {
        "id": "NMnfwyffHyye",
        "colab": {
          "base_uri": "https://localhost:8080/",
          "height": 275
        },
        "outputId": "d5ba9544-5a8a-4f72-969e-1b23c3d53d56"
      },
      "source": [
        "# normalizar a matriz\n",
        "row_sums = cm.sum(axis=1, keepdims=True)\n",
        "norm_cm = cm / row_sums\n",
        "\n",
        "# zerar diagonal e exibir\n",
        "np.fill_diagonal(norm_cm, 0)\n",
        "plt.matshow(norm_cm, cmap='gray')\n",
        "plt.show()"
      ],
      "execution_count": 41,
      "outputs": [
        {
          "output_type": "display_data",
          "data": {
            "image/png": "[encoded data removed]",
            "text/plain": [
              "<Figure size 288x288 with 1 Axes>"
            ]
          },
          "metadata": {
            "tags": [],
            "needs_background": "light"
          }
        }
      ]
    },
    {
      "cell_type": "markdown",
      "metadata": {
        "id": "deAtBtKDHyye"
      },
      "source": [
        "As linhas representam as classes reais, enquanto as colunas representam as classes previstas.\n",
        "\n",
        "A coluna da classe 8 é bem clara, o que indica que muitas imagens foram classificadas incorretamente como dígitos 8. No entanto, a linha para a classe 8 não é tão ruim, informando que em geral os dígitos 8 reais são classificados corretamente como tais.\n",
        "\n",
        "Note que a matriz de confusão não é necessariamente simétrica. Também pode ser observado que os dígitos 3 e 8 muitas vezes são erroneamente classificados como 5."
      ]
    },
    {
      "cell_type": "code",
      "metadata": {
        "id": "J5KPwl6oHyye",
        "colab": {
          "base_uri": "https://localhost:8080/",
          "height": 466
        },
        "outputId": "716d96bb-4b95-4268-de98-f1c817839ba9"
      },
      "source": [
        "# exbição de algumas instâncias de 5 e 8\n",
        "cl_a, cl_b = 5, 8\n",
        "X_aa = X_train.values[(y_train == cl_a) & (y_train_pred == cl_a)]\n",
        "X_ab = X_train.values[(y_train == cl_a) & (y_train_pred == cl_b)]\n",
        "X_ba = X_train.values[(y_train == cl_b) & (y_train_pred == cl_a)]\n",
        "X_bb = X_train.values[(y_train == cl_b) & (y_train_pred == cl_b)]\n",
        "\n",
        "plt.figure(figsize=(8,8))\n",
        "plt.subplot(221); plot_digits(X_aa[:25], images_per_row=5)\n",
        "plt.subplot(222); plot_digits(X_ab[:25], images_per_row=5)\n",
        "plt.subplot(223); plot_digits(X_ba[:25], images_per_row=5)\n",
        "plt.subplot(224); plot_digits(X_bb[:25], images_per_row=5)\n",
        "plt.show()"
      ],
      "execution_count": 42,
      "outputs": [
        {
          "output_type": "display_data",
          "data": {
            "image/png": "[encoded data removed]",
            "text/plain": [
              "<Figure size 576x576 with 4 Axes>"
            ]
          },
          "metadata": {
            "tags": [],
            "needs_background": "light"
          }
        }
      ]
    },
    {
      "cell_type": "markdown",
      "metadata": {
        "id": "0P_qEa-THyyf"
      },
      "source": [
        "# Avaliar o modelo final\n",
        "\n",
        "Basta usar o modelo anteriormente treinado, chamado `sgd_clf` e fazer uma previsão usando os dados de teste `X_test`, gerando as previsões  em `y_test_pred`.\n",
        "\n",
        "As medidas de desempenho são obtidas comparando `y_test_pred` e `y_test` (que são os rótulos corretos de teste).\n",
        "\n",
        "Vamos aqui usar as medidas de precisão, sensibilidade e pontuação F1, só que agora ajustadas para um classificador multiclasse (usando o parâmetro `average='weighted'`, que pondera as medidas de todas as classes)."
      ]
    },
    {
      "cell_type": "code",
      "metadata": {
        "id": "kYmrUfAuHyyg",
        "colab": {
          "base_uri": "https://localhost:8080/"
        },
        "outputId": "d6c7aa04-e8df-467d-c0a1-34a60c9a9b9e"
      },
      "source": [
        "# predição para todo o conjunto de teste\n",
        "y_test_pred = sgd_clf.predict(X_test)\n",
        "\n",
        "# medidas de desempenho\n",
        "from sklearn.metrics import precision_score, recall_score, f1_score\n",
        "print('precisão:     ', precision_score(y_test, y_test_pred, average='weighted'))\n",
        "print('sensibilidade:', recall_score(y_test, y_test_pred, average='weighted'))\n",
        "print('pontuação f1: ', f1_score(y_test, y_test_pred, average='weighted'))"
      ],
      "execution_count": 43,
      "outputs": [
        {
          "output_type": "stream",
          "text": [
            "precisão:      0.8798802714797115\n",
            "sensibilidade: 0.8736\n",
            "pontuação f1:  0.8727434534139044\n"
          ],
          "name": "stdout"
        }
      ]
    }
  ]
}