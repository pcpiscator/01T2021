{
  "nbformat": 4,
  "nbformat_minor": 0,
  "metadata": {
    "colab": {
      "name": "Petr4.ipynb",
      "provenance": [],
      "authorship_tag": "ABX9TyNVq3Zq+kwibQWSj6xZyEHu",
      "include_colab_link": true
    },
    "kernelspec": {
      "name": "python3",
      "display_name": "Python 3"
    },
    "language_info": {
      "name": "python"
    }
  },
  "cells": [
    {
      "cell_type": "markdown",
      "metadata": {
        "id": "view-in-github",
        "colab_type": "text"
      },
      "source": [
        "<a href=\"https://colab.research.google.com/github/pcpiscator/01T2021/blob/main/Petr4.ipynb\" target=\"_parent\"><img src=\"https://colab.research.google.com/assets/colab-badge.svg\" alt=\"Open In Colab\"/></a>"
      ]
    },
    {
      "cell_type": "code",
      "metadata": {
        "id": "uMyDys8kYDJ-"
      },
      "source": [
        "import numpy as np\n",
        "import pandas as pd\n",
        "import matplotlib.pyplot as plt\n",
        "import seaborn as sns\n",
        "from datetime import datetime\n",
        "from dateutil.parser import parse \n",
        "import sklearn"
      ],
      "execution_count": 28,
      "outputs": []
    },
    {
      "cell_type": "code",
      "metadata": {
        "id": "9Q-dRuGPYZ-G"
      },
      "source": [
        "# leitura dos conjuntos de dados\n",
        "\n",
        "petr4 = pd.read_csv('https://raw.githubusercontent.com/pcpiscator/Ciencia-de-dados/master/ACAO.txt', sep=',', encoding='UTF-8', low_memory=False) #"
      ],
      "execution_count": 29,
      "outputs": []
    },
    {
      "cell_type": "code",
      "metadata": {
        "colab": {
          "base_uri": "https://localhost:8080/",
          "height": 204
        },
        "id": "JOHcKXOOZeya",
        "outputId": "c1d856bb-97af-4d53-a348-446cc0f2b62d"
      },
      "source": [
        "petr4.head(5)"
      ],
      "execution_count": 30,
      "outputs": [
        {
          "output_type": "execute_result",
          "data": {
            "text/html": [
              "<div>\n",
              "<style scoped>\n",
              "    .dataframe tbody tr th:only-of-type {\n",
              "        vertical-align: middle;\n",
              "    }\n",
              "\n",
              "    .dataframe tbody tr th {\n",
              "        vertical-align: top;\n",
              "    }\n",
              "\n",
              "    .dataframe thead th {\n",
              "        text-align: right;\n",
              "    }\n",
              "</style>\n",
              "<table border=\"1\" class=\"dataframe\">\n",
              "  <thead>\n",
              "    <tr style=\"text-align: right;\">\n",
              "      <th></th>\n",
              "      <th>Data</th>\n",
              "      <th>Fechamento</th>\n",
              "      <th>Maxima</th>\n",
              "      <th>Minima</th>\n",
              "    </tr>\n",
              "  </thead>\n",
              "  <tbody>\n",
              "    <tr>\n",
              "      <th>0</th>\n",
              "      <td>15/jun/20</td>\n",
              "      <td>20.71</td>\n",
              "      <td>21.09</td>\n",
              "      <td>19.54</td>\n",
              "    </tr>\n",
              "    <tr>\n",
              "      <th>1</th>\n",
              "      <td>16/jun/20</td>\n",
              "      <td>21.36</td>\n",
              "      <td>21.91</td>\n",
              "      <td>21.17</td>\n",
              "    </tr>\n",
              "    <tr>\n",
              "      <th>2</th>\n",
              "      <td>17/jun/20</td>\n",
              "      <td>21.45</td>\n",
              "      <td>21.85</td>\n",
              "      <td>21.15</td>\n",
              "    </tr>\n",
              "    <tr>\n",
              "      <th>3</th>\n",
              "      <td>18/jun/20</td>\n",
              "      <td>21.59</td>\n",
              "      <td>21.77</td>\n",
              "      <td>21.08</td>\n",
              "    </tr>\n",
              "    <tr>\n",
              "      <th>4</th>\n",
              "      <td>19/jun/20</td>\n",
              "      <td>21.30</td>\n",
              "      <td>22.22</td>\n",
              "      <td>21.22</td>\n",
              "    </tr>\n",
              "  </tbody>\n",
              "</table>\n",
              "</div>"
            ],
            "text/plain": [
              "        Data  Fechamento  Maxima  Minima\n",
              "0  15/jun/20       20.71   21.09   19.54\n",
              "1  16/jun/20       21.36   21.91   21.17\n",
              "2  17/jun/20       21.45   21.85   21.15\n",
              "3  18/jun/20       21.59   21.77   21.08\n",
              "4  19/jun/20       21.30   22.22   21.22"
            ]
          },
          "metadata": {
            "tags": []
          },
          "execution_count": 30
        }
      ]
    },
    {
      "cell_type": "code",
      "metadata": {
        "id": "LuiQNHnm5BOC",
        "colab": {
          "base_uri": "https://localhost:8080/"
        },
        "outputId": "d40f2dce-f15b-476a-c97e-9b89992275f2"
      },
      "source": [
        "petr4.shape"
      ],
      "execution_count": 31,
      "outputs": [
        {
          "output_type": "execute_result",
          "data": {
            "text/plain": [
              "(251, 4)"
            ]
          },
          "metadata": {
            "tags": []
          },
          "execution_count": 31
        }
      ]
    },
    {
      "cell_type": "code",
      "metadata": {
        "id": "GfFfcIDE5Wh3",
        "colab": {
          "base_uri": "https://localhost:8080/"
        },
        "outputId": "23604a06-f940-4eda-d6b0-4300ee1c004f"
      },
      "source": [
        "petr4['Data']"
      ],
      "execution_count": 32,
      "outputs": [
        {
          "output_type": "execute_result",
          "data": {
            "text/plain": [
              "0      15/jun/20\n",
              "1      16/jun/20\n",
              "2      17/jun/20\n",
              "3      18/jun/20\n",
              "4      19/jun/20\n",
              "         ...    \n",
              "246    24/Mai/21\n",
              "247    25/Mai/21\n",
              "248    26/Mai/21\n",
              "249    27/Mai/21\n",
              "250    28/Mai/21\n",
              "Name: Data, Length: 251, dtype: object"
            ]
          },
          "metadata": {
            "tags": []
          },
          "execution_count": 32
        }
      ]
    },
    {
      "cell_type": "code",
      "metadata": {
        "id": "uvDwawV75gZZ",
        "colab": {
          "base_uri": "https://localhost:8080/"
        },
        "outputId": "7f1ea7d5-81cd-4223-d6dc-54366adde77b"
      },
      "source": [
        "petr4['Fechamento']"
      ],
      "execution_count": 33,
      "outputs": [
        {
          "output_type": "execute_result",
          "data": {
            "text/plain": [
              "0      20.71\n",
              "1      21.36\n",
              "2      21.45\n",
              "3      21.59\n",
              "4      21.30\n",
              "       ...  \n",
              "246    26.35\n",
              "247    25.88\n",
              "248    26.07\n",
              "249    25.91\n",
              "250    27.00\n",
              "Name: Fechamento, Length: 251, dtype: float64"
            ]
          },
          "metadata": {
            "tags": []
          },
          "execution_count": 33
        }
      ]
    },
    {
      "cell_type": "code",
      "metadata": {
        "id": "FNaUdemK5lqO",
        "colab": {
          "base_uri": "https://localhost:8080/"
        },
        "outputId": "3aad2b71-c2c0-48a7-9d3d-1bf4f5c883f0"
      },
      "source": [
        "petr4['Maxima']"
      ],
      "execution_count": 34,
      "outputs": [
        {
          "output_type": "execute_result",
          "data": {
            "text/plain": [
              "0      21.09\n",
              "1      21.91\n",
              "2      21.85\n",
              "3      21.77\n",
              "4      22.22\n",
              "       ...  \n",
              "246    26.52\n",
              "247    26.62\n",
              "248    26.18\n",
              "249    26.25\n",
              "250    27.02\n",
              "Name: Maxima, Length: 251, dtype: float64"
            ]
          },
          "metadata": {
            "tags": []
          },
          "execution_count": 34
        }
      ]
    },
    {
      "cell_type": "code",
      "metadata": {
        "id": "k_GMt24-5qSC",
        "colab": {
          "base_uri": "https://localhost:8080/"
        },
        "outputId": "61b6bac7-c3e6-40a1-eb7a-f408acb5c6e0"
      },
      "source": [
        "petr4['Minima']"
      ],
      "execution_count": 35,
      "outputs": [
        {
          "output_type": "execute_result",
          "data": {
            "text/plain": [
              "0      19.54\n",
              "1      21.17\n",
              "2      21.15\n",
              "3      21.08\n",
              "4      21.22\n",
              "       ...  \n",
              "246    25.99\n",
              "247    25.78\n",
              "248    25.65\n",
              "249    25.77\n",
              "250    26.15\n",
              "Name: Minima, Length: 251, dtype: float64"
            ]
          },
          "metadata": {
            "tags": []
          },
          "execution_count": 35
        }
      ]
    },
    {
      "cell_type": "code",
      "metadata": {
        "id": "K7ONKV0i8Bnt",
        "outputId": "a82c6339-fad0-40eb-d32f-f5b166fd7145",
        "colab": {
          "base_uri": "https://localhost:8080/"
        }
      },
      "source": [
        "petr4.columns.values"
      ],
      "execution_count": 36,
      "outputs": [
        {
          "output_type": "execute_result",
          "data": {
            "text/plain": [
              "array(['Data', 'Fechamento', 'Maxima', 'Minima'], dtype=object)"
            ]
          },
          "metadata": {
            "tags": []
          },
          "execution_count": 36
        }
      ]
    },
    {
      "cell_type": "code",
      "metadata": {
        "id": "ysVi4DC_8Ma_"
      },
      "source": [
        ""
      ],
      "execution_count": null,
      "outputs": []
    },
    {
      "cell_type": "code",
      "metadata": {
        "id": "YHGYS-7M8MCS",
        "outputId": "b6739458-e2d8-4738-b3bd-975183e64ce3",
        "colab": {
          "base_uri": "https://localhost:8080/",
          "height": 419
        }
      },
      "source": [
        "petr4[[\"Data\", \"Fechamento\"]]"
      ],
      "execution_count": 37,
      "outputs": [
        {
          "output_type": "execute_result",
          "data": {
            "text/html": [
              "<div>\n",
              "<style scoped>\n",
              "    .dataframe tbody tr th:only-of-type {\n",
              "        vertical-align: middle;\n",
              "    }\n",
              "\n",
              "    .dataframe tbody tr th {\n",
              "        vertical-align: top;\n",
              "    }\n",
              "\n",
              "    .dataframe thead th {\n",
              "        text-align: right;\n",
              "    }\n",
              "</style>\n",
              "<table border=\"1\" class=\"dataframe\">\n",
              "  <thead>\n",
              "    <tr style=\"text-align: right;\">\n",
              "      <th></th>\n",
              "      <th>Data</th>\n",
              "      <th>Fechamento</th>\n",
              "    </tr>\n",
              "  </thead>\n",
              "  <tbody>\n",
              "    <tr>\n",
              "      <th>0</th>\n",
              "      <td>15/jun/20</td>\n",
              "      <td>20.71</td>\n",
              "    </tr>\n",
              "    <tr>\n",
              "      <th>1</th>\n",
              "      <td>16/jun/20</td>\n",
              "      <td>21.36</td>\n",
              "    </tr>\n",
              "    <tr>\n",
              "      <th>2</th>\n",
              "      <td>17/jun/20</td>\n",
              "      <td>21.45</td>\n",
              "    </tr>\n",
              "    <tr>\n",
              "      <th>3</th>\n",
              "      <td>18/jun/20</td>\n",
              "      <td>21.59</td>\n",
              "    </tr>\n",
              "    <tr>\n",
              "      <th>4</th>\n",
              "      <td>19/jun/20</td>\n",
              "      <td>21.30</td>\n",
              "    </tr>\n",
              "    <tr>\n",
              "      <th>...</th>\n",
              "      <td>...</td>\n",
              "      <td>...</td>\n",
              "    </tr>\n",
              "    <tr>\n",
              "      <th>246</th>\n",
              "      <td>24/Mai/21</td>\n",
              "      <td>26.35</td>\n",
              "    </tr>\n",
              "    <tr>\n",
              "      <th>247</th>\n",
              "      <td>25/Mai/21</td>\n",
              "      <td>25.88</td>\n",
              "    </tr>\n",
              "    <tr>\n",
              "      <th>248</th>\n",
              "      <td>26/Mai/21</td>\n",
              "      <td>26.07</td>\n",
              "    </tr>\n",
              "    <tr>\n",
              "      <th>249</th>\n",
              "      <td>27/Mai/21</td>\n",
              "      <td>25.91</td>\n",
              "    </tr>\n",
              "    <tr>\n",
              "      <th>250</th>\n",
              "      <td>28/Mai/21</td>\n",
              "      <td>27.00</td>\n",
              "    </tr>\n",
              "  </tbody>\n",
              "</table>\n",
              "<p>251 rows × 2 columns</p>\n",
              "</div>"
            ],
            "text/plain": [
              "          Data  Fechamento\n",
              "0    15/jun/20       20.71\n",
              "1    16/jun/20       21.36\n",
              "2    17/jun/20       21.45\n",
              "3    18/jun/20       21.59\n",
              "4    19/jun/20       21.30\n",
              "..         ...         ...\n",
              "246  24/Mai/21       26.35\n",
              "247  25/Mai/21       25.88\n",
              "248  26/Mai/21       26.07\n",
              "249  27/Mai/21       25.91\n",
              "250  28/Mai/21       27.00\n",
              "\n",
              "[251 rows x 2 columns]"
            ]
          },
          "metadata": {
            "tags": []
          },
          "execution_count": 37
        }
      ]
    },
    {
      "cell_type": "code",
      "metadata": {
        "colab": {
          "base_uri": "https://localhost:8080/",
          "height": 530
        },
        "id": "48WUQX3M8Lsh",
        "outputId": "b2a2340e-6003-4e4c-8913-df67a4a2f0f8"
      },
      "source": [
        "#petr4[['Data','Fechamento']].plot(figsize=(15, 4), title='Bovespa', grid=True)\n",
        "plt.figure(figsize= (10,8))\n",
        "sns.boxplot(x=\"Data\", y= \"Fechamento\", data = petr4)\n",
        "plt.title(\"DataX Valor\")"
      ],
      "execution_count": 40,
      "outputs": [
        {
          "output_type": "execute_result",
          "data": {
            "text/plain": [
              "Text(0.5, 1.0, 'DataX Valor')"
            ]
          },
          "metadata": {
            "tags": []
          },
          "execution_count": 40
        },
        {
          "output_type": "display_data",
          "data": {
            "image/png": "[encoded data removed]",
            "text/plain": [
              "<Figure size 720x576 with 1 Axes>"
            ]
          },
          "metadata": {
            "tags": [],
            "needs_background": "light"
          }
        }
      ]
    },
    {
      "cell_type": "code",
      "metadata": {
        "colab": {
          "base_uri": "https://localhost:8080/",
          "height": 298
        },
        "id": "33ABiiEfaH8R",
        "outputId": "29adb453-f517-4b77-f3e6-bb960479019c"
      },
      "source": [
        "petr4[['Fechamento','Maxima', 'Minima']].plot(figsize=(15, 4), title='Bovespa', grid=True)"
      ],
      "execution_count": 23,
      "outputs": [
        {
          "output_type": "execute_result",
          "data": {
            "text/plain": [
              "<matplotlib.axes._subplots.AxesSubplot at 0x7f72e59b3f10>"
            ]
          },
          "metadata": {
            "tags": []
          },
          "execution_count": 23
        },
        {
          "output_type": "display_data",
          "data": {
            "image/png": "[encoded data removed]",
            "text/plain": [
              "<Figure size 1080x288 with 1 Axes>"
            ]
          },
          "metadata": {
            "tags": [],
            "needs_background": "light"
          }
        }
      ]
    }
  ]
}