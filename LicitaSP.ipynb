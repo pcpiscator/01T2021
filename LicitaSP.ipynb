{
  "nbformat": 4,
  "nbformat_minor": 0,
  "metadata": {
    "colab": {
      "name": "LicitaSP.ipynb",
      "provenance": [],
      "authorship_tag": "ABX9TyN/GeCDaOJze3yU3ZhmtNkX",
      "include_colab_link": true
    },
    "kernelspec": {
      "name": "python3",
      "display_name": "Python 3"
    },
    "language_info": {
      "name": "python"
    }
  },
  "cells": [
    {
      "cell_type": "markdown",
      "metadata": {
        "id": "view-in-github",
        "colab_type": "text"
      },
      "source": [
        "<a href=\"https://colab.research.google.com/github/pcpiscator/01T2021/blob/main/LicitaSP.ipynb\" target=\"_parent\"><img src=\"https://colab.research.google.com/assets/colab-badge.svg\" alt=\"Open In Colab\"/></a>"
      ]
    },
    {
      "cell_type": "code",
      "metadata": {
        "id": "2W2TvvOK42kg"
      },
      "source": [
        "pip install mpl_finance"
      ],
      "execution_count": null,
      "outputs": []
    },
    {
      "cell_type": "code",
      "metadata": {
        "id": "3sO-ERn958je"
      },
      "source": [
        "import matplotlib.pyplot as plt\n",
        "import numpy as np\n",
        "from mpl_finance import candlestick_ohlc\n",
        "import pandas as pd\n",
        "import matplotlib.dates as mpl_dates\n",
        "import sklearn\n",
        "\n",
        "plt.style.use('ggplot')"
      ],
      "execution_count": 2,
      "outputs": []
    },
    {
      "cell_type": "code",
      "metadata": {
        "id": "g3-j_yCC6ZTP"
      },
      "source": [
        "#data = pd.read_csv('contratosp.csv', sep=';', encoding='latin_1', low_memory=False)"
      ],
      "execution_count": 6,
      "outputs": []
    },
    {
      "cell_type": "code",
      "metadata": {
        "id": "iIJRcq-m9fsx"
      },
      "source": [
        "data = pd.read_csv('https://raw.githubusercontent.com/pcpiscator/01T2021/main/contratosp.csv', sep=';', encoding='latin_1', low_memory=False)"
      ],
      "execution_count": 9,
      "outputs": []
    },
    {
      "cell_type": "code",
      "metadata": {
        "colab": {
          "base_uri": "https://localhost:8080/",
          "height": 581
        },
        "id": "IWE2HM8p9Din",
        "outputId": "a2c7fc15-f80f-4a09-9200-6b67d23b0d7c"
      },
      "source": [
        "data.head(5)"
      ],
      "execution_count": 10,
      "outputs": [
        {
          "output_type": "execute_result",
          "data": {
            "text/html": [
              "<div>\n",
              "<style scoped>\n",
              "    .dataframe tbody tr th:only-of-type {\n",
              "        vertical-align: middle;\n",
              "    }\n",
              "\n",
              "    .dataframe tbody tr th {\n",
              "        vertical-align: top;\n",
              "    }\n",
              "\n",
              "    .dataframe thead th {\n",
              "        text-align: right;\n",
              "    }\n",
              "</style>\n",
              "<table border=\"1\" class=\"dataframe\">\n",
              "  <thead>\n",
              "    <tr style=\"text-align: right;\">\n",
              "      <th></th>\n",
              "      <th>Órgão</th>\n",
              "      <th>Fornecedor</th>\n",
              "      <th>CNPJ</th>\n",
              "      <th>Objeto</th>\n",
              "      <th>Valor (R$)</th>\n",
              "      <th>Modalidade</th>\n",
              "      <th>Contrato</th>\n",
              "      <th>Data de Assinatura</th>\n",
              "      <th>Vigência(Dias)</th>\n",
              "      <th>Processo Administrativo</th>\n",
              "      <th>Licitação</th>\n",
              "      <th>Evento</th>\n",
              "      <th>Data da Publicação</th>\n",
              "    </tr>\n",
              "  </thead>\n",
              "  <tbody>\n",
              "    <tr>\n",
              "      <th>0</th>\n",
              "      <td>SERVIÇO FUNERÁRIO</td>\n",
              "      <td>FINO SABOR INDUSTRIA E COMERCIO LTDA</td>\n",
              "      <td>00.354.138/0001-99</td>\n",
              "      <td>Fornecimento de café torrado e moído em embala...</td>\n",
              "      <td>13.986,00</td>\n",
              "      <td>COMPRA POR ATA DE REGISTRO DE PREÇO EXTRATO DE...</td>\n",
              "      <td>NaN</td>\n",
              "      <td>15/12/2020</td>\n",
              "      <td>180</td>\n",
              "      <td>6410.2020/0011895-2</td>\n",
              "      <td>005/SG-COBES/2019</td>\n",
              "      <td>EXTRATO DE COMPRA</td>\n",
              "      <td>31/12/2020</td>\n",
              "    </tr>\n",
              "    <tr>\n",
              "      <th>1</th>\n",
              "      <td>MOBILIDADE E TRANSPORTES</td>\n",
              "      <td>COMPANHIA DE ENGENHARIA DE TRÁFEGO - CET</td>\n",
              "      <td>47.902.648/0001-17</td>\n",
              "      <td>Prestação de Serviços de Engenharia de Tráfego...</td>\n",
              "      <td>927.221.329,00</td>\n",
              "      <td>INEXIGIBILIDADE EXTRATO DE CONTRATO / NOTA DE ...</td>\n",
              "      <td>001/2021 SMT</td>\n",
              "      <td>29/12/2020</td>\n",
              "      <td>360</td>\n",
              "      <td>6020.2020/0010711-0</td>\n",
              "      <td>6020.2020/0010711-0</td>\n",
              "      <td>EXTRATO DE CONTRATO / NOTA DE EMPENHO</td>\n",
              "      <td>31/12/2020</td>\n",
              "    </tr>\n",
              "    <tr>\n",
              "      <th>2</th>\n",
              "      <td>EMPRESA DE TECNOLOGIA DA INFORMAÇÃO E COMUNICAÇÃO</td>\n",
              "      <td>CERVELLO INFORMÁTICA LTDA.</td>\n",
              "      <td>07.961.412/0001-37</td>\n",
              "      <td>CONTRATAÇÃO DE EMPRESA PARA AQUISIÇÃO DE PLATA...</td>\n",
              "      <td>3.570.000,00</td>\n",
              "      <td>PREGÃO ELETRÔNICO EXTRATO DE CONTRATO / NOTA D...</td>\n",
              "      <td>CO-12.12/2020</td>\n",
              "      <td>21/12/2020</td>\n",
              "      <td>1800</td>\n",
              "      <td>10.006/20</td>\n",
              "      <td>10.006/20</td>\n",
              "      <td>EXTRATO DE CONTRATO / NOTA DE EMPENHO</td>\n",
              "      <td>31/12/2020</td>\n",
              "    </tr>\n",
              "    <tr>\n",
              "      <th>3</th>\n",
              "      <td>AUTARQUIA HOSPITALAR MUNICIPAL</td>\n",
              "      <td>CANON MEDICAL SYSTEMS DO BRASIL LTDA.</td>\n",
              "      <td>46.563.938/0014-35</td>\n",
              "      <td>NGAQUISIÇÃO DE APARELHO ULTRASSOM, POR EMENDA ...</td>\n",
              "      <td>172.000,00</td>\n",
              "      <td>PREGÃO ELETRÔNICO EXTRATO DE CONTRATO / NOTA D...</td>\n",
              "      <td>146/2020-SMS-1/CONTR</td>\n",
              "      <td>16/12/2020</td>\n",
              "      <td>360</td>\n",
              "      <td>6110.2020/0014539-8</td>\n",
              "      <td>324/2020</td>\n",
              "      <td>EXTRATO DE CONTRATO / NOTA DE EMPENHO</td>\n",
              "      <td>31/12/2020</td>\n",
              "    </tr>\n",
              "    <tr>\n",
              "      <th>4</th>\n",
              "      <td>JUSTICA</td>\n",
              "      <td>PRODAM ? SP</td>\n",
              "      <td>43.076.702/0001-61</td>\n",
              "      <td>Prestação de Serviços para SUSTENTAÇÃO DE TIC ...</td>\n",
              "      <td>268.214,28</td>\n",
              "      <td>DISPENSA EXTRATO DE ADITAMENTO</td>\n",
              "      <td>02/SMJ/2020</td>\n",
              "      <td>30/12/2020</td>\n",
              "      <td>360</td>\n",
              "      <td>6075.2020/0000007-2</td>\n",
              "      <td>6075.2020/0000007-2</td>\n",
              "      <td>EXTRATO DE ADITAMENTO</td>\n",
              "      <td>31/12/2020</td>\n",
              "    </tr>\n",
              "  </tbody>\n",
              "</table>\n",
              "</div>"
            ],
            "text/plain": [
              "                                               Órgão  ... Data da Publicação\n",
              "0                                  SERVIÇO FUNERÁRIO  ...         31/12/2020\n",
              "1                           MOBILIDADE E TRANSPORTES  ...         31/12/2020\n",
              "2  EMPRESA DE TECNOLOGIA DA INFORMAÇÃO E COMUNICAÇÃO  ...         31/12/2020\n",
              "3                     AUTARQUIA HOSPITALAR MUNICIPAL  ...         31/12/2020\n",
              "4                                            JUSTICA  ...         31/12/2020\n",
              "\n",
              "[5 rows x 13 columns]"
            ]
          },
          "metadata": {
            "tags": []
          },
          "execution_count": 10
        }
      ]
    }
  ]
}