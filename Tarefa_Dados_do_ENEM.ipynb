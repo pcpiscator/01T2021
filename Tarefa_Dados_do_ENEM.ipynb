{
  "nbformat": 4,
  "nbformat_minor": 0,
  "metadata": {
    "kernelspec": {
      "display_name": "Python 3",
      "language": "python",
      "name": "python3"
    },
    "language_info": {
      "codemirror_mode": {
        "name": "ipython",
        "version": 3
      },
      "file_extension": ".py",
      "mimetype": "text/x-python",
      "name": "python",
      "nbconvert_exporter": "python",
      "pygments_lexer": "ipython3",
      "version": "3.8.2"
    },
    "nav_menu": {},
    "toc": {
      "navigate_menu": true,
      "number_sections": true,
      "sideBar": true,
      "threshold": 6,
      "toc_cell": false,
      "toc_section_display": "block",
      "toc_window_display": false
    },
    "colab": {
      "name": " Tarefa: Dados do ENEM",
      "provenance": [],
      "collapsed_sections": [],
      "include_colab_link": true
    }
  },
  "cells": [
    {
      "cell_type": "markdown",
      "metadata": {
        "id": "view-in-github",
        "colab_type": "text"
      },
      "source": [
        "<a href=\"https://colab.research.google.com/github/pcpiscator/01T2021/blob/main/Tarefa_Dados_do_ENEM.ipynb\" target=\"_parent\"><img src=\"https://colab.research.google.com/assets/colab-badge.svg\" alt=\"Open In Colab\"/></a>"
      ]
    },
    {
      "cell_type": "markdown",
      "metadata": {
        "id": "0znIla-40Blp"
      },
      "source": [
        "# Curso de Especialização em Ciência de Dados - FURG\n",
        "## Machine Learning I - Tarefa: Dados do ENEM\n",
        "### Prof. Marcelo Malheiros\n",
        "\n",
        "---"
      ]
    },
    {
      "cell_type": "markdown",
      "metadata": {
        "id": "aj3JrbGZ0Bl1"
      },
      "source": [
        "Esta tarefa é para você **observar** e **analisar** este processo de Machine Learning.\n",
        "\n",
        "Adicionalmente, sugere-se que você também experimente com os dados e com os algoritmos, fazendo algumas das modificações indicadas em várias partes deste _notebook_.\n",
        "\n",
        "Note que não é preciso escrever mais código, apenas modificar o código já fornecido.\n",
        "\n",
        "Um questionário _online_ dentro da disciplina no AVA será disponibilizado para coletar sua análise. Este questionário será também uma das tarefas avaliativas desta disciplina."
      ]
    },
    {
      "cell_type": "markdown",
      "metadata": {
        "id": "1IzHUC6D0Bl3"
      },
      "source": [
        "# Problema\n",
        "\n",
        "O problema aqui descrito é uma **tarefa de regressão**. Com base nos dados reais das escolas do Ensino Médio avaliadas pelo ENEM em 2014 e 2015, precisamos ajustar um **modelo de previsão** para ser capaz de prever as médias das provas de Matemática e de Redação, separadamente."
      ]
    },
    {
      "cell_type": "markdown",
      "metadata": {
        "id": "nhUfEFMX0Bl4"
      },
      "source": [
        "# Inicialização\n",
        "\n",
        "Aqui importamos as bibliotecas fundamentais de Python para este _notebook_."
      ]
    },
    {
      "cell_type": "code",
      "metadata": {
        "id": "7oxaThQi0Bl6"
      },
      "source": [
        "%matplotlib inline\n",
        "import numpy as np\n",
        "import matplotlib.pyplot as plt\n",
        "import pandas as pd\n",
        "import sklearn"
      ],
      "execution_count": null,
      "outputs": []
    },
    {
      "cell_type": "code",
      "metadata": {
        "id": "ESy-zu4u0Bl8",
        "colab": {
          "base_uri": "https://localhost:8080/"
        },
        "outputId": "65d43c38-273d-4614-9315-c4ab78f0bb6d"
      },
      "source": [
        "import tensorflow as tf\n",
        "from tensorflow import keras\n",
        "\n",
        "print('tensorflow:      versão', tf.__version__)\n",
        "print('keras integrada: versão', keras.__version__)"
      ],
      "execution_count": null,
      "outputs": [
        {
          "output_type": "stream",
          "text": [
            "tensorflow:      versão 2.4.1\n",
            "keras integrada: versão 2.4.0\n"
          ],
          "name": "stdout"
        }
      ]
    },
    {
      "cell_type": "markdown",
      "metadata": {
        "id": "4P5p0SfJ0Bl_"
      },
      "source": [
        "# Conjunto de dados\n",
        "\n",
        "Este _dataset_ deve ser baixado pelo analista diretamente do site do Instituto Nacional de Estudos e Pesquisas Educacionais Anísio Teixeira (INEP):\n",
        "\n",
        "[Microdados do Exame Nacional do Ensino Médio por Escola](https://www.gov.br/inep/pt-br/acesso-a-informacao/dados-abertos/microdados/enem-por-escola)\n",
        "\n",
        "Os dados estão presentes em um único arquivo no formato CSV na pasta `DADOS`, chamado `MICRODADOS_ENEM_ESCOLA.csv`.\n",
        "\n",
        "A explicação sobre o layout dos dados e valores categóricos está dentro na pasta `DICIONÁRIO`, no arquivo `Dicionário_Microdados_Enem_Escola.xlsx`.\n",
        "\n",
        "As descrições detalhadas do conjunto de dados estão na pasta `LEIA-ME e DOCUMENTOS TÉCNICOS`.\n",
        "\n",
        "A leitura dos dados é feita a seguir, definido `;` como separador entre os campos. A opção `low_memory=False` é usada para fazer um exame mais detalhado do arquivo antes da leitura.\n",
        "\n",
        "Note que para arquivos com palavras em Português é preciso tomar cuidado com a codifição dos campos de texto. Por padrão a codificação é `encoding='utf_8'`. Porém, se os acentos aparecem errados provavelmente a codificação precisa ser `encoding='latin_1'`, como foi o caso aqui.\n",
        "\n",
        "**Não se esqueça de fazer o upload do arquivo `MICRODADOS_ENEM_ESCOLA.csv` para o Colaboratory, antes de rodar a célula a seguir.**"
      ]
    },
    {
      "cell_type": "code",
      "metadata": {
        "id": "OjAvmuDi0BmA"
      },
      "source": [
        "# leitura dos conjuntos de dados\n",
        "\n",
        "enem_original = pd.read_csv('MICRODADOS_ENEM_ESCOLA.csv', sep=';', encoding='latin_1', low_memory=False) # "
      ],
      "execution_count": null,
      "outputs": []
    },
    {
      "cell_type": "markdown",
      "metadata": {
        "id": "dWCYbM-K0BmC"
      },
      "source": [
        "O conjunto inteiro dos dados foi colocado em um `DataFrame` (da biblioteca Pandas).\n",
        "\n",
        "Vamos visualizar a seguir os primeiro cinco registros desta base:"
      ]
    },
    {
      "cell_type": "code",
      "metadata": {
        "id": "LKQ41jMC0BmC",
        "colab": {
          "base_uri": "https://localhost:8080/",
          "height": 326
        },
        "outputId": "5b138b37-01e0-4506-def4-c2ddc8f6d5be"
      },
      "source": [
        "enem_original.head(5)"
      ],
      "execution_count": null,
      "outputs": [
        {
          "output_type": "execute_result",
          "data": {
            "text/html": [
              "<div>\n",
              "<style scoped>\n",
              "    .dataframe tbody tr th:only-of-type {\n",
              "        vertical-align: middle;\n",
              "    }\n",
              "\n",
              "    .dataframe tbody tr th {\n",
              "        vertical-align: top;\n",
              "    }\n",
              "\n",
              "    .dataframe thead th {\n",
              "        text-align: right;\n",
              "    }\n",
              "</style>\n",
              "<table border=\"1\" class=\"dataframe\">\n",
              "  <thead>\n",
              "    <tr style=\"text-align: right;\">\n",
              "      <th></th>\n",
              "      <th>NU_ANO</th>\n",
              "      <th>CO_UF_ESCOLA</th>\n",
              "      <th>SG_UF_ESCOLA</th>\n",
              "      <th>CO_MUNICIPIO_ESCOLA</th>\n",
              "      <th>NO_MUNICIPIO_ESCOLA</th>\n",
              "      <th>CO_ESCOLA_EDUCACENSO</th>\n",
              "      <th>NO_ESCOLA_EDUCACENSO</th>\n",
              "      <th>TP_DEPENDENCIA_ADM_ESCOLA</th>\n",
              "      <th>TP_LOCALIZACAO_ESCOLA</th>\n",
              "      <th>NU_MATRICULAS</th>\n",
              "      <th>NU_PARTICIPANTES_NEC_ESP</th>\n",
              "      <th>NU_PARTICIPANTES</th>\n",
              "      <th>NU_TAXA_PARTICIPACAO</th>\n",
              "      <th>NU_MEDIA_CN</th>\n",
              "      <th>NU_MEDIA_CH</th>\n",
              "      <th>NU_MEDIA_LP</th>\n",
              "      <th>NU_MEDIA_MT</th>\n",
              "      <th>NU_MEDIA_RED</th>\n",
              "      <th>NU_MEDIA_OBJ</th>\n",
              "      <th>NU_MEDIA_TOT</th>\n",
              "      <th>INSE</th>\n",
              "      <th>PC_FORMACAO_DOCENTE</th>\n",
              "      <th>NU_TAXA_PERMANENCIA</th>\n",
              "      <th>NU_TAXA_APROVACAO</th>\n",
              "      <th>NU_TAXA_REPROVACAO</th>\n",
              "      <th>NU_TAXA_ABANDONO</th>\n",
              "      <th>PORTE_ESCOLA</th>\n",
              "    </tr>\n",
              "  </thead>\n",
              "  <tbody>\n",
              "    <tr>\n",
              "      <th>0</th>\n",
              "      <td>2007</td>\n",
              "      <td>11</td>\n",
              "      <td>RO</td>\n",
              "      <td>1100205</td>\n",
              "      <td>Porto Velho</td>\n",
              "      <td>11000058</td>\n",
              "      <td>CENTRO DE ENSINO CLASSE A</td>\n",
              "      <td>4</td>\n",
              "      <td>1</td>\n",
              "      <td>144</td>\n",
              "      <td>NaN</td>\n",
              "      <td>140</td>\n",
              "      <td>NaN</td>\n",
              "      <td>NaN</td>\n",
              "      <td>NaN</td>\n",
              "      <td>NaN</td>\n",
              "      <td>NaN</td>\n",
              "      <td>NaN</td>\n",
              "      <td>NaN</td>\n",
              "      <td>69.03</td>\n",
              "      <td>NaN</td>\n",
              "      <td>NaN</td>\n",
              "      <td>NaN</td>\n",
              "      <td>91.9</td>\n",
              "      <td>8.1</td>\n",
              "      <td>0.0</td>\n",
              "      <td>Maior que 90 alunos</td>\n",
              "    </tr>\n",
              "    <tr>\n",
              "      <th>1</th>\n",
              "      <td>2006</td>\n",
              "      <td>11</td>\n",
              "      <td>RO</td>\n",
              "      <td>1100205</td>\n",
              "      <td>Porto Velho</td>\n",
              "      <td>11000058</td>\n",
              "      <td>CENTRO DE ENSINO CLASSE A</td>\n",
              "      <td>4</td>\n",
              "      <td>1</td>\n",
              "      <td>184</td>\n",
              "      <td>NaN</td>\n",
              "      <td>139</td>\n",
              "      <td>NaN</td>\n",
              "      <td>NaN</td>\n",
              "      <td>NaN</td>\n",
              "      <td>NaN</td>\n",
              "      <td>NaN</td>\n",
              "      <td>NaN</td>\n",
              "      <td>NaN</td>\n",
              "      <td>57.82</td>\n",
              "      <td>NaN</td>\n",
              "      <td>NaN</td>\n",
              "      <td>NaN</td>\n",
              "      <td>NaN</td>\n",
              "      <td>NaN</td>\n",
              "      <td>NaN</td>\n",
              "      <td>Maior que 90 alunos</td>\n",
              "    </tr>\n",
              "    <tr>\n",
              "      <th>2</th>\n",
              "      <td>2005</td>\n",
              "      <td>11</td>\n",
              "      <td>RO</td>\n",
              "      <td>1100205</td>\n",
              "      <td>Porto Velho</td>\n",
              "      <td>11000058</td>\n",
              "      <td>CENTRO DE ENSINO CLASSE A</td>\n",
              "      <td>4</td>\n",
              "      <td>1</td>\n",
              "      <td>220</td>\n",
              "      <td>NaN</td>\n",
              "      <td>145</td>\n",
              "      <td>NaN</td>\n",
              "      <td>NaN</td>\n",
              "      <td>NaN</td>\n",
              "      <td>NaN</td>\n",
              "      <td>NaN</td>\n",
              "      <td>NaN</td>\n",
              "      <td>NaN</td>\n",
              "      <td>64.83</td>\n",
              "      <td>NaN</td>\n",
              "      <td>NaN</td>\n",
              "      <td>NaN</td>\n",
              "      <td>86.5</td>\n",
              "      <td>12.4</td>\n",
              "      <td>1.1</td>\n",
              "      <td>Maior que 90 alunos</td>\n",
              "    </tr>\n",
              "    <tr>\n",
              "      <th>3</th>\n",
              "      <td>2008</td>\n",
              "      <td>11</td>\n",
              "      <td>RO</td>\n",
              "      <td>1100205</td>\n",
              "      <td>Porto Velho</td>\n",
              "      <td>11000058</td>\n",
              "      <td>CENTRO DE ENSINO CLASSE A</td>\n",
              "      <td>4</td>\n",
              "      <td>1</td>\n",
              "      <td>186</td>\n",
              "      <td>NaN</td>\n",
              "      <td>171</td>\n",
              "      <td>NaN</td>\n",
              "      <td>NaN</td>\n",
              "      <td>NaN</td>\n",
              "      <td>NaN</td>\n",
              "      <td>NaN</td>\n",
              "      <td>72.16</td>\n",
              "      <td>60.02</td>\n",
              "      <td>NaN</td>\n",
              "      <td>NaN</td>\n",
              "      <td>NaN</td>\n",
              "      <td>NaN</td>\n",
              "      <td>90.3</td>\n",
              "      <td>9.7</td>\n",
              "      <td>0.0</td>\n",
              "      <td>Maior que 90 alunos</td>\n",
              "    </tr>\n",
              "    <tr>\n",
              "      <th>4</th>\n",
              "      <td>2007</td>\n",
              "      <td>11</td>\n",
              "      <td>RO</td>\n",
              "      <td>1100205</td>\n",
              "      <td>Porto Velho</td>\n",
              "      <td>11000171</td>\n",
              "      <td>CENTRO EDUCACIONAL MOJUCA</td>\n",
              "      <td>4</td>\n",
              "      <td>1</td>\n",
              "      <td>19</td>\n",
              "      <td>NaN</td>\n",
              "      <td>12</td>\n",
              "      <td>NaN</td>\n",
              "      <td>NaN</td>\n",
              "      <td>NaN</td>\n",
              "      <td>NaN</td>\n",
              "      <td>NaN</td>\n",
              "      <td>NaN</td>\n",
              "      <td>NaN</td>\n",
              "      <td>58.84</td>\n",
              "      <td>NaN</td>\n",
              "      <td>NaN</td>\n",
              "      <td>NaN</td>\n",
              "      <td>74.2</td>\n",
              "      <td>21.0</td>\n",
              "      <td>4.8</td>\n",
              "      <td>De 1 a 30 alunos</td>\n",
              "    </tr>\n",
              "  </tbody>\n",
              "</table>\n",
              "</div>"
            ],
            "text/plain": [
              "   NU_ANO  CO_UF_ESCOLA  ... NU_TAXA_ABANDONO         PORTE_ESCOLA\n",
              "0    2007            11  ...              0.0  Maior que 90 alunos\n",
              "1    2006            11  ...              NaN  Maior que 90 alunos\n",
              "2    2005            11  ...              1.1  Maior que 90 alunos\n",
              "3    2008            11  ...              0.0  Maior que 90 alunos\n",
              "4    2007            11  ...              4.8     De 1 a 30 alunos\n",
              "\n",
              "[5 rows x 27 columns]"
            ]
          },
          "metadata": {
            "tags": []
          },
          "execution_count": 66
        }
      ]
    },
    {
      "cell_type": "markdown",
      "metadata": {
        "id": "BbVjvB9j0BmE"
      },
      "source": [
        "Não vamos detalhar cada campo, pois os detalhes estão disponível no arquivo de dicionário.\n",
        "\n",
        "O importante aqui é notar que os dados abrangem diversos anos, estando **empilhados** nesta base. Então uma mesma escola, representada pelo código `CO_ESCOLA_EDUCACENSO` aparece em diversas linhas, uma para cada ano em que participou.\n",
        "\n",
        "Então, por enquanto, usaremos o índice numérico automaticamente criado pela biblioteca Pandas (valores em negrito, à esquerda)."
      ]
    },
    {
      "cell_type": "markdown",
      "metadata": {
        "id": "83VF5EJC0BmG"
      },
      "source": [
        "# Análise dos dados\n",
        "\n",
        "Aqui vamos computar algumas estatísticas sobre a base original de dados. Estas estatísticas são importantes tanto para perceber quais operações de preprocessamento serão necessárias como para escolher quais _features_ vamos usar no treinamento.\n",
        "\n",
        "Uma função muito útil para isso é a `.info()`, que mostra o tipo de dados e o número de valores presentes em cada coluna:"
      ]
    },
    {
      "cell_type": "code",
      "metadata": {
        "id": "pSg1ZGZY0BmG",
        "colab": {
          "base_uri": "https://localhost:8080/"
        },
        "outputId": "dc6a38f7-516e-4e55-88ac-b5b9088a4bfc"
      },
      "source": [
        "enem_original.info()"
      ],
      "execution_count": null,
      "outputs": [
        {
          "output_type": "stream",
          "text": [
            "<class 'pandas.core.frame.DataFrame'>\n",
            "RangeIndex: 172305 entries, 0 to 172304\n",
            "Data columns (total 27 columns):\n",
            " #   Column                     Non-Null Count   Dtype  \n",
            "---  ------                     --------------   -----  \n",
            " 0   NU_ANO                     172305 non-null  int64  \n",
            " 1   CO_UF_ESCOLA               172305 non-null  int64  \n",
            " 2   SG_UF_ESCOLA               172305 non-null  object \n",
            " 3   CO_MUNICIPIO_ESCOLA        172305 non-null  int64  \n",
            " 4   NO_MUNICIPIO_ESCOLA        172305 non-null  object \n",
            " 5   CO_ESCOLA_EDUCACENSO       172305 non-null  int64  \n",
            " 6   NO_ESCOLA_EDUCACENSO       172305 non-null  object \n",
            " 7   TP_DEPENDENCIA_ADM_ESCOLA  172305 non-null  int64  \n",
            " 8   TP_LOCALIZACAO_ESCOLA      172305 non-null  int64  \n",
            " 9   NU_MATRICULAS              172305 non-null  int64  \n",
            " 10  NU_PARTICIPANTES_NEC_ESP   45355 non-null   float64\n",
            " 11  NU_PARTICIPANTES           172305 non-null  int64  \n",
            " 12  NU_TAXA_PARTICIPACAO       104687 non-null  float64\n",
            " 13  NU_MEDIA_CN                104687 non-null  float64\n",
            " 14  NU_MEDIA_CH                104687 non-null  float64\n",
            " 15  NU_MEDIA_LP                104687 non-null  float64\n",
            " 16  NU_MEDIA_MT                104687 non-null  float64\n",
            " 17  NU_MEDIA_RED               123451 non-null  float64\n",
            " 18  NU_MEDIA_OBJ               19144 non-null   float64\n",
            " 19  NU_MEDIA_TOT               48474 non-null   float64\n",
            " 20  INSE                       15597 non-null   object \n",
            " 21  PC_FORMACAO_DOCENTE        45320 non-null   float64\n",
            " 22  NU_TAXA_PERMANENCIA        30875 non-null   float64\n",
            " 23  NU_TAXA_APROVACAO          155226 non-null  float64\n",
            " 24  NU_TAXA_REPROVACAO         155226 non-null  float64\n",
            " 25  NU_TAXA_ABANDONO           155226 non-null  float64\n",
            " 26  PORTE_ESCOLA               172305 non-null  object \n",
            "dtypes: float64(14), int64(8), object(5)\n",
            "memory usage: 35.5+ MB\n"
          ],
          "name": "stdout"
        }
      ]
    },
    {
      "cell_type": "markdown",
      "metadata": {
        "id": "uF9byJ8j0BmH"
      },
      "source": [
        "Para este conjunto há um total de 172305 registros. Mas o número de escolas é muito menor, uma vez que esta base abrange dados de 2005 até 2015.\n",
        "\n",
        "Além desta séries históricas estarem empilhadas, outro desafio desta base é que alguns atributos so valem para determinados anos, como `NU_MEDIA_OBJ` e `NU_MEDIA_TOT`. Isso implica em uma grande quantidade de valores faltantes, representados como `NaN` na visualização acima.\n",
        "\n",
        "Vamos então iniciar removendo colunas que não são de interesse. Iremos descartar os atributos (colunas) sobre as unidade federativa e municípios das escolas, assim como todas as médias de provas que não sejam Matemática ou Redação."
      ]
    },
    {
      "cell_type": "code",
      "metadata": {
        "id": "_4-9f3550BmI",
        "colab": {
          "base_uri": "https://localhost:8080/"
        },
        "outputId": "665565f1-005d-4e4d-e1ac-a2f9a39d9ecc"
      },
      "source": [
        "enem_original.drop(columns=['CO_UF_ESCOLA', 'SG_UF_ESCOLA', 'CO_MUNICIPIO_ESCOLA', 'NO_MUNICIPIO_ESCOLA', \n",
        "                   'NU_MEDIA_CN', 'NU_MEDIA_CH', 'NU_MEDIA_LP', 'NU_MEDIA_OBJ', 'NU_MEDIA_TOT'], inplace=True)\n",
        "enem_original.shape"
      ],
      "execution_count": null,
      "outputs": [
        {
          "output_type": "execute_result",
          "data": {
            "text/plain": [
              "(172305, 18)"
            ]
          },
          "metadata": {
            "tags": []
          },
          "execution_count": 68
        }
      ]
    },
    {
      "cell_type": "markdown",
      "metadata": {
        "id": "m8npzDUB0BmJ"
      },
      "source": [
        "Note que fomos de 27 atributos para 18 agora.\n",
        "\n",
        "Podemos também olhar estatísticas sobre os valores das colunas numéricas usando `.describe()':"
      ]
    },
    {
      "cell_type": "code",
      "metadata": {
        "id": "cJYDqy8s0BmJ",
        "colab": {
          "base_uri": "https://localhost:8080/",
          "height": 317
        },
        "outputId": "78a766b8-9267-4ea6-c9ab-75353eec2784"
      },
      "source": [
        "enem_original.describe()"
      ],
      "execution_count": null,
      "outputs": [
        {
          "output_type": "execute_result",
          "data": {
            "text/html": [
              "<div>\n",
              "<style scoped>\n",
              "    .dataframe tbody tr th:only-of-type {\n",
              "        vertical-align: middle;\n",
              "    }\n",
              "\n",
              "    .dataframe tbody tr th {\n",
              "        vertical-align: top;\n",
              "    }\n",
              "\n",
              "    .dataframe thead th {\n",
              "        text-align: right;\n",
              "    }\n",
              "</style>\n",
              "<table border=\"1\" class=\"dataframe\">\n",
              "  <thead>\n",
              "    <tr style=\"text-align: right;\">\n",
              "      <th></th>\n",
              "      <th>NU_ANO</th>\n",
              "      <th>CO_ESCOLA_EDUCACENSO</th>\n",
              "      <th>TP_DEPENDENCIA_ADM_ESCOLA</th>\n",
              "      <th>TP_LOCALIZACAO_ESCOLA</th>\n",
              "      <th>NU_MATRICULAS</th>\n",
              "      <th>NU_PARTICIPANTES_NEC_ESP</th>\n",
              "      <th>NU_PARTICIPANTES</th>\n",
              "      <th>NU_TAXA_PARTICIPACAO</th>\n",
              "      <th>NU_MEDIA_MT</th>\n",
              "      <th>NU_MEDIA_RED</th>\n",
              "      <th>PC_FORMACAO_DOCENTE</th>\n",
              "      <th>NU_TAXA_PERMANENCIA</th>\n",
              "      <th>NU_TAXA_APROVACAO</th>\n",
              "      <th>NU_TAXA_REPROVACAO</th>\n",
              "      <th>NU_TAXA_ABANDONO</th>\n",
              "    </tr>\n",
              "  </thead>\n",
              "  <tbody>\n",
              "    <tr>\n",
              "      <th>count</th>\n",
              "      <td>172305.000000</td>\n",
              "      <td>1.723050e+05</td>\n",
              "      <td>172305.000000</td>\n",
              "      <td>172305.000000</td>\n",
              "      <td>172305.000000</td>\n",
              "      <td>45355.000000</td>\n",
              "      <td>172305.000000</td>\n",
              "      <td>104687.000000</td>\n",
              "      <td>104687.000000</td>\n",
              "      <td>123451.000000</td>\n",
              "      <td>45320.000000</td>\n",
              "      <td>30875.000000</td>\n",
              "      <td>155226.000000</td>\n",
              "      <td>155226.000000</td>\n",
              "      <td>155226.000000</td>\n",
              "    </tr>\n",
              "    <tr>\n",
              "      <th>mean</th>\n",
              "      <td>2009.805659</td>\n",
              "      <td>3.324906e+07</td>\n",
              "      <td>2.624201</td>\n",
              "      <td>1.034642</td>\n",
              "      <td>106.115609</td>\n",
              "      <td>0.347746</td>\n",
              "      <td>55.114878</td>\n",
              "      <td>64.443924</td>\n",
              "      <td>512.976072</td>\n",
              "      <td>479.769969</td>\n",
              "      <td>60.354921</td>\n",
              "      <td>77.009807</td>\n",
              "      <td>82.698234</td>\n",
              "      <td>9.927615</td>\n",
              "      <td>7.374151</td>\n",
              "    </tr>\n",
              "    <tr>\n",
              "      <th>std</th>\n",
              "      <td>3.154137</td>\n",
              "      <td>9.068243e+06</td>\n",
              "      <td>0.937417</td>\n",
              "      <td>0.182872</td>\n",
              "      <td>104.190568</td>\n",
              "      <td>1.019838</td>\n",
              "      <td>56.411082</td>\n",
              "      <td>23.221287</td>\n",
              "      <td>73.124845</td>\n",
              "      <td>194.622638</td>\n",
              "      <td>17.114929</td>\n",
              "      <td>37.248668</td>\n",
              "      <td>13.280532</td>\n",
              "      <td>8.407889</td>\n",
              "      <td>9.049976</td>\n",
              "    </tr>\n",
              "    <tr>\n",
              "      <th>min</th>\n",
              "      <td>2005.000000</td>\n",
              "      <td>1.100006e+07</td>\n",
              "      <td>1.000000</td>\n",
              "      <td>1.000000</td>\n",
              "      <td>0.000000</td>\n",
              "      <td>0.000000</td>\n",
              "      <td>10.000000</td>\n",
              "      <td>2.000000</td>\n",
              "      <td>357.980000</td>\n",
              "      <td>29.380000</td>\n",
              "      <td>0.000000</td>\n",
              "      <td>0.000000</td>\n",
              "      <td>0.000000</td>\n",
              "      <td>0.000000</td>\n",
              "      <td>0.000000</td>\n",
              "    </tr>\n",
              "    <tr>\n",
              "      <th>25%</th>\n",
              "      <td>2007.000000</td>\n",
              "      <td>2.802456e+07</td>\n",
              "      <td>2.000000</td>\n",
              "      <td>1.000000</td>\n",
              "      <td>37.000000</td>\n",
              "      <td>0.000000</td>\n",
              "      <td>20.000000</td>\n",
              "      <td>51.350000</td>\n",
              "      <td>458.560000</td>\n",
              "      <td>462.640000</td>\n",
              "      <td>49.800000</td>\n",
              "      <td>69.685000</td>\n",
              "      <td>73.900000</td>\n",
              "      <td>3.600000</td>\n",
              "      <td>0.000000</td>\n",
              "    </tr>\n",
              "    <tr>\n",
              "      <th>50%</th>\n",
              "      <td>2010.000000</td>\n",
              "      <td>3.310166e+07</td>\n",
              "      <td>2.000000</td>\n",
              "      <td>1.000000</td>\n",
              "      <td>73.000000</td>\n",
              "      <td>0.000000</td>\n",
              "      <td>36.000000</td>\n",
              "      <td>65.910000</td>\n",
              "      <td>494.300000</td>\n",
              "      <td>540.250000</td>\n",
              "      <td>61.800000</td>\n",
              "      <td>80.530000</td>\n",
              "      <td>85.000000</td>\n",
              "      <td>7.900000</td>\n",
              "      <td>3.800000</td>\n",
              "    </tr>\n",
              "    <tr>\n",
              "      <th>75%</th>\n",
              "      <td>2013.000000</td>\n",
              "      <td>3.592411e+07</td>\n",
              "      <td>4.000000</td>\n",
              "      <td>1.000000</td>\n",
              "      <td>139.000000</td>\n",
              "      <td>0.000000</td>\n",
              "      <td>68.000000</td>\n",
              "      <td>83.720000</td>\n",
              "      <td>554.610000</td>\n",
              "      <td>598.500000</td>\n",
              "      <td>72.900000</td>\n",
              "      <td>88.890000</td>\n",
              "      <td>93.900000</td>\n",
              "      <td>14.100000</td>\n",
              "      <td>12.000000</td>\n",
              "    </tr>\n",
              "    <tr>\n",
              "      <th>max</th>\n",
              "      <td>2015.000000</td>\n",
              "      <td>5.308200e+07</td>\n",
              "      <td>4.000000</td>\n",
              "      <td>2.000000</td>\n",
              "      <td>2572.000000</td>\n",
              "      <td>29.000000</td>\n",
              "      <td>1190.000000</td>\n",
              "      <td>100.000000</td>\n",
              "      <td>873.650000</td>\n",
              "      <td>930.000000</td>\n",
              "      <td>100.000000</td>\n",
              "      <td>5822.000000</td>\n",
              "      <td>100.000000</td>\n",
              "      <td>100.000000</td>\n",
              "      <td>100.000000</td>\n",
              "    </tr>\n",
              "  </tbody>\n",
              "</table>\n",
              "</div>"
            ],
            "text/plain": [
              "              NU_ANO  ...  NU_TAXA_ABANDONO\n",
              "count  172305.000000  ...     155226.000000\n",
              "mean     2009.805659  ...          7.374151\n",
              "std         3.154137  ...          9.049976\n",
              "min      2005.000000  ...          0.000000\n",
              "25%      2007.000000  ...          0.000000\n",
              "50%      2010.000000  ...          3.800000\n",
              "75%      2013.000000  ...         12.000000\n",
              "max      2015.000000  ...        100.000000\n",
              "\n",
              "[8 rows x 15 columns]"
            ]
          },
          "metadata": {
            "tags": []
          },
          "execution_count": 69
        }
      ]
    },
    {
      "cell_type": "markdown",
      "metadata": {
        "id": "AzSGuD_50BmL"
      },
      "source": [
        "Vale a pena também analisar as colunas que contém poucos valores, chamadas de categóricas, para identificar as classes presentes. Faremos isso chamando a função `.value_counts()` em cada uma."
      ]
    },
    {
      "cell_type": "code",
      "metadata": {
        "id": "rBKtubQ_0BmL",
        "colab": {
          "base_uri": "https://localhost:8080/"
        },
        "outputId": "0c8d2f9b-c5aa-4c78-ab09-a12fe50e14e9"
      },
      "source": [
        "enem_original['NU_ANO'].value_counts().sort_index()"
      ],
      "execution_count": null,
      "outputs": [
        {
          "output_type": "execute_result",
          "data": {
            "text/plain": [
              "2005    16052\n",
              "2006    15652\n",
              "2007    16770\n",
              "2008    19144\n",
              "2009    18042\n",
              "2010    19691\n",
              "2011    10077\n",
              "2012    11522\n",
              "2013    14117\n",
              "2014    15640\n",
              "2015    15598\n",
              "Name: NU_ANO, dtype: int64"
            ]
          },
          "metadata": {
            "tags": []
          },
          "execution_count": 70
        }
      ]
    },
    {
      "cell_type": "code",
      "metadata": {
        "id": "kJYL30qN0BmL",
        "colab": {
          "base_uri": "https://localhost:8080/"
        },
        "outputId": "c905c954-aafd-4e1f-9366-1da848a01627"
      },
      "source": [
        "# esta coluna foi lida como numérica, mas por ser um valor categórico vamos converter para string\n",
        "enem_original['TP_DEPENDENCIA_ADM_ESCOLA'] = enem_original['TP_DEPENDENCIA_ADM_ESCOLA'].astype('str')\n",
        "enem_original['TP_DEPENDENCIA_ADM_ESCOLA'].value_counts()"
      ],
      "execution_count": null,
      "outputs": [
        {
          "output_type": "execute_result",
          "data": {
            "text/plain": [
              "2    114546\n",
              "4     53596\n",
              "3      2262\n",
              "1      1901\n",
              "Name: TP_DEPENDENCIA_ADM_ESCOLA, dtype: int64"
            ]
          },
          "metadata": {
            "tags": []
          },
          "execution_count": 71
        }
      ]
    },
    {
      "cell_type": "code",
      "metadata": {
        "id": "N6JTipsV0BmL",
        "colab": {
          "base_uri": "https://localhost:8080/"
        },
        "outputId": "ca8033f5-2601-49e5-a790-c9ad5f8b7293"
      },
      "source": [
        "# esta coluna foi lida como numérica, mas por ser um valor categórico vamos converter para string\n",
        "enem_original['TP_LOCALIZACAO_ESCOLA'] = enem_original['TP_LOCALIZACAO_ESCOLA'].astype('str')\n",
        "enem_original['TP_LOCALIZACAO_ESCOLA'].value_counts()"
      ],
      "execution_count": null,
      "outputs": [
        {
          "output_type": "execute_result",
          "data": {
            "text/plain": [
              "1    166336\n",
              "2      5969\n",
              "Name: TP_LOCALIZACAO_ESCOLA, dtype: int64"
            ]
          },
          "metadata": {
            "tags": []
          },
          "execution_count": 72
        }
      ]
    },
    {
      "cell_type": "code",
      "metadata": {
        "id": "8hkITkPw0BmM",
        "colab": {
          "base_uri": "https://localhost:8080/"
        },
        "outputId": "79271788-5cd7-4659-82c5-065f37cd273d"
      },
      "source": [
        "enem_original['INSE'].value_counts()"
      ],
      "execution_count": null,
      "outputs": [
        {
          "output_type": "execute_result",
          "data": {
            "text/plain": [
              "Grupo 3    4745\n",
              "Grupo 4    3811\n",
              "Grupo 5    3258\n",
              "Grupo 2    1390\n",
              "Grupo 6    1386\n",
              "Grupo 1    1007\n",
              "Name: INSE, dtype: int64"
            ]
          },
          "metadata": {
            "tags": []
          },
          "execution_count": 73
        }
      ]
    },
    {
      "cell_type": "code",
      "metadata": {
        "id": "rcf32scT0BmN",
        "colab": {
          "base_uri": "https://localhost:8080/"
        },
        "outputId": "998784a2-5211-45fd-da32-d815a8d0c6d9"
      },
      "source": [
        "enem_original['PORTE_ESCOLA'].value_counts()"
      ],
      "execution_count": null,
      "outputs": [
        {
          "output_type": "execute_result",
          "data": {
            "text/plain": [
              "Maior que 90 alunos    71202\n",
              "De 31 a 60 alunos      40449\n",
              "De 1 a 30 alunos       32768\n",
              "De 61 a 90 alunos      27886\n",
              "Name: PORTE_ESCOLA, dtype: int64"
            ]
          },
          "metadata": {
            "tags": []
          },
          "execution_count": 74
        }
      ]
    },
    {
      "cell_type": "markdown",
      "metadata": {
        "id": "JaQ0LBAJ0BmN"
      },
      "source": [
        "Queremos prever os atributos NU_MEDIA_MT (média da prova de Matemática) e NU_MEDIA_RED (média da prova de redação) para o último disponível, 2015. A própria escala das provas mudou, e de 2009 a 2015 vai de 0 a 1000. \n",
        "\n",
        "Como os atributos que desejamos prever são numéricos, temos uma tarefa de **regressão**. Isso afeta diretamente quais algoritmos podemos usar para fazer o treino, posteriormente. E também a arquitetura de rede neural a ser utilizada.\n",
        "\n",
        "Então, como os valores a serem previstos são numericamente grandes, vamos utilizar como medida de desempenho o **erro absoluto médio** (_mean absolute error_, ou MAE). Isso é importante porque uma medida como RMSE é excessivamente sensível a variações maiores, e afetaria o próprio processo de treinamento."
      ]
    },
    {
      "cell_type": "markdown",
      "metadata": {
        "id": "QhBFykhn0BmO"
      },
      "source": [
        "# Reorganização dos dados\n",
        "\n",
        "Aqui vale a pena filtrar os dados, retendo apenas os registros para os anos de 2014 e 2015.\n",
        "\n",
        "Para isso vamos fazer primeiro uma operação de separação dos dados, com um `DataFrame` para 2014 e outro para 2015, apenas:"
      ]
    },
    {
      "cell_type": "code",
      "metadata": {
        "id": "FIRO0nh50BmP",
        "colab": {
          "base_uri": "https://localhost:8080/"
        },
        "outputId": "8c602bdd-a76e-4785-b21d-5652f951fee6"
      },
      "source": [
        "enem_2014 = enem_original[enem_original['NU_ANO'] == 2014]\n",
        "print(enem_2014.shape)\n",
        "\n",
        "enem_2015 = enem_original[enem_original['NU_ANO'] == 2015]\n",
        "print(enem_2015.shape)        "
      ],
      "execution_count": null,
      "outputs": [
        {
          "output_type": "stream",
          "text": [
            "(15640, 18)\n",
            "(15598, 18)\n"
          ],
          "name": "stdout"
        }
      ]
    },
    {
      "cell_type": "markdown",
      "metadata": {
        "id": "K_170gqm0BmP"
      },
      "source": [
        "Precisamos então fazer uma operação de fusão (_merge_) entre as duas tabelas.\n",
        "\n",
        "Isso é necessário para ter em uma única linha os atributos de uma mesma escola. Como teremos atributos de 2014 e 2015, podemos adicionar um prefixo para identificá-los na tabela resultante.\n",
        "\n",
        "Outra característica importante desta fusão é que a amarração se dará pelo código único da escola, `CO_ESCOLA_EDUCACENSO`. Isso fará que apenas escolas que tenham participado das provas de 2014 e de 2015 estejam presentes na tabela resultante."
      ]
    },
    {
      "cell_type": "code",
      "metadata": {
        "id": "86pSn-V-0BmQ",
        "colab": {
          "base_uri": "https://localhost:8080/"
        },
        "outputId": "df820e10-c55e-46e3-d331-92c65e084cf0"
      },
      "source": [
        "enem = pd.merge(left=enem_2014, right=enem_2015, on='CO_ESCOLA_EDUCACENSO', suffixes=['_2014', '_2015'])\n",
        "enem.set_index('CO_ESCOLA_EDUCACENSO', inplace=True)\n",
        "enem.shape"
      ],
      "execution_count": null,
      "outputs": [
        {
          "output_type": "execute_result",
          "data": {
            "text/plain": [
              "(13121, 34)"
            ]
          },
          "metadata": {
            "tags": []
          },
          "execution_count": 76
        }
      ]
    },
    {
      "cell_type": "code",
      "metadata": {
        "id": "Rpjm1SzB0BmQ",
        "colab": {
          "base_uri": "https://localhost:8080/",
          "height": 340
        },
        "outputId": "d066ef62-d430-4685-c023-3f9353feba66"
      },
      "source": [
        "enem.head(5)"
      ],
      "execution_count": null,
      "outputs": [
        {
          "output_type": "execute_result",
          "data": {
            "text/html": [
              "<div>\n",
              "<style scoped>\n",
              "    .dataframe tbody tr th:only-of-type {\n",
              "        vertical-align: middle;\n",
              "    }\n",
              "\n",
              "    .dataframe tbody tr th {\n",
              "        vertical-align: top;\n",
              "    }\n",
              "\n",
              "    .dataframe thead th {\n",
              "        text-align: right;\n",
              "    }\n",
              "</style>\n",
              "<table border=\"1\" class=\"dataframe\">\n",
              "  <thead>\n",
              "    <tr style=\"text-align: right;\">\n",
              "      <th></th>\n",
              "      <th>NU_MEDIA_MT_2014</th>\n",
              "      <th>NU_MEDIA_RED_2014</th>\n",
              "      <th>NO_ESCOLA_EDUCACENSO_2015</th>\n",
              "      <th>TP_DEPENDENCIA_ADM_ESCOLA_2015</th>\n",
              "      <th>TP_LOCALIZACAO_ESCOLA_2015</th>\n",
              "      <th>NU_MATRICULAS_2015</th>\n",
              "      <th>NU_PARTICIPANTES_NEC_ESP_2015</th>\n",
              "      <th>NU_PARTICIPANTES_2015</th>\n",
              "      <th>NU_TAXA_PARTICIPACAO_2015</th>\n",
              "      <th>NU_MEDIA_MT_2015</th>\n",
              "      <th>NU_MEDIA_RED_2015</th>\n",
              "      <th>INSE_2015</th>\n",
              "      <th>PC_FORMACAO_DOCENTE_2015</th>\n",
              "      <th>NU_TAXA_PERMANENCIA_2015</th>\n",
              "      <th>NU_TAXA_APROVACAO_2015</th>\n",
              "      <th>NU_TAXA_REPROVACAO_2015</th>\n",
              "      <th>NU_TAXA_ABANDONO_2015</th>\n",
              "      <th>PORTE_ESCOLA_2015</th>\n",
              "    </tr>\n",
              "    <tr>\n",
              "      <th>CO_ESCOLA_EDUCACENSO</th>\n",
              "      <th></th>\n",
              "      <th></th>\n",
              "      <th></th>\n",
              "      <th></th>\n",
              "      <th></th>\n",
              "      <th></th>\n",
              "      <th></th>\n",
              "      <th></th>\n",
              "      <th></th>\n",
              "      <th></th>\n",
              "      <th></th>\n",
              "      <th></th>\n",
              "      <th></th>\n",
              "      <th></th>\n",
              "      <th></th>\n",
              "      <th></th>\n",
              "      <th></th>\n",
              "      <th></th>\n",
              "    </tr>\n",
              "  </thead>\n",
              "  <tbody>\n",
              "    <tr>\n",
              "      <th>11000058</th>\n",
              "      <td>629.14</td>\n",
              "      <td>718.53</td>\n",
              "      <td>CENTRO DE ENSINO CLASSE A</td>\n",
              "      <td>4</td>\n",
              "      <td>1</td>\n",
              "      <td>137</td>\n",
              "      <td>0.0</td>\n",
              "      <td>130</td>\n",
              "      <td>94.89</td>\n",
              "      <td>627.66</td>\n",
              "      <td>732.00</td>\n",
              "      <td>Grupo 6</td>\n",
              "      <td>67.5</td>\n",
              "      <td>78.46</td>\n",
              "      <td>96.1</td>\n",
              "      <td>3.9</td>\n",
              "      <td>0.0</td>\n",
              "      <td>Maior que 90 alunos</td>\n",
              "    </tr>\n",
              "    <tr>\n",
              "      <th>11000171</th>\n",
              "      <td>485.38</td>\n",
              "      <td>469.00</td>\n",
              "      <td>CENTRO EDUCACIONAL MOJUCA</td>\n",
              "      <td>4</td>\n",
              "      <td>1</td>\n",
              "      <td>20</td>\n",
              "      <td>1.0</td>\n",
              "      <td>17</td>\n",
              "      <td>85.00</td>\n",
              "      <td>459.72</td>\n",
              "      <td>507.82</td>\n",
              "      <td>Grupo 4</td>\n",
              "      <td>58.3</td>\n",
              "      <td>70.59</td>\n",
              "      <td>94.6</td>\n",
              "      <td>5.4</td>\n",
              "      <td>0.0</td>\n",
              "      <td>De 1 a 30 alunos</td>\n",
              "    </tr>\n",
              "    <tr>\n",
              "      <th>11000198</th>\n",
              "      <td>552.83</td>\n",
              "      <td>591.30</td>\n",
              "      <td>CENTRO EDUCACIONAL OBJETIVO</td>\n",
              "      <td>4</td>\n",
              "      <td>1</td>\n",
              "      <td>39</td>\n",
              "      <td>0.0</td>\n",
              "      <td>37</td>\n",
              "      <td>94.87</td>\n",
              "      <td>507.22</td>\n",
              "      <td>652.43</td>\n",
              "      <td>Grupo 5</td>\n",
              "      <td>67.7</td>\n",
              "      <td>40.54</td>\n",
              "      <td>90.1</td>\n",
              "      <td>9.9</td>\n",
              "      <td>0.0</td>\n",
              "      <td>De 31 a 60 alunos</td>\n",
              "    </tr>\n",
              "    <tr>\n",
              "      <th>11000244</th>\n",
              "      <td>528.35</td>\n",
              "      <td>593.78</td>\n",
              "      <td>COLEGIO DOM BOSCO</td>\n",
              "      <td>4</td>\n",
              "      <td>1</td>\n",
              "      <td>55</td>\n",
              "      <td>1.0</td>\n",
              "      <td>49</td>\n",
              "      <td>89.09</td>\n",
              "      <td>529.87</td>\n",
              "      <td>591.84</td>\n",
              "      <td>Grupo 5</td>\n",
              "      <td>56.0</td>\n",
              "      <td>81.63</td>\n",
              "      <td>88.7</td>\n",
              "      <td>10.5</td>\n",
              "      <td>0.8</td>\n",
              "      <td>De 31 a 60 alunos</td>\n",
              "    </tr>\n",
              "    <tr>\n",
              "      <th>11000252</th>\n",
              "      <td>536.57</td>\n",
              "      <td>540.00</td>\n",
              "      <td>CENTRO EDUCACIONAL OBJETIVO - UNIDADE JARDIM A...</td>\n",
              "      <td>4</td>\n",
              "      <td>1</td>\n",
              "      <td>26</td>\n",
              "      <td>0.0</td>\n",
              "      <td>23</td>\n",
              "      <td>88.46</td>\n",
              "      <td>528.93</td>\n",
              "      <td>583.48</td>\n",
              "      <td>Grupo 5</td>\n",
              "      <td>72.7</td>\n",
              "      <td>52.17</td>\n",
              "      <td>84.5</td>\n",
              "      <td>13.1</td>\n",
              "      <td>2.4</td>\n",
              "      <td>De 1 a 30 alunos</td>\n",
              "    </tr>\n",
              "  </tbody>\n",
              "</table>\n",
              "</div>"
            ],
            "text/plain": [
              "                      NU_MEDIA_MT_2014  ...    PORTE_ESCOLA_2015\n",
              "CO_ESCOLA_EDUCACENSO                    ...                     \n",
              "11000058                        629.14  ...  Maior que 90 alunos\n",
              "11000171                        485.38  ...     De 1 a 30 alunos\n",
              "11000198                        552.83  ...    De 31 a 60 alunos\n",
              "11000244                        528.35  ...    De 31 a 60 alunos\n",
              "11000252                        536.57  ...     De 1 a 30 alunos\n",
              "\n",
              "[5 rows x 18 columns]"
            ]
          },
          "metadata": {
            "tags": []
          },
          "execution_count": 80
        }
      ]
    },
    {
      "cell_type": "markdown",
      "metadata": {
        "id": "3Uhp5tPg0BmR"
      },
      "source": [
        "Aqui vamos retirar mais algumas colunas, deixando apenas as notas das provas de Matemática e Redação de 2014, e todos os dados restantes de 2015.\n",
        "\n",
        "**Ajuste:** Pode ser interessante analisar futuramente se a manutenção de algum desses dados históricos também ajuda na melhoria do modelo. Para isso basta repetir a operação de _merge_ acima e então retirar do comando _drop_ abaixo o nome das colunas a serem mantidas. Estas novas colunas deverão ser selecionadas explicitamente na etapa posterior de pré-processamento dos dados."
      ]
    },
    {
      "cell_type": "code",
      "metadata": {
        "id": "ZaK4ytxv0BmR",
        "colab": {
          "base_uri": "https://localhost:8080/",
          "height": 391
        },
        "outputId": "fd273280-2cc7-4ea6-fa4b-7b4286d83c8b"
      },
      "source": [
        "enem.drop(columns=['NU_ANO_2014', 'NU_ANO_2015', 'NO_ESCOLA_EDUCACENSO_2014',\n",
        "                   'TP_DEPENDENCIA_ADM_ESCOLA_2014', 'TP_LOCALIZACAO_ESCOLA_2014', 'NU_MATRICULAS_2014', \n",
        "                   'NU_PARTICIPANTES_NEC_ESP_2014', 'NU_PARTICIPANTES_2014', 'NU_TAXA_PARTICIPACAO_2014',\n",
        "                   'INSE_2014', 'PC_FORMACAO_DOCENTE_2014', 'NU_TAXA_PERMANENCIA_2014', 'NU_TAXA_APROVACAO_2014',\n",
        "                   'NU_TAXA_REPROVACAO_2014', 'NU_TAXA_ABANDONO_2014', 'PORTE_ESCOLA_2014'], inplace=True)\n",
        "enem.shape"
      ],
      "execution_count": null,
      "outputs": [
        {
          "output_type": "error",
          "ename": "KeyError",
          "evalue": "ignored",
          "traceback": [
            "\u001b[0;31m---------------------------------------------------------------------------\u001b[0m",
            "\u001b[0;31mKeyError\u001b[0m                                  Traceback (most recent call last)",
            "\u001b[0;32m<ipython-input-82-7dd03331f1b4>\u001b[0m in \u001b[0;36m<module>\u001b[0;34m()\u001b[0m\n\u001b[1;32m      3\u001b[0m                    \u001b[0;34m'NU_PARTICIPANTES_NEC_ESP_2014'\u001b[0m\u001b[0;34m,\u001b[0m \u001b[0;34m'NU_PARTICIPANTES_2014'\u001b[0m\u001b[0;34m,\u001b[0m \u001b[0;34m'NU_TAXA_PARTICIPACAO_2014'\u001b[0m\u001b[0;34m,\u001b[0m\u001b[0;34m\u001b[0m\u001b[0;34m\u001b[0m\u001b[0m\n\u001b[1;32m      4\u001b[0m                    \u001b[0;34m'INSE_2014'\u001b[0m\u001b[0;34m,\u001b[0m \u001b[0;34m'PC_FORMACAO_DOCENTE_2014'\u001b[0m\u001b[0;34m,\u001b[0m \u001b[0;34m'NU_TAXA_PERMANENCIA_2014'\u001b[0m\u001b[0;34m,\u001b[0m \u001b[0;34m'NU_TAXA_APROVACAO_2014'\u001b[0m\u001b[0;34m,\u001b[0m\u001b[0;34m\u001b[0m\u001b[0;34m\u001b[0m\u001b[0m\n\u001b[0;32m----> 5\u001b[0;31m                    'NU_TAXA_REPROVACAO_2014', 'NU_TAXA_ABANDONO_2014', 'PORTE_ESCOLA_2014'], inplace=True)\n\u001b[0m\u001b[1;32m      6\u001b[0m \u001b[0menem\u001b[0m\u001b[0;34m.\u001b[0m\u001b[0mshape\u001b[0m\u001b[0;34m\u001b[0m\u001b[0;34m\u001b[0m\u001b[0m\n",
            "\u001b[0;32m/usr/local/lib/python3.7/dist-packages/pandas/core/frame.py\u001b[0m in \u001b[0;36mdrop\u001b[0;34m(self, labels, axis, index, columns, level, inplace, errors)\u001b[0m\n\u001b[1;32m   4172\u001b[0m             \u001b[0mlevel\u001b[0m\u001b[0;34m=\u001b[0m\u001b[0mlevel\u001b[0m\u001b[0;34m,\u001b[0m\u001b[0;34m\u001b[0m\u001b[0;34m\u001b[0m\u001b[0m\n\u001b[1;32m   4173\u001b[0m             \u001b[0minplace\u001b[0m\u001b[0;34m=\u001b[0m\u001b[0minplace\u001b[0m\u001b[0;34m,\u001b[0m\u001b[0;34m\u001b[0m\u001b[0;34m\u001b[0m\u001b[0m\n\u001b[0;32m-> 4174\u001b[0;31m             \u001b[0merrors\u001b[0m\u001b[0;34m=\u001b[0m\u001b[0merrors\u001b[0m\u001b[0;34m,\u001b[0m\u001b[0;34m\u001b[0m\u001b[0;34m\u001b[0m\u001b[0m\n\u001b[0m\u001b[1;32m   4175\u001b[0m         )\n\u001b[1;32m   4176\u001b[0m \u001b[0;34m\u001b[0m\u001b[0m\n",
            "\u001b[0;32m/usr/local/lib/python3.7/dist-packages/pandas/core/generic.py\u001b[0m in \u001b[0;36mdrop\u001b[0;34m(self, labels, axis, index, columns, level, inplace, errors)\u001b[0m\n\u001b[1;32m   3887\u001b[0m         \u001b[0;32mfor\u001b[0m \u001b[0maxis\u001b[0m\u001b[0;34m,\u001b[0m \u001b[0mlabels\u001b[0m \u001b[0;32min\u001b[0m \u001b[0maxes\u001b[0m\u001b[0;34m.\u001b[0m\u001b[0mitems\u001b[0m\u001b[0;34m(\u001b[0m\u001b[0;34m)\u001b[0m\u001b[0;34m:\u001b[0m\u001b[0;34m\u001b[0m\u001b[0;34m\u001b[0m\u001b[0m\n\u001b[1;32m   3888\u001b[0m             \u001b[0;32mif\u001b[0m \u001b[0mlabels\u001b[0m \u001b[0;32mis\u001b[0m \u001b[0;32mnot\u001b[0m \u001b[0;32mNone\u001b[0m\u001b[0;34m:\u001b[0m\u001b[0;34m\u001b[0m\u001b[0;34m\u001b[0m\u001b[0m\n\u001b[0;32m-> 3889\u001b[0;31m                 \u001b[0mobj\u001b[0m \u001b[0;34m=\u001b[0m \u001b[0mobj\u001b[0m\u001b[0;34m.\u001b[0m\u001b[0m_drop_axis\u001b[0m\u001b[0;34m(\u001b[0m\u001b[0mlabels\u001b[0m\u001b[0;34m,\u001b[0m \u001b[0maxis\u001b[0m\u001b[0;34m,\u001b[0m \u001b[0mlevel\u001b[0m\u001b[0;34m=\u001b[0m\u001b[0mlevel\u001b[0m\u001b[0;34m,\u001b[0m \u001b[0merrors\u001b[0m\u001b[0;34m=\u001b[0m\u001b[0merrors\u001b[0m\u001b[0;34m)\u001b[0m\u001b[0;34m\u001b[0m\u001b[0;34m\u001b[0m\u001b[0m\n\u001b[0m\u001b[1;32m   3890\u001b[0m \u001b[0;34m\u001b[0m\u001b[0m\n\u001b[1;32m   3891\u001b[0m         \u001b[0;32mif\u001b[0m \u001b[0minplace\u001b[0m\u001b[0;34m:\u001b[0m\u001b[0;34m\u001b[0m\u001b[0;34m\u001b[0m\u001b[0m\n",
            "\u001b[0;32m/usr/local/lib/python3.7/dist-packages/pandas/core/generic.py\u001b[0m in \u001b[0;36m_drop_axis\u001b[0;34m(self, labels, axis, level, errors)\u001b[0m\n\u001b[1;32m   3921\u001b[0m                 \u001b[0mnew_axis\u001b[0m \u001b[0;34m=\u001b[0m \u001b[0maxis\u001b[0m\u001b[0;34m.\u001b[0m\u001b[0mdrop\u001b[0m\u001b[0;34m(\u001b[0m\u001b[0mlabels\u001b[0m\u001b[0;34m,\u001b[0m \u001b[0mlevel\u001b[0m\u001b[0;34m=\u001b[0m\u001b[0mlevel\u001b[0m\u001b[0;34m,\u001b[0m \u001b[0merrors\u001b[0m\u001b[0;34m=\u001b[0m\u001b[0merrors\u001b[0m\u001b[0;34m)\u001b[0m\u001b[0;34m\u001b[0m\u001b[0;34m\u001b[0m\u001b[0m\n\u001b[1;32m   3922\u001b[0m             \u001b[0;32melse\u001b[0m\u001b[0;34m:\u001b[0m\u001b[0;34m\u001b[0m\u001b[0;34m\u001b[0m\u001b[0m\n\u001b[0;32m-> 3923\u001b[0;31m                 \u001b[0mnew_axis\u001b[0m \u001b[0;34m=\u001b[0m \u001b[0maxis\u001b[0m\u001b[0;34m.\u001b[0m\u001b[0mdrop\u001b[0m\u001b[0;34m(\u001b[0m\u001b[0mlabels\u001b[0m\u001b[0;34m,\u001b[0m \u001b[0merrors\u001b[0m\u001b[0;34m=\u001b[0m\u001b[0merrors\u001b[0m\u001b[0;34m)\u001b[0m\u001b[0;34m\u001b[0m\u001b[0;34m\u001b[0m\u001b[0m\n\u001b[0m\u001b[1;32m   3924\u001b[0m             \u001b[0mresult\u001b[0m \u001b[0;34m=\u001b[0m \u001b[0mself\u001b[0m\u001b[0;34m.\u001b[0m\u001b[0mreindex\u001b[0m\u001b[0;34m(\u001b[0m\u001b[0;34m**\u001b[0m\u001b[0;34m{\u001b[0m\u001b[0maxis_name\u001b[0m\u001b[0;34m:\u001b[0m \u001b[0mnew_axis\u001b[0m\u001b[0;34m}\u001b[0m\u001b[0;34m)\u001b[0m\u001b[0;34m\u001b[0m\u001b[0;34m\u001b[0m\u001b[0m\n\u001b[1;32m   3925\u001b[0m \u001b[0;34m\u001b[0m\u001b[0m\n",
            "\u001b[0;32m/usr/local/lib/python3.7/dist-packages/pandas/core/indexes/base.py\u001b[0m in \u001b[0;36mdrop\u001b[0;34m(self, labels, errors)\u001b[0m\n\u001b[1;32m   5285\u001b[0m         \u001b[0;32mif\u001b[0m \u001b[0mmask\u001b[0m\u001b[0;34m.\u001b[0m\u001b[0many\u001b[0m\u001b[0;34m(\u001b[0m\u001b[0;34m)\u001b[0m\u001b[0;34m:\u001b[0m\u001b[0;34m\u001b[0m\u001b[0;34m\u001b[0m\u001b[0m\n\u001b[1;32m   5286\u001b[0m             \u001b[0;32mif\u001b[0m \u001b[0merrors\u001b[0m \u001b[0;34m!=\u001b[0m \u001b[0;34m\"ignore\"\u001b[0m\u001b[0;34m:\u001b[0m\u001b[0;34m\u001b[0m\u001b[0;34m\u001b[0m\u001b[0m\n\u001b[0;32m-> 5287\u001b[0;31m                 \u001b[0;32mraise\u001b[0m \u001b[0mKeyError\u001b[0m\u001b[0;34m(\u001b[0m\u001b[0;34mf\"{labels[mask]} not found in axis\"\u001b[0m\u001b[0;34m)\u001b[0m\u001b[0;34m\u001b[0m\u001b[0;34m\u001b[0m\u001b[0m\n\u001b[0m\u001b[1;32m   5288\u001b[0m             \u001b[0mindexer\u001b[0m \u001b[0;34m=\u001b[0m \u001b[0mindexer\u001b[0m\u001b[0;34m[\u001b[0m\u001b[0;34m~\u001b[0m\u001b[0mmask\u001b[0m\u001b[0;34m]\u001b[0m\u001b[0;34m\u001b[0m\u001b[0;34m\u001b[0m\u001b[0m\n\u001b[1;32m   5289\u001b[0m         \u001b[0;32mreturn\u001b[0m \u001b[0mself\u001b[0m\u001b[0;34m.\u001b[0m\u001b[0mdelete\u001b[0m\u001b[0;34m(\u001b[0m\u001b[0mindexer\u001b[0m\u001b[0;34m)\u001b[0m\u001b[0;34m\u001b[0m\u001b[0;34m\u001b[0m\u001b[0m\n",
            "\u001b[0;31mKeyError\u001b[0m: \"['NU_ANO_2014' 'NU_ANO_2015' 'NO_ESCOLA_EDUCACENSO_2014'\\n 'TP_DEPENDENCIA_ADM_ESCOLA_2014' 'TP_LOCALIZACAO_ESCOLA_2014'\\n 'NU_MATRICULAS_2014' 'NU_PARTICIPANTES_NEC_ESP_2014'\\n 'NU_PARTICIPANTES_2014' 'NU_TAXA_PARTICIPACAO_2014' 'INSE_2014'\\n 'PC_FORMACAO_DOCENTE_2014' 'NU_TAXA_PERMANENCIA_2014'\\n 'NU_TAXA_APROVACAO_2014' 'NU_TAXA_REPROVACAO_2014'\\n 'NU_TAXA_ABANDONO_2014' 'PORTE_ESCOLA_2014'] not found in axis\""
          ]
        }
      ]
    },
    {
      "cell_type": "markdown",
      "metadata": {
        "id": "jiErAeTx0BmS"
      },
      "source": [
        "Esta então é a nossa base final de trabalho, chamada simplesmente `enem`."
      ]
    },
    {
      "cell_type": "code",
      "metadata": {
        "id": "DLKYvn9x0BmS",
        "colab": {
          "base_uri": "https://localhost:8080/",
          "height": 340
        },
        "outputId": "d45355cc-2ebf-495f-f954-2e0fb9949e08"
      },
      "source": [
        "enem.head(5)"
      ],
      "execution_count": null,
      "outputs": [
        {
          "output_type": "execute_result",
          "data": {
            "text/html": [
              "<div>\n",
              "<style scoped>\n",
              "    .dataframe tbody tr th:only-of-type {\n",
              "        vertical-align: middle;\n",
              "    }\n",
              "\n",
              "    .dataframe tbody tr th {\n",
              "        vertical-align: top;\n",
              "    }\n",
              "\n",
              "    .dataframe thead th {\n",
              "        text-align: right;\n",
              "    }\n",
              "</style>\n",
              "<table border=\"1\" class=\"dataframe\">\n",
              "  <thead>\n",
              "    <tr style=\"text-align: right;\">\n",
              "      <th></th>\n",
              "      <th>NU_MEDIA_MT_2014</th>\n",
              "      <th>NU_MEDIA_RED_2014</th>\n",
              "      <th>NO_ESCOLA_EDUCACENSO_2015</th>\n",
              "      <th>TP_DEPENDENCIA_ADM_ESCOLA_2015</th>\n",
              "      <th>TP_LOCALIZACAO_ESCOLA_2015</th>\n",
              "      <th>NU_MATRICULAS_2015</th>\n",
              "      <th>NU_PARTICIPANTES_NEC_ESP_2015</th>\n",
              "      <th>NU_PARTICIPANTES_2015</th>\n",
              "      <th>NU_TAXA_PARTICIPACAO_2015</th>\n",
              "      <th>NU_MEDIA_MT_2015</th>\n",
              "      <th>NU_MEDIA_RED_2015</th>\n",
              "      <th>INSE_2015</th>\n",
              "      <th>PC_FORMACAO_DOCENTE_2015</th>\n",
              "      <th>NU_TAXA_PERMANENCIA_2015</th>\n",
              "      <th>NU_TAXA_APROVACAO_2015</th>\n",
              "      <th>NU_TAXA_REPROVACAO_2015</th>\n",
              "      <th>NU_TAXA_ABANDONO_2015</th>\n",
              "      <th>PORTE_ESCOLA_2015</th>\n",
              "    </tr>\n",
              "    <tr>\n",
              "      <th>CO_ESCOLA_EDUCACENSO</th>\n",
              "      <th></th>\n",
              "      <th></th>\n",
              "      <th></th>\n",
              "      <th></th>\n",
              "      <th></th>\n",
              "      <th></th>\n",
              "      <th></th>\n",
              "      <th></th>\n",
              "      <th></th>\n",
              "      <th></th>\n",
              "      <th></th>\n",
              "      <th></th>\n",
              "      <th></th>\n",
              "      <th></th>\n",
              "      <th></th>\n",
              "      <th></th>\n",
              "      <th></th>\n",
              "      <th></th>\n",
              "    </tr>\n",
              "  </thead>\n",
              "  <tbody>\n",
              "    <tr>\n",
              "      <th>11000058</th>\n",
              "      <td>629.14</td>\n",
              "      <td>718.53</td>\n",
              "      <td>CENTRO DE ENSINO CLASSE A</td>\n",
              "      <td>4</td>\n",
              "      <td>1</td>\n",
              "      <td>137</td>\n",
              "      <td>0.0</td>\n",
              "      <td>130</td>\n",
              "      <td>94.89</td>\n",
              "      <td>627.66</td>\n",
              "      <td>732.00</td>\n",
              "      <td>Grupo 6</td>\n",
              "      <td>67.5</td>\n",
              "      <td>78.46</td>\n",
              "      <td>96.1</td>\n",
              "      <td>3.9</td>\n",
              "      <td>0.0</td>\n",
              "      <td>Maior que 90 alunos</td>\n",
              "    </tr>\n",
              "    <tr>\n",
              "      <th>11000171</th>\n",
              "      <td>485.38</td>\n",
              "      <td>469.00</td>\n",
              "      <td>CENTRO EDUCACIONAL MOJUCA</td>\n",
              "      <td>4</td>\n",
              "      <td>1</td>\n",
              "      <td>20</td>\n",
              "      <td>1.0</td>\n",
              "      <td>17</td>\n",
              "      <td>85.00</td>\n",
              "      <td>459.72</td>\n",
              "      <td>507.82</td>\n",
              "      <td>Grupo 4</td>\n",
              "      <td>58.3</td>\n",
              "      <td>70.59</td>\n",
              "      <td>94.6</td>\n",
              "      <td>5.4</td>\n",
              "      <td>0.0</td>\n",
              "      <td>De 1 a 30 alunos</td>\n",
              "    </tr>\n",
              "    <tr>\n",
              "      <th>11000198</th>\n",
              "      <td>552.83</td>\n",
              "      <td>591.30</td>\n",
              "      <td>CENTRO EDUCACIONAL OBJETIVO</td>\n",
              "      <td>4</td>\n",
              "      <td>1</td>\n",
              "      <td>39</td>\n",
              "      <td>0.0</td>\n",
              "      <td>37</td>\n",
              "      <td>94.87</td>\n",
              "      <td>507.22</td>\n",
              "      <td>652.43</td>\n",
              "      <td>Grupo 5</td>\n",
              "      <td>67.7</td>\n",
              "      <td>40.54</td>\n",
              "      <td>90.1</td>\n",
              "      <td>9.9</td>\n",
              "      <td>0.0</td>\n",
              "      <td>De 31 a 60 alunos</td>\n",
              "    </tr>\n",
              "    <tr>\n",
              "      <th>11000244</th>\n",
              "      <td>528.35</td>\n",
              "      <td>593.78</td>\n",
              "      <td>COLEGIO DOM BOSCO</td>\n",
              "      <td>4</td>\n",
              "      <td>1</td>\n",
              "      <td>55</td>\n",
              "      <td>1.0</td>\n",
              "      <td>49</td>\n",
              "      <td>89.09</td>\n",
              "      <td>529.87</td>\n",
              "      <td>591.84</td>\n",
              "      <td>Grupo 5</td>\n",
              "      <td>56.0</td>\n",
              "      <td>81.63</td>\n",
              "      <td>88.7</td>\n",
              "      <td>10.5</td>\n",
              "      <td>0.8</td>\n",
              "      <td>De 31 a 60 alunos</td>\n",
              "    </tr>\n",
              "    <tr>\n",
              "      <th>11000252</th>\n",
              "      <td>536.57</td>\n",
              "      <td>540.00</td>\n",
              "      <td>CENTRO EDUCACIONAL OBJETIVO - UNIDADE JARDIM A...</td>\n",
              "      <td>4</td>\n",
              "      <td>1</td>\n",
              "      <td>26</td>\n",
              "      <td>0.0</td>\n",
              "      <td>23</td>\n",
              "      <td>88.46</td>\n",
              "      <td>528.93</td>\n",
              "      <td>583.48</td>\n",
              "      <td>Grupo 5</td>\n",
              "      <td>72.7</td>\n",
              "      <td>52.17</td>\n",
              "      <td>84.5</td>\n",
              "      <td>13.1</td>\n",
              "      <td>2.4</td>\n",
              "      <td>De 1 a 30 alunos</td>\n",
              "    </tr>\n",
              "  </tbody>\n",
              "</table>\n",
              "</div>"
            ],
            "text/plain": [
              "                      NU_MEDIA_MT_2014  ...    PORTE_ESCOLA_2015\n",
              "CO_ESCOLA_EDUCACENSO                    ...                     \n",
              "11000058                        629.14  ...  Maior que 90 alunos\n",
              "11000171                        485.38  ...     De 1 a 30 alunos\n",
              "11000198                        552.83  ...    De 31 a 60 alunos\n",
              "11000244                        528.35  ...    De 31 a 60 alunos\n",
              "11000252                        536.57  ...     De 1 a 30 alunos\n",
              "\n",
              "[5 rows x 18 columns]"
            ]
          },
          "metadata": {
            "tags": []
          },
          "execution_count": 83
        }
      ]
    },
    {
      "cell_type": "code",
      "metadata": {
        "id": "fMZURFgH0BmS",
        "colab": {
          "base_uri": "https://localhost:8080/"
        },
        "outputId": "05e19ffb-61f0-4542-85cf-e86efa0a5aef"
      },
      "source": [
        "enem.info()"
      ],
      "execution_count": null,
      "outputs": [
        {
          "output_type": "stream",
          "text": [
            "<class 'pandas.core.frame.DataFrame'>\n",
            "Int64Index: 13121 entries, 11000058 to 53082001\n",
            "Data columns (total 18 columns):\n",
            " #   Column                          Non-Null Count  Dtype  \n",
            "---  ------                          --------------  -----  \n",
            " 0   NU_MEDIA_MT_2014                13121 non-null  float64\n",
            " 1   NU_MEDIA_RED_2014               13121 non-null  float64\n",
            " 2   NO_ESCOLA_EDUCACENSO_2015       13121 non-null  object \n",
            " 3   TP_DEPENDENCIA_ADM_ESCOLA_2015  13121 non-null  object \n",
            " 4   TP_LOCALIZACAO_ESCOLA_2015      13121 non-null  object \n",
            " 5   NU_MATRICULAS_2015              13121 non-null  int64  \n",
            " 6   NU_PARTICIPANTES_NEC_ESP_2015   13121 non-null  float64\n",
            " 7   NU_PARTICIPANTES_2015           13121 non-null  int64  \n",
            " 8   NU_TAXA_PARTICIPACAO_2015       13121 non-null  float64\n",
            " 9   NU_MEDIA_MT_2015                13121 non-null  float64\n",
            " 10  NU_MEDIA_RED_2015               13121 non-null  float64\n",
            " 11  INSE_2015                       13120 non-null  object \n",
            " 12  PC_FORMACAO_DOCENTE_2015        13114 non-null  float64\n",
            " 13  NU_TAXA_PERMANENCIA_2015        13121 non-null  float64\n",
            " 14  NU_TAXA_APROVACAO_2015          13059 non-null  float64\n",
            " 15  NU_TAXA_REPROVACAO_2015         13059 non-null  float64\n",
            " 16  NU_TAXA_ABANDONO_2015           13059 non-null  float64\n",
            " 17  PORTE_ESCOLA_2015               13121 non-null  object \n",
            "dtypes: float64(11), int64(2), object(5)\n",
            "memory usage: 1.9+ MB\n"
          ],
          "name": "stdout"
        }
      ]
    },
    {
      "cell_type": "markdown",
      "metadata": {
        "id": "qmPONK-J0BmT"
      },
      "source": [
        "# Correlação entre atributos\n",
        "\n",
        "Apenas para gerar uma intuição sobre os dados, vamos visualizar a correlação entre todos atributos e um dos alvos, `NU_MEDIA_MT_2015`.\n",
        "\n",
        "Para isso usamos a função `.corr()` para calcular o coeficiente de correlação (também chamado de R de Pearson) entre cada par de atributos de um DataFrame. Note que aparecem apenas os **atributos numéricos**."
      ]
    },
    {
      "cell_type": "code",
      "metadata": {
        "id": "n2L6tNQU0BmT",
        "colab": {
          "base_uri": "https://localhost:8080/"
        },
        "outputId": "bcca7357-13fe-40a6-ed22-a1499939bfd6"
      },
      "source": [
        "# cálculo da matriz de correlação\n",
        "corr = enem.corr()\n",
        "\n",
        "# quanto cada atributo se correlaciona com o valor da prova de Matemática de 2015\n",
        "corr['NU_MEDIA_MT_2015'].sort_values()"
      ],
      "execution_count": null,
      "outputs": [
        {
          "output_type": "execute_result",
          "data": {
            "text/plain": [
              "NU_TAXA_ABANDONO_2015           -0.463519\n",
              "NU_TAXA_REPROVACAO_2015         -0.288924\n",
              "NU_MATRICULAS_2015              -0.187240\n",
              "NU_PARTICIPANTES_NEC_ESP_2015   -0.153457\n",
              "NU_PARTICIPANTES_2015           -0.073367\n",
              "NU_TAXA_PERMANENCIA_2015         0.038391\n",
              "PC_FORMACAO_DOCENTE_2015         0.239872\n",
              "NU_TAXA_APROVACAO_2015           0.441282\n",
              "NU_TAXA_PARTICIPACAO_2015        0.594075\n",
              "NU_MEDIA_RED_2014                0.844165\n",
              "NU_MEDIA_RED_2015                0.862731\n",
              "NU_MEDIA_MT_2014                 0.930083\n",
              "NU_MEDIA_MT_2015                 1.000000\n",
              "Name: NU_MEDIA_MT_2015, dtype: float64"
            ]
          },
          "metadata": {
            "tags": []
          },
          "execution_count": 85
        }
      ]
    },
    {
      "cell_type": "markdown",
      "metadata": {
        "id": "YZOvaaLy0BmU"
      },
      "source": [
        "Note que é possível visualizar a tabela inteira, que cruza cada os atributos com todos os demais, como visualizado abaixo. A escala de cores é de um azul mais intenso para valores negativos (no mínimo -1) e de vermelhos mais intensos para valores positivos (no máximo 1). Valores próximos ao zero são também mais próximos do branco.\n",
        "\n",
        "Ainda que haja correlação forte entre alguns atributos, para esta análise só interessam correlações envolvendo os atributos `NU_MEDIA_MT_2015` e `NU_MEDIA_RED_2015`."
      ]
    },
    {
      "cell_type": "code",
      "metadata": {
        "id": "nUoQFflF0BmU",
        "colab": {
          "base_uri": "https://localhost:8080/",
          "height": 333
        },
        "outputId": "39a4f41b-8970-4cf1-ce9b-5a232d3c8e9d"
      },
      "source": [
        "corr.style.background_gradient(axis=None, cmap='bwr').set_precision(2)"
      ],
      "execution_count": null,
      "outputs": [
        {
          "output_type": "execute_result",
          "data": {
            "text/html": [
              "<style  type=\"text/css\" >\n",
              "#T_0cc01fc2_b108_11eb_bbf9_0242ac1c0002row0_col0,#T_0cc01fc2_b108_11eb_bbf9_0242ac1c0002row1_col1,#T_0cc01fc2_b108_11eb_bbf9_0242ac1c0002row2_col2,#T_0cc01fc2_b108_11eb_bbf9_0242ac1c0002row3_col3,#T_0cc01fc2_b108_11eb_bbf9_0242ac1c0002row4_col4,#T_0cc01fc2_b108_11eb_bbf9_0242ac1c0002row5_col5,#T_0cc01fc2_b108_11eb_bbf9_0242ac1c0002row6_col6,#T_0cc01fc2_b108_11eb_bbf9_0242ac1c0002row7_col7,#T_0cc01fc2_b108_11eb_bbf9_0242ac1c0002row8_col8,#T_0cc01fc2_b108_11eb_bbf9_0242ac1c0002row9_col9,#T_0cc01fc2_b108_11eb_bbf9_0242ac1c0002row10_col10,#T_0cc01fc2_b108_11eb_bbf9_0242ac1c0002row11_col11,#T_0cc01fc2_b108_11eb_bbf9_0242ac1c0002row12_col12{\n",
              "            background-color:  #ff0000;\n",
              "            color:  #f1f1f1;\n",
              "        }#T_0cc01fc2_b108_11eb_bbf9_0242ac1c0002row0_col1,#T_0cc01fc2_b108_11eb_bbf9_0242ac1c0002row1_col0{\n",
              "            background-color:  #ff2222;\n",
              "            color:  #f1f1f1;\n",
              "        }#T_0cc01fc2_b108_11eb_bbf9_0242ac1c0002row0_col2,#T_0cc01fc2_b108_11eb_bbf9_0242ac1c0002row1_col2,#T_0cc01fc2_b108_11eb_bbf9_0242ac1c0002row2_col0,#T_0cc01fc2_b108_11eb_bbf9_0242ac1c0002row2_col1,#T_0cc01fc2_b108_11eb_bbf9_0242ac1c0002row2_col6,#T_0cc01fc2_b108_11eb_bbf9_0242ac1c0002row2_col7,#T_0cc01fc2_b108_11eb_bbf9_0242ac1c0002row6_col2,#T_0cc01fc2_b108_11eb_bbf9_0242ac1c0002row7_col2{\n",
              "            background-color:  #bcbcff;\n",
              "            color:  #000000;\n",
              "        }#T_0cc01fc2_b108_11eb_bbf9_0242ac1c0002row0_col3,#T_0cc01fc2_b108_11eb_bbf9_0242ac1c0002row3_col0{\n",
              "            background-color:  #c6c6ff;\n",
              "            color:  #000000;\n",
              "        }#T_0cc01fc2_b108_11eb_bbf9_0242ac1c0002row0_col4,#T_0cc01fc2_b108_11eb_bbf9_0242ac1c0002row1_col4,#T_0cc01fc2_b108_11eb_bbf9_0242ac1c0002row4_col0,#T_0cc01fc2_b108_11eb_bbf9_0242ac1c0002row4_col1,#T_0cc01fc2_b108_11eb_bbf9_0242ac1c0002row4_col6,#T_0cc01fc2_b108_11eb_bbf9_0242ac1c0002row6_col4{\n",
              "            background-color:  #dadaff;\n",
              "            color:  #000000;\n",
              "        }#T_0cc01fc2_b108_11eb_bbf9_0242ac1c0002row0_col5,#T_0cc01fc2_b108_11eb_bbf9_0242ac1c0002row5_col0{\n",
              "            background-color:  #ff7070;\n",
              "            color:  #000000;\n",
              "        }#T_0cc01fc2_b108_11eb_bbf9_0242ac1c0002row0_col6,#T_0cc01fc2_b108_11eb_bbf9_0242ac1c0002row6_col0{\n",
              "            background-color:  #ff1212;\n",
              "            color:  #f1f1f1;\n",
              "        }#T_0cc01fc2_b108_11eb_bbf9_0242ac1c0002row0_col7,#T_0cc01fc2_b108_11eb_bbf9_0242ac1c0002row7_col0{\n",
              "            background-color:  #ff2c2c;\n",
              "            color:  #f1f1f1;\n",
              "        }#T_0cc01fc2_b108_11eb_bbf9_0242ac1c0002row0_col8,#T_0cc01fc2_b108_11eb_bbf9_0242ac1c0002row2_col12,#T_0cc01fc2_b108_11eb_bbf9_0242ac1c0002row8_col0,#T_0cc01fc2_b108_11eb_bbf9_0242ac1c0002row12_col2{\n",
              "            background-color:  #ffcccc;\n",
              "            color:  #000000;\n",
              "        }#T_0cc01fc2_b108_11eb_bbf9_0242ac1c0002row0_col9,#T_0cc01fc2_b108_11eb_bbf9_0242ac1c0002row9_col0{\n",
              "            background-color:  #f8f8ff;\n",
              "            color:  #000000;\n",
              "        }#T_0cc01fc2_b108_11eb_bbf9_0242ac1c0002row0_col10,#T_0cc01fc2_b108_11eb_bbf9_0242ac1c0002row10_col0{\n",
              "            background-color:  #ff9a9a;\n",
              "            color:  #000000;\n",
              "        }#T_0cc01fc2_b108_11eb_bbf9_0242ac1c0002row0_col11,#T_0cc01fc2_b108_11eb_bbf9_0242ac1c0002row11_col0{\n",
              "            background-color:  #a2a2ff;\n",
              "            color:  #000000;\n",
              "        }#T_0cc01fc2_b108_11eb_bbf9_0242ac1c0002row0_col12,#T_0cc01fc2_b108_11eb_bbf9_0242ac1c0002row7_col12,#T_0cc01fc2_b108_11eb_bbf9_0242ac1c0002row12_col0,#T_0cc01fc2_b108_11eb_bbf9_0242ac1c0002row12_col7{\n",
              "            background-color:  #7272ff;\n",
              "            color:  #000000;\n",
              "        }#T_0cc01fc2_b108_11eb_bbf9_0242ac1c0002row1_col3,#T_0cc01fc2_b108_11eb_bbf9_0242ac1c0002row3_col1,#T_0cc01fc2_b108_11eb_bbf9_0242ac1c0002row3_col5,#T_0cc01fc2_b108_11eb_bbf9_0242ac1c0002row3_col6,#T_0cc01fc2_b108_11eb_bbf9_0242ac1c0002row5_col3,#T_0cc01fc2_b108_11eb_bbf9_0242ac1c0002row6_col3{\n",
              "            background-color:  #c4c4ff;\n",
              "            color:  #000000;\n",
              "        }#T_0cc01fc2_b108_11eb_bbf9_0242ac1c0002row1_col5,#T_0cc01fc2_b108_11eb_bbf9_0242ac1c0002row5_col1{\n",
              "            background-color:  #ff6464;\n",
              "            color:  #000000;\n",
              "        }#T_0cc01fc2_b108_11eb_bbf9_0242ac1c0002row1_col6,#T_0cc01fc2_b108_11eb_bbf9_0242ac1c0002row6_col1{\n",
              "            background-color:  #ff2a2a;\n",
              "            color:  #f1f1f1;\n",
              "        }#T_0cc01fc2_b108_11eb_bbf9_0242ac1c0002row1_col7,#T_0cc01fc2_b108_11eb_bbf9_0242ac1c0002row7_col1{\n",
              "            background-color:  #ff2020;\n",
              "            color:  #f1f1f1;\n",
              "        }#T_0cc01fc2_b108_11eb_bbf9_0242ac1c0002row1_col8,#T_0cc01fc2_b108_11eb_bbf9_0242ac1c0002row8_col1{\n",
              "            background-color:  #ffc8c8;\n",
              "            color:  #000000;\n",
              "        }#T_0cc01fc2_b108_11eb_bbf9_0242ac1c0002row1_col9,#T_0cc01fc2_b108_11eb_bbf9_0242ac1c0002row2_col9,#T_0cc01fc2_b108_11eb_bbf9_0242ac1c0002row5_col9,#T_0cc01fc2_b108_11eb_bbf9_0242ac1c0002row9_col1,#T_0cc01fc2_b108_11eb_bbf9_0242ac1c0002row9_col2,#T_0cc01fc2_b108_11eb_bbf9_0242ac1c0002row9_col5{\n",
              "            background-color:  #f0f0ff;\n",
              "            color:  #000000;\n",
              "        }#T_0cc01fc2_b108_11eb_bbf9_0242ac1c0002row1_col10,#T_0cc01fc2_b108_11eb_bbf9_0242ac1c0002row10_col1{\n",
              "            background-color:  #ff9494;\n",
              "            color:  #000000;\n",
              "        }#T_0cc01fc2_b108_11eb_bbf9_0242ac1c0002row1_col11,#T_0cc01fc2_b108_11eb_bbf9_0242ac1c0002row11_col1{\n",
              "            background-color:  #a4a4ff;\n",
              "            color:  #000000;\n",
              "        }#T_0cc01fc2_b108_11eb_bbf9_0242ac1c0002row1_col12,#T_0cc01fc2_b108_11eb_bbf9_0242ac1c0002row12_col1{\n",
              "            background-color:  #6464ff;\n",
              "            color:  #000000;\n",
              "        }#T_0cc01fc2_b108_11eb_bbf9_0242ac1c0002row2_col3,#T_0cc01fc2_b108_11eb_bbf9_0242ac1c0002row3_col2{\n",
              "            background-color:  #ffa4a4;\n",
              "            color:  #000000;\n",
              "        }#T_0cc01fc2_b108_11eb_bbf9_0242ac1c0002row2_col4,#T_0cc01fc2_b108_11eb_bbf9_0242ac1c0002row4_col2{\n",
              "            background-color:  #ff0808;\n",
              "            color:  #f1f1f1;\n",
              "        }#T_0cc01fc2_b108_11eb_bbf9_0242ac1c0002row2_col5,#T_0cc01fc2_b108_11eb_bbf9_0242ac1c0002row5_col2{\n",
              "            background-color:  #b6b6ff;\n",
              "            color:  #000000;\n",
              "        }#T_0cc01fc2_b108_11eb_bbf9_0242ac1c0002row2_col8,#T_0cc01fc2_b108_11eb_bbf9_0242ac1c0002row8_col2{\n",
              "            background-color:  #ffeaea;\n",
              "            color:  #000000;\n",
              "        }#T_0cc01fc2_b108_11eb_bbf9_0242ac1c0002row2_col10,#T_0cc01fc2_b108_11eb_bbf9_0242ac1c0002row5_col11,#T_0cc01fc2_b108_11eb_bbf9_0242ac1c0002row6_col11,#T_0cc01fc2_b108_11eb_bbf9_0242ac1c0002row10_col2,#T_0cc01fc2_b108_11eb_bbf9_0242ac1c0002row11_col5,#T_0cc01fc2_b108_11eb_bbf9_0242ac1c0002row11_col6{\n",
              "            background-color:  #a0a0ff;\n",
              "            color:  #000000;\n",
              "        }#T_0cc01fc2_b108_11eb_bbf9_0242ac1c0002row2_col11,#T_0cc01fc2_b108_11eb_bbf9_0242ac1c0002row7_col8,#T_0cc01fc2_b108_11eb_bbf9_0242ac1c0002row8_col7,#T_0cc01fc2_b108_11eb_bbf9_0242ac1c0002row11_col2{\n",
              "            background-color:  #ffd2d2;\n",
              "            color:  #000000;\n",
              "        }#T_0cc01fc2_b108_11eb_bbf9_0242ac1c0002row3_col4,#T_0cc01fc2_b108_11eb_bbf9_0242ac1c0002row4_col3{\n",
              "            background-color:  #ffacac;\n",
              "            color:  #000000;\n",
              "        }#T_0cc01fc2_b108_11eb_bbf9_0242ac1c0002row3_col7,#T_0cc01fc2_b108_11eb_bbf9_0242ac1c0002row7_col3{\n",
              "            background-color:  #c2c2ff;\n",
              "            color:  #000000;\n",
              "        }#T_0cc01fc2_b108_11eb_bbf9_0242ac1c0002row3_col8,#T_0cc01fc2_b108_11eb_bbf9_0242ac1c0002row8_col3{\n",
              "            background-color:  #fefeff;\n",
              "            color:  #000000;\n",
              "        }#T_0cc01fc2_b108_11eb_bbf9_0242ac1c0002row3_col9,#T_0cc01fc2_b108_11eb_bbf9_0242ac1c0002row8_col10,#T_0cc01fc2_b108_11eb_bbf9_0242ac1c0002row9_col3,#T_0cc01fc2_b108_11eb_bbf9_0242ac1c0002row10_col8{\n",
              "            background-color:  #eeeeff;\n",
              "            color:  #000000;\n",
              "        }#T_0cc01fc2_b108_11eb_bbf9_0242ac1c0002row3_col10,#T_0cc01fc2_b108_11eb_bbf9_0242ac1c0002row4_col10,#T_0cc01fc2_b108_11eb_bbf9_0242ac1c0002row10_col3,#T_0cc01fc2_b108_11eb_bbf9_0242ac1c0002row10_col4{\n",
              "            background-color:  #babaff;\n",
              "            color:  #000000;\n",
              "        }#T_0cc01fc2_b108_11eb_bbf9_0242ac1c0002row3_col11,#T_0cc01fc2_b108_11eb_bbf9_0242ac1c0002row3_col12,#T_0cc01fc2_b108_11eb_bbf9_0242ac1c0002row11_col3,#T_0cc01fc2_b108_11eb_bbf9_0242ac1c0002row12_col3{\n",
              "            background-color:  #ffe4e4;\n",
              "            color:  #000000;\n",
              "        }#T_0cc01fc2_b108_11eb_bbf9_0242ac1c0002row4_col5,#T_0cc01fc2_b108_11eb_bbf9_0242ac1c0002row5_col4{\n",
              "            background-color:  #eaeaff;\n",
              "            color:  #000000;\n",
              "        }#T_0cc01fc2_b108_11eb_bbf9_0242ac1c0002row4_col7,#T_0cc01fc2_b108_11eb_bbf9_0242ac1c0002row7_col4{\n",
              "            background-color:  #dedeff;\n",
              "            color:  #000000;\n",
              "        }#T_0cc01fc2_b108_11eb_bbf9_0242ac1c0002row4_col8,#T_0cc01fc2_b108_11eb_bbf9_0242ac1c0002row4_col12,#T_0cc01fc2_b108_11eb_bbf9_0242ac1c0002row8_col4,#T_0cc01fc2_b108_11eb_bbf9_0242ac1c0002row12_col4{\n",
              "            background-color:  #ffe6e6;\n",
              "            color:  #000000;\n",
              "        }#T_0cc01fc2_b108_11eb_bbf9_0242ac1c0002row4_col9,#T_0cc01fc2_b108_11eb_bbf9_0242ac1c0002row9_col4{\n",
              "            background-color:  #f4f4ff;\n",
              "            color:  #000000;\n",
              "        }#T_0cc01fc2_b108_11eb_bbf9_0242ac1c0002row4_col11,#T_0cc01fc2_b108_11eb_bbf9_0242ac1c0002row11_col4{\n",
              "            background-color:  #ffe2e2;\n",
              "            color:  #000000;\n",
              "        }#T_0cc01fc2_b108_11eb_bbf9_0242ac1c0002row5_col6,#T_0cc01fc2_b108_11eb_bbf9_0242ac1c0002row6_col5{\n",
              "            background-color:  #ff6e6e;\n",
              "            color:  #000000;\n",
              "        }#T_0cc01fc2_b108_11eb_bbf9_0242ac1c0002row5_col7,#T_0cc01fc2_b108_11eb_bbf9_0242ac1c0002row7_col5{\n",
              "            background-color:  #ff6060;\n",
              "            color:  #000000;\n",
              "        }#T_0cc01fc2_b108_11eb_bbf9_0242ac1c0002row5_col8,#T_0cc01fc2_b108_11eb_bbf9_0242ac1c0002row8_col5{\n",
              "            background-color:  #fffefe;\n",
              "            color:  #000000;\n",
              "        }#T_0cc01fc2_b108_11eb_bbf9_0242ac1c0002row5_col10,#T_0cc01fc2_b108_11eb_bbf9_0242ac1c0002row10_col5{\n",
              "            background-color:  #ff9696;\n",
              "            color:  #000000;\n",
              "        }#T_0cc01fc2_b108_11eb_bbf9_0242ac1c0002row5_col12,#T_0cc01fc2_b108_11eb_bbf9_0242ac1c0002row12_col5{\n",
              "            background-color:  #6e6eff;\n",
              "            color:  #000000;\n",
              "        }#T_0cc01fc2_b108_11eb_bbf9_0242ac1c0002row6_col7,#T_0cc01fc2_b108_11eb_bbf9_0242ac1c0002row7_col6{\n",
              "            background-color:  #ff2424;\n",
              "            color:  #f1f1f1;\n",
              "        }#T_0cc01fc2_b108_11eb_bbf9_0242ac1c0002row6_col8,#T_0cc01fc2_b108_11eb_bbf9_0242ac1c0002row8_col6{\n",
              "            background-color:  #ffcece;\n",
              "            color:  #000000;\n",
              "        }#T_0cc01fc2_b108_11eb_bbf9_0242ac1c0002row6_col9,#T_0cc01fc2_b108_11eb_bbf9_0242ac1c0002row8_col11,#T_0cc01fc2_b108_11eb_bbf9_0242ac1c0002row9_col6,#T_0cc01fc2_b108_11eb_bbf9_0242ac1c0002row11_col8{\n",
              "            background-color:  #fafaff;\n",
              "            color:  #000000;\n",
              "        }#T_0cc01fc2_b108_11eb_bbf9_0242ac1c0002row6_col10,#T_0cc01fc2_b108_11eb_bbf9_0242ac1c0002row10_col6{\n",
              "            background-color:  #ff9898;\n",
              "            color:  #000000;\n",
              "        }#T_0cc01fc2_b108_11eb_bbf9_0242ac1c0002row6_col12,#T_0cc01fc2_b108_11eb_bbf9_0242ac1c0002row12_col6{\n",
              "            background-color:  #7070ff;\n",
              "            color:  #000000;\n",
              "        }#T_0cc01fc2_b108_11eb_bbf9_0242ac1c0002row7_col9,#T_0cc01fc2_b108_11eb_bbf9_0242ac1c0002row8_col9,#T_0cc01fc2_b108_11eb_bbf9_0242ac1c0002row9_col7,#T_0cc01fc2_b108_11eb_bbf9_0242ac1c0002row9_col8,#T_0cc01fc2_b108_11eb_bbf9_0242ac1c0002row9_col10,#T_0cc01fc2_b108_11eb_bbf9_0242ac1c0002row10_col9{\n",
              "            background-color:  #f2f2ff;\n",
              "            color:  #000000;\n",
              "        }#T_0cc01fc2_b108_11eb_bbf9_0242ac1c0002row7_col10,#T_0cc01fc2_b108_11eb_bbf9_0242ac1c0002row10_col7{\n",
              "            background-color:  #ff9c9c;\n",
              "            color:  #000000;\n",
              "        }#T_0cc01fc2_b108_11eb_bbf9_0242ac1c0002row7_col11,#T_0cc01fc2_b108_11eb_bbf9_0242ac1c0002row11_col7{\n",
              "            background-color:  #a6a6ff;\n",
              "            color:  #000000;\n",
              "        }#T_0cc01fc2_b108_11eb_bbf9_0242ac1c0002row8_col12,#T_0cc01fc2_b108_11eb_bbf9_0242ac1c0002row12_col8{\n",
              "            background-color:  #e0e0ff;\n",
              "            color:  #000000;\n",
              "        }#T_0cc01fc2_b108_11eb_bbf9_0242ac1c0002row9_col11,#T_0cc01fc2_b108_11eb_bbf9_0242ac1c0002row9_col12,#T_0cc01fc2_b108_11eb_bbf9_0242ac1c0002row11_col9,#T_0cc01fc2_b108_11eb_bbf9_0242ac1c0002row12_col9{\n",
              "            background-color:  #ececff;\n",
              "            color:  #000000;\n",
              "        }#T_0cc01fc2_b108_11eb_bbf9_0242ac1c0002row10_col11,#T_0cc01fc2_b108_11eb_bbf9_0242ac1c0002row11_col10{\n",
              "            background-color:  #0000ff;\n",
              "            color:  #f1f1f1;\n",
              "        }#T_0cc01fc2_b108_11eb_bbf9_0242ac1c0002row10_col12,#T_0cc01fc2_b108_11eb_bbf9_0242ac1c0002row12_col10{\n",
              "            background-color:  #2a2aff;\n",
              "            color:  #f1f1f1;\n",
              "        }#T_0cc01fc2_b108_11eb_bbf9_0242ac1c0002row11_col12,#T_0cc01fc2_b108_11eb_bbf9_0242ac1c0002row12_col11{\n",
              "            background-color:  #ffbcbc;\n",
              "            color:  #000000;\n",
              "        }</style><table id=\"T_0cc01fc2_b108_11eb_bbf9_0242ac1c0002\" ><thead>    <tr>        <th class=\"blank level0\" ></th>        <th class=\"col_heading level0 col0\" >NU_MEDIA_MT_2014</th>        <th class=\"col_heading level0 col1\" >NU_MEDIA_RED_2014</th>        <th class=\"col_heading level0 col2\" >NU_MATRICULAS_2015</th>        <th class=\"col_heading level0 col3\" >NU_PARTICIPANTES_NEC_ESP_2015</th>        <th class=\"col_heading level0 col4\" >NU_PARTICIPANTES_2015</th>        <th class=\"col_heading level0 col5\" >NU_TAXA_PARTICIPACAO_2015</th>        <th class=\"col_heading level0 col6\" >NU_MEDIA_MT_2015</th>        <th class=\"col_heading level0 col7\" >NU_MEDIA_RED_2015</th>        <th class=\"col_heading level0 col8\" >PC_FORMACAO_DOCENTE_2015</th>        <th class=\"col_heading level0 col9\" >NU_TAXA_PERMANENCIA_2015</th>        <th class=\"col_heading level0 col10\" >NU_TAXA_APROVACAO_2015</th>        <th class=\"col_heading level0 col11\" >NU_TAXA_REPROVACAO_2015</th>        <th class=\"col_heading level0 col12\" >NU_TAXA_ABANDONO_2015</th>    </tr></thead><tbody>\n",
              "                <tr>\n",
              "                        <th id=\"T_0cc01fc2_b108_11eb_bbf9_0242ac1c0002level0_row0\" class=\"row_heading level0 row0\" >NU_MEDIA_MT_2014</th>\n",
              "                        <td id=\"T_0cc01fc2_b108_11eb_bbf9_0242ac1c0002row0_col0\" class=\"data row0 col0\" >1.00</td>\n",
              "                        <td id=\"T_0cc01fc2_b108_11eb_bbf9_0242ac1c0002row0_col1\" class=\"data row0 col1\" >0.87</td>\n",
              "                        <td id=\"T_0cc01fc2_b108_11eb_bbf9_0242ac1c0002row0_col2\" class=\"data row0 col2\" >-0.18</td>\n",
              "                        <td id=\"T_0cc01fc2_b108_11eb_bbf9_0242ac1c0002row0_col3\" class=\"data row0 col3\" >-0.15</td>\n",
              "                        <td id=\"T_0cc01fc2_b108_11eb_bbf9_0242ac1c0002row0_col4\" class=\"data row0 col4\" >-0.07</td>\n",
              "                        <td id=\"T_0cc01fc2_b108_11eb_bbf9_0242ac1c0002row0_col5\" class=\"data row0 col5\" >0.58</td>\n",
              "                        <td id=\"T_0cc01fc2_b108_11eb_bbf9_0242ac1c0002row0_col6\" class=\"data row0 col6\" >0.93</td>\n",
              "                        <td id=\"T_0cc01fc2_b108_11eb_bbf9_0242ac1c0002row0_col7\" class=\"data row0 col7\" >0.83</td>\n",
              "                        <td id=\"T_0cc01fc2_b108_11eb_bbf9_0242ac1c0002row0_col8\" class=\"data row0 col8\" >0.25</td>\n",
              "                        <td id=\"T_0cc01fc2_b108_11eb_bbf9_0242ac1c0002row0_col9\" class=\"data row0 col9\" >0.04</td>\n",
              "                        <td id=\"T_0cc01fc2_b108_11eb_bbf9_0242ac1c0002row0_col10\" class=\"data row0 col10\" >0.43</td>\n",
              "                        <td id=\"T_0cc01fc2_b108_11eb_bbf9_0242ac1c0002row0_col11\" class=\"data row0 col11\" >-0.28</td>\n",
              "                        <td id=\"T_0cc01fc2_b108_11eb_bbf9_0242ac1c0002row0_col12\" class=\"data row0 col12\" >-0.46</td>\n",
              "            </tr>\n",
              "            <tr>\n",
              "                        <th id=\"T_0cc01fc2_b108_11eb_bbf9_0242ac1c0002level0_row1\" class=\"row_heading level0 row1\" >NU_MEDIA_RED_2014</th>\n",
              "                        <td id=\"T_0cc01fc2_b108_11eb_bbf9_0242ac1c0002row1_col0\" class=\"data row1 col0\" >0.87</td>\n",
              "                        <td id=\"T_0cc01fc2_b108_11eb_bbf9_0242ac1c0002row1_col1\" class=\"data row1 col1\" >1.00</td>\n",
              "                        <td id=\"T_0cc01fc2_b108_11eb_bbf9_0242ac1c0002row1_col2\" class=\"data row1 col2\" >-0.19</td>\n",
              "                        <td id=\"T_0cc01fc2_b108_11eb_bbf9_0242ac1c0002row1_col3\" class=\"data row1 col3\" >-0.16</td>\n",
              "                        <td id=\"T_0cc01fc2_b108_11eb_bbf9_0242ac1c0002row1_col4\" class=\"data row1 col4\" >-0.07</td>\n",
              "                        <td id=\"T_0cc01fc2_b108_11eb_bbf9_0242ac1c0002row1_col5\" class=\"data row1 col5\" >0.63</td>\n",
              "                        <td id=\"T_0cc01fc2_b108_11eb_bbf9_0242ac1c0002row1_col6\" class=\"data row1 col6\" >0.84</td>\n",
              "                        <td id=\"T_0cc01fc2_b108_11eb_bbf9_0242ac1c0002row1_col7\" class=\"data row1 col7\" >0.88</td>\n",
              "                        <td id=\"T_0cc01fc2_b108_11eb_bbf9_0242ac1c0002row1_col8\" class=\"data row1 col8\" >0.26</td>\n",
              "                        <td id=\"T_0cc01fc2_b108_11eb_bbf9_0242ac1c0002row1_col9\" class=\"data row1 col9\" >0.01</td>\n",
              "                        <td id=\"T_0cc01fc2_b108_11eb_bbf9_0242ac1c0002row1_col10\" class=\"data row1 col10\" >0.45</td>\n",
              "                        <td id=\"T_0cc01fc2_b108_11eb_bbf9_0242ac1c0002row1_col11\" class=\"data row1 col11\" >-0.27</td>\n",
              "                        <td id=\"T_0cc01fc2_b108_11eb_bbf9_0242ac1c0002row1_col12\" class=\"data row1 col12\" >-0.51</td>\n",
              "            </tr>\n",
              "            <tr>\n",
              "                        <th id=\"T_0cc01fc2_b108_11eb_bbf9_0242ac1c0002level0_row2\" class=\"row_heading level0 row2\" >NU_MATRICULAS_2015</th>\n",
              "                        <td id=\"T_0cc01fc2_b108_11eb_bbf9_0242ac1c0002row2_col0\" class=\"data row2 col0\" >-0.18</td>\n",
              "                        <td id=\"T_0cc01fc2_b108_11eb_bbf9_0242ac1c0002row2_col1\" class=\"data row2 col1\" >-0.19</td>\n",
              "                        <td id=\"T_0cc01fc2_b108_11eb_bbf9_0242ac1c0002row2_col2\" class=\"data row2 col2\" >1.00</td>\n",
              "                        <td id=\"T_0cc01fc2_b108_11eb_bbf9_0242ac1c0002row2_col3\" class=\"data row2 col3\" >0.39</td>\n",
              "                        <td id=\"T_0cc01fc2_b108_11eb_bbf9_0242ac1c0002row2_col4\" class=\"data row2 col4\" >0.97</td>\n",
              "                        <td id=\"T_0cc01fc2_b108_11eb_bbf9_0242ac1c0002row2_col5\" class=\"data row2 col5\" >-0.21</td>\n",
              "                        <td id=\"T_0cc01fc2_b108_11eb_bbf9_0242ac1c0002row2_col6\" class=\"data row2 col6\" >-0.19</td>\n",
              "                        <td id=\"T_0cc01fc2_b108_11eb_bbf9_0242ac1c0002row2_col7\" class=\"data row2 col7\" >-0.18</td>\n",
              "                        <td id=\"T_0cc01fc2_b108_11eb_bbf9_0242ac1c0002row2_col8\" class=\"data row2 col8\" >0.14</td>\n",
              "                        <td id=\"T_0cc01fc2_b108_11eb_bbf9_0242ac1c0002row2_col9\" class=\"data row2 col9\" >0.01</td>\n",
              "                        <td id=\"T_0cc01fc2_b108_11eb_bbf9_0242ac1c0002row2_col10\" class=\"data row2 col10\" >-0.29</td>\n",
              "                        <td id=\"T_0cc01fc2_b108_11eb_bbf9_0242ac1c0002row2_col11\" class=\"data row2 col11\" >0.23</td>\n",
              "                        <td id=\"T_0cc01fc2_b108_11eb_bbf9_0242ac1c0002row2_col12\" class=\"data row2 col12\" >0.25</td>\n",
              "            </tr>\n",
              "            <tr>\n",
              "                        <th id=\"T_0cc01fc2_b108_11eb_bbf9_0242ac1c0002level0_row3\" class=\"row_heading level0 row3\" >NU_PARTICIPANTES_NEC_ESP_2015</th>\n",
              "                        <td id=\"T_0cc01fc2_b108_11eb_bbf9_0242ac1c0002row3_col0\" class=\"data row3 col0\" >-0.15</td>\n",
              "                        <td id=\"T_0cc01fc2_b108_11eb_bbf9_0242ac1c0002row3_col1\" class=\"data row3 col1\" >-0.16</td>\n",
              "                        <td id=\"T_0cc01fc2_b108_11eb_bbf9_0242ac1c0002row3_col2\" class=\"data row3 col2\" >0.39</td>\n",
              "                        <td id=\"T_0cc01fc2_b108_11eb_bbf9_0242ac1c0002row3_col3\" class=\"data row3 col3\" >1.00</td>\n",
              "                        <td id=\"T_0cc01fc2_b108_11eb_bbf9_0242ac1c0002row3_col4\" class=\"data row3 col4\" >0.36</td>\n",
              "                        <td id=\"T_0cc01fc2_b108_11eb_bbf9_0242ac1c0002row3_col5\" class=\"data row3 col5\" >-0.16</td>\n",
              "                        <td id=\"T_0cc01fc2_b108_11eb_bbf9_0242ac1c0002row3_col6\" class=\"data row3 col6\" >-0.15</td>\n",
              "                        <td id=\"T_0cc01fc2_b108_11eb_bbf9_0242ac1c0002row3_col7\" class=\"data row3 col7\" >-0.16</td>\n",
              "                        <td id=\"T_0cc01fc2_b108_11eb_bbf9_0242ac1c0002row3_col8\" class=\"data row3 col8\" >0.06</td>\n",
              "                        <td id=\"T_0cc01fc2_b108_11eb_bbf9_0242ac1c0002row3_col9\" class=\"data row3 col9\" >-0.01</td>\n",
              "                        <td id=\"T_0cc01fc2_b108_11eb_bbf9_0242ac1c0002row3_col10\" class=\"data row3 col10\" >-0.19</td>\n",
              "                        <td id=\"T_0cc01fc2_b108_11eb_bbf9_0242ac1c0002row3_col11\" class=\"data row3 col11\" >0.16</td>\n",
              "                        <td id=\"T_0cc01fc2_b108_11eb_bbf9_0242ac1c0002row3_col12\" class=\"data row3 col12\" >0.16</td>\n",
              "            </tr>\n",
              "            <tr>\n",
              "                        <th id=\"T_0cc01fc2_b108_11eb_bbf9_0242ac1c0002level0_row4\" class=\"row_heading level0 row4\" >NU_PARTICIPANTES_2015</th>\n",
              "                        <td id=\"T_0cc01fc2_b108_11eb_bbf9_0242ac1c0002row4_col0\" class=\"data row4 col0\" >-0.07</td>\n",
              "                        <td id=\"T_0cc01fc2_b108_11eb_bbf9_0242ac1c0002row4_col1\" class=\"data row4 col1\" >-0.07</td>\n",
              "                        <td id=\"T_0cc01fc2_b108_11eb_bbf9_0242ac1c0002row4_col2\" class=\"data row4 col2\" >0.97</td>\n",
              "                        <td id=\"T_0cc01fc2_b108_11eb_bbf9_0242ac1c0002row4_col3\" class=\"data row4 col3\" >0.36</td>\n",
              "                        <td id=\"T_0cc01fc2_b108_11eb_bbf9_0242ac1c0002row4_col4\" class=\"data row4 col4\" >1.00</td>\n",
              "                        <td id=\"T_0cc01fc2_b108_11eb_bbf9_0242ac1c0002row4_col5\" class=\"data row4 col5\" >-0.02</td>\n",
              "                        <td id=\"T_0cc01fc2_b108_11eb_bbf9_0242ac1c0002row4_col6\" class=\"data row4 col6\" >-0.07</td>\n",
              "                        <td id=\"T_0cc01fc2_b108_11eb_bbf9_0242ac1c0002row4_col7\" class=\"data row4 col7\" >-0.06</td>\n",
              "                        <td id=\"T_0cc01fc2_b108_11eb_bbf9_0242ac1c0002row4_col8\" class=\"data row4 col8\" >0.15</td>\n",
              "                        <td id=\"T_0cc01fc2_b108_11eb_bbf9_0242ac1c0002row4_col9\" class=\"data row4 col9\" >0.02</td>\n",
              "                        <td id=\"T_0cc01fc2_b108_11eb_bbf9_0242ac1c0002row4_col10\" class=\"data row4 col10\" >-0.20</td>\n",
              "                        <td id=\"T_0cc01fc2_b108_11eb_bbf9_0242ac1c0002row4_col11\" class=\"data row4 col11\" >0.17</td>\n",
              "                        <td id=\"T_0cc01fc2_b108_11eb_bbf9_0242ac1c0002row4_col12\" class=\"data row4 col12\" >0.15</td>\n",
              "            </tr>\n",
              "            <tr>\n",
              "                        <th id=\"T_0cc01fc2_b108_11eb_bbf9_0242ac1c0002level0_row5\" class=\"row_heading level0 row5\" >NU_TAXA_PARTICIPACAO_2015</th>\n",
              "                        <td id=\"T_0cc01fc2_b108_11eb_bbf9_0242ac1c0002row5_col0\" class=\"data row5 col0\" >0.58</td>\n",
              "                        <td id=\"T_0cc01fc2_b108_11eb_bbf9_0242ac1c0002row5_col1\" class=\"data row5 col1\" >0.63</td>\n",
              "                        <td id=\"T_0cc01fc2_b108_11eb_bbf9_0242ac1c0002row5_col2\" class=\"data row5 col2\" >-0.21</td>\n",
              "                        <td id=\"T_0cc01fc2_b108_11eb_bbf9_0242ac1c0002row5_col3\" class=\"data row5 col3\" >-0.16</td>\n",
              "                        <td id=\"T_0cc01fc2_b108_11eb_bbf9_0242ac1c0002row5_col4\" class=\"data row5 col4\" >-0.02</td>\n",
              "                        <td id=\"T_0cc01fc2_b108_11eb_bbf9_0242ac1c0002row5_col5\" class=\"data row5 col5\" >1.00</td>\n",
              "                        <td id=\"T_0cc01fc2_b108_11eb_bbf9_0242ac1c0002row5_col6\" class=\"data row5 col6\" >0.59</td>\n",
              "                        <td id=\"T_0cc01fc2_b108_11eb_bbf9_0242ac1c0002row5_col7\" class=\"data row5 col7\" >0.64</td>\n",
              "                        <td id=\"T_0cc01fc2_b108_11eb_bbf9_0242ac1c0002row5_col8\" class=\"data row5 col8\" >0.06</td>\n",
              "                        <td id=\"T_0cc01fc2_b108_11eb_bbf9_0242ac1c0002row5_col9\" class=\"data row5 col9\" >0.00</td>\n",
              "                        <td id=\"T_0cc01fc2_b108_11eb_bbf9_0242ac1c0002row5_col10\" class=\"data row5 col10\" >0.45</td>\n",
              "                        <td id=\"T_0cc01fc2_b108_11eb_bbf9_0242ac1c0002row5_col11\" class=\"data row5 col11\" >-0.29</td>\n",
              "                        <td id=\"T_0cc01fc2_b108_11eb_bbf9_0242ac1c0002row5_col12\" class=\"data row5 col12\" >-0.48</td>\n",
              "            </tr>\n",
              "            <tr>\n",
              "                        <th id=\"T_0cc01fc2_b108_11eb_bbf9_0242ac1c0002level0_row6\" class=\"row_heading level0 row6\" >NU_MEDIA_MT_2015</th>\n",
              "                        <td id=\"T_0cc01fc2_b108_11eb_bbf9_0242ac1c0002row6_col0\" class=\"data row6 col0\" >0.93</td>\n",
              "                        <td id=\"T_0cc01fc2_b108_11eb_bbf9_0242ac1c0002row6_col1\" class=\"data row6 col1\" >0.84</td>\n",
              "                        <td id=\"T_0cc01fc2_b108_11eb_bbf9_0242ac1c0002row6_col2\" class=\"data row6 col2\" >-0.19</td>\n",
              "                        <td id=\"T_0cc01fc2_b108_11eb_bbf9_0242ac1c0002row6_col3\" class=\"data row6 col3\" >-0.15</td>\n",
              "                        <td id=\"T_0cc01fc2_b108_11eb_bbf9_0242ac1c0002row6_col4\" class=\"data row6 col4\" >-0.07</td>\n",
              "                        <td id=\"T_0cc01fc2_b108_11eb_bbf9_0242ac1c0002row6_col5\" class=\"data row6 col5\" >0.59</td>\n",
              "                        <td id=\"T_0cc01fc2_b108_11eb_bbf9_0242ac1c0002row6_col6\" class=\"data row6 col6\" >1.00</td>\n",
              "                        <td id=\"T_0cc01fc2_b108_11eb_bbf9_0242ac1c0002row6_col7\" class=\"data row6 col7\" >0.86</td>\n",
              "                        <td id=\"T_0cc01fc2_b108_11eb_bbf9_0242ac1c0002row6_col8\" class=\"data row6 col8\" >0.24</td>\n",
              "                        <td id=\"T_0cc01fc2_b108_11eb_bbf9_0242ac1c0002row6_col9\" class=\"data row6 col9\" >0.04</td>\n",
              "                        <td id=\"T_0cc01fc2_b108_11eb_bbf9_0242ac1c0002row6_col10\" class=\"data row6 col10\" >0.44</td>\n",
              "                        <td id=\"T_0cc01fc2_b108_11eb_bbf9_0242ac1c0002row6_col11\" class=\"data row6 col11\" >-0.29</td>\n",
              "                        <td id=\"T_0cc01fc2_b108_11eb_bbf9_0242ac1c0002row6_col12\" class=\"data row6 col12\" >-0.46</td>\n",
              "            </tr>\n",
              "            <tr>\n",
              "                        <th id=\"T_0cc01fc2_b108_11eb_bbf9_0242ac1c0002level0_row7\" class=\"row_heading level0 row7\" >NU_MEDIA_RED_2015</th>\n",
              "                        <td id=\"T_0cc01fc2_b108_11eb_bbf9_0242ac1c0002row7_col0\" class=\"data row7 col0\" >0.83</td>\n",
              "                        <td id=\"T_0cc01fc2_b108_11eb_bbf9_0242ac1c0002row7_col1\" class=\"data row7 col1\" >0.88</td>\n",
              "                        <td id=\"T_0cc01fc2_b108_11eb_bbf9_0242ac1c0002row7_col2\" class=\"data row7 col2\" >-0.18</td>\n",
              "                        <td id=\"T_0cc01fc2_b108_11eb_bbf9_0242ac1c0002row7_col3\" class=\"data row7 col3\" >-0.16</td>\n",
              "                        <td id=\"T_0cc01fc2_b108_11eb_bbf9_0242ac1c0002row7_col4\" class=\"data row7 col4\" >-0.06</td>\n",
              "                        <td id=\"T_0cc01fc2_b108_11eb_bbf9_0242ac1c0002row7_col5\" class=\"data row7 col5\" >0.64</td>\n",
              "                        <td id=\"T_0cc01fc2_b108_11eb_bbf9_0242ac1c0002row7_col6\" class=\"data row7 col6\" >0.86</td>\n",
              "                        <td id=\"T_0cc01fc2_b108_11eb_bbf9_0242ac1c0002row7_col7\" class=\"data row7 col7\" >1.00</td>\n",
              "                        <td id=\"T_0cc01fc2_b108_11eb_bbf9_0242ac1c0002row7_col8\" class=\"data row7 col8\" >0.23</td>\n",
              "                        <td id=\"T_0cc01fc2_b108_11eb_bbf9_0242ac1c0002row7_col9\" class=\"data row7 col9\" >0.01</td>\n",
              "                        <td id=\"T_0cc01fc2_b108_11eb_bbf9_0242ac1c0002row7_col10\" class=\"data row7 col10\" >0.43</td>\n",
              "                        <td id=\"T_0cc01fc2_b108_11eb_bbf9_0242ac1c0002row7_col11\" class=\"data row7 col11\" >-0.27</td>\n",
              "                        <td id=\"T_0cc01fc2_b108_11eb_bbf9_0242ac1c0002row7_col12\" class=\"data row7 col12\" >-0.46</td>\n",
              "            </tr>\n",
              "            <tr>\n",
              "                        <th id=\"T_0cc01fc2_b108_11eb_bbf9_0242ac1c0002level0_row8\" class=\"row_heading level0 row8\" >PC_FORMACAO_DOCENTE_2015</th>\n",
              "                        <td id=\"T_0cc01fc2_b108_11eb_bbf9_0242ac1c0002row8_col0\" class=\"data row8 col0\" >0.25</td>\n",
              "                        <td id=\"T_0cc01fc2_b108_11eb_bbf9_0242ac1c0002row8_col1\" class=\"data row8 col1\" >0.26</td>\n",
              "                        <td id=\"T_0cc01fc2_b108_11eb_bbf9_0242ac1c0002row8_col2\" class=\"data row8 col2\" >0.14</td>\n",
              "                        <td id=\"T_0cc01fc2_b108_11eb_bbf9_0242ac1c0002row8_col3\" class=\"data row8 col3\" >0.06</td>\n",
              "                        <td id=\"T_0cc01fc2_b108_11eb_bbf9_0242ac1c0002row8_col4\" class=\"data row8 col4\" >0.15</td>\n",
              "                        <td id=\"T_0cc01fc2_b108_11eb_bbf9_0242ac1c0002row8_col5\" class=\"data row8 col5\" >0.06</td>\n",
              "                        <td id=\"T_0cc01fc2_b108_11eb_bbf9_0242ac1c0002row8_col6\" class=\"data row8 col6\" >0.24</td>\n",
              "                        <td id=\"T_0cc01fc2_b108_11eb_bbf9_0242ac1c0002row8_col7\" class=\"data row8 col7\" >0.23</td>\n",
              "                        <td id=\"T_0cc01fc2_b108_11eb_bbf9_0242ac1c0002row8_col8\" class=\"data row8 col8\" >1.00</td>\n",
              "                        <td id=\"T_0cc01fc2_b108_11eb_bbf9_0242ac1c0002row8_col9\" class=\"data row8 col9\" >0.01</td>\n",
              "                        <td id=\"T_0cc01fc2_b108_11eb_bbf9_0242ac1c0002row8_col10\" class=\"data row8 col10\" >-0.00</td>\n",
              "                        <td id=\"T_0cc01fc2_b108_11eb_bbf9_0242ac1c0002row8_col11\" class=\"data row8 col11\" >0.04</td>\n",
              "                        <td id=\"T_0cc01fc2_b108_11eb_bbf9_0242ac1c0002row8_col12\" class=\"data row8 col12\" >-0.05</td>\n",
              "            </tr>\n",
              "            <tr>\n",
              "                        <th id=\"T_0cc01fc2_b108_11eb_bbf9_0242ac1c0002level0_row9\" class=\"row_heading level0 row9\" >NU_TAXA_PERMANENCIA_2015</th>\n",
              "                        <td id=\"T_0cc01fc2_b108_11eb_bbf9_0242ac1c0002row9_col0\" class=\"data row9 col0\" >0.04</td>\n",
              "                        <td id=\"T_0cc01fc2_b108_11eb_bbf9_0242ac1c0002row9_col1\" class=\"data row9 col1\" >0.01</td>\n",
              "                        <td id=\"T_0cc01fc2_b108_11eb_bbf9_0242ac1c0002row9_col2\" class=\"data row9 col2\" >0.01</td>\n",
              "                        <td id=\"T_0cc01fc2_b108_11eb_bbf9_0242ac1c0002row9_col3\" class=\"data row9 col3\" >-0.01</td>\n",
              "                        <td id=\"T_0cc01fc2_b108_11eb_bbf9_0242ac1c0002row9_col4\" class=\"data row9 col4\" >0.02</td>\n",
              "                        <td id=\"T_0cc01fc2_b108_11eb_bbf9_0242ac1c0002row9_col5\" class=\"data row9 col5\" >0.00</td>\n",
              "                        <td id=\"T_0cc01fc2_b108_11eb_bbf9_0242ac1c0002row9_col6\" class=\"data row9 col6\" >0.04</td>\n",
              "                        <td id=\"T_0cc01fc2_b108_11eb_bbf9_0242ac1c0002row9_col7\" class=\"data row9 col7\" >0.01</td>\n",
              "                        <td id=\"T_0cc01fc2_b108_11eb_bbf9_0242ac1c0002row9_col8\" class=\"data row9 col8\" >0.01</td>\n",
              "                        <td id=\"T_0cc01fc2_b108_11eb_bbf9_0242ac1c0002row9_col9\" class=\"data row9 col9\" >1.00</td>\n",
              "                        <td id=\"T_0cc01fc2_b108_11eb_bbf9_0242ac1c0002row9_col10\" class=\"data row9 col10\" >0.01</td>\n",
              "                        <td id=\"T_0cc01fc2_b108_11eb_bbf9_0242ac1c0002row9_col11\" class=\"data row9 col11\" >-0.01</td>\n",
              "                        <td id=\"T_0cc01fc2_b108_11eb_bbf9_0242ac1c0002row9_col12\" class=\"data row9 col12\" >-0.01</td>\n",
              "            </tr>\n",
              "            <tr>\n",
              "                        <th id=\"T_0cc01fc2_b108_11eb_bbf9_0242ac1c0002level0_row10\" class=\"row_heading level0 row10\" >NU_TAXA_APROVACAO_2015</th>\n",
              "                        <td id=\"T_0cc01fc2_b108_11eb_bbf9_0242ac1c0002row10_col0\" class=\"data row10 col0\" >0.43</td>\n",
              "                        <td id=\"T_0cc01fc2_b108_11eb_bbf9_0242ac1c0002row10_col1\" class=\"data row10 col1\" >0.45</td>\n",
              "                        <td id=\"T_0cc01fc2_b108_11eb_bbf9_0242ac1c0002row10_col2\" class=\"data row10 col2\" >-0.29</td>\n",
              "                        <td id=\"T_0cc01fc2_b108_11eb_bbf9_0242ac1c0002row10_col3\" class=\"data row10 col3\" >-0.19</td>\n",
              "                        <td id=\"T_0cc01fc2_b108_11eb_bbf9_0242ac1c0002row10_col4\" class=\"data row10 col4\" >-0.20</td>\n",
              "                        <td id=\"T_0cc01fc2_b108_11eb_bbf9_0242ac1c0002row10_col5\" class=\"data row10 col5\" >0.45</td>\n",
              "                        <td id=\"T_0cc01fc2_b108_11eb_bbf9_0242ac1c0002row10_col6\" class=\"data row10 col6\" >0.44</td>\n",
              "                        <td id=\"T_0cc01fc2_b108_11eb_bbf9_0242ac1c0002row10_col7\" class=\"data row10 col7\" >0.43</td>\n",
              "                        <td id=\"T_0cc01fc2_b108_11eb_bbf9_0242ac1c0002row10_col8\" class=\"data row10 col8\" >-0.00</td>\n",
              "                        <td id=\"T_0cc01fc2_b108_11eb_bbf9_0242ac1c0002row10_col9\" class=\"data row10 col9\" >0.01</td>\n",
              "                        <td id=\"T_0cc01fc2_b108_11eb_bbf9_0242ac1c0002row10_col10\" class=\"data row10 col10\" >1.00</td>\n",
              "                        <td id=\"T_0cc01fc2_b108_11eb_bbf9_0242ac1c0002row10_col11\" class=\"data row10 col11\" >-0.88</td>\n",
              "                        <td id=\"T_0cc01fc2_b108_11eb_bbf9_0242ac1c0002row10_col12\" class=\"data row10 col12\" >-0.72</td>\n",
              "            </tr>\n",
              "            <tr>\n",
              "                        <th id=\"T_0cc01fc2_b108_11eb_bbf9_0242ac1c0002level0_row11\" class=\"row_heading level0 row11\" >NU_TAXA_REPROVACAO_2015</th>\n",
              "                        <td id=\"T_0cc01fc2_b108_11eb_bbf9_0242ac1c0002row11_col0\" class=\"data row11 col0\" >-0.28</td>\n",
              "                        <td id=\"T_0cc01fc2_b108_11eb_bbf9_0242ac1c0002row11_col1\" class=\"data row11 col1\" >-0.27</td>\n",
              "                        <td id=\"T_0cc01fc2_b108_11eb_bbf9_0242ac1c0002row11_col2\" class=\"data row11 col2\" >0.23</td>\n",
              "                        <td id=\"T_0cc01fc2_b108_11eb_bbf9_0242ac1c0002row11_col3\" class=\"data row11 col3\" >0.16</td>\n",
              "                        <td id=\"T_0cc01fc2_b108_11eb_bbf9_0242ac1c0002row11_col4\" class=\"data row11 col4\" >0.17</td>\n",
              "                        <td id=\"T_0cc01fc2_b108_11eb_bbf9_0242ac1c0002row11_col5\" class=\"data row11 col5\" >-0.29</td>\n",
              "                        <td id=\"T_0cc01fc2_b108_11eb_bbf9_0242ac1c0002row11_col6\" class=\"data row11 col6\" >-0.29</td>\n",
              "                        <td id=\"T_0cc01fc2_b108_11eb_bbf9_0242ac1c0002row11_col7\" class=\"data row11 col7\" >-0.27</td>\n",
              "                        <td id=\"T_0cc01fc2_b108_11eb_bbf9_0242ac1c0002row11_col8\" class=\"data row11 col8\" >0.04</td>\n",
              "                        <td id=\"T_0cc01fc2_b108_11eb_bbf9_0242ac1c0002row11_col9\" class=\"data row11 col9\" >-0.01</td>\n",
              "                        <td id=\"T_0cc01fc2_b108_11eb_bbf9_0242ac1c0002row11_col10\" class=\"data row11 col10\" >-0.88</td>\n",
              "                        <td id=\"T_0cc01fc2_b108_11eb_bbf9_0242ac1c0002row11_col11\" class=\"data row11 col11\" >1.00</td>\n",
              "                        <td id=\"T_0cc01fc2_b108_11eb_bbf9_0242ac1c0002row11_col12\" class=\"data row11 col12\" >0.31</td>\n",
              "            </tr>\n",
              "            <tr>\n",
              "                        <th id=\"T_0cc01fc2_b108_11eb_bbf9_0242ac1c0002level0_row12\" class=\"row_heading level0 row12\" >NU_TAXA_ABANDONO_2015</th>\n",
              "                        <td id=\"T_0cc01fc2_b108_11eb_bbf9_0242ac1c0002row12_col0\" class=\"data row12 col0\" >-0.46</td>\n",
              "                        <td id=\"T_0cc01fc2_b108_11eb_bbf9_0242ac1c0002row12_col1\" class=\"data row12 col1\" >-0.51</td>\n",
              "                        <td id=\"T_0cc01fc2_b108_11eb_bbf9_0242ac1c0002row12_col2\" class=\"data row12 col2\" >0.25</td>\n",
              "                        <td id=\"T_0cc01fc2_b108_11eb_bbf9_0242ac1c0002row12_col3\" class=\"data row12 col3\" >0.16</td>\n",
              "                        <td id=\"T_0cc01fc2_b108_11eb_bbf9_0242ac1c0002row12_col4\" class=\"data row12 col4\" >0.15</td>\n",
              "                        <td id=\"T_0cc01fc2_b108_11eb_bbf9_0242ac1c0002row12_col5\" class=\"data row12 col5\" >-0.48</td>\n",
              "                        <td id=\"T_0cc01fc2_b108_11eb_bbf9_0242ac1c0002row12_col6\" class=\"data row12 col6\" >-0.46</td>\n",
              "                        <td id=\"T_0cc01fc2_b108_11eb_bbf9_0242ac1c0002row12_col7\" class=\"data row12 col7\" >-0.46</td>\n",
              "                        <td id=\"T_0cc01fc2_b108_11eb_bbf9_0242ac1c0002row12_col8\" class=\"data row12 col8\" >-0.05</td>\n",
              "                        <td id=\"T_0cc01fc2_b108_11eb_bbf9_0242ac1c0002row12_col9\" class=\"data row12 col9\" >-0.01</td>\n",
              "                        <td id=\"T_0cc01fc2_b108_11eb_bbf9_0242ac1c0002row12_col10\" class=\"data row12 col10\" >-0.72</td>\n",
              "                        <td id=\"T_0cc01fc2_b108_11eb_bbf9_0242ac1c0002row12_col11\" class=\"data row12 col11\" >0.31</td>\n",
              "                        <td id=\"T_0cc01fc2_b108_11eb_bbf9_0242ac1c0002row12_col12\" class=\"data row12 col12\" >1.00</td>\n",
              "            </tr>\n",
              "    </tbody></table>"
            ],
            "text/plain": [
              "<pandas.io.formats.style.Styler at 0x7f9a46681cd0>"
            ]
          },
          "metadata": {
            "tags": []
          },
          "execution_count": 86
        }
      ]
    },
    {
      "cell_type": "markdown",
      "metadata": {
        "id": "c5QjAeb_0BmV"
      },
      "source": [
        "# Separação dos dados\n",
        "\n",
        "Agora vamos separar cada conjunto de dados em duas partes: `features`, que são os atributos sobre os quais treinaremos o modelo, e `rotulos`, que contém os atributos a serem previstos."
      ]
    },
    {
      "cell_type": "code",
      "metadata": {
        "id": "c_6UKKfX0BmV"
      },
      "source": [
        "# rotulos\n",
        "rotulos = enem[['NU_MEDIA_MT_2015', 'NU_MEDIA_RED_2015']]\n",
        "\n",
        "# features\n",
        "features = enem.drop(columns=['NU_MEDIA_MT_2015', 'NU_MEDIA_RED_2015'])"
      ],
      "execution_count": null,
      "outputs": []
    },
    {
      "cell_type": "markdown",
      "metadata": {
        "id": "7pw5JXFO0BmV"
      },
      "source": [
        "Vamos agora separar as _features_ e os rótulos em subconjuntos de treino e de testes.\n",
        "\n",
        "Não vamos precisar de conjuntos de validação, pois iremos utilizar depois a estratégia de validação cruzada para garantir que o modelo não está fazendo _overfitting_."
      ]
    },
    {
      "cell_type": "code",
      "metadata": {
        "id": "8IFsTWME0BmW"
      },
      "source": [
        "# separação em conjuntos de treino (80%) e de teste (20%)\n",
        "\n",
        "from sklearn.model_selection import train_test_split\n",
        "treino_features, teste_features, treino_rotulos, teste_rotulos = train_test_split(features, rotulos,\n",
        "                                                                                  random_state=42, \n",
        "                                                                                  train_size=0.80)"
      ],
      "execution_count": null,
      "outputs": []
    },
    {
      "cell_type": "markdown",
      "metadata": {
        "id": "w-m44RaG0BmW"
      },
      "source": [
        "É importante verificar o número de linhas e de colunas para cada subconjunto criado:"
      ]
    },
    {
      "cell_type": "code",
      "metadata": {
        "id": "HuC3D70H0BmW",
        "colab": {
          "base_uri": "https://localhost:8080/"
        },
        "outputId": "243958d7-d96c-4235-d8d1-eeedb07ec0f6"
      },
      "source": [
        "print('treino_features:', treino_features.shape)\n",
        "print('treino_rotulos: ', treino_rotulos.shape)\n",
        "print('teste_features: ', teste_features.shape)\n",
        "print('teste_rotulos:  ', teste_rotulos.shape)"
      ],
      "execution_count": null,
      "outputs": [
        {
          "output_type": "stream",
          "text": [
            "treino_features: (10496, 16)\n",
            "treino_rotulos:  (10496, 2)\n",
            "teste_features:  (2625, 16)\n",
            "teste_rotulos:   (2625, 2)\n"
          ],
          "name": "stdout"
        }
      ]
    },
    {
      "cell_type": "code",
      "metadata": {
        "id": "XYa6vV5_0BmX",
        "colab": {
          "base_uri": "https://localhost:8080/"
        },
        "outputId": "f1468253-8f5d-4730-f8c5-a56bf0c3e92c"
      },
      "source": [
        "print(treino_features.iloc[0])"
      ],
      "execution_count": null,
      "outputs": [
        {
          "output_type": "stream",
          "text": [
            "NU_MEDIA_MT_2014                                                      445.53\n",
            "NU_MEDIA_RED_2014                                                      446.4\n",
            "NO_ESCOLA_EDUCACENSO_2015         EE - COLEGIO MODELO LUIS EDUARDO MAGALHAES\n",
            "TP_DEPENDENCIA_ADM_ESCOLA_2015                                             2\n",
            "TP_LOCALIZACAO_ESCOLA_2015                                                 1\n",
            "NU_MATRICULAS_2015                                                       339\n",
            "NU_PARTICIPANTES_NEC_ESP_2015                                              0\n",
            "NU_PARTICIPANTES_2015                                                    206\n",
            "NU_TAXA_PARTICIPACAO_2015                                              60.77\n",
            "INSE_2015                                                            Grupo 2\n",
            "PC_FORMACAO_DOCENTE_2015                                                38.3\n",
            "NU_TAXA_PERMANENCIA_2015                                               67.96\n",
            "NU_TAXA_APROVACAO_2015                                                  76.1\n",
            "NU_TAXA_REPROVACAO_2015                                                 14.9\n",
            "NU_TAXA_ABANDONO_2015                                                      9\n",
            "PORTE_ESCOLA_2015                                        Maior que 90 alunos\n",
            "Name: 29403230, dtype: object\n"
          ],
          "name": "stdout"
        }
      ]
    },
    {
      "cell_type": "code",
      "metadata": {
        "id": "PAYJQysC0BmX",
        "colab": {
          "base_uri": "https://localhost:8080/"
        },
        "outputId": "4f7266e8-4162-470a-90c6-9b9368f2d446"
      },
      "source": [
        "print(treino_rotulos.iloc[0])"
      ],
      "execution_count": null,
      "outputs": [
        {
          "output_type": "stream",
          "text": [
            "NU_MEDIA_MT_2015     433.73\n",
            "NU_MEDIA_RED_2015    522.12\n",
            "Name: 29403230, dtype: float64\n"
          ],
          "name": "stdout"
        }
      ]
    },
    {
      "cell_type": "markdown",
      "metadata": {
        "id": "Kcx9YnCv0BmX"
      },
      "source": [
        "# Preprocessamento\n",
        "\n",
        "Aqui faremos a etapa de preprocessamento, necessária para transformar os dados brutos em valores mais adequados para os algoritmos de Machine Learning."
      ]
    },
    {
      "cell_type": "code",
      "metadata": {
        "id": "oY1xHdWr0BmY"
      },
      "source": [
        "from sklearn.pipeline import Pipeline"
      ],
      "execution_count": null,
      "outputs": []
    },
    {
      "cell_type": "code",
      "metadata": {
        "id": "OZ6MiHJp0BmY"
      },
      "source": [
        "# aqui definimos uma etapa auxiliar do pipeline para atributos categóricos:\n",
        "# esta substitui valores faltando pelo mais frequente de cada coluna\n",
        "# (não se preocupe com os detalhes do código)\n",
        "\n",
        "from sklearn.base import BaseEstimator, TransformerMixin\n",
        "\n",
        "class MostFrequentImputer(BaseEstimator, TransformerMixin):\n",
        "    def fit(self, X, y=None):\n",
        "        self.most_frequent_ = pd.Series([X[c].value_counts().index[0] for c in X], index=X.columns)\n",
        "        return self\n",
        "    def transform(self, X, y=None):\n",
        "        return X.fillna(self.most_frequent_)"
      ],
      "execution_count": null,
      "outputs": []
    },
    {
      "cell_type": "markdown",
      "metadata": {
        "id": "phTgvXW80BmZ"
      },
      "source": [
        "Atributos numéricos (contínuos) e atributos categóricos (discretos) precisam ser processados separadamente.\n",
        "\n",
        "O trecho a seguir define um _pipeline_ genérico, apenas para os atributos numéricos. A etapa usando `SimpleImputer(strategy='median')` preenche valores faltando com a mediana dos valores daquele atributo."
      ]
    },
    {
      "cell_type": "code",
      "metadata": {
        "id": "fi3eY4DS0BmZ"
      },
      "source": [
        "# pipeline para atributos numéricos\n",
        "\n",
        "from sklearn.impute import SimpleImputer\n",
        "from sklearn.preprocessing import StandardScaler\n",
        "\n",
        "num_pipeline = Pipeline([\n",
        "    ('imputer', SimpleImputer(strategy='median')),\n",
        "    ('std_scaler', StandardScaler()),\n",
        "])"
      ],
      "execution_count": null,
      "outputs": []
    },
    {
      "cell_type": "markdown",
      "metadata": {
        "id": "bhD8F8a50Bma"
      },
      "source": [
        "O trecho a seguir define um pipeline genérico, apenas para os atributos categóricos.\n",
        "\n",
        "A etapa usando `MostFrequentImputer()` preenche valores faltando com o mais frequente dos valores daquele atributo. Já a etapa seguinte, usando `OneHotEncoder(sparse=False)` expande cada atributo que não é numérico para um conjunto de atributos binários. Esta precisa ser a última etapa desse _pipeline_."
      ]
    },
    {
      "cell_type": "code",
      "metadata": {
        "id": "ylLFaKFc0Bmb"
      },
      "source": [
        "# pipeline para atributos categóricos\n",
        "\n",
        "from sklearn.preprocessing import OneHotEncoder\n",
        "\n",
        "cat_pipeline = Pipeline([\n",
        "    ('imputer', MostFrequentImputer()),\n",
        "    ('encoder', OneHotEncoder(sparse=False)),\n",
        "])"
      ],
      "execution_count": null,
      "outputs": []
    },
    {
      "cell_type": "markdown",
      "metadata": {
        "id": "mSJQW3Iv0Bmb"
      },
      "source": [
        "A seguir usamos o recurso `ColumnTransformer` para aplicar determinados _pipelines_ para determinados atributos. Assim temos um _pipeline_ inteligente que processa os dados de uma só vez, mas executa operações diferentes conforme a natureza de cada atributo."
      ]
    },
    {
      "cell_type": "code",
      "metadata": {
        "id": "6pRbDV3w0Bmb"
      },
      "source": [
        "# pipeline combinando atributos numéricos com atributos categóricos\n",
        "\n",
        "from sklearn.compose import ColumnTransformer\n",
        "\n",
        "full_pipeline = ColumnTransformer([\n",
        "    ('num', num_pipeline, ['NU_MEDIA_MT_2014', 'NU_MEDIA_RED_2014',\n",
        "                           'NU_MATRICULAS_2015', \n",
        "                           'NU_PARTICIPANTES_NEC_ESP_2015', 'NU_PARTICIPANTES_2015', 'NU_TAXA_PARTICIPACAO_2015',\n",
        "                           'PC_FORMACAO_DOCENTE_2015', 'NU_TAXA_PERMANENCIA_2015', 'NU_TAXA_APROVACAO_2015',\n",
        "                           'NU_TAXA_REPROVACAO_2015', 'NU_TAXA_ABANDONO_2015']),\n",
        "    ('cat', cat_pipeline, ['TP_DEPENDENCIA_ADM_ESCOLA_2015', 'TP_LOCALIZACAO_ESCOLA_2015', 'INSE_2015',\n",
        "                           'PORTE_ESCOLA_2015']),\n",
        "])"
      ],
      "execution_count": null,
      "outputs": []
    },
    {
      "cell_type": "markdown",
      "metadata": {
        "id": "1HG4xNaW0Bmb"
      },
      "source": [
        "Enfim, processamos os features de treino e de teste, gerando os conjuntos prontos para o treinamento. Note que para os dados de treino usamos `.fit_transform()`, enquanto para os de teste apenas `.transform()`."
      ]
    },
    {
      "cell_type": "code",
      "metadata": {
        "id": "3s9NBF8h0Bmc",
        "colab": {
          "base_uri": "https://localhost:8080/"
        },
        "outputId": "4117de59-1c16-4e0b-e1a4-c5f4582e1cc7"
      },
      "source": [
        "# preprocessamento\n",
        "X_treino = full_pipeline.fit_transform(treino_features)\n",
        "X_teste  = full_pipeline.transform(teste_features)\n",
        "print(X_treino)"
      ],
      "execution_count": null,
      "outputs": [
        {
          "output_type": "stream",
          "text": [
            "[[-0.79496805 -0.8162171   2.91596328 ...  0.          0.\n",
            "   1.        ]\n",
            " [-0.83264068 -0.42146801  0.42016313 ...  0.          0.\n",
            "   1.        ]\n",
            " [ 0.68490802  0.9892998   0.17524816 ...  0.          0.\n",
            "   1.        ]\n",
            " ...\n",
            " [-0.56879223 -0.58949204 -0.57115936 ...  1.          0.\n",
            "   0.        ]\n",
            " [-0.04235577  0.91822451 -0.74609862 ...  0.          0.\n",
            "   0.        ]\n",
            " [-0.44891205 -0.27870383  0.54845192 ...  0.          0.\n",
            "   1.        ]]\n"
          ],
          "name": "stdout"
        }
      ]
    },
    {
      "cell_type": "markdown",
      "metadata": {
        "id": "D7HIaWiN0Bmc"
      },
      "source": [
        "Aqui vamos extrair somente os dados brutos dos rótulos, e colocar em `y_treino`, que é o formato esperado pelos algoritmos de Machine Learning."
      ]
    },
    {
      "cell_type": "code",
      "metadata": {
        "id": "HXn-Edvy0Bmc",
        "colab": {
          "base_uri": "https://localhost:8080/"
        },
        "outputId": "62f1c1ac-cd79-4b5a-f7d4-36cf4fbe7059"
      },
      "source": [
        "y_treino = treino_rotulos.values\n",
        "y_teste  = teste_rotulos.values\n",
        "print(y_treino)"
      ],
      "execution_count": null,
      "outputs": [
        {
          "output_type": "stream",
          "text": [
            "[[433.73 522.12]\n",
            " [437.38 583.04]\n",
            " [520.97 700.61]\n",
            " ...\n",
            " [460.6  560.95]\n",
            " [431.94 561.  ]\n",
            " [462.03 555.18]]\n"
          ],
          "name": "stdout"
        }
      ]
    },
    {
      "cell_type": "markdown",
      "metadata": {
        "id": "SinN-zGS0Bmd"
      },
      "source": [
        "# Seleção do modelo\n",
        "\n",
        "Aqui selecionamos um modelo para o aprendizado, baseado em um dos possíveis algoritmos de regressão. \n",
        "\n",
        "Como estamos criando um modelo com duas saídas (_multioutput_), para regressores simples precisamos usar o recurso `MultiOutputRegressor`. Este cria internamente um modelo separado para cada saída, mas os processos de treino, validação, teste e predição continuam os mesmos.\n",
        "\n",
        "Já o modelo do tipo `RandomForestRegressor` é naturalmente capaz de gerar múltiplas saídas, então pode ser utilizado diretamente.\n",
        "\n",
        "**Ajuste:** Depois de medir o desempenho do modelo você pode habilitar outros algoritmos. Note que apenas um  comando deve estar ativo (a linha de criação do `classificador`).\n",
        "\n",
        "- Para o algoritmo `SVR` você pode mudar os hiperparâmetros `C` e `gamma='auto'`.\n",
        "\n",
        "- Para o algoritmo `SGDRegressor` você pode mudar o hiperparâmetro `eta0`.\n",
        "\n",
        "- Para o algoritmo `LinearRegression` não há hiperparâmetros a serem ajustados.\n",
        "\n",
        "- Para o algoritmo `RandomForestRegressor` você pode aumentar o parâmetro `n_estimators`, por exemplo para 10 ou 100."
      ]
    },
    {
      "cell_type": "code",
      "metadata": {
        "id": "ccy7Yki60Bmd"
      },
      "source": [
        "from sklearn.multioutput import MultiOutputRegressor\n",
        "from sklearn.svm import SVR\n",
        "from sklearn.linear_model import SGDRegressor\n",
        "from sklearn.linear_model import LinearRegression\n",
        "from sklearn.ensemble import RandomForestRegressor\n",
        "\n",
        "regressor = MultiOutputRegressor(SVR(C=10.0, gamma='auto'))\n",
        "\n",
        "#regressor = MultiOutputRegressor(SGDRegressor(random_state=42, learning_rate='constant', eta0=0.0001))\n",
        "\n",
        "#regressor = MultiOutputRegressor(LinearRegression())\n",
        "\n",
        "#regressor = RandomForestRegressor(random_state=42, n_estimators=1)"
      ],
      "execution_count": null,
      "outputs": []
    },
    {
      "cell_type": "markdown",
      "metadata": {
        "id": "c0LvnP9m0Bmd"
      },
      "source": [
        "# Treino e medida de desempenho\n",
        "\n",
        "Vamos treinar e avaliar o regressor fazendo a **validação cruzada** do conjunto de treino. O parâmetro `cv=3` indica o número de dobras (ou _folds_), que é o número de vezes em que o conjunto é repartido, treinado e mensurado.\n",
        "\n",
        "Como medida de desempenho vamos usar o erro absoluto médio. **Quanto menor esse erro, melhor.** Ele indica em média quantos pontos a mais ou menos as previsões das notas erram.\n",
        "\n",
        "Como a validação cruzada devolve várias medidas, guardadas na lista `scores`, calculamos e exibimos uma média aritmética simples dessas medidas."
      ]
    },
    {
      "cell_type": "code",
      "metadata": {
        "id": "abpc0kQD0Bme",
        "colab": {
          "base_uri": "https://localhost:8080/"
        },
        "outputId": "43dfa232-1cd5-4f14-92ec-0a986fcca531"
      },
      "source": [
        "# validação cruzada\n",
        "\n",
        "from sklearn.model_selection import cross_val_score\n",
        "\n",
        "%time scores = cross_val_score(regressor, X_treino, y_treino, cv=3, scoring='neg_mean_absolute_error')\n",
        "print('scores: ' + ('{:.2f} ' * len(scores)).format(*(-scores)))\n",
        "print('média:  {:.2f}'.format(-scores.mean()))"
      ],
      "execution_count": null,
      "outputs": [
        {
          "output_type": "stream",
          "text": [
            "CPU times: user 31.6 s, sys: 243 ms, total: 31.8 s\n",
            "Wall time: 31.7 s\n",
            "scores: 21.59 21.48 21.83 \n",
            "média:  21.64\n"
          ],
          "name": "stdout"
        }
      ]
    },
    {
      "cell_type": "markdown",
      "metadata": {
        "id": "3ZGPxajF0Bme"
      },
      "source": [
        "**Opcional:** Para melhorar o modelo existem diversas possibilidades de **ajuste** do modelo:\n",
        "\n",
        "- A ação mais direta é simplesmente testar outros algoritmos, como mostrado na seção \"Seleção do Modelo\".\n",
        "\n",
        "- Também é possível experimentar com os hiperparâmetros dos diversos algoritmos.\n",
        "\n",
        "- Outra possibilidade é reduzir o número de _features_, simplesmente retirando atributos numéricos e categóricos do _pipeline_ `full_pipeline` na seção \"Preprocessamento\".\n",
        "\n",
        "**Avançado**: Ainda é possível incluir mais _features_ do ano de 2014, o que deve ser feito na seção \"Reorganização dos dados\" e depois na seção \"Preprocessamento\"."
      ]
    },
    {
      "cell_type": "markdown",
      "metadata": {
        "id": "2R6LOMBc0Bme"
      },
      "source": [
        "# Teste final do modelo\n",
        "\n",
        "Se você estiver satisfeito com a qualidade obtida na validação cruzada, então podemos fazer o teste final do modelo `regressor`.\n",
        "\n",
        "Note que o treinamento do modelo é feito de fato aqui, com a chamada de `.fit()`. A validação cruzada feita anteriormente gera modelos temporários para as medidas e os descarta, mas não deixa o modelo treinado."
      ]
    },
    {
      "cell_type": "code",
      "metadata": {
        "id": "xPTYOzWa0Bmf",
        "colab": {
          "base_uri": "https://localhost:8080/"
        },
        "outputId": "ff287114-63db-475e-bf23-fea37de45f8b"
      },
      "source": [
        "# treinamento\n",
        "regressor.fit(X_treino, y_treino)\n",
        "\n",
        "# geração das previsões\n",
        "y_teste_pred = regressor.predict(X_teste)\n",
        "print(y_teste_pred)"
      ],
      "execution_count": null,
      "outputs": [
        {
          "output_type": "stream",
          "text": [
            "[[499.42404952 571.00355252]\n",
            " [579.20480606 601.64098198]\n",
            " [513.06470994 594.27516077]\n",
            " ...\n",
            " [536.26135492 612.67262252]\n",
            " [551.56988303 636.63603065]\n",
            " [458.12408958 533.96676669]]\n"
          ],
          "name": "stdout"
        }
      ]
    },
    {
      "cell_type": "markdown",
      "metadata": {
        "id": "XKg6wZJR0Bmf"
      },
      "source": [
        "Agora vamos avaliar o erro absoluto médio novamente, porém comparando o valores previstos com base nos dados de teste contra os rótulos reais para os mesmos dados de teste."
      ]
    },
    {
      "cell_type": "code",
      "metadata": {
        "id": "Cx9jtRxE0Bmf",
        "colab": {
          "base_uri": "https://localhost:8080/"
        },
        "outputId": "9e5c59fb-d5a7-477d-8101-98ceb35cd5e5"
      },
      "source": [
        "# medida de desempenho\n",
        "from sklearn.metrics import mean_absolute_error\n",
        "score_teste = mean_absolute_error(y_teste, y_teste_pred)\n",
        "print('score teste: {:.2f}'.format(score_teste))"
      ],
      "execution_count": null,
      "outputs": [
        {
          "output_type": "stream",
          "text": [
            "score teste: 21.41\n"
          ],
          "name": "stdout"
        }
      ]
    },
    {
      "cell_type": "markdown",
      "metadata": {
        "id": "vDpW8wbh0Bmg"
      },
      "source": [
        "Caso o modelo escolhido seja do tipo `RandomForestRegressor`, podemos inspecionar a importância aprendida para as features do conjunto, o que dá um _insight_ importante sobre os dados."
      ]
    },
    {
      "cell_type": "code",
      "metadata": {
        "id": "P6DDCZxF0Bmg",
        "colab": {
          "base_uri": "https://localhost:8080/"
        },
        "outputId": "88af7fc2-ffed-41cb-f998-b2b3e6337078"
      },
      "source": [
        "# lista a importância das features\n",
        "if type(regressor) != RandomForestRegressor:\n",
        "    print('AVISO: este tipo de regressor não permite visualizar a importância das features')\n",
        "else:\n",
        "    # features listadas por ordem crescente de importância\n",
        "    for score, name in sorted(zip(regressor.feature_importances_, treino_features.columns)):\n",
        "        print('{:06.2%}'.format(score), name)"
      ],
      "execution_count": null,
      "outputs": [
        {
          "output_type": "stream",
          "text": [
            "AVISO: este tipo de regressor não permite visualizar a importância das features\n"
          ],
          "name": "stdout"
        }
      ]
    },
    {
      "cell_type": "markdown",
      "metadata": {
        "id": "zjhJpU0B0Bmh"
      },
      "source": [
        "# Criando um modelo de rede neural\n",
        "\n",
        "Aqui vamos criar uma rede neural de regressão, usando um modelo (ou arquitetura) do tipo sequencial. O modelo sequencial corresponde ao tipo mais simples de rede neural, onde uma sequência de camadas de neurônios é empilhada uma em cima da outra.\n",
        "\n",
        "Para este tipo específico de tarefa de regressão, não selecionamos nenhuma função de ativação para a camada de saída. Ou seja, basta deixar os dados \"brutos\" sairem da rede neural.\n",
        "\n",
        "Além disso, como queremos gerar a previsão para dois rótulos distintos, a camada de saída precisa ter **duas saídas**.\n",
        "\n",
        "Observe os demais parâmetros para o processo de treinamento:\n",
        "\n",
        "- O parâmetro `n_splits=2` define o número de quebras do conjunto de treinamento para a validação cruzada.\n",
        "\n",
        "- A arquitetura da rede pode ser modificada, adicionando novas camadas ocultas ou mudando o númere de neurônio das mesmas.\n",
        "\n",
        "- A função de perda é dada por `loss='mean_absolute_error'`, e precisa ser a mesma utilizada anteriormente em outros modelos, para que possamos comparar seu desempenho.\n",
        "\n",
        "- A taxa de aprendizado é dada pelo hiperparâmetro `lr=0.01`, que também pode ser experimentada.\n",
        "\n",
        "- É possivel usar a estratégia de _early stopping_ descomentando a linha `callbacks=[keras.callbacks.EarlyStopping(patience=5)],`.\n",
        "\n",
        "- Pode-se ainda mudar o número de épocas com o hiperparâmetro `epochs=10` (experimente com valores maiores)."
      ]
    },
    {
      "cell_type": "code",
      "metadata": {
        "id": "IFoNXV390Bmh",
        "colab": {
          "base_uri": "https://localhost:8080/",
          "height": 1261
        },
        "outputId": "c06c31dc-dfd3-4aa3-d861-d9442565e60f"
      },
      "source": [
        "# comandos para 'zerar' a biblioteca Keras e definir as sementes aleatórias\n",
        "keras.backend.clear_session()\n",
        "np.random.seed(42)\n",
        "tf.random.set_seed(42)\n",
        "\n",
        "# controle da validação cruzada\n",
        "from sklearn.model_selection import KFold\n",
        "kfold = KFold(random_state=42, shuffle=True, n_splits=2) # número de folds\n",
        "scores = []\n",
        "for fold_treino, fold_valid in kfold.split(X_treino, y_treino):\n",
        "    # especificação do modelo\n",
        "    model = keras.models.Sequential([\n",
        "        keras.layers.Dense(30, activation='relu', input_shape=[X_treino.shape[1]]),\n",
        "      # keras.layers.Dense(10, activation='relu'),\n",
        "        keras.layers.Dense(2, activation=None)\n",
        "    ])\n",
        "\n",
        "    # especificação da função de perda e do algoritmo de otimização\n",
        "    model.compile(loss='mean_absolute_error', optimizer=keras.optimizers.SGD(lr=0.01)) # taxa de aprendizado\n",
        "\n",
        "    # treinamento\n",
        "    print('------------------------------------------= FOLD =------------------------------------------')\n",
        "    history = model.fit(X_treino[fold_treino], y_treino[fold_treino], epochs=10, # número de épocas\n",
        "                        #callbacks=[keras.callbacks.EarlyStopping(patience=5)],\n",
        "                        validation_data=(X_treino[fold_valid], y_treino[fold_valid]))\n",
        "    scores.append(history.history['loss'][-1])\n",
        "    \n",
        "    # exibição das funções de perda de treino e de validação, para cada época (eixo horizontal)\n",
        "    pd.DataFrame(history.history).iloc[2:].plot(figsize=(10, 4))\n",
        "    plt.grid(True)\n",
        "    plt.show()\n",
        "    \n",
        "print('scores: ' + ('{:.2f} ' * len(scores)).format(*scores))\n",
        "print('média:  {:.2f}'.format(np.mean(scores)))"
      ],
      "execution_count": null,
      "outputs": [
        {
          "output_type": "stream",
          "text": [
            "------------------------------------------= FOLD =------------------------------------------\n",
            "Epoch 1/10\n",
            "164/164 [==============================] - 1s 3ms/step - loss: 531.8564 - val_loss: 514.0601\n",
            "Epoch 2/10\n",
            "164/164 [==============================] - 0s 2ms/step - loss: 459.4603 - val_loss: 36.1340\n",
            "Epoch 3/10\n",
            "164/164 [==============================] - 0s 2ms/step - loss: 32.3677 - val_loss: 30.1937\n",
            "Epoch 4/10\n",
            "164/164 [==============================] - 0s 2ms/step - loss: 28.5118 - val_loss: 28.7263\n",
            "Epoch 5/10\n",
            "164/164 [==============================] - 0s 2ms/step - loss: 27.3459 - val_loss: 27.6754\n",
            "Epoch 6/10\n",
            "164/164 [==============================] - 0s 2ms/step - loss: 26.2208 - val_loss: 26.7368\n",
            "Epoch 7/10\n",
            "164/164 [==============================] - 0s 2ms/step - loss: 26.4845 - val_loss: 25.9943\n",
            "Epoch 8/10\n",
            "164/164 [==============================] - 0s 2ms/step - loss: 25.3884 - val_loss: 25.2232\n",
            "Epoch 9/10\n",
            "164/164 [==============================] - 0s 2ms/step - loss: 24.2506 - val_loss: 24.6702\n",
            "Epoch 10/10\n",
            "164/164 [==============================] - 0s 2ms/step - loss: 24.0612 - val_loss: 24.0313\n"
          ],
          "name": "stdout"
        },
        {
          "output_type": "display_data",
          "data": {
            "image/png": "[encoded data removed]",
            "text/plain": [
              "<Figure size 720x288 with 1 Axes>"
            ]
          },
          "metadata": {
            "tags": [],
            "needs_background": "light"
          }
        },
        {
          "output_type": "stream",
          "text": [
            "------------------------------------------= FOLD =------------------------------------------\n",
            "Epoch 1/10\n",
            "164/164 [==============================] - 1s 3ms/step - loss: 530.7601 - val_loss: 512.7571\n",
            "Epoch 2/10\n",
            "164/164 [==============================] - 0s 2ms/step - loss: 453.5939 - val_loss: 37.6276\n",
            "Epoch 3/10\n",
            "164/164 [==============================] - 0s 2ms/step - loss: 33.6072 - val_loss: 29.3838\n",
            "Epoch 4/10\n",
            "164/164 [==============================] - 0s 2ms/step - loss: 29.3582 - val_loss: 28.4131\n",
            "Epoch 5/10\n",
            "164/164 [==============================] - 0s 2ms/step - loss: 28.3253 - val_loss: 27.2363\n",
            "Epoch 6/10\n",
            "164/164 [==============================] - 0s 2ms/step - loss: 27.8341 - val_loss: 26.3605\n",
            "Epoch 7/10\n",
            "164/164 [==============================] - 0s 2ms/step - loss: 26.9391 - val_loss: 25.7285\n",
            "Epoch 8/10\n",
            "164/164 [==============================] - 0s 2ms/step - loss: 25.7050 - val_loss: 24.7238\n",
            "Epoch 9/10\n",
            "164/164 [==============================] - 0s 2ms/step - loss: 24.9246 - val_loss: 24.1072\n",
            "Epoch 10/10\n",
            "164/164 [==============================] - 0s 2ms/step - loss: 24.2764 - val_loss: 23.3732\n"
          ],
          "name": "stdout"
        },
        {
          "output_type": "display_data",
          "data": {
            "image/png": "[encoded data removed]",
            "text/plain": [
              "<Figure size 720x288 with 1 Axes>"
            ]
          },
          "metadata": {
            "tags": [],
            "needs_background": "light"
          }
        },
        {
          "output_type": "stream",
          "text": [
            "scores: 23.69 24.22 \n",
            "média:  23.96\n"
          ],
          "name": "stdout"
        }
      ]
    },
    {
      "cell_type": "markdown",
      "metadata": {
        "id": "HOQQyK2X0Bmi"
      },
      "source": [
        "# Geração de previsões e teste final do modelo de rede neural"
      ]
    },
    {
      "cell_type": "code",
      "metadata": {
        "id": "eg6J8LtY0Bmi",
        "colab": {
          "base_uri": "https://localhost:8080/"
        },
        "outputId": "8e918a77-d6ba-400d-e982-460817bc380f"
      },
      "source": [
        "# previsões computadas para três instâncias de teste\n",
        "y_predi = model.predict(tf.constant(X_teste[:3]))\n",
        "print('previsões: ', y_predi[0].round(2), y_predi[1].round(2), y_predi[2].round(2))\n",
        "print('rótulos:   ', y_teste[0].round(2), y_teste[1].round(2), y_teste[2].round(2))"
      ],
      "execution_count": null,
      "outputs": [
        {
          "output_type": "stream",
          "text": [
            "WARNING:tensorflow:6 out of the last 6 calls to <function Model.make_predict_function.<locals>.predict_function at 0x7f9a411113b0> triggered tf.function retracing. Tracing is expensive and the excessive number of tracings could be due to (1) creating @tf.function repeatedly in a loop, (2) passing tensors with different shapes, (3) passing Python objects instead of tensors. For (1), please define your @tf.function outside of the loop. For (2), @tf.function has experimental_relax_shapes=True option that relaxes argument shapes that can avoid unnecessary retracing. For (3), please refer to https://www.tensorflow.org/guide/function#controlling_retracing and https://www.tensorflow.org/api_docs/python/tf/function for  more details.\n",
            "previsões:  [495.02 570.48] [564.39 641.78] [510.43 588.27]\n",
            "rótulos:    [505.22 696.47] [551.41 636.  ] [505.57 605.97]\n"
          ],
          "name": "stdout"
        }
      ]
    },
    {
      "cell_type": "code",
      "metadata": {
        "id": "4hT9gDRE0Bmi",
        "colab": {
          "base_uri": "https://localhost:8080/"
        },
        "outputId": "70454276-4e6e-4d02-ff5b-1c9197b8b7d8"
      },
      "source": [
        "# avaliação com conjunto de teste\n",
        "score_teste = model.evaluate(X_teste, y_teste)\n",
        "print('score teste: {:.2f}'.format(score_teste))"
      ],
      "execution_count": null,
      "outputs": [
        {
          "output_type": "stream",
          "text": [
            "83/83 [==============================] - 0s 2ms/step - loss: 23.8599\n",
            "score teste: 23.86\n"
          ],
          "name": "stdout"
        }
      ]
    }
  ]
}