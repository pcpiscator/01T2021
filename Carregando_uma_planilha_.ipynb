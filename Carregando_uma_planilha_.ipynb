{
  "nbformat": 4,
  "nbformat_minor": 0,
  "metadata": {
    "colab": {
      "name": "Carregando uma planilha .ipynb",
      "provenance": [],
      "authorship_tag": "ABX9TyNRRt/znRvTPt6PVeZd5Ir7",
      "include_colab_link": true
    },
    "kernelspec": {
      "name": "python3",
      "display_name": "Python 3"
    },
    "language_info": {
      "name": "python"
    }
  },
  "cells": [
    {
      "cell_type": "markdown",
      "metadata": {
        "id": "view-in-github",
        "colab_type": "text"
      },
      "source": [
        "<a href=\"https://colab.research.google.com/github/pcpiscator/01T2021/blob/main/Carregando_uma_planilha_.ipynb\" target=\"_parent\"><img src=\"https://colab.research.google.com/assets/colab-badge.svg\" alt=\"Open In Colab\"/></a>"
      ]
    },
    {
      "cell_type": "code",
      "metadata": {
        "id": "7oxaThQi0Bl6"
      },
      "source": [
        "%matplotlib inline\n",
        "import numpy as np\n",
        "import matplotlib.pyplot as plt\n",
        "import pandas as pd\n",
        "import sklearn"
      ],
      "execution_count": 2,
      "outputs": []
    },
    {
      "cell_type": "markdown",
      "metadata": {
        "id": "uQPHiUDwYkcb"
      },
      "source": [
        "Carregar a planilha MICRODADOS_ENEM_ESCOLA.csv"
      ]
    },
    {
      "cell_type": "code",
      "metadata": {
        "id": "OjAvmuDi0BmA"
      },
      "source": [
        "# leitura dos conjuntos de dados\n",
        "\n",
        "enem_original = pd.read_csv('MICRODADOS_ENEM_ESCOLA.csv', sep=';', encoding='latin_1', low_memory=False) # "
      ],
      "execution_count": 3,
      "outputs": []
    },
    {
      "cell_type": "code",
      "metadata": {
        "id": "LKQ41jMC0BmC"
      },
      "source": [
        "enem_original.head(5)"
      ],
      "execution_count": null,
      "outputs": []
    }
  ]
}