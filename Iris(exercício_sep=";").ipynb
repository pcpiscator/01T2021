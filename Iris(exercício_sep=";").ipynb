{
  "nbformat": 4,
  "nbformat_minor": 0,
  "metadata": {
    "colab": {
      "name": "Iris(exercício sep=\";\").ipynb",
      "provenance": [],
      "authorship_tag": "ABX9TyMHIs8r+j9LEjaXHLsLckIR",
      "include_colab_link": true
    },
    "kernelspec": {
      "name": "python3",
      "display_name": "Python 3"
    },
    "language_info": {
      "name": "python"
    }
  },
  "cells": [
    {
      "cell_type": "markdown",
      "metadata": {
        "id": "view-in-github",
        "colab_type": "text"
      },
      "source": [
        "<a href=\"https://colab.research.google.com/github/pcpiscator/01T2021/blob/main/Iris(exerc%C3%ADcio_sep%3D%22%3B%22).ipynb\" target=\"_parent\"><img src=\"https://colab.research.google.com/assets/colab-badge.svg\" alt=\"Open In Colab\"/></a>"
      ]
    },
    {
      "cell_type": "code",
      "metadata": {
        "id": "_SVIbO3-LVkb"
      },
      "source": [
        "import pandas as pd\n",
        "import numpy as np\n",
        "import seaborn as sns\n",
        "import matplotlib.pyplot as plt\n",
        "from datetime import datetime\n",
        "from dateutil.parser import parse\n",
        "import sklearn \n",
        "%matplotlib inline"
      ],
      "execution_count": 6,
      "outputs": []
    },
    {
      "cell_type": "code",
      "metadata": {
        "colab": {
          "base_uri": "https://localhost:8080/"
        },
        "id": "r8_8Ax6SMJFX",
        "outputId": "003c6137-9ba6-4187-cdbf-e3d6ba76ecd7"
      },
      "source": [
        "iris = pd.read_csv(\"https://raw.githubusercontent.com/pcpiscator/01T2021/main/IRIS.csv\", error_bad_lines=False, encoding = \"ISO-8859-1\", sep = \";\")\n",
        "print (iris)"
      ],
      "execution_count": 9,
      "outputs": [
        {
          "output_type": "stream",
          "text": [
            "           Column1.1        Column1.2        Column1.3        Column1.4\n",
            "0    comp.sepala(cm)  larg.sepala(cm)  comp.petala(cm)  larg.petala(cm)\n",
            "1               5.01             3.05              1.4              0.2\n",
            "2               4.09             3.00              1.4              0.2\n",
            "3               4.07             3.02              1.3              0.2\n",
            "4               4.06             3.01              1.5              0.2\n",
            "..               ...              ...              ...              ...\n",
            "147             6.03              2.5              5.0              1.9\n",
            "148             6.05              3.0             5.02               2.\n",
            "149             6.02             3.04             5.04              2.3\n",
            "150             5.09              3.0             5.01              1.8\n",
            "151              NaN              NaN              NaN              NaN\n",
            "\n",
            "[152 rows x 4 columns]\n"
          ],
          "name": "stdout"
        }
      ]
    },
    {
      "cell_type": "code",
      "metadata": {
        "colab": {
          "base_uri": "https://localhost:8080/",
          "height": 204
        },
        "id": "Zeb-6lUhNe2X",
        "outputId": "1f34056d-cadf-47ab-b2ca-5822a29779c9"
      },
      "source": [
        "iris.head()"
      ],
      "execution_count": 10,
      "outputs": [
        {
          "output_type": "execute_result",
          "data": {
            "text/html": [
              "<div>\n",
              "<style scoped>\n",
              "    .dataframe tbody tr th:only-of-type {\n",
              "        vertical-align: middle;\n",
              "    }\n",
              "\n",
              "    .dataframe tbody tr th {\n",
              "        vertical-align: top;\n",
              "    }\n",
              "\n",
              "    .dataframe thead th {\n",
              "        text-align: right;\n",
              "    }\n",
              "</style>\n",
              "<table border=\"1\" class=\"dataframe\">\n",
              "  <thead>\n",
              "    <tr style=\"text-align: right;\">\n",
              "      <th></th>\n",
              "      <th>Column1.1</th>\n",
              "      <th>Column1.2</th>\n",
              "      <th>Column1.3</th>\n",
              "      <th>Column1.4</th>\n",
              "    </tr>\n",
              "  </thead>\n",
              "  <tbody>\n",
              "    <tr>\n",
              "      <th>0</th>\n",
              "      <td>comp.sepala(cm)</td>\n",
              "      <td>larg.sepala(cm)</td>\n",
              "      <td>comp.petala(cm)</td>\n",
              "      <td>larg.petala(cm)</td>\n",
              "    </tr>\n",
              "    <tr>\n",
              "      <th>1</th>\n",
              "      <td>5.01</td>\n",
              "      <td>3.05</td>\n",
              "      <td>1.4</td>\n",
              "      <td>0.2</td>\n",
              "    </tr>\n",
              "    <tr>\n",
              "      <th>2</th>\n",
              "      <td>4.09</td>\n",
              "      <td>3.00</td>\n",
              "      <td>1.4</td>\n",
              "      <td>0.2</td>\n",
              "    </tr>\n",
              "    <tr>\n",
              "      <th>3</th>\n",
              "      <td>4.07</td>\n",
              "      <td>3.02</td>\n",
              "      <td>1.3</td>\n",
              "      <td>0.2</td>\n",
              "    </tr>\n",
              "    <tr>\n",
              "      <th>4</th>\n",
              "      <td>4.06</td>\n",
              "      <td>3.01</td>\n",
              "      <td>1.5</td>\n",
              "      <td>0.2</td>\n",
              "    </tr>\n",
              "  </tbody>\n",
              "</table>\n",
              "</div>"
            ],
            "text/plain": [
              "         Column1.1        Column1.2        Column1.3        Column1.4\n",
              "0  comp.sepala(cm)  larg.sepala(cm)  comp.petala(cm)  larg.petala(cm)\n",
              "1             5.01             3.05              1.4              0.2\n",
              "2             4.09             3.00              1.4              0.2\n",
              "3             4.07             3.02              1.3              0.2\n",
              "4             4.06             3.01              1.5              0.2"
            ]
          },
          "metadata": {
            "tags": []
          },
          "execution_count": 10
        }
      ]
    }
  ]
}