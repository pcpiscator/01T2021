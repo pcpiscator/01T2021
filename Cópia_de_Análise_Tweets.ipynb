{
  "nbformat": 4,
  "nbformat_minor": 0,
  "metadata": {
    "kernelspec": {
      "display_name": "Python 3",
      "language": "python",
      "name": "python3"
    },
    "language_info": {
      "codemirror_mode": {
        "name": "ipython",
        "version": 3
      },
      "file_extension": ".py",
      "mimetype": "text/x-python",
      "name": "python",
      "nbconvert_exporter": "python",
      "pygments_lexer": "ipython3",
      "version": "3.6.8"
    },
    "colab": {
      "name": "Cópia de Análise_Tweets",
      "provenance": [],
      "include_colab_link": true
    }
  },
  "cells": [
    {
      "cell_type": "markdown",
      "metadata": {
        "id": "view-in-github",
        "colab_type": "text"
      },
      "source": [
        "<a href=\"https://colab.research.google.com/github/pcpiscator/01T2021/blob/main/C%C3%B3pia_de_An%C3%A1lise_Tweets.ipynb\" target=\"_parent\"><img src=\"https://colab.research.google.com/assets/colab-badge.svg\" alt=\"Open In Colab\"/></a>"
      ]
    },
    {
      "cell_type": "markdown",
      "metadata": {
        "id": "EXIbL8IPcbK_"
      },
      "source": [
        "#Análise de Tweets\n",
        "> Por Marcelo Pias\n",
        "\n",
        "\n",
        "<img width=480 src=\"https://miro.medium.com/max/450/1*p3Ste5R_iJzi5IcSmFkmtg.jpeg\"> </img>\n",
        "\n",
        "\n",
        "\n",
        "**IMPORTANTE: você deve salvar este notebook localmente (computador ou Google Drive) para poder trabalhar nos exercícios. Basta clicar no Menu Arquivo-> Salvar cópia no Drive.**"
      ]
    },
    {
      "cell_type": "markdown",
      "metadata": {
        "id": "NW1YQ4vWW7WI"
      },
      "source": [
        "# Jupyter Notebooks\n",
        "\n",
        "Antes de entrarmos no tópico de **análise de tweets**, é importante relembrarmos sobre o nosso ambiente de desenvolvimento **Jupyter Notebook** no Google Colaboratory. Este ambiente, neste momento sendo utilizado, permite criar um documento com células contendo texto, imagens e \"pedaços\" de código em uma linguagem de programação como Python. \n",
        "\n",
        "O **notebook** que iremos explorar neste laboratório encontra-se em uma plataforma na nuvem, neste caso, o Google Colab. Sempre que aparecer a célula como a mostrada abaixo, com dois colchetes [], indica que é uma célula de código em Python. Basta clicar nesta e usar a combinação das teclas SHIFT+ENTER com intuito de executar o código. \n",
        "\n",
        "Agora tente você mesmo na célula abaixo. Posicione o curso do mouse na célula, e pressione simultaneamente SHIFT+ENTER. O código será executado:\n"
      ]
    },
    {
      "cell_type": "code",
      "metadata": {
        "id": "g6mMdU86XHmd",
        "colab": {
          "base_uri": "https://localhost:8080/"
        },
        "outputId": "887019fa-a9c2-4be2-fb0e-1c704e6b241f"
      },
      "source": [
        "print('Hello World')"
      ],
      "execution_count": null,
      "outputs": [
        {
          "output_type": "stream",
          "text": [
            "Hello World\n"
          ],
          "name": "stdout"
        }
      ]
    },
    {
      "cell_type": "markdown",
      "metadata": {
        "id": "JlyiqKkQR7Iu"
      },
      "source": [
        "\n",
        "<img src=\"https://sd.keepcalms.com/i/keep-calm-and-viva-sao-joao.png\" width=240> </img>\n",
        "\n",
        "Neste contato com este Jupyter Notebook, exploraremos o **óbvio** ao executar o código Python que foi pré-preenchido na célula. Portanto, fique tranquil* pois o importante é apenas executar a célula com SHIFT+ENTER, e como bônus, se possível tentar entender o que está sendo feito à medida que avançamos no material. De certa forma, o resultado em cada célula já deve ser revelador. Novamente, Mantenha a Calma e controle o Pânico ;)\n"
      ]
    },
    {
      "cell_type": "markdown",
      "metadata": {
        "id": "ILCmFYoegAjI"
      },
      "source": [
        "# Minerando o Twitter\n",
        "\n",
        "A interface, chamada de API, que nos permite acessar os dados do Twitter trabalha com um método de autenticação de usuário. Tal método é utilizado para garantir que o usuário é conhecido ao sistema, e tem autorização para acessar os dados. O Twitter implementa o mecanismo de autenticação chamado OAuth 1.0A. \n",
        "Para facilitar nosso trabalho didático, utilizaremos os identificadores OAuth 1.0A associados à uma conta existente do Twitter (com a devida autorização do mesmo).Estas credenciais estão auto-preenchidas abaixo. "
      ]
    },
    {
      "cell_type": "markdown",
      "metadata": {
        "id": "AjsNVTN3gAjN"
      },
      "source": [
        "## Credenciais para acessar uma conta do Twitter"
      ]
    },
    {
      "cell_type": "markdown",
      "metadata": {
        "id": "dE6rbcvy1B5a"
      },
      "source": [
        "Primeiramente, precisamos importar o módulo *twitter.*"
      ]
    },
    {
      "cell_type": "code",
      "metadata": {
        "colab": {
          "base_uri": "https://localhost:8080/"
        },
        "id": "9aNb9VjKkUDP",
        "outputId": "1963aca7-5314-44f8-fca0-f1f1a4c68737"
      },
      "source": [
        "pip install twitter"
      ],
      "execution_count": null,
      "outputs": [
        {
          "output_type": "stream",
          "text": [
            "Collecting twitter\n",
            "\u001b[?25l  Downloading https://files.pythonhosted.org/packages/cc/df/8dc2e1f166205991365e2e4258a0c8ee32ef2adb1fd4e8b9b160ab6bb9aa/twitter-1.19.3-py2.py3-none-any.whl (50kB)\n",
            "\r\u001b[K     |██████▌                         | 10kB 16.1MB/s eta 0:00:01\r\u001b[K     |█████████████                   | 20kB 20.8MB/s eta 0:00:01\r\u001b[K     |███████████████████▋            | 30kB 11.2MB/s eta 0:00:01\r\u001b[K     |██████████████████████████      | 40kB 8.6MB/s eta 0:00:01\r\u001b[K     |████████████████████████████████| 51kB 2.9MB/s \n",
            "\u001b[?25hInstalling collected packages: twitter\n",
            "Successfully installed twitter-1.19.3\n"
          ],
          "name": "stdout"
        }
      ]
    },
    {
      "cell_type": "code",
      "metadata": {
        "colab": {
          "base_uri": "https://localhost:8080/"
        },
        "id": "7eovsWEwgAjN",
        "outputId": "7213cfa6-6f26-435e-d1d3-1021fbb25350"
      },
      "source": [
        "import twitter\n",
        "\n",
        "# Abaixo temos os dados das quatro variáveis OAuth 1.0A\n",
        "# Estas credenciais foram pré-preenchidas para facilitar nosso trabalho.\n",
        "\n",
        "CONSUMER_KEY = 'SYFpddpGiwLKmMBaUPellGXki'\n",
        "CONSUMER_SECRET = 'llbWAFXd5CRvK5GVYwvDPV2dpsHrkz2CVmG5ESXXSg13hnWGJx'\n",
        "OAUTH_TOKEN = '234736278-xdQ9DJ3fNTcyRElqD6mNvCFOfyIWgsp9rGvsFPBv'\n",
        "OAUTH_TOKEN_SECRET = '0hE4P481ByaOGsiIW95DyEqZfXmQmKtVpJ68GOzwMf896'\n",
        "\n",
        "# O método abaixo cria o objeto auth que está relacionado ao usuário autenticado\n",
        "auth = twitter.oauth.OAuth(OAUTH_TOKEN, OAUTH_TOKEN_SECRET,\n",
        "                           CONSUMER_KEY, CONSUMER_SECRET)\n",
        "\n",
        "twitter_api = twitter.Twitter(auth=auth)\n",
        "\n",
        "# A linha abaixo apenas mostra que twitter_api é uma variável definida (objeto)\n",
        "\n",
        "print(twitter_api)"
      ],
      "execution_count": null,
      "outputs": [
        {
          "output_type": "stream",
          "text": [
            "<twitter.api.Twitter object at 0x7fda11ed20d0>\n"
          ],
          "name": "stdout"
        }
      ]
    },
    {
      "cell_type": "markdown",
      "metadata": {
        "id": "IGH4VvXGgAjO"
      },
      "source": [
        "## Busca por tópicos com tendências"
      ]
    },
    {
      "cell_type": "code",
      "metadata": {
        "colab": {
          "base_uri": "https://localhost:8080/"
        },
        "id": "Hdm-fi7MgAjO",
        "outputId": "69d7979f-a2cb-490a-bed6-3e0738e8841e"
      },
      "source": [
        "# Para representar uma localização, utilizamos um tipo de identificação criada\n",
        "# pelo Yahoo! chamada de 'Where On Earth ID' (ID de onde no Planeta?). \n",
        "# O WOE ID para o mundo é o valor 1.\n",
        "# Ao consultar as URLs https://dev.twitter.com/docs/api/1.1/get/trends/place e\n",
        "# http://developer.yahoo.com/geo/geoplanet/\n",
        "# Podemos encontrar o ID para o Brasil, sendo o valor 23424768\n",
        "\n",
        "WORLD_WOE_ID = 1\n",
        "BR_WOE_ID = 23424768\t\t\t\t\n",
        "\n",
        "# Busca-se os tópicos de tendência para o Mundo e Brasil\t\t\t\t\t\n",
        "tendencia_mundo = twitter_api.trends.place(_id=WORLD_WOE_ID)\n",
        "tendencia_br = twitter_api.trends.place(_id=BR_WOE_ID)\n",
        "\n",
        "print(tendencia_mundo)\n",
        "print()\n",
        "print(tendencia_br)\t\n"
      ],
      "execution_count": null,
      "outputs": [
        {
          "output_type": "stream",
          "text": [
            "[{'trends': [{'name': '#FRASUI', 'url': 'http://twitter.com/search?q=%23FRASUI', 'promoted_content': None, 'query': '%23FRASUI', 'tweet_volume': 103796}, {'name': 'Morata', 'url': 'http://twitter.com/search?q=Morata', 'promoted_content': None, 'query': 'Morata', 'tweet_volume': 242916}, {'name': 'Lenglet', 'url': 'http://twitter.com/search?q=Lenglet', 'promoted_content': None, 'query': 'Lenglet', 'tweet_volume': 98406}, {'name': '#CROESP', 'url': 'http://twitter.com/search?q=%23CROESP', 'promoted_content': None, 'query': '%23CROESP', 'tweet_volume': 82139}, {'name': '#LoveIsland', 'url': 'http://twitter.com/search?q=%23LoveIsland', 'promoted_content': None, 'query': '%23LoveIsland', 'tweet_volume': 24466}, {'name': 'Spain', 'url': 'http://twitter.com/search?q=Spain', 'promoted_content': None, 'query': 'Spain', 'tweet_volume': 184560}, {'name': '#Butter5thNo1OnHot100', 'url': 'http://twitter.com/search?q=%23Butter5thNo1OnHot100', 'promoted_content': None, 'query': '%23Butter5thNo1OnHot100', 'tweet_volume': 377980}, {'name': 'España', 'url': 'http://twitter.com/search?q=Espa%C3%B1a', 'promoted_content': None, 'query': 'Espa%C3%B1a', 'tweet_volume': 358307}, {'name': '#VenmoMe', 'url': 'http://twitter.com/search?q=%23VenmoMe', 'promoted_content': None, 'query': '%23VenmoMe', 'tweet_volume': 79029}, {'name': 'Lázaro', 'url': 'http://twitter.com/search?q=L%C3%A1zaro', 'promoted_content': None, 'query': 'L%C3%A1zaro', 'tweet_volume': 654635}, {'name': 'Francia', 'url': 'http://twitter.com/search?q=Francia', 'promoted_content': None, 'query': 'Francia', 'tweet_volume': 68293}, {'name': 'Switzerland', 'url': 'http://twitter.com/search?q=Switzerland', 'promoted_content': None, 'query': 'Switzerland', 'tweet_volume': 52928}, {'name': 'Deschamps', 'url': 'http://twitter.com/search?q=Deschamps', 'promoted_content': None, 'query': 'Deschamps', 'tweet_volume': 25362}, {'name': 'Pedri', 'url': 'http://twitter.com/search?q=Pedri', 'promoted_content': None, 'query': 'Pedri', 'tweet_volume': 103714}, {'name': 'Luis Enrique', 'url': 'http://twitter.com/search?q=%22Luis+Enrique%22', 'promoted_content': None, 'query': '%22Luis+Enrique%22', 'tweet_volume': 37286}, {'name': 'Pavard', 'url': 'http://twitter.com/search?q=Pavard', 'promoted_content': None, 'query': 'Pavard', 'tweet_volume': 20003}, {'name': 'Rabiot', 'url': 'http://twitter.com/search?q=Rabiot', 'promoted_content': None, 'query': 'Rabiot', 'tweet_volume': 21502}, {'name': 'Suiza', 'url': 'http://twitter.com/search?q=Suiza', 'promoted_content': None, 'query': 'Suiza', 'tweet_volume': 28347}, {'name': 'Unai Simón', 'url': 'http://twitter.com/search?q=%22Unai+Sim%C3%B3n%22', 'promoted_content': None, 'query': '%22Unai+Sim%C3%B3n%22', 'tweet_volume': 76866}, {'name': 'Modric', 'url': 'http://twitter.com/search?q=Modric', 'promoted_content': None, 'query': 'Modric', 'tweet_volume': 53291}, {'name': 'Coman', 'url': 'http://twitter.com/search?q=Coman', 'promoted_content': None, 'query': 'Coman', 'tweet_volume': 15333}, {'name': 'ITV Hub', 'url': 'http://twitter.com/search?q=%22ITV+Hub%22', 'promoted_content': None, 'query': '%22ITV+Hub%22', 'tweet_volume': None}, {'name': 'Xhaka', 'url': 'http://twitter.com/search?q=Xhaka', 'promoted_content': None, 'query': 'Xhaka', 'tweet_volume': None}, {'name': 'Oyarzabal', 'url': 'http://twitter.com/search?q=Oyarzabal', 'promoted_content': None, 'query': 'Oyarzabal', 'tweet_volume': 15366}, {'name': 'Eurocopa', 'url': 'http://twitter.com/search?q=Eurocopa', 'promoted_content': None, 'query': 'Eurocopa', 'tweet_volume': 73924}, {'name': 'Andy Murray', 'url': 'http://twitter.com/search?q=%22Andy+Murray%22', 'promoted_content': None, 'query': '%22Andy+Murray%22', 'tweet_volume': None}, {'name': 'Swiss', 'url': 'http://twitter.com/search?q=Swiss', 'promoted_content': None, 'query': 'Swiss', 'tweet_volume': 17819}, {'name': 'Seferovic', 'url': 'http://twitter.com/search?q=Seferovic', 'promoted_content': None, 'query': 'Seferovic', 'tweet_volume': 15612}, {'name': 'Emma Hayes', 'url': 'http://twitter.com/search?q=%22Emma+Hayes%22', 'promoted_content': None, 'query': '%22Emma+Hayes%22', 'tweet_volume': None}, {'name': 'Didier', 'url': 'http://twitter.com/search?q=Didier', 'promoted_content': None, 'query': 'Didier', 'tweet_volume': 11806}, {'name': 'Mbappé', 'url': 'http://twitter.com/search?q=Mbapp%C3%A9', 'promoted_content': None, 'query': 'Mbapp%C3%A9', 'tweet_volume': 69296}, {'name': 'BTS WORLD DOMINATION', 'url': 'http://twitter.com/search?q=%22BTS+WORLD+DOMINATION%22', 'promoted_content': None, 'query': '%22BTS+WORLD+DOMINATION%22', 'tweet_volume': 84640}, {'name': 'Embolo', 'url': 'http://twitter.com/search?q=Embolo', 'promoted_content': None, 'query': 'Embolo', 'tweet_volume': None}, {'name': 'BTS PAVED THE WAY', 'url': 'http://twitter.com/search?q=%22BTS+PAVED+THE+WAY%22', 'promoted_content': None, 'query': '%22BTS+PAVED+THE+WAY%22', 'tweet_volume': 75018}, {'name': 'Koke', 'url': 'http://twitter.com/search?q=Koke', 'promoted_content': None, 'query': 'Koke', 'tweet_volume': 25916}, {'name': 'Laporte', 'url': 'http://twitter.com/search?q=Laporte', 'promoted_content': None, 'query': 'Laporte', 'tweet_volume': 13368}, {'name': 'halsey', 'url': 'http://twitter.com/search?q=halsey', 'promoted_content': None, 'query': 'halsey', 'tweet_volume': 82311}, {'name': 'Dani Olmo', 'url': 'http://twitter.com/search?q=%22Dani+Olmo%22', 'promoted_content': None, 'query': '%22Dani+Olmo%22', 'tweet_volume': None}, {'name': 'Azpilicueta', 'url': 'http://twitter.com/search?q=Azpilicueta', 'promoted_content': None, 'query': 'Azpilicueta', 'tweet_volume': 24847}, {'name': 'De Gea', 'url': 'http://twitter.com/search?q=%22De+Gea%22', 'promoted_content': None, 'query': '%22De+Gea%22', 'tweet_volume': 24623}, {'name': 'Sarabia', 'url': 'http://twitter.com/search?q=Sarabia', 'promoted_content': None, 'query': 'Sarabia', 'tweet_volume': 26671}, {'name': 'Dante', 'url': 'http://twitter.com/search?q=Dante', 'promoted_content': None, 'query': 'Dante', 'tweet_volume': 72814}, {'name': 'Varane', 'url': 'http://twitter.com/search?q=Varane', 'promoted_content': None, 'query': 'Varane', 'tweet_volume': 12774}, {'name': 'Gatell', 'url': 'http://twitter.com/search?q=Gatell', 'promoted_content': None, 'query': 'Gatell', 'tweet_volume': 56094}, {'name': 'Suisses', 'url': 'http://twitter.com/search?q=Suisses', 'promoted_content': None, 'query': 'Suisses', 'tweet_volume': 12796}, {'name': 'Pau Torres', 'url': 'http://twitter.com/search?q=%22Pau+Torres%22', 'promoted_content': None, 'query': '%22Pau+Torres%22', 'tweet_volume': None}, {'name': 'Busquets', 'url': 'http://twitter.com/search?q=Busquets', 'promoted_content': None, 'query': 'Busquets', 'tweet_volume': 17644}, {'name': 'اسبانيا', 'url': 'http://twitter.com/search?q=%D8%A7%D8%B3%D8%A8%D8%A7%D9%86%D9%8A%D8%A7', 'promoted_content': None, 'query': '%D8%A7%D8%B3%D8%A8%D8%A7%D9%86%D9%8A%D8%A7', 'tweet_volume': 39554}, {'name': 'Scottie', 'url': 'http://twitter.com/search?q=Scottie', 'promoted_content': None, 'query': 'Scottie', 'tweet_volume': 12752}, {'name': 'موراتا', 'url': 'http://twitter.com/search?q=%D9%85%D9%88%D8%B1%D8%A7%D8%AA%D8%A7', 'promoted_content': None, 'query': '%D9%85%D9%88%D8%B1%D8%A7%D8%AA%D8%A7', 'tweet_volume': None}], 'as_of': '2021-06-28T20:08:00Z', 'created_at': '2021-06-28T04:43:18Z', 'locations': [{'name': 'Worldwide', 'woeid': 1}]}]\n",
            "\n",
            "[{'trends': [{'name': 'Lázaro', 'url': 'http://twitter.com/search?q=L%C3%A1zaro', 'promoted_content': None, 'query': 'L%C3%A1zaro', 'tweet_volume': 654233}, {'name': 'Croácia', 'url': 'http://twitter.com/search?q=Cro%C3%A1cia', 'promoted_content': None, 'query': 'Cro%C3%A1cia', 'tweet_volume': 101218}, {'name': '#DesmonetizaSikeira', 'url': 'http://twitter.com/search?q=%23DesmonetizaSikeira', 'promoted_content': None, 'query': '%23DesmonetizaSikeira', 'tweet_volume': None}, {'name': 'Morata', 'url': 'http://twitter.com/search?q=Morata', 'promoted_content': None, 'query': 'Morata', 'tweet_volume': 242968}, {'name': '#orgulholgbt', 'url': 'http://twitter.com/search?q=%23orgulholgbt', 'promoted_content': None, 'query': '%23orgulholgbt', 'tweet_volume': 40979}, {'name': '#pride', 'url': 'http://twitter.com/search?q=%23pride', 'promoted_content': None, 'query': '%23pride', 'tweet_volume': 174999}, {'name': 'Lenglet', 'url': 'http://twitter.com/search?q=Lenglet', 'promoted_content': None, 'query': 'Lenglet', 'tweet_volume': 98075}, {'name': 'Suíça', 'url': 'http://twitter.com/search?q=Su%C3%AD%C3%A7a', 'promoted_content': None, 'query': 'Su%C3%AD%C3%A7a', 'tweet_volume': 11572}, {'name': '#RenanSabiaDeTudo', 'url': 'http://twitter.com/search?q=%23RenanSabiaDeTudo', 'promoted_content': None, 'query': '%23RenanSabiaDeTudo', 'tweet_volume': 490373}, {'name': 'Rabiot', 'url': 'http://twitter.com/search?q=Rabiot', 'promoted_content': None, 'query': 'Rabiot', 'tweet_volume': 21432}, {'name': '#Butter5thNo1OnHot100', 'url': 'http://twitter.com/search?q=%23Butter5thNo1OnHot100', 'promoted_content': None, 'query': '%23Butter5thNo1OnHot100', 'tweet_volume': 378013}, {'name': 'JUNTOS COM CAITHUR', 'url': 'http://twitter.com/search?q=%22JUNTOS+COM+CAITHUR%22', 'promoted_content': None, 'query': '%22JUNTOS+COM+CAITHUR%22', 'tweet_volume': 23008}, {'name': 'Seferovic', 'url': 'http://twitter.com/search?q=Seferovic', 'promoted_content': None, 'query': 'Seferovic', 'tweet_volume': 15646}, {'name': 'Halsey', 'url': 'http://twitter.com/search?q=Halsey', 'promoted_content': None, 'query': 'Halsey', 'tweet_volume': 82334}, {'name': 'Dia Internacional', 'url': 'http://twitter.com/search?q=%22Dia+Internacional%22', 'promoted_content': None, 'query': '%22Dia+Internacional%22', 'tweet_volume': 67649}, {'name': 'Modric', 'url': 'http://twitter.com/search?q=Modric', 'promoted_content': None, 'query': 'Modric', 'tweet_volume': 53264}, {'name': '7 Things', 'url': 'http://twitter.com/search?q=%227+Things%22', 'promoted_content': None, 'query': '%227+Things%22', 'tweet_volume': None}, {'name': 'Dani Olmo', 'url': 'http://twitter.com/search?q=%22Dani+Olmo%22', 'promoted_content': None, 'query': '%22Dani+Olmo%22', 'tweet_volume': None}, {'name': 'SPACE BOOTZ', 'url': 'http://twitter.com/search?q=%22SPACE+BOOTZ%22', 'promoted_content': None, 'query': '%22SPACE+BOOTZ%22', 'tweet_volume': None}, {'name': 'CPFs', 'url': 'http://twitter.com/search?q=CPFs', 'promoted_content': None, 'query': 'CPFs', 'tweet_volume': None}, {'name': 'charli', 'url': 'http://twitter.com/search?q=charli', 'promoted_content': None, 'query': 'charli', 'tweet_volume': None}, {'name': 'CPF CANCELADO', 'url': 'http://twitter.com/search?q=%22CPF+CANCELADO%22', 'promoted_content': None, 'query': '%22CPF+CANCELADO%22', 'tweet_volume': 64630}, {'name': 'Goiás', 'url': 'http://twitter.com/search?q=Goi%C3%A1s', 'promoted_content': None, 'query': 'Goi%C3%A1s', 'tweet_volume': 57979}, {'name': 'Prorroga', 'url': 'http://twitter.com/search?q=Prorroga', 'promoted_content': None, 'query': 'Prorroga', 'tweet_volume': 16013}, {'name': 'sadie', 'url': 'http://twitter.com/search?q=sadie', 'promoted_content': None, 'query': 'sadie', 'tweet_volume': None}, {'name': 'See You Again', 'url': 'http://twitter.com/search?q=%22See+You+Again%22', 'promoted_content': None, 'query': '%22See+You+Again%22', 'tweet_volume': 64118}, {'name': 'Kimpembe', 'url': 'http://twitter.com/search?q=Kimpembe', 'promoted_content': None, 'query': 'Kimpembe', 'tweet_volume': None}, {'name': 'Never Be Me', 'url': 'http://twitter.com/search?q=%22Never+Be+Me%22', 'promoted_content': None, 'query': '%22Never+Be+Me%22', 'tweet_volume': 29150}, {'name': 'Mulan', 'url': 'http://twitter.com/search?q=Mulan', 'promoted_content': None, 'query': 'Mulan', 'tweet_volume': None}, {'name': 'Deschamps', 'url': 'http://twitter.com/search?q=Deschamps', 'promoted_content': None, 'query': 'Deschamps', 'tweet_volume': 25475}, {'name': 'Adélio', 'url': 'http://twitter.com/search?q=Ad%C3%A9lio', 'promoted_content': None, 'query': 'Ad%C3%A9lio', 'tweet_volume': None}, {'name': 'Sandro Meira Ricci', 'url': 'http://twitter.com/search?q=%22Sandro+Meira+Ricci%22', 'promoted_content': None, 'query': '%22Sandro+Meira+Ricci%22', 'tweet_volume': None}, {'name': 'Embolo', 'url': 'http://twitter.com/search?q=Embolo', 'promoted_content': None, 'query': 'Embolo', 'tweet_volume': None}, {'name': 'Unai Simon', 'url': 'http://twitter.com/search?q=%22Unai+Simon%22', 'promoted_content': None, 'query': '%22Unai+Simon%22', 'tweet_volume': 76914}, {'name': 'Pedri', 'url': 'http://twitter.com/search?q=Pedri', 'promoted_content': None, 'query': 'Pedri', 'tweet_volume': 103684}, {'name': 'Direitos Humanos', 'url': 'http://twitter.com/search?q=%22Direitos+Humanos%22', 'promoted_content': None, 'query': '%22Direitos+Humanos%22', 'tweet_volume': 40939}, {'name': 'THE DRIVEWAY', 'url': 'http://twitter.com/search?q=%22THE+DRIVEWAY%22', 'promoted_content': None, 'query': '%22THE+DRIVEWAY%22', 'tweet_volume': None}, {'name': 'se a frança', 'url': 'http://twitter.com/search?q=%22se+a+fran%C3%A7a%22', 'promoted_content': None, 'query': '%22se+a+fran%C3%A7a%22', 'tweet_volume': None}, {'name': 'Someone Else', 'url': 'http://twitter.com/search?q=%22Someone+Else%22', 'promoted_content': None, 'query': '%22Someone+Else%22', 'tweet_volume': 58310}, {'name': 'Liberty Walk', 'url': 'http://twitter.com/search?q=%22Liberty+Walk%22', 'promoted_content': None, 'query': '%22Liberty+Walk%22', 'tweet_volume': None}, {'name': 'Start All Over', 'url': 'http://twitter.com/search?q=%22Start+All+Over%22', 'promoted_content': None, 'query': '%22Start+All+Over%22', 'tweet_volume': None}, {'name': 'WTF DO I KNOW', 'url': 'http://twitter.com/search?q=%22WTF+DO+I+KNOW%22', 'promoted_content': None, 'query': '%22WTF+DO+I+KNOW%22', 'tweet_volume': None}, {'name': \"Mother's Daughter\", 'url': 'http://twitter.com/search?q=%22Mother%27s+Daughter%22', 'promoted_content': None, 'query': '%22Mother%27s+Daughter%22', 'tweet_volume': None}, {'name': '1 SUN', 'url': 'http://twitter.com/search?q=%221+SUN%22', 'promoted_content': None, 'query': '%221+SUN%22', 'tweet_volume': 119622}, {'name': 'Polícia', 'url': 'http://twitter.com/search?q=Pol%C3%ADcia', 'promoted_content': None, 'query': 'Pol%C3%ADcia', 'tweet_volume': 249499}, {'name': 'Permission to Dance', 'url': 'http://twitter.com/search?q=%22Permission+to+Dance%22', 'promoted_content': None, 'query': '%22Permission+to+Dance%22', 'tweet_volume': 188872}, {'name': 'NINGUÉM ACIMA DELES', 'url': 'http://twitter.com/search?q=%22NINGU%C3%89M+ACIMA+DELES%22', 'promoted_content': None, 'query': '%22NINGU%C3%89M+ACIMA+DELES%22', 'tweet_volume': None}, {'name': 'BANG ME BOX', 'url': 'http://twitter.com/search?q=%22BANG+ME+BOX%22', 'promoted_content': None, 'query': '%22BANG+ME+BOX%22', 'tweet_volume': None}, {'name': 'Lilo', 'url': 'http://twitter.com/search?q=Lilo', 'promoted_content': None, 'query': 'Lilo', 'tweet_volume': None}, {'name': 'ESTUPRADOR', 'url': 'http://twitter.com/search?q=ESTUPRADOR', 'promoted_content': None, 'query': 'ESTUPRADOR', 'tweet_volume': 32072}], 'as_of': '2021-06-28T20:08:00Z', 'created_at': '2021-06-26T08:50:32Z', 'locations': [{'name': 'Brazil', 'woeid': 23424768}]}]\n"
          ],
          "name": "stdout"
        }
      ]
    },
    {
      "cell_type": "markdown",
      "metadata": {
        "id": "fnaZgVrH4ius"
      },
      "source": [
        "Os tópicos em tendência encontram-se armazenados em *tendencia_mundo*, na lista *trends* como visto acima. O *loop* abaixo percorre essa lista, e imprime cada elemento. Como resultado temos a lista de tópicos para o mundo todo (ID WOE = 1). "
      ]
    },
    {
      "cell_type": "code",
      "metadata": {
        "colab": {
          "base_uri": "https://localhost:8080/"
        },
        "id": "seul3anHgAjP",
        "outputId": "82f1a303-39fc-4eb4-97d1-7603a233ee21"
      },
      "source": [
        "for trend in tendencia_mundo[0]['trends']:\n",
        "    print(trend['name'])"
      ],
      "execution_count": null,
      "outputs": [
        {
          "output_type": "stream",
          "text": [
            "#FRASUI\n",
            "Morata\n",
            "Lenglet\n",
            "#CROESP\n",
            "#LoveIsland\n",
            "Spain\n",
            "#Butter5thNo1OnHot100\n",
            "España\n",
            "#VenmoMe\n",
            "Lázaro\n",
            "Francia\n",
            "Switzerland\n",
            "Deschamps\n",
            "Pedri\n",
            "Luis Enrique\n",
            "Pavard\n",
            "Rabiot\n",
            "Suiza\n",
            "Unai Simón\n",
            "Modric\n",
            "Coman\n",
            "ITV Hub\n",
            "Xhaka\n",
            "Oyarzabal\n",
            "Eurocopa\n",
            "Andy Murray\n",
            "Swiss\n",
            "Seferovic\n",
            "Emma Hayes\n",
            "Didier\n",
            "Mbappé\n",
            "BTS WORLD DOMINATION\n",
            "Embolo\n",
            "BTS PAVED THE WAY\n",
            "Koke\n",
            "Laporte\n",
            "halsey\n",
            "Dani Olmo\n",
            "Azpilicueta\n",
            "De Gea\n",
            "Sarabia\n",
            "Dante\n",
            "Varane\n",
            "Gatell\n",
            "Suisses\n",
            "Pau Torres\n",
            "Busquets\n",
            "اسبانيا\n",
            "Scottie\n",
            "موراتا\n"
          ],
          "name": "stdout"
        }
      ]
    },
    {
      "cell_type": "markdown",
      "metadata": {
        "id": "1TwwukL77MR_"
      },
      "source": [
        "O *loop* abaixo percorre a lista de tópicos armazenada em *trends* na variável *tendencia_br*. "
      ]
    },
    {
      "cell_type": "code",
      "metadata": {
        "colab": {
          "base_uri": "https://localhost:8080/"
        },
        "id": "GOiR1DAlgAjP",
        "outputId": "91ba533b-37a7-4b8b-d7a6-256e7541c824"
      },
      "source": [
        "for trend in tendencia_br[0]['trends']:\n",
        "    print(trend['name'])"
      ],
      "execution_count": null,
      "outputs": [
        {
          "output_type": "stream",
          "text": [
            "Lázaro\n",
            "Croácia\n",
            "#DesmonetizaSikeira\n",
            "Morata\n",
            "#orgulholgbt\n",
            "#pride\n",
            "Lenglet\n",
            "Suíça\n",
            "#RenanSabiaDeTudo\n",
            "Rabiot\n",
            "#Butter5thNo1OnHot100\n",
            "JUNTOS COM CAITHUR\n",
            "Seferovic\n",
            "Halsey\n",
            "Dia Internacional\n",
            "Modric\n",
            "7 Things\n",
            "Dani Olmo\n",
            "SPACE BOOTZ\n",
            "CPFs\n",
            "charli\n",
            "CPF CANCELADO\n",
            "Goiás\n",
            "Prorroga\n",
            "sadie\n",
            "See You Again\n",
            "Kimpembe\n",
            "Never Be Me\n",
            "Mulan\n",
            "Deschamps\n",
            "Adélio\n",
            "Sandro Meira Ricci\n",
            "Embolo\n",
            "Unai Simon\n",
            "Pedri\n",
            "Direitos Humanos\n",
            "THE DRIVEWAY\n",
            "se a frança\n",
            "Someone Else\n",
            "Liberty Walk\n",
            "Start All Over\n",
            "WTF DO I KNOW\n",
            "Mother's Daughter\n",
            "1 SUN\n",
            "Polícia\n",
            "Permission to Dance\n",
            "NINGUÉM ACIMA DELES\n",
            "BANG ME BOX\n",
            "Lilo\n",
            "ESTUPRADOR\n"
          ],
          "name": "stdout"
        }
      ]
    },
    {
      "cell_type": "markdown",
      "metadata": {
        "id": "wzaGU_JO8FOM"
      },
      "source": [
        "Muitas das vezes os tópicos em um país como o Brasil também estão também em tendência na lista mundial. O código Phyton abaixo busca exatamente esta intersecção entre tópicos do Brasil e Mundo. "
      ]
    },
    {
      "cell_type": "code",
      "metadata": {
        "colab": {
          "base_uri": "https://localhost:8080/"
        },
        "id": "Gtx9OPs2gAjQ",
        "outputId": "87bd542c-4916-4953-a68b-3e0831d83a1c"
      },
      "source": [
        "# Define conjunto com tend^ncias mundias\n",
        "conj_tendencias_mundo = set([trend['name'] \n",
        "                        for trend in tendencia_mundo[0]['trends']])\n",
        "\n",
        "# Define conjunto com tendências no Brasil\n",
        "conj_tendencias_br = set([trend['name'] \n",
        "                     for trend in tendencia_br[0]['trends']]) \n",
        "\n",
        "# Abaixo fazemos a intersecção entre dois conjuntos\n",
        "tendencias_comum = conj_tendencias_mundo.intersection(conj_tendencias_br)\n",
        "\n",
        "print(tendencias_comum)"
      ],
      "execution_count": null,
      "outputs": [
        {
          "output_type": "stream",
          "text": [
            "{'Lázaro', 'Modric', '#Butter5thNo1OnHot100', 'Seferovic', 'Morata', 'Dani Olmo', 'Pedri', 'Rabiot', 'Embolo', 'Deschamps', 'Lenglet'}\n"
          ],
          "name": "stdout"
        }
      ]
    },
    {
      "cell_type": "markdown",
      "metadata": {
        "id": "-JmXPlNcgAjQ"
      },
      "source": [
        "## Anatomia de um Tweet"
      ]
    },
    {
      "cell_type": "markdown",
      "metadata": {
        "id": "Jgli7wpe-k8k"
      },
      "source": [
        "Podemos especificar um texto para pesquisa como um tópico em tendência. Se setarmos a variável *q* abaixo, podemos pesquisar por um conteúdo. Neste momento a palavra 'Portugal' está em alta, e com isto utilizamos esta palavra nos exemplos abaixo. "
      ]
    },
    {
      "cell_type": "code",
      "metadata": {
        "colab": {
          "base_uri": "https://localhost:8080/"
        },
        "id": "NNiTWWUogAjQ",
        "outputId": "db6badb6-9ad5-45ec-ca97-27c3c326f11b"
      },
      "source": [
        "import json\n",
        "\n",
        "# Variável 'q' seta para o tópico 'Portugal'\n",
        "\n",
        "# Tente outras palavras mudando o valor desta variável. \n",
        "q = '#Portugal' \n",
        "\n",
        "count = 100\n",
        "\n",
        "# Importa modulo 'unquote' para prevenir erros em url \n",
        "from urllib.parse import unquote\n",
        "\n",
        "# Solicita a pesquisa através do método twitter_api.search.tweets, passando como\n",
        "# parâmetro a string em *q*.\n",
        "\n",
        "resultados_pesquisa = twitter_api.search.tweets(q=q, count=count)\n",
        "\n",
        "statuses = resultados_pesquisa['statuses']\n",
        "\n",
        "# Faz a iteração em 5 blocos de resultados seguindo um 'cursor'\n",
        "for _ in range(5):\n",
        "    print('Tamanho do conjunto de status', len(statuses))\n",
        "    try:\n",
        "        proximos_resultados = resultados_pesquisa['search_metadata']['proximos_resultados']\n",
        "    except KeyError as e: # Termina quando proximos_resultados termina de existir\n",
        "        break\n",
        "        \n",
        "    # Cria um dicionário de proximos_resultados\n",
        "    kwargs = dict([ kv.split('=') for kv in unquote(proximos_resultados[1:]).split(\"&\") ])\n",
        "    \n",
        "    resultados_pesquisa = twitter_api.search.tweets(**kwargs)\n",
        "    statuses += resultados_pesquisa['statuses']\n",
        "\n",
        "# Mostra uma pequena amostra do resultado.\n",
        "# O resultado está no formato JSON, conforme mostrado abaixo.\n",
        "print(json.dumps(statuses[0], indent=1))"
      ],
      "execution_count": null,
      "outputs": [
        {
          "output_type": "stream",
          "text": [
            "Tamanho do conjunto de status 100\n",
            "{\n",
            " \"created_at\": \"Mon Jun 28 20:07:59 +0000 2021\",\n",
            " \"id\": 1409604512952770562,\n",
            " \"id_str\": \"1409604512952770562\",\n",
            " \"text\": \"RT @SPORTTVPortugal: Para a mem\\u00f3ria deste Euro fica a forma como @officialpepe, com 38 anos, limpou alguns dos melhores avan\\u00e7ados do mundo.\\u2026\",\n",
            " \"truncated\": false,\n",
            " \"entities\": {\n",
            "  \"hashtags\": [],\n",
            "  \"symbols\": [],\n",
            "  \"user_mentions\": [\n",
            "   {\n",
            "    \"screen_name\": \"SPORTTVPortugal\",\n",
            "    \"name\": \"SPORT TV\",\n",
            "    \"id\": 40019154,\n",
            "    \"id_str\": \"40019154\",\n",
            "    \"indices\": [\n",
            "     3,\n",
            "     19\n",
            "    ]\n",
            "   },\n",
            "   {\n",
            "    \"screen_name\": \"officialpepe\",\n",
            "    \"name\": \"Pepe\",\n",
            "    \"id\": 333534411,\n",
            "    \"id_str\": \"333534411\",\n",
            "    \"indices\": [\n",
            "     65,\n",
            "     78\n",
            "    ]\n",
            "   }\n",
            "  ],\n",
            "  \"urls\": []\n",
            " },\n",
            " \"metadata\": {\n",
            "  \"iso_language_code\": \"pt\",\n",
            "  \"result_type\": \"recent\"\n",
            " },\n",
            " \"source\": \"<a href=\\\"http://twitter.com/download/iphone\\\" rel=\\\"nofollow\\\">Twitter for iPhone</a>\",\n",
            " \"in_reply_to_status_id\": null,\n",
            " \"in_reply_to_status_id_str\": null,\n",
            " \"in_reply_to_user_id\": null,\n",
            " \"in_reply_to_user_id_str\": null,\n",
            " \"in_reply_to_screen_name\": null,\n",
            " \"user\": {\n",
            "  \"id\": 925781046620286976,\n",
            "  \"id_str\": \"925781046620286976\",\n",
            "  \"name\": \"OLI \\u2757\\ufe0f\",\n",
            "  \"screen_name\": \"OliviaRaquel8\",\n",
            "  \"location\": \"La Maddalena, Sardinia\",\n",
            "  \"description\": \"\\u3030\\ufe0f Player at Caprera Calcio \\u26bd\\ufe0f \\u3030\\ufe0f 21 primaveras \\u3030\\ufe0f instagram: olivia_domingos8 \\u3030\\ufe0f \\ud83d\\udccd\\ud83c\\uddf5\\ud83c\\uddf9\\ud83c\\uddee\\ud83c\\uddf9\",\n",
            "  \"url\": null,\n",
            "  \"entities\": {\n",
            "   \"description\": {\n",
            "    \"urls\": []\n",
            "   }\n",
            "  },\n",
            "  \"protected\": false,\n",
            "  \"followers_count\": 713,\n",
            "  \"friends_count\": 1018,\n",
            "  \"listed_count\": 0,\n",
            "  \"created_at\": \"Wed Nov 01 17:46:16 +0000 2017\",\n",
            "  \"favourites_count\": 70196,\n",
            "  \"utc_offset\": null,\n",
            "  \"time_zone\": null,\n",
            "  \"geo_enabled\": true,\n",
            "  \"verified\": false,\n",
            "  \"statuses_count\": 33630,\n",
            "  \"lang\": null,\n",
            "  \"contributors_enabled\": false,\n",
            "  \"is_translator\": false,\n",
            "  \"is_translation_enabled\": false,\n",
            "  \"profile_background_color\": \"F5F8FA\",\n",
            "  \"profile_background_image_url\": null,\n",
            "  \"profile_background_image_url_https\": null,\n",
            "  \"profile_background_tile\": false,\n",
            "  \"profile_image_url\": \"http://pbs.twimg.com/profile_images/1362565926026149888/-VGGVeFt_normal.jpg\",\n",
            "  \"profile_image_url_https\": \"https://pbs.twimg.com/profile_images/1362565926026149888/-VGGVeFt_normal.jpg\",\n",
            "  \"profile_banner_url\": \"https://pbs.twimg.com/profile_banners/925781046620286976/1621722007\",\n",
            "  \"profile_link_color\": \"1DA1F2\",\n",
            "  \"profile_sidebar_border_color\": \"C0DEED\",\n",
            "  \"profile_sidebar_fill_color\": \"DDEEF6\",\n",
            "  \"profile_text_color\": \"333333\",\n",
            "  \"profile_use_background_image\": true,\n",
            "  \"has_extended_profile\": true,\n",
            "  \"default_profile\": true,\n",
            "  \"default_profile_image\": false,\n",
            "  \"following\": false,\n",
            "  \"follow_request_sent\": false,\n",
            "  \"notifications\": false,\n",
            "  \"translator_type\": \"none\",\n",
            "  \"withheld_in_countries\": []\n",
            " },\n",
            " \"geo\": null,\n",
            " \"coordinates\": null,\n",
            " \"place\": null,\n",
            " \"contributors\": null,\n",
            " \"retweeted_status\": {\n",
            "  \"created_at\": \"Mon Jun 28 19:30:00 +0000 2021\",\n",
            "  \"id\": 1409594953207058435,\n",
            "  \"id_str\": \"1409594953207058435\",\n",
            "  \"text\": \"Para a mem\\u00f3ria deste Euro fica a forma como @officialpepe, com 38 anos, limpou alguns dos melhores avan\\u00e7ados do mun\\u2026 https://t.co/E9srhOeQZZ\",\n",
            "  \"truncated\": true,\n",
            "  \"entities\": {\n",
            "   \"hashtags\": [],\n",
            "   \"symbols\": [],\n",
            "   \"user_mentions\": [\n",
            "    {\n",
            "     \"screen_name\": \"officialpepe\",\n",
            "     \"name\": \"Pepe\",\n",
            "     \"id\": 333534411,\n",
            "     \"id_str\": \"333534411\",\n",
            "     \"indices\": [\n",
            "      44,\n",
            "      57\n",
            "     ]\n",
            "    }\n",
            "   ],\n",
            "   \"urls\": [\n",
            "    {\n",
            "     \"url\": \"https://t.co/E9srhOeQZZ\",\n",
            "     \"expanded_url\": \"https://twitter.com/i/web/status/1409594953207058435\",\n",
            "     \"display_url\": \"twitter.com/i/web/status/1\\u2026\",\n",
            "     \"indices\": [\n",
            "      117,\n",
            "      140\n",
            "     ]\n",
            "    }\n",
            "   ]\n",
            "  },\n",
            "  \"metadata\": {\n",
            "   \"iso_language_code\": \"pt\",\n",
            "   \"result_type\": \"recent\"\n",
            "  },\n",
            "  \"source\": \"<a href=\\\"https://about.twitter.com/products/tweetdeck\\\" rel=\\\"nofollow\\\">TweetDeck</a>\",\n",
            "  \"in_reply_to_status_id\": null,\n",
            "  \"in_reply_to_status_id_str\": null,\n",
            "  \"in_reply_to_user_id\": null,\n",
            "  \"in_reply_to_user_id_str\": null,\n",
            "  \"in_reply_to_screen_name\": null,\n",
            "  \"user\": {\n",
            "   \"id\": 40019154,\n",
            "   \"id_str\": \"40019154\",\n",
            "   \"name\": \"SPORT TV\",\n",
            "   \"screen_name\": \"SPORTTVPortugal\",\n",
            "   \"location\": \"Portugal\",\n",
            "   \"description\": \"Bem-vindo ao Twitter oficial da SPORT TV!\",\n",
            "   \"url\": \"http://t.co/ssYkoywLtL\",\n",
            "   \"entities\": {\n",
            "    \"url\": {\n",
            "     \"urls\": [\n",
            "      {\n",
            "       \"url\": \"http://t.co/ssYkoywLtL\",\n",
            "       \"expanded_url\": \"http://www.sporttv.pt\",\n",
            "       \"display_url\": \"sporttv.pt\",\n",
            "       \"indices\": [\n",
            "        0,\n",
            "        22\n",
            "       ]\n",
            "      }\n",
            "     ]\n",
            "    },\n",
            "    \"description\": {\n",
            "     \"urls\": []\n",
            "    }\n",
            "   },\n",
            "   \"protected\": false,\n",
            "   \"followers_count\": 496668,\n",
            "   \"friends_count\": 368,\n",
            "   \"listed_count\": 521,\n",
            "   \"created_at\": \"Thu May 14 15:46:39 +0000 2009\",\n",
            "   \"favourites_count\": 1267,\n",
            "   \"utc_offset\": null,\n",
            "   \"time_zone\": null,\n",
            "   \"geo_enabled\": true,\n",
            "   \"verified\": true,\n",
            "   \"statuses_count\": 30664,\n",
            "   \"lang\": null,\n",
            "   \"contributors_enabled\": false,\n",
            "   \"is_translator\": false,\n",
            "   \"is_translation_enabled\": false,\n",
            "   \"profile_background_color\": \"1A1B1F\",\n",
            "   \"profile_background_image_url\": \"http://abs.twimg.com/images/themes/theme9/bg.gif\",\n",
            "   \"profile_background_image_url_https\": \"https://abs.twimg.com/images/themes/theme9/bg.gif\",\n",
            "   \"profile_background_tile\": false,\n",
            "   \"profile_image_url\": \"http://pbs.twimg.com/profile_images/1180123982227488769/WnJdo1fA_normal.jpg\",\n",
            "   \"profile_image_url_https\": \"https://pbs.twimg.com/profile_images/1180123982227488769/WnJdo1fA_normal.jpg\",\n",
            "   \"profile_banner_url\": \"https://pbs.twimg.com/profile_banners/40019154/1606075010\",\n",
            "   \"profile_link_color\": \"D2AE00\",\n",
            "   \"profile_sidebar_border_color\": \"181A1E\",\n",
            "   \"profile_sidebar_fill_color\": \"FFCC00\",\n",
            "   \"profile_text_color\": \"000000\",\n",
            "   \"profile_use_background_image\": true,\n",
            "   \"has_extended_profile\": false,\n",
            "   \"default_profile\": false,\n",
            "   \"default_profile_image\": false,\n",
            "   \"following\": false,\n",
            "   \"follow_request_sent\": false,\n",
            "   \"notifications\": false,\n",
            "   \"translator_type\": \"none\",\n",
            "   \"withheld_in_countries\": []\n",
            "  },\n",
            "  \"geo\": null,\n",
            "  \"coordinates\": null,\n",
            "  \"place\": null,\n",
            "  \"contributors\": null,\n",
            "  \"is_quote_status\": false,\n",
            "  \"retweet_count\": 30,\n",
            "  \"favorite_count\": 205,\n",
            "  \"favorited\": false,\n",
            "  \"retweeted\": false,\n",
            "  \"possibly_sensitive\": false,\n",
            "  \"lang\": \"pt\"\n",
            " },\n",
            " \"is_quote_status\": false,\n",
            " \"retweet_count\": 30,\n",
            " \"favorite_count\": 0,\n",
            " \"favorited\": false,\n",
            " \"retweeted\": false,\n",
            " \"lang\": \"pt\"\n",
            "}\n"
          ],
          "name": "stdout"
        }
      ]
    },
    {
      "cell_type": "code",
      "metadata": {
        "colab": {
          "base_uri": "https://localhost:8080/"
        },
        "id": "pJVRVcYbgAjR",
        "outputId": "144fb7e3-e5b6-4e44-ad33-10b1edc3bcf9"
      },
      "source": [
        "# Importante também o número de vezes que um tweet específico foi re-tuitado.  \n",
        "\n",
        "for i in range(10):\n",
        "    print()\n",
        "    print(statuses[i]['text'])\n",
        "    print('Favorites: ', statuses[i]['favorite_count'])\n",
        "    print('Retweets: ', statuses[i]['retweet_count'])"
      ],
      "execution_count": null,
      "outputs": [
        {
          "output_type": "stream",
          "text": [
            "\n",
            "RT @SPORTTVPortugal: Para a memória deste Euro fica a forma como @officialpepe, com 38 anos, limpou alguns dos melhores avançados do mundo.…\n",
            "Favorites:  0\n",
            "Retweets:  30\n",
            "\n",
            "RT @CDCInteligencia: 🛡️Inquietud en #UK, #Israel y #Portugal por los rebrotes.Está #España a salvo\n",
            "\"no se dan las condiciones para continua…\n",
            "Favorites:  0\n",
            "Retweets:  6\n",
            "\n",
            "RT @BRAVENEWEUROPE1: This repeats itself throughout Europe. Governments cannot say enough about climate emergency, but do not change polici…\n",
            "Favorites:  0\n",
            "Retweets:  3\n",
            "\n",
            "#Lisboa #Portugal y 17 °C por si nos mayormente soleado el pronóstico de esta noche indica que habrá cielos mayorme… https://t.co/E76RsaWAU4\n",
            "Favorites:  0\n",
            "Retweets:  0\n",
            "\n",
            "RT @Salahuldien: Ronaldo throw the captain badge after Belgium - Portugal match\n",
            "\n",
            "#Euro #Euro2020 #Portugal #Belgium \n",
            "#البرتغال #يورو_2020 #…\n",
            "Favorites:  0\n",
            "Retweets:  180\n",
            "\n",
            "RT @SPORTTVPortugal: As primeiras convocatórias a seguir a uma grande competição costumam ter vários estreantes. Quem achas que serão os pr…\n",
            "Favorites:  0\n",
            "Retweets:  3\n",
            "\n",
            "Gericht in #Portugal: nur 0,9 % der \"verifizierten Fälle\" starben an #COVID - https://t.co/9ij0A1AjIP\n",
            "Favorites:  0\n",
            "Retweets:  0\n",
            "\n",
            "@12happyfeet12 @DrCWerner Wenn jemand aus #Portugal (Virusvarianten-Gebiet) über die #Schweiz einreist, wird er/sie… https://t.co/p6TZB6mAYp\n",
            "Favorites:  1\n",
            "Retweets:  0\n",
            "\n",
            "RT @MathiasPriebe: Und wenn man hektisch zehntausende Urlauber aus #Portugal zurückholt, bevor(!) die Quarantäne-Regelung greift, dann wird…\n",
            "Favorites:  0\n",
            "Retweets:  5\n",
            "\n",
            "RT @MathiasPriebe: Und wenn man hektisch zehntausende Urlauber aus #Portugal zurückholt, bevor(!) die Quarantäne-Regelung greift, dann wird…\n",
            "Favorites:  0\n",
            "Retweets:  5\n"
          ],
          "name": "stdout"
        }
      ]
    },
    {
      "cell_type": "markdown",
      "metadata": {
        "id": "xgzKKJuigAjR"
      },
      "source": [
        "## Extraindo entidades do tweet"
      ]
    },
    {
      "cell_type": "markdown",
      "metadata": {
        "id": "kHMAXkktCBmK"
      },
      "source": [
        "Podemos agora organizar as entidades e o texto de alguns tweets em uma estrutura de dados para análise. O exemplo abaixo extrai o texto, *screen names* e *hashtags* dos tweets coletados.\n"
      ]
    },
    {
      "cell_type": "code",
      "metadata": {
        "colab": {
          "base_uri": "https://localhost:8080/"
        },
        "id": "ZsT7Xbq-gAjS",
        "outputId": "5811e859-2941-4aea-b34b-7d2d86a220a5"
      },
      "source": [
        "# Extrai o texto\n",
        "status_texts = [ status['text'] \n",
        "                 for status in statuses ]\n",
        "\n",
        "# Extrai o screen_name\n",
        "screen_names = [ user_mention['screen_name'] \n",
        "                 for status in statuses\n",
        "                     for user_mention in status['entities']['user_mentions'] ]\n",
        "\n",
        "# Extrai os hashtags\n",
        "hashtags = [ hashtag['text'] \n",
        "             for status in statuses\n",
        "                 for hashtag in status['entities']['hashtags'] ]\n",
        "\n",
        "# Cria uma coleção com todas as palavras de todos os tweets\n",
        "palavras = [ w \n",
        "          for t in status_texts \n",
        "              for w in t.split() ]\n",
        "\n",
        "# Explora os primeiros 5 elementos de cada...\n",
        "\n",
        "print(json.dumps(status_texts[0:5], indent=1))\n",
        "print(json.dumps(screen_names[0:5], indent=1) )\n",
        "print(json.dumps(hashtags[0:5], indent=1))\n",
        "print(json.dumps(palavras[0:5], indent=1))"
      ],
      "execution_count": null,
      "outputs": [
        {
          "output_type": "stream",
          "text": [
            "[\n",
            " \"RT @SPORTTVPortugal: Para a mem\\u00f3ria deste Euro fica a forma como @officialpepe, com 38 anos, limpou alguns dos melhores avan\\u00e7ados do mundo.\\u2026\",\n",
            " \"RT @CDCInteligencia: \\ud83d\\udee1\\ufe0fInquietud en #UK, #Israel y #Portugal por los rebrotes.Est\\u00e1 #Espa\\u00f1a a salvo\\n\\\"no se dan las condiciones para continua\\u2026\",\n",
            " \"RT @BRAVENEWEUROPE1: This repeats itself throughout Europe. Governments cannot say enough about climate emergency, but do not change polici\\u2026\",\n",
            " \"#Lisboa #Portugal y 17 \\u00b0C por si nos mayormente soleado el pron\\u00f3stico de esta noche indica que habr\\u00e1 cielos mayorme\\u2026 https://t.co/E76RsaWAU4\",\n",
            " \"RT @Salahuldien: Ronaldo throw the captain badge after Belgium - Portugal match\\n\\n#Euro #Euro2020 #Portugal #Belgium \\n#\\u0627\\u0644\\u0628\\u0631\\u062a\\u063a\\u0627\\u0644 #\\u064a\\u0648\\u0631\\u0648_2020 #\\u2026\"\n",
            "]\n",
            "[\n",
            " \"SPORTTVPortugal\",\n",
            " \"officialpepe\",\n",
            " \"CDCInteligencia\",\n",
            " \"BRAVENEWEUROPE1\",\n",
            " \"Salahuldien\"\n",
            "]\n",
            "[\n",
            " \"UK\",\n",
            " \"Israel\",\n",
            " \"Portugal\",\n",
            " \"Espa\\u00f1a\",\n",
            " \"Lisboa\"\n",
            "]\n",
            "[\n",
            " \"RT\",\n",
            " \"@SPORTTVPortugal:\",\n",
            " \"Para\",\n",
            " \"a\",\n",
            " \"mem\\u00f3ria\"\n",
            "]\n"
          ],
          "name": "stdout"
        }
      ]
    },
    {
      "cell_type": "markdown",
      "metadata": {
        "id": "8DgDGGlfCt60"
      },
      "source": [
        "Metadados é uma ferramenta poderosa. Meta significa algo que descreve alguma coisa. Metadado é então o 'dado que descreve o dado'. Neste caso é toda informação complementar que melhor caracteriza o texto do tweet.\n",
        "O metadata de um tweet é retornado no formato JSON, com uma estrutura de chave-valor (key-value). \n"
      ]
    },
    {
      "cell_type": "markdown",
      "metadata": {
        "id": "G4zCLpXwgAjS"
      },
      "source": [
        "## Análise de frequência de palavras no texto de tweet"
      ]
    },
    {
      "cell_type": "markdown",
      "metadata": {
        "id": "04VCoPW_DNPC"
      },
      "source": [
        "*   Grande parte de analises de dados entra no aspecto de contar coisas em algum nível.\n",
        "*   Distribuição de frequência, em que contamos o número de ocorrência de uma variável, é uma ferramenta bem útil. \n",
        "* Em Python, podemos utilizar o módulo collections que fornece um contador para calcular uma distribuição de frequência. \n",
        "\n"
      ]
    },
    {
      "cell_type": "code",
      "metadata": {
        "colab": {
          "base_uri": "https://localhost:8080/"
        },
        "id": "kZmv3-XmgAjS",
        "outputId": "9faf8d43-dec0-4eca-ee14-4e91bf51f093"
      },
      "source": [
        "# Este código retorna pares com o termo e a frequência de ocorrência deste termo. \n",
        "# O print() dentro do loop garante que apenas os 10 primeiros resultados são mostrados. \n",
        "\n",
        "from collections import Counter\n",
        "for item in [palavras, screen_names, hashtags]:\n",
        "    c = Counter(item)\n",
        "    print(c.most_common()[:10]) # primeiros 10 \n",
        "    print()"
      ],
      "execution_count": null,
      "outputs": [
        {
          "output_type": "stream",
          "text": [
            "[('RT', 64), ('a', 63), ('#Portugal', 47), ('de', 38), ('do', 22), ('@SPORTTVPortugal:', 20), ('alguns', 20), ('Para', 19), ('memória', 19), ('deste', 19)]\n",
            "\n",
            "[('SPORTTVPortugal', 20), ('officialpepe', 19), ('MathiasPriebe', 5), ('DCFreespiritDC', 5), ('CDCInteligencia', 4), ('DalotDiogo', 3), ('RTenfrancais', 2), ('ReinudeLlion', 2), ('DylanDesignsHD', 2), ('Mediavenir', 2)]\n",
            "\n",
            "[('Portugal', 59), ('EURO2020', 9), ('España', 7), ('UK', 5), ('tribunal', 5), ('COVID19', 5), ('Israel', 4), ('Delta', 4), ('POR', 4), ('portugal', 4)]\n",
            "\n"
          ],
          "name": "stdout"
        }
      ]
    },
    {
      "cell_type": "markdown",
      "metadata": {
        "id": "k6ktCdSOgAjT"
      },
      "source": [
        "## Resultados bem formatados\n",
        "\n",
        "O resultado da distribuição de frequência dos tópicos é uma estrutura de mapa do tipo *key/value (chave-valor)*. Podemos utilizar o módulo Python *prettytable* para mostrar visualmente os resultados na forma de uma tabela. \n"
      ]
    },
    {
      "cell_type": "code",
      "metadata": {
        "colab": {
          "base_uri": "https://localhost:8080/"
        },
        "id": "0njs0A_RgAjT",
        "outputId": "c5591b57-6ca7-45ae-c0f2-5069af971e24"
      },
      "source": [
        "# Importamos o módulo PrettyTable\n",
        "from prettytable import PrettyTable\n",
        "\n",
        "# Loop para montar três tabelas, cada uma contendo duas colunas. \n",
        "# A primeira colunoa mostra a informação (Palavra ou ScreenName ou Hashtag)\n",
        "# A segunda coluna mostra o número de ocorrências (Count)\n",
        "for label, data in (('Palavra', palavras), \n",
        "                    ('Screen Name', screen_names), \n",
        "                    ('Hashtag', hashtags)):\n",
        "    pt = PrettyTable(field_names=[label, 'Count']) \n",
        "    c = Counter(data)\n",
        "    [ pt.add_row(kv) for kv in c.most_common()[:10] ]\n",
        "    pt.align[label], pt.align['Count'] = 'l', 'r' # Ajusta o alinhamento das colunas (left,right)\n",
        "    print(pt)"
      ],
      "execution_count": null,
      "outputs": [
        {
          "output_type": "stream",
          "text": [
            "+-------------------+-------+\n",
            "| Palavra           | Count |\n",
            "+-------------------+-------+\n",
            "| RT                |    64 |\n",
            "| a                 |    63 |\n",
            "| #Portugal         |    47 |\n",
            "| de                |    38 |\n",
            "| do                |    22 |\n",
            "| @SPORTTVPortugal: |    20 |\n",
            "| alguns            |    20 |\n",
            "| Para              |    19 |\n",
            "| memória           |    19 |\n",
            "| deste             |    19 |\n",
            "+-------------------+-------+\n",
            "+-----------------+-------+\n",
            "| Screen Name     | Count |\n",
            "+-----------------+-------+\n",
            "| SPORTTVPortugal |    20 |\n",
            "| officialpepe    |    19 |\n",
            "| MathiasPriebe   |     5 |\n",
            "| DCFreespiritDC  |     5 |\n",
            "| CDCInteligencia |     4 |\n",
            "| DalotDiogo      |     3 |\n",
            "| RTenfrancais    |     2 |\n",
            "| ReinudeLlion    |     2 |\n",
            "| DylanDesignsHD  |     2 |\n",
            "| Mediavenir      |     2 |\n",
            "+-----------------+-------+\n",
            "+----------+-------+\n",
            "| Hashtag  | Count |\n",
            "+----------+-------+\n",
            "| Portugal |    59 |\n",
            "| EURO2020 |     9 |\n",
            "| España   |     7 |\n",
            "| UK       |     5 |\n",
            "| tribunal |     5 |\n",
            "| COVID19  |     5 |\n",
            "| Israel   |     4 |\n",
            "| Delta    |     4 |\n",
            "| POR      |     4 |\n",
            "| portugal |     4 |\n",
            "+----------+-------+\n"
          ],
          "name": "stdout"
        }
      ]
    },
    {
      "cell_type": "markdown",
      "metadata": {
        "id": "yqpSFfKXgAjT"
      },
      "source": [
        "## Diversidade Léxica\n",
        "\n",
        "\n",
        "1.   Uma métrica mais avançada que também contempla frequências\n",
        "Aplicadas a textos não-estruturados.\n",
        "2.   Expressão do número único de tokens no texto dividido pelo número total de tokens. \n",
        "3. Pergunta interessante: \n",
        "Quão amplo ou restrito é um assunto conversado por um indivíduo ou grupo?\n"
      ]
    },
    {
      "cell_type": "code",
      "metadata": {
        "colab": {
          "base_uri": "https://localhost:8080/"
        },
        "id": "6wyJdNTvgAjT",
        "outputId": "ba3c70e3-d202-489b-c955-783348b24d18"
      },
      "source": [
        "# Função para computar diversidade léxica. Número de tokens únicos no texto dividido pelo número total de tokens. \n",
        "# Observação: considere um token como uma palavra.\n",
        "def diversidade_lexica(tokens):\n",
        "    return len(set(tokens))/len(tokens) \n",
        "\n",
        "# Função para calcular o número médio de palavras por tweet\n",
        "def nro_medio_palavras(statuses):\n",
        "    total_palavras = sum([ len(s.split()) for s in statuses ]) \n",
        "    return total_palavras/len(statuses)\n",
        "\n",
        "print('Diversidade Palavra:', diversidade_lexica(palavras))\n",
        "print('Diversidade screen names:',diversidade_lexica(screen_names))\n",
        "print('Diversidade Hashtags:',diversidade_lexica(hashtags))\n",
        "print('Número médio Palavras:',nro_medio_palavras(status_texts))"
      ],
      "execution_count": null,
      "outputs": [
        {
          "output_type": "stream",
          "text": [
            "Diversidade Palavra: 0.4266230223677032\n",
            "Diversidade screen names: 0.4444444444444444\n",
            "Diversidade Hashtags: 0.4666666666666667\n",
            "Número médio Palavras: 18.33\n"
          ],
          "name": "stdout"
        }
      ]
    },
    {
      "cell_type": "markdown",
      "metadata": {
        "id": "Pgws_FBaSyQ2"
      },
      "source": [
        "Interpretação dos Resultados: Diversidade Léxica\n",
        "*   **Diversidade Palavra:** quanto de informação única tem em cada status. Por exemplo, um valor de 0.39 indica que cada novo status carrega 39% de informação única. \n",
        "*   **Diversidade screen names:** quão único é um *screen name* mencionado. Um valor de 0.50 significa que 5 em 10 screen names mencionados são únicos. \n",
        "* **Hashtags:** significa diversidade em novas palavras para hashtags\n",
        "* **Número médio de palavras:** por exemplo, um valor de 17 significa que o número médio de palavras por tweet na amostra coletada é de 17 palavras. \n"
      ]
    },
    {
      "cell_type": "markdown",
      "metadata": {
        "id": "PqiL_mBNgAjU"
      },
      "source": [
        "## Plotando frequências de palavras"
      ]
    },
    {
      "cell_type": "code",
      "metadata": {
        "colab": {
          "base_uri": "https://localhost:8080/",
          "height": 300
        },
        "id": "hkHoVtXcgAjV",
        "outputId": "908bf1b4-4cf5-4a6d-8e6f-34fdc75dd924"
      },
      "source": [
        "# Importa a biblioteca matplotlib com o nome de 'plt'\n",
        "import matplotlib.pyplot as plt\n",
        "%matplotlib inline\n",
        "\n",
        "# Conta o número de palavras\n",
        "contador_palavras = sorted(Counter(palavras).values(), reverse=True)\n",
        "\n",
        "plt.loglog(contador_palavras)\n",
        "plt.ylabel(\"Frequência\")\n",
        "plt.xlabel(\"Rank de Palavras\")"
      ],
      "execution_count": null,
      "outputs": [
        {
          "output_type": "execute_result",
          "data": {
            "text/plain": [
              "Text(0.5, 0, 'Rank de Palavras')"
            ]
          },
          "metadata": {
            "tags": []
          },
          "execution_count": 14
        },
        {
          "output_type": "display_data",
          "data": {
            "image/png": "[encoded data removed]",
            "text/plain": [
              "<Figure size 432x288 with 1 Axes>"
            ]
          },
          "metadata": {
            "tags": [],
            "needs_background": "light"
          }
        }
      ]
    },
    {
      "cell_type": "markdown",
      "metadata": {
        "id": "M9qKC_aggAjV"
      },
      "source": [
        "## Histogramas de palavras, screen names e hashtags\n",
        "\n",
        "O código abaixo apresenta histogramas para as palavras, screen names e hashtags. \n"
      ]
    },
    {
      "cell_type": "code",
      "metadata": {
        "colab": {
          "base_uri": "https://localhost:8080/",
          "height": 868
        },
        "id": "JNhAFtFUgAjV",
        "outputId": "9192cfce-2e8e-4949-cf3b-50ba473af019"
      },
      "source": [
        "# Loop que itera sobre os dados de palavras, screen names e hashtags\n",
        "for label, data in (('Words', palavras), \n",
        "                    ('Screen Names', screen_names), \n",
        "                    ('Hashtags', hashtags)):\n",
        "\n",
        "    # Cria um mapa de frequência para cada conjunto de dados e plota os valores\n",
        "    c = Counter(data)\n",
        "    plt.hist(list(c.values()))\n",
        "    \n",
        "    # Adiciona um título para o gráfico e um subtítulo para o eixo Y\n",
        "    plt.title(label)\n",
        "    plt.ylabel(\"Número de itens em cada intervalo\")\n",
        "    plt.xlabel(\"Intervalos (número de ocorrências de um item)\")\n",
        "    \n",
        "    # ... e mostra como uma nova figura\n",
        "    plt.figure()"
      ],
      "execution_count": null,
      "outputs": [
        {
          "output_type": "display_data",
          "data": {
            "image/png": "[encoded data removed]",
            "text/plain": [
              "<Figure size 432x288 with 1 Axes>"
            ]
          },
          "metadata": {
            "tags": [],
            "needs_background": "light"
          }
        },
        {
          "output_type": "display_data",
          "data": {
            "image/png": "[encoded data removed]",
            "text/plain": [
              "<Figure size 432x288 with 1 Axes>"
            ]
          },
          "metadata": {
            "tags": [],
            "needs_background": "light"
          }
        },
        {
          "output_type": "display_data",
          "data": {
            "image/png": "[encoded data removed]",
            "text/plain": [
              "<Figure size 432x288 with 1 Axes>"
            ]
          },
          "metadata": {
            "tags": [],
            "needs_background": "light"
          }
        },
        {
          "output_type": "display_data",
          "data": {
            "text/plain": [
              "<Figure size 432x288 with 0 Axes>"
            ]
          },
          "metadata": {
            "tags": []
          }
        }
      ]
    },
    {
      "cell_type": "markdown",
      "metadata": {
        "id": "9UIAkwfOYvL5"
      },
      "source": [
        "#Exercícios"
      ]
    },
    {
      "cell_type": "markdown",
      "metadata": {
        "id": "buIZMmQhY2Nh"
      },
      "source": [
        "1. Escreva um código abaixo para buscar a lista de tópicos em tendência na Itália. Você deve se basear no código apresentado acima. \n",
        "\n"
      ]
    },
    {
      "cell_type": "code",
      "metadata": {
        "id": "-STHMa-7ZnvT"
      },
      "source": [
        "# Preencha abaixo com o código para buscar os tópicos na localização WOE = Itália. \n",
        "#\n",
        "#\n"
      ],
      "execution_count": null,
      "outputs": []
    },
    {
      "cell_type": "markdown",
      "metadata": {
        "id": "us-bFXqLZmgV"
      },
      "source": [
        "2. Mostre a lista de tópicos na forma de uma tabela. \n"
      ]
    },
    {
      "cell_type": "code",
      "metadata": {
        "id": "NJoNeZ6JZ09q"
      },
      "source": [
        "# Preencha abaixo com o código mostrar os tópicos em um tabela 'bonitinha'.\n",
        "#\n",
        "#\n"
      ],
      "execution_count": null,
      "outputs": []
    }
  ]
}