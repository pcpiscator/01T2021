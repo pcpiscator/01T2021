{
  "nbformat": 4,
  "nbformat_minor": 0,
  "metadata": {
    "colab": {
      "name": "Códigos interessantes.ipynb",
      "provenance": [],
      "authorship_tag": "ABX9TyNRXlfbyZpqkQRqmx+0Kxt8",
      "include_colab_link": true
    },
    "kernelspec": {
      "name": "python3",
      "display_name": "Python 3"
    },
    "language_info": {
      "name": "python"
    }
  },
  "cells": [
    {
      "cell_type": "markdown",
      "metadata": {
        "id": "view-in-github",
        "colab_type": "text"
      },
      "source": [
        "<a href=\"https://colab.research.google.com/github/pcpiscator/01T2021/blob/main/C%C3%B3digos_interessantes.ipynb\" target=\"_parent\"><img src=\"https://colab.research.google.com/assets/colab-badge.svg\" alt=\"Open In Colab\"/></a>"
      ]
    },
    {
      "cell_type": "markdown",
      "metadata": {
        "id": "O2_p2v1bP_YQ"
      },
      "source": [
        "BIBLIOTECAS IMPORTANTES\n",
        "\n",
        "import pandas as pd\n",
        "import numpy as np\n",
        "\n",
        "import seaborn as sns\n",
        "\n",
        "import matplotlib.pyplot as plt\n",
        "\n",
        "from datetime import datetime\n",
        "\n",
        "from dateutil.parser import parse\n",
        "\n",
        "%matplotlib inline"
      ]
    },
    {
      "cell_type": "markdown",
      "metadata": {
        "id": "MrMJFLkFQWVH"
      },
      "source": [
        "## Código para importar e carregar as bibliotecas (pandas, numpy, matplotlib)\n",
        "## Este código também configura parâmetros para plotar nossos gráficos\n",
        "import numpy as np\n",
        "\n",
        "import pandas as pd\n",
        "\n",
        "PREVIOUS_MAX_ROWS = pd.options.display.max_rows\n",
        "\n",
        "pd.options.display.max_rows = 20\n",
        "\n",
        "np.random.seed(12345)\n",
        "\n",
        "import seaborn as sns\n",
        "\n",
        "import matplotlib.pyplot as plt\n",
        "\n",
        "plt.rc('figure', figsize=(10, 6))\n",
        "\n",
        "np.set_printoptions(precision=4, suppress=True)"
      ]
    },
    {
      "cell_type": "code",
      "metadata": {
        "colab": {
          "base_uri": "https://localhost:8080/"
        },
        "id": "ApFjiL7_P3NH",
        "outputId": "f6a6b21f-eb18-4675-c6d0-4354a4f581cf"
      },
      "source": [
        "#importar a biblioteca pandas\n",
        "#import pandas as pd\n",
        "\n",
        "#df = pd.read_csv(\"https://drive.google.com/uc?export=view&id=1ZMLJsjQHn9SieCk_FUdbM89Uszd0pCLv\", error_bad_lines=False, encoding = \"ISO-8859-1\", sep = \";\")\n",
        "#print (df)"
      ],
      "execution_count": 1,
      "outputs": [
        {
          "output_type": "stream",
          "text": [
            "                                  Benefício Tributário  ...        2015\n",
            "0                                    Rede Arrecadadora  ...   123426532\n",
            "1                                                RETID  ...    65095650\n",
            "2        Doações a Entidades Civis Sem Fins Lucrativos  ...   262425987\n",
            "3    Entidades Sem Fins Lucrativos - Associação Civil   ...  2889831614\n",
            "4         Entidades Sem Fins Lucrativos - Filantrópica  ...  1351980677\n",
            "..                                                 ...  ...         ...\n",
            "212  Tecnologia da Informação e Comunicação - TI e TIC  ...           0\n",
            "213                Microempreendedor Individual - MEI   ...           0\n",
            "214  Indústrias Moveleiras, de Confecções e Artefat...  ...           0\n",
            "215                        Indústrias de Transformação  ...           0\n",
            "216                                    Setor Hoteleiro  ...           0\n",
            "\n",
            "[217 rows x 17 columns]\n"
          ],
          "name": "stdout"
        }
      ]
    },
    {
      "cell_type": "markdown",
      "metadata": {
        "id": "_U62tK6NRL-Q"
      },
      "source": [
        ""
      ]
    }
  ]
}