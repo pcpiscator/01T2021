{
  "nbformat": 4,
  "nbformat_minor": 0,
  "metadata": {
    "kernelspec": {
      "display_name": "Python 3",
      "language": "python",
      "name": "python3"
    },
    "language_info": {
      "codemirror_mode": {
        "name": "ipython",
        "version": 3
      },
      "file_extension": ".py",
      "mimetype": "text/x-python",
      "name": "python",
      "nbconvert_exporter": "python",
      "pygments_lexer": "ipython3",
      "version": "3.6.8"
    },
    "colab": {
      "name": "Cópia(C/ EX.) de Análise_Tweets",
      "provenance": [],
      "include_colab_link": true
    }
  },
  "cells": [
    {
      "cell_type": "markdown",
      "metadata": {
        "id": "view-in-github",
        "colab_type": "text"
      },
      "source": [
        "<a href=\"https://colab.research.google.com/github/pcpiscator/01T2021/blob/main/C%C3%B3pia(C_EX_)_de_An%C3%A1lise_Tweets.ipynb\" target=\"_parent\"><img src=\"https://colab.research.google.com/assets/colab-badge.svg\" alt=\"Open In Colab\"/></a>"
      ]
    },
    {
      "cell_type": "markdown",
      "metadata": {
        "id": "EXIbL8IPcbK_"
      },
      "source": [
        "#Análise de Tweets\n",
        "> Por Marcelo Pias\n",
        "\n",
        "\n",
        "<img width=480 src=\"https://miro.medium.com/max/450/1*p3Ste5R_iJzi5IcSmFkmtg.jpeg\"> </img>\n",
        "\n",
        "\n",
        "\n",
        "**IMPORTANTE: você deve salvar este notebook localmente (computador ou Google Drive) para poder trabalhar nos exercícios. Basta clicar no Menu Arquivo-> Salvar cópia no Drive.**"
      ]
    },
    {
      "cell_type": "markdown",
      "metadata": {
        "id": "NW1YQ4vWW7WI"
      },
      "source": [
        "# Jupyter Notebooks\n",
        "\n",
        "Antes de entrarmos no tópico de **análise de tweets**, é importante relembrarmos sobre o nosso ambiente de desenvolvimento **Jupyter Notebook** no Google Colaboratory. Este ambiente, neste momento sendo utilizado, permite criar um documento com células contendo texto, imagens e \"pedaços\" de código em uma linguagem de programação como Python. \n",
        "\n",
        "O **notebook** que iremos explorar neste laboratório encontra-se em uma plataforma na nuvem, neste caso, o Google Colab. Sempre que aparecer a célula como a mostrada abaixo, com dois colchetes [], indica que é uma célula de código em Python. Basta clicar nesta e usar a combinação das teclas SHIFT+ENTER com intuito de executar o código. \n",
        "\n",
        "Agora tente você mesmo na célula abaixo. Posicione o curso do mouse na célula, e pressione simultaneamente SHIFT+ENTER. O código será executado:\n"
      ]
    },
    {
      "cell_type": "code",
      "metadata": {
        "id": "g6mMdU86XHmd",
        "colab": {
          "base_uri": "https://localhost:8080/"
        },
        "outputId": "e9e82078-c287-4adb-8518-e69c42fe423f"
      },
      "source": [
        "print('Hello World')"
      ],
      "execution_count": 1,
      "outputs": [
        {
          "output_type": "stream",
          "text": [
            "Hello World\n"
          ],
          "name": "stdout"
        }
      ]
    },
    {
      "cell_type": "markdown",
      "metadata": {
        "id": "JlyiqKkQR7Iu"
      },
      "source": [
        "\n",
        "<img src=\"https://sd.keepcalms.com/i/keep-calm-and-viva-sao-joao.png\" width=240> </img>\n",
        "\n",
        "Neste contato com este Jupyter Notebook, exploraremos o **óbvio** ao executar o código Python que foi pré-preenchido na célula. Portanto, fique tranquil* pois o importante é apenas executar a célula com SHIFT+ENTER, e como bônus, se possível tentar entender o que está sendo feito à medida que avançamos no material. De certa forma, o resultado em cada célula já deve ser revelador. Novamente, Mantenha a Calma e controle o Pânico ;)\n"
      ]
    },
    {
      "cell_type": "markdown",
      "metadata": {
        "id": "ILCmFYoegAjI"
      },
      "source": [
        "# Minerando o Twitter\n",
        "\n",
        "A interface, chamada de API, que nos permite acessar os dados do Twitter trabalha com um método de autenticação de usuário. Tal método é utilizado para garantir que o usuário é conhecido ao sistema, e tem autorização para acessar os dados. O Twitter implementa o mecanismo de autenticação chamado OAuth 1.0A. \n",
        "Para facilitar nosso trabalho didático, utilizaremos os identificadores OAuth 1.0A associados à uma conta existente do Twitter (com a devida autorização do mesmo).Estas credenciais estão auto-preenchidas abaixo. "
      ]
    },
    {
      "cell_type": "markdown",
      "metadata": {
        "id": "AjsNVTN3gAjN"
      },
      "source": [
        "## Credenciais para acessar uma conta do Twitter"
      ]
    },
    {
      "cell_type": "markdown",
      "metadata": {
        "id": "dE6rbcvy1B5a"
      },
      "source": [
        "Primeiramente, precisamos importar o módulo *twitter.*"
      ]
    },
    {
      "cell_type": "code",
      "metadata": {
        "colab": {
          "base_uri": "https://localhost:8080/"
        },
        "id": "9aNb9VjKkUDP",
        "outputId": "2086e47b-4a34-409a-8c8a-7d4c66cbe981"
      },
      "source": [
        "pip install twitter"
      ],
      "execution_count": 25,
      "outputs": [
        {
          "output_type": "stream",
          "text": [
            "Requirement already satisfied: twitter in /usr/local/lib/python3.7/dist-packages (1.19.3)\n"
          ],
          "name": "stdout"
        }
      ]
    },
    {
      "cell_type": "code",
      "metadata": {
        "colab": {
          "base_uri": "https://localhost:8080/"
        },
        "id": "7eovsWEwgAjN",
        "outputId": "4dc39cb5-c70b-4fdf-871d-f306576ba06c"
      },
      "source": [
        "import twitter\n",
        "\n",
        "# Abaixo temos os dados das quatro variáveis OAuth 1.0A\n",
        "# Estas credenciais foram pré-preenchidas para facilitar nosso trabalho.\n",
        "\n",
        "CONSUMER_KEY = 'SYFpddpGiwLKmMBaUPellGXki'\n",
        "CONSUMER_SECRET = 'llbWAFXd5CRvK5GVYwvDPV2dpsHrkz2CVmG5ESXXSg13hnWGJx'\n",
        "OAUTH_TOKEN = '234736278-xdQ9DJ3fNTcyRElqD6mNvCFOfyIWgsp9rGvsFPBv'\n",
        "OAUTH_TOKEN_SECRET = '0hE4P481ByaOGsiIW95DyEqZfXmQmKtVpJ68GOzwMf896'\n",
        "\n",
        "# O método abaixo cria o objeto auth que está relacionado ao usuário autenticado\n",
        "auth = twitter.oauth.OAuth(OAUTH_TOKEN, OAUTH_TOKEN_SECRET,\n",
        "                           CONSUMER_KEY, CONSUMER_SECRET)\n",
        "\n",
        "twitter_api = twitter.Twitter(auth=auth)\n",
        "\n",
        "# A linha abaixo apenas mostra que twitter_api é uma variável definida (objeto)\n",
        "\n",
        "print(twitter_api)"
      ],
      "execution_count": 4,
      "outputs": [
        {
          "output_type": "stream",
          "text": [
            "<twitter.api.Twitter object at 0x7fc13bbbcb50>\n"
          ],
          "name": "stdout"
        }
      ]
    },
    {
      "cell_type": "markdown",
      "metadata": {
        "id": "IGH4VvXGgAjO"
      },
      "source": [
        "## Busca por tópicos com tendências"
      ]
    },
    {
      "cell_type": "code",
      "metadata": {
        "colab": {
          "base_uri": "https://localhost:8080/"
        },
        "id": "Hdm-fi7MgAjO",
        "outputId": "1e355ab8-947f-4e77-bd30-8e55fd628a46"
      },
      "source": [
        "# Para representar uma localização, utilizamos um tipo de identificação criada\n",
        "# pelo Yahoo! chamada de 'Where On Earth ID' (ID de onde no Planeta?). \n",
        "# O WOE ID para o mundo é o valor 1.\n",
        "# Ao consultar as URLs https://dev.twitter.com/docs/api/1.1/get/trends/place e\n",
        "# http://developer.yahoo.com/geo/geoplanet/\n",
        "# Podemos encontrar o ID para o Brasil, sendo o valor 23424768\n",
        "\n",
        "WORLD_WOE_ID = 1\n",
        "BR_WOE_ID = 23424768\t\t\t\t\n",
        "\n",
        "# Busca-se os tópicos de tendência para o Mundo e Brasil\t\t\t\t\t\n",
        "tendencia_mundo = twitter_api.trends.place(_id=WORLD_WOE_ID)\n",
        "tendencia_br = twitter_api.trends.place(_id=BR_WOE_ID)\n",
        "\n",
        "print(tendencia_mundo)\n",
        "print()\n",
        "print(tendencia_br)\t\n"
      ],
      "execution_count": 26,
      "outputs": [
        {
          "output_type": "stream",
          "text": [
            "[{'trends': [{'name': '#TemptationIsland', 'url': 'http://twitter.com/search?q=%23TemptationIsland', 'promoted_content': None, 'query': '%23TemptationIsland', 'tweet_volume': 97993}, {'name': '#LoveIsland', 'url': 'http://twitter.com/search?q=%23LoveIsland', 'promoted_content': None, 'query': '%23LoveIsland', 'tweet_volume': 142118}, {'name': 'Richard Donner', 'url': 'http://twitter.com/search?q=%22Richard+Donner%22', 'promoted_content': None, 'query': '%22Richard+Donner%22', 'tweet_volume': 39356}, {'name': 'Tommaso', 'url': 'http://twitter.com/search?q=Tommaso', 'promoted_content': None, 'query': 'Tommaso', 'tweet_volume': 30829}, {'name': '#EuApoioVotoAuditavel', 'url': 'http://twitter.com/search?q=%23EuApoioVotoAuditavel', 'promoted_content': None, 'query': '%23EuApoioVotoAuditavel', 'tweet_volume': 200396}, {'name': '#MerveAkpınar', 'url': 'http://twitter.com/search?q=%23MerveAkp%C4%B1nar', 'promoted_content': None, 'query': '%23MerveAkp%C4%B1nar', 'tweet_volume': 19275}, {'name': 'Valentina', 'url': 'http://twitter.com/search?q=Valentina', 'promoted_content': None, 'query': 'Valentina', 'tweet_volume': 30232}, {'name': '#conquisfinal', 'url': 'http://twitter.com/search?q=%23conquisfinal', 'promoted_content': None, 'query': '%23conquisfinal', 'tweet_volume': None}, {'name': 'Toby', 'url': 'http://twitter.com/search?q=Toby', 'promoted_content': None, 'query': 'Toby', 'tweet_volume': 30944}, {'name': 'ASSISTA YOUNG ROYALS', 'url': 'http://twitter.com/search?q=%22ASSISTA+YOUNG+ROYALS%22', 'promoted_content': None, 'query': '%22ASSISTA+YOUNG+ROYALS%22', 'tweet_volume': 65065}, {'name': 'Faye', 'url': 'http://twitter.com/search?q=Faye', 'promoted_content': None, 'query': 'Faye', 'tweet_volume': 17960}, {'name': 'Lethal Weapon', 'url': 'http://twitter.com/search?q=%22Lethal+Weapon%22', 'promoted_content': None, 'query': '%22Lethal+Weapon%22', 'tweet_volume': 16006}, {'name': 'Filippo', 'url': 'http://twitter.com/search?q=Filippo', 'promoted_content': None, 'query': 'Filippo', 'tweet_volume': 11475}, {'name': 'The Goonies', 'url': 'http://twitter.com/search?q=%22The+Goonies%22', 'promoted_content': None, 'query': '%22The+Goonies%22', 'tweet_volume': 15623}, {'name': 'The Omen', 'url': 'http://twitter.com/search?q=%22The+Omen%22', 'promoted_content': None, 'query': '%22The+Omen%22', 'tweet_volume': None}, {'name': 'Superman', 'url': 'http://twitter.com/search?q=Superman', 'promoted_content': None, 'query': 'Superman', 'tweet_volume': 49866}, {'name': 'Brad', 'url': 'http://twitter.com/search?q=Brad', 'promoted_content': None, 'query': 'Brad', 'tweet_volume': 46051}, {'name': 'STAY THIS FRIDAY', 'url': 'http://twitter.com/search?q=%22STAY+THIS+FRIDAY%22', 'promoted_content': None, 'query': '%22STAY+THIS+FRIDAY%22', 'tweet_volume': 19695}, {'name': 'harry styles', 'url': 'http://twitter.com/search?q=%22harry+styles%22', 'promoted_content': None, 'query': '%22harry+styles%22', 'tweet_volume': 192303}, {'name': 'Francisco Encina', 'url': 'http://twitter.com/search?q=%22Francisco+Encina%22', 'promoted_content': None, 'query': '%22Francisco+Encina%22', 'tweet_volume': None}, {'name': 'Rachel', 'url': 'http://twitter.com/search?q=Rachel', 'promoted_content': None, 'query': 'Rachel', 'tweet_volume': 100719}, {'name': 'Olivia Wilde', 'url': 'http://twitter.com/search?q=%22Olivia+Wilde%22', 'promoted_content': None, 'query': '%22Olivia+Wilde%22', 'tweet_volume': 27990}, {'name': 'BABI E NIVEA MEN DEEP', 'url': 'http://twitter.com/search?q=%22BABI+E+NIVEA+MEN+DEEP%22', 'promoted_content': None, 'query': '%22BABI+E+NIVEA+MEN+DEEP%22', 'tweet_volume': None}, {'name': 'Tobin', 'url': 'http://twitter.com/search?q=Tobin', 'promoted_content': None, 'query': 'Tobin', 'tweet_volume': None}, {'name': 'Liberty', 'url': 'http://twitter.com/search?q=Liberty', 'promoted_content': None, 'query': 'Liberty', 'tweet_volume': 86540}, {'name': 'Raducanu', 'url': 'http://twitter.com/search?q=Raducanu', 'promoted_content': None, 'query': 'Raducanu', 'tweet_volume': 10939}, {'name': 'Jorge Ramos', 'url': 'http://twitter.com/search?q=%22Jorge+Ramos%22', 'promoted_content': None, 'query': '%22Jorge+Ramos%22', 'tweet_volume': 81339}, {'name': 'Boris', 'url': 'http://twitter.com/search?q=Boris', 'promoted_content': None, 'query': 'Boris', 'tweet_volume': 135500}, {'name': 'Parasite', 'url': 'http://twitter.com/search?q=Parasite', 'promoted_content': None, 'query': 'Parasite', 'tweet_volume': 25339}, {'name': 'Giulia', 'url': 'http://twitter.com/search?q=Giulia', 'promoted_content': None, 'query': 'Giulia', 'tweet_volume': 18419}, {'name': 'PRE SAVE QUERO PALMINHAS', 'url': 'http://twitter.com/search?q=%22PRE+SAVE+QUERO+PALMINHAS%22', 'promoted_content': None, 'query': '%22PRE+SAVE+QUERO+PALMINHAS%22', 'tweet_volume': 27894}, {'name': 'Paul Rudd', 'url': 'http://twitter.com/search?q=%22Paul+Rudd%22', 'promoted_content': None, 'query': '%22Paul+Rudd%22', 'tweet_volume': None}, {'name': '128gb', 'url': 'http://twitter.com/search?q=128gb', 'promoted_content': None, 'query': '128gb', 'tweet_volume': 12062}, {'name': 'Casa Amor', 'url': 'http://twitter.com/search?q=%22Casa+Amor%22', 'promoted_content': None, 'query': '%22Casa+Amor%22', 'tweet_volume': 11582}, {'name': 'Correo Argentino', 'url': 'http://twitter.com/search?q=%22Correo+Argentino%22', 'promoted_content': None, 'query': '%22Correo+Argentino%22', 'tweet_volume': 20957}, {'name': 'Dulceida', 'url': 'http://twitter.com/search?q=Dulceida', 'promoted_content': None, 'query': 'Dulceida', 'tweet_volume': None}, {'name': 'Stephen Dorff', 'url': 'http://twitter.com/search?q=%22Stephen+Dorff%22', 'promoted_content': None, 'query': '%22Stephen+Dorff%22', 'tweet_volume': None}, {'name': 'John McEnroe', 'url': 'http://twitter.com/search?q=%22John+McEnroe%22', 'promoted_content': None, 'query': '%22John+McEnroe%22', 'tweet_volume': None}, {'name': 'Nick Wright', 'url': 'http://twitter.com/search?q=%22Nick+Wright%22', 'promoted_content': None, 'query': '%22Nick+Wright%22', 'tweet_volume': None}, {'name': 'Scrooged', 'url': 'http://twitter.com/search?q=Scrooged', 'promoted_content': None, 'query': 'Scrooged', 'tweet_volume': None}, {'name': 'Eneko', 'url': 'http://twitter.com/search?q=Eneko', 'promoted_content': None, 'query': 'Eneko', 'tweet_volume': None}, {'name': 'REQUEST', 'url': 'http://twitter.com/search?q=REQUEST', 'promoted_content': None, 'query': 'REQUEST', 'tweet_volume': 538105}, {'name': 'Vin Diesel', 'url': 'http://twitter.com/search?q=%22Vin+Diesel%22', 'promoted_content': None, 'query': '%22Vin+Diesel%22', 'tweet_volume': 19233}, {'name': 'Euro 10', 'url': 'http://twitter.com/search?q=%22Euro+10%22', 'promoted_content': None, 'query': '%22Euro+10%22', 'tweet_volume': 13660}, {'name': 'Federer', 'url': 'http://twitter.com/search?q=Federer', 'promoted_content': None, 'query': 'Federer', 'tweet_volume': 27996}, {'name': 'Gabriel Mercado', 'url': 'http://twitter.com/search?q=%22Gabriel+Mercado%22', 'promoted_content': None, 'query': '%22Gabriel+Mercado%22', 'tweet_volume': None}, {'name': 'Toretto', 'url': 'http://twitter.com/search?q=Toretto', 'promoted_content': None, 'query': 'Toretto', 'tweet_volume': 14974}, {'name': 'Segpres', 'url': 'http://twitter.com/search?q=Segpres', 'promoted_content': None, 'query': 'Segpres', 'tweet_volume': None}, {'name': 'QUERO MEU PIX', 'url': 'http://twitter.com/search?q=%22QUERO+MEU+PIX%22', 'promoted_content': None, 'query': '%22QUERO+MEU+PIX%22', 'tweet_volume': None}, {'name': 'Ladyhawke', 'url': 'http://twitter.com/search?q=Ladyhawke', 'promoted_content': None, 'query': 'Ladyhawke', 'tweet_volume': None}], 'as_of': '2021-07-05T22:01:05Z', 'created_at': '2021-07-04T22:43:58Z', 'locations': [{'name': 'Worldwide', 'woeid': 1}]}]\n",
            "\n",
            "[{'trends': [{'name': '#EuApoioVotoAuditavel', 'url': 'http://twitter.com/search?q=%23EuApoioVotoAuditavel', 'promoted_content': None, 'query': '%23EuApoioVotoAuditavel', 'tweet_volume': 200396}, {'name': 'ASSISTA YOUNG ROYALS', 'url': 'http://twitter.com/search?q=%22ASSISTA+YOUNG+ROYALS%22', 'promoted_content': None, 'query': '%22ASSISTA+YOUNG+ROYALS%22', 'tweet_volume': 64928}, {'name': 'BABI E NIVEA MEN DEEP', 'url': 'http://twitter.com/search?q=%22BABI+E+NIVEA+MEN+DEEP%22', 'promoted_content': None, 'query': '%22BABI+E+NIVEA+MEN+DEEP%22', 'tweet_volume': None}, {'name': '#DesmonetizaLGBTfobia', 'url': 'http://twitter.com/search?q=%23DesmonetizaLGBTfobia', 'promoted_content': None, 'query': '%23DesmonetizaLGBTfobia', 'tweet_volume': 11884}, {'name': 'harry styles', 'url': 'http://twitter.com/search?q=%22harry+styles%22', 'promoted_content': None, 'query': '%22harry+styles%22', 'tweet_volume': 192303}, {'name': 'PRE SAVE QUERO PALMINHAS', 'url': 'http://twitter.com/search?q=%22PRE+SAVE+QUERO+PALMINHAS%22', 'promoted_content': None, 'query': '%22PRE+SAVE+QUERO+PALMINHAS%22', 'tweet_volume': 27894}, {'name': 'Richard Donner', 'url': 'http://twitter.com/search?q=%22Richard+Donner%22', 'promoted_content': None, 'query': '%22Richard+Donner%22', 'tweet_volume': 39356}, {'name': '128gb', 'url': 'http://twitter.com/search?q=128gb', 'promoted_content': None, 'query': '128gb', 'tweet_volume': 12003}, {'name': 'STAY THIS FRIDAY', 'url': 'http://twitter.com/search?q=%22STAY+THIS+FRIDAY%22', 'promoted_content': None, 'query': '%22STAY+THIS+FRIDAY%22', 'tweet_volume': 19695}, {'name': 'Olivia Wilde', 'url': 'http://twitter.com/search?q=%22Olivia+Wilde%22', 'promoted_content': None, 'query': '%22Olivia+Wilde%22', 'tweet_volume': 27990}, {'name': 'QUERO MEU PIX', 'url': 'http://twitter.com/search?q=%22QUERO+MEU+PIX%22', 'promoted_content': None, 'query': '%22QUERO+MEU+PIX%22', 'tweet_volume': None}, {'name': '#AmoresVerdadeiros106', 'url': 'http://twitter.com/search?q=%23AmoresVerdadeiros106', 'promoted_content': None, 'query': '%23AmoresVerdadeiros106', 'tweet_volume': None}, {'name': 'Gabriel Mercado', 'url': 'http://twitter.com/search?q=%22Gabriel+Mercado%22', 'promoted_content': None, 'query': '%22Gabriel+Mercado%22', 'tweet_volume': None}, {'name': '#CiroAvisou', 'url': 'http://twitter.com/search?q=%23CiroAvisou', 'promoted_content': None, 'query': '%23CiroAvisou', 'tweet_volume': None}, {'name': 'Tobin', 'url': 'http://twitter.com/search?q=Tobin', 'promoted_content': None, 'query': 'Tobin', 'tweet_volume': None}, {'name': 'Em Alagoas', 'url': 'http://twitter.com/search?q=%22Em+Alagoas%22', 'promoted_content': None, 'query': '%22Em+Alagoas%22', 'tweet_volume': None}, {'name': 'PRA CIMA CORINTHIANS', 'url': 'http://twitter.com/search?q=%22PRA+CIMA+CORINTHIANS%22', 'promoted_content': None, 'query': '%22PRA+CIMA+CORINTHIANS%22', 'tweet_volume': None}, {'name': 'FICA TROPA DO CARECA', 'url': 'http://twitter.com/search?q=%22FICA+TROPA+DO+CARECA%22', 'promoted_content': None, 'query': '%22FICA+TROPA+DO+CARECA%22', 'tweet_volume': None}, {'name': 'Máquina Mortífera', 'url': 'http://twitter.com/search?q=%22M%C3%A1quina+Mort%C3%ADfera%22', 'promoted_content': None, 'query': '%22M%C3%A1quina+Mort%C3%ADfera%22', 'tweet_volume': None}, {'name': 'Nanno', 'url': 'http://twitter.com/search?q=Nanno', 'promoted_content': None, 'query': 'Nanno', 'tweet_volume': None}, {'name': '64gb', 'url': 'http://twitter.com/search?q=64gb', 'promoted_content': None, 'query': '64gb', 'tweet_volume': None}, {'name': 'CENTO E QUARENTA E OITO', 'url': 'http://twitter.com/search?q=%22CENTO+E+QUARENTA+E+OITO%22', 'promoted_content': None, 'query': '%22CENTO+E+QUARENTA+E+OITO%22', 'tweet_volume': None}, {'name': '256gb', 'url': 'http://twitter.com/search?q=256gb', 'promoted_content': None, 'query': '256gb', 'tweet_volume': None}, {'name': 'MEET SAVANNAH CLARKE', 'url': 'http://twitter.com/search?q=%22MEET+SAVANNAH+CLARKE%22', 'promoted_content': None, 'query': '%22MEET+SAVANNAH+CLARKE%22', 'tweet_volume': None}, {'name': '#MTVHitsAnos90', 'url': 'http://twitter.com/search?q=%23MTVHitsAnos90', 'promoted_content': None, 'query': '%23MTVHitsAnos90', 'tweet_volume': None}, {'name': '7M LOUD VOLTAN', 'url': 'http://twitter.com/search?q=%227M+LOUD+VOLTAN%22', 'promoted_content': None, 'query': '%227M+LOUD+VOLTAN%22', 'tweet_volume': 12312}, {'name': 'Larry', 'url': 'http://twitter.com/search?q=Larry', 'promoted_content': None, 'query': 'Larry', 'tweet_volume': 84106}, {'name': '1 ANO DE LOUD THAIGA', 'url': 'http://twitter.com/search?q=%221+ANO+DE+LOUD+THAIGA%22', 'promoted_content': None, 'query': '%221+ANO+DE+LOUD+THAIGA%22', 'tweet_volume': None}, {'name': 'Micheque', 'url': 'http://twitter.com/search?q=Micheque', 'promoted_content': None, 'query': 'Micheque', 'tweet_volume': None}, {'name': '148 ITENS', 'url': 'http://twitter.com/search?q=%22148+ITENS%22', 'promoted_content': None, 'query': '%22148+ITENS%22', 'tweet_volume': None}, {'name': 'Petrobras', 'url': 'http://twitter.com/search?q=Petrobras', 'promoted_content': None, 'query': 'Petrobras', 'tweet_volume': None}, {'name': 'Goonies', 'url': 'http://twitter.com/search?q=Goonies', 'promoted_content': None, 'query': 'Goonies', 'tweet_volume': 22126}, {'name': 'Adrilles', 'url': 'http://twitter.com/search?q=Adrilles', 'promoted_content': None, 'query': 'Adrilles', 'tweet_volume': None}, {'name': 'Samsung', 'url': 'http://twitter.com/search?q=Samsung', 'promoted_content': None, 'query': 'Samsung', 'tweet_volume': 78297}, {'name': 'Podolski', 'url': 'http://twitter.com/search?q=Podolski', 'promoted_content': None, 'query': 'Podolski', 'tweet_volume': None}, {'name': 'PRESAVE PEOPLE WATCHING', 'url': 'http://twitter.com/search?q=%22PRESAVE+PEOPLE+WATCHING%22', 'promoted_content': None, 'query': '%22PRESAVE+PEOPLE+WATCHING%22', 'tweet_volume': None}, {'name': 'casemiro', 'url': 'http://twitter.com/search?q=casemiro', 'promoted_content': None, 'query': 'casemiro', 'tweet_volume': None}, {'name': 'Nelson', 'url': 'http://twitter.com/search?q=Nelson', 'promoted_content': None, 'query': 'Nelson', 'tweet_volume': 21292}, {'name': 'Rachadinha', 'url': 'http://twitter.com/search?q=Rachadinha', 'promoted_content': None, 'query': 'Rachadinha', 'tweet_volume': 111414}, {'name': 'Gabriel Silva', 'url': 'http://twitter.com/search?q=%22Gabriel+Silva%22', 'promoted_content': None, 'query': '%22Gabriel+Silva%22', 'tweet_volume': None}, {'name': 'Jovem Klan', 'url': 'http://twitter.com/search?q=%22Jovem+Klan%22', 'promoted_content': None, 'query': '%22Jovem+Klan%22', 'tweet_volume': None}, {'name': 'junko', 'url': 'http://twitter.com/search?q=junko', 'promoted_content': None, 'query': 'junko', 'tweet_volume': None}, {'name': 'Barroso', 'url': 'http://twitter.com/search?q=Barroso', 'promoted_content': None, 'query': 'Barroso', 'tweet_volume': 42963}, {'name': 'Queiroz', 'url': 'http://twitter.com/search?q=Queiroz', 'promoted_content': None, 'query': 'Queiroz', 'tweet_volume': 14708}, {'name': 'Coutinho', 'url': 'http://twitter.com/search?q=Coutinho', 'promoted_content': None, 'query': 'Coutinho', 'tweet_volume': None}, {'name': '16gb', 'url': 'http://twitter.com/search?q=16gb', 'promoted_content': None, 'query': '16gb', 'tweet_volume': None}, {'name': 'Michelle Bolsonaro', 'url': 'http://twitter.com/search?q=%22Michelle+Bolsonaro%22', 'promoted_content': None, 'query': '%22Michelle+Bolsonaro%22', 'tweet_volume': None}, {'name': 'Louis Vuitton', 'url': 'http://twitter.com/search?q=%22Louis+Vuitton%22', 'promoted_content': None, 'query': '%22Louis+Vuitton%22', 'tweet_volume': 411472}, {'name': 'hugo gloss', 'url': 'http://twitter.com/search?q=%22hugo+gloss%22', 'promoted_content': None, 'query': '%22hugo+gloss%22', 'tweet_volume': None}, {'name': 'Saul', 'url': 'http://twitter.com/search?q=Saul', 'promoted_content': None, 'query': 'Saul', 'tweet_volume': 14513}], 'as_of': '2021-07-05T22:01:05Z', 'created_at': '2021-07-04T05:19:34Z', 'locations': [{'name': 'Brazil', 'woeid': 23424768}]}]\n"
          ],
          "name": "stdout"
        }
      ]
    },
    {
      "cell_type": "markdown",
      "metadata": {
        "id": "fnaZgVrH4ius"
      },
      "source": [
        "Os tópicos em tendência encontram-se armazenados em *tendencia_mundo*, na lista *trends* como visto acima. O *loop* abaixo percorre essa lista, e imprime cada elemento. Como resultado temos a lista de tópicos para o mundo todo (ID WOE = 1). "
      ]
    },
    {
      "cell_type": "code",
      "metadata": {
        "colab": {
          "base_uri": "https://localhost:8080/"
        },
        "id": "seul3anHgAjP",
        "outputId": "cff9afb1-8297-487d-9cdf-7fdfa880d21c"
      },
      "source": [
        "for trend in tendencia_mundo[0]['trends']:\n",
        "    print(trend['name'])"
      ],
      "execution_count": 27,
      "outputs": [
        {
          "output_type": "stream",
          "text": [
            "#TemptationIsland\n",
            "#LoveIsland\n",
            "Richard Donner\n",
            "Tommaso\n",
            "#EuApoioVotoAuditavel\n",
            "#MerveAkpınar\n",
            "Valentina\n",
            "#conquisfinal\n",
            "Toby\n",
            "ASSISTA YOUNG ROYALS\n",
            "Faye\n",
            "Lethal Weapon\n",
            "Filippo\n",
            "The Goonies\n",
            "The Omen\n",
            "Superman\n",
            "Brad\n",
            "STAY THIS FRIDAY\n",
            "harry styles\n",
            "Francisco Encina\n",
            "Rachel\n",
            "Olivia Wilde\n",
            "BABI E NIVEA MEN DEEP\n",
            "Tobin\n",
            "Liberty\n",
            "Raducanu\n",
            "Jorge Ramos\n",
            "Boris\n",
            "Parasite\n",
            "Giulia\n",
            "PRE SAVE QUERO PALMINHAS\n",
            "Paul Rudd\n",
            "128gb\n",
            "Casa Amor\n",
            "Correo Argentino\n",
            "Dulceida\n",
            "Stephen Dorff\n",
            "John McEnroe\n",
            "Nick Wright\n",
            "Scrooged\n",
            "Eneko\n",
            "REQUEST\n",
            "Vin Diesel\n",
            "Euro 10\n",
            "Federer\n",
            "Gabriel Mercado\n",
            "Toretto\n",
            "Segpres\n",
            "QUERO MEU PIX\n",
            "Ladyhawke\n"
          ],
          "name": "stdout"
        }
      ]
    },
    {
      "cell_type": "markdown",
      "metadata": {
        "id": "1TwwukL77MR_"
      },
      "source": [
        "O *loop* abaixo percorre a lista de tópicos armazenada em *trends* na variável *tendencia_br*. "
      ]
    },
    {
      "cell_type": "code",
      "metadata": {
        "colab": {
          "base_uri": "https://localhost:8080/"
        },
        "id": "GOiR1DAlgAjP",
        "outputId": "52cde42b-b69e-4b96-8e39-34cb2f4ec3ab"
      },
      "source": [
        "for trend in tendencia_br[0]['trends']:\n",
        "    print(trend['name'])"
      ],
      "execution_count": 28,
      "outputs": [
        {
          "output_type": "stream",
          "text": [
            "#EuApoioVotoAuditavel\n",
            "ASSISTA YOUNG ROYALS\n",
            "BABI E NIVEA MEN DEEP\n",
            "#DesmonetizaLGBTfobia\n",
            "harry styles\n",
            "PRE SAVE QUERO PALMINHAS\n",
            "Richard Donner\n",
            "128gb\n",
            "STAY THIS FRIDAY\n",
            "Olivia Wilde\n",
            "QUERO MEU PIX\n",
            "#AmoresVerdadeiros106\n",
            "Gabriel Mercado\n",
            "#CiroAvisou\n",
            "Tobin\n",
            "Em Alagoas\n",
            "PRA CIMA CORINTHIANS\n",
            "FICA TROPA DO CARECA\n",
            "Máquina Mortífera\n",
            "Nanno\n",
            "64gb\n",
            "CENTO E QUARENTA E OITO\n",
            "256gb\n",
            "MEET SAVANNAH CLARKE\n",
            "#MTVHitsAnos90\n",
            "7M LOUD VOLTAN\n",
            "Larry\n",
            "1 ANO DE LOUD THAIGA\n",
            "Micheque\n",
            "148 ITENS\n",
            "Petrobras\n",
            "Goonies\n",
            "Adrilles\n",
            "Samsung\n",
            "Podolski\n",
            "PRESAVE PEOPLE WATCHING\n",
            "casemiro\n",
            "Nelson\n",
            "Rachadinha\n",
            "Gabriel Silva\n",
            "Jovem Klan\n",
            "junko\n",
            "Barroso\n",
            "Queiroz\n",
            "Coutinho\n",
            "16gb\n",
            "Michelle Bolsonaro\n",
            "Louis Vuitton\n",
            "hugo gloss\n",
            "Saul\n"
          ],
          "name": "stdout"
        }
      ]
    },
    {
      "cell_type": "markdown",
      "metadata": {
        "id": "wzaGU_JO8FOM"
      },
      "source": [
        "Muitas das vezes os tópicos em um país como o Brasil também estão também em tendência na lista mundial. O código Phyton abaixo busca exatamente esta intersecção entre tópicos do Brasil e Mundo. "
      ]
    },
    {
      "cell_type": "code",
      "metadata": {
        "colab": {
          "base_uri": "https://localhost:8080/"
        },
        "id": "Gtx9OPs2gAjQ",
        "outputId": "229811a2-6be1-4bfa-a38f-4c7ce317dc0d"
      },
      "source": [
        "# Define conjunto com tend^ncias mundias\n",
        "conj_tendencias_mundo = set([trend['name'] \n",
        "                        for trend in tendencia_mundo[0]['trends']])\n",
        "\n",
        "# Define conjunto com tendências no Brasil\n",
        "conj_tendencias_br = set([trend['name'] \n",
        "                     for trend in tendencia_br[0]['trends']]) \n",
        "\n",
        "# Abaixo fazemos a intersecção entre dois conjuntos\n",
        "tendencias_comum = conj_tendencias_mundo.intersection(conj_tendencias_br)\n",
        "\n",
        "print(tendencias_comum)"
      ],
      "execution_count": 29,
      "outputs": [
        {
          "output_type": "stream",
          "text": [
            "{'Tobin', 'Gabriel Mercado', 'STAY THIS FRIDAY', '#EuApoioVotoAuditavel', 'BABI E NIVEA MEN DEEP', 'PRE SAVE QUERO PALMINHAS', 'harry styles', 'QUERO MEU PIX', 'Olivia Wilde', '128gb', 'Richard Donner', 'ASSISTA YOUNG ROYALS'}\n"
          ],
          "name": "stdout"
        }
      ]
    },
    {
      "cell_type": "markdown",
      "metadata": {
        "id": "-JmXPlNcgAjQ"
      },
      "source": [
        "## Anatomia de um Tweet"
      ]
    },
    {
      "cell_type": "markdown",
      "metadata": {
        "id": "Jgli7wpe-k8k"
      },
      "source": [
        "Podemos especificar um texto para pesquisa como um tópico em tendência. Se setarmos a variável *q* abaixo, podemos pesquisar por um conteúdo. Neste momento a palavra 'Portugal' está em alta, e com isto utilizamos esta palavra nos exemplos abaixo. "
      ]
    },
    {
      "cell_type": "code",
      "metadata": {
        "colab": {
          "base_uri": "https://localhost:8080/"
        },
        "id": "NNiTWWUogAjQ",
        "outputId": "217efd7a-0426-4045-c08f-0fc10687888f"
      },
      "source": [
        "import json\n",
        "\n",
        "# Variável 'q' seta para o tópico 'Portugal'\n",
        "\n",
        "# Tente outras palavras mudando o valor desta variável. \n",
        "q = '#Portugal' \n",
        "\n",
        "count = 100\n",
        "\n",
        "# Importa modulo 'unquote' para prevenir erros em url \n",
        "from urllib.parse import unquote\n",
        "\n",
        "# Solicita a pesquisa através do método twitter_api.search.tweets, passando como\n",
        "# parâmetro a string em *q*.\n",
        "\n",
        "resultados_pesquisa = twitter_api.search.tweets(q=q, count=count)\n",
        "\n",
        "statuses = resultados_pesquisa['statuses']\n",
        "\n",
        "# Faz a iteração em 5 blocos de resultados seguindo um 'cursor'\n",
        "for _ in range(5):\n",
        "    print('Tamanho do conjunto de status', len(statuses))\n",
        "    try:\n",
        "        proximos_resultados = resultados_pesquisa['search_metadata']['proximos_resultados']\n",
        "    except KeyError as e: # Termina quando proximos_resultados termina de existir\n",
        "        break\n",
        "        \n",
        "    # Cria um dicionário de proximos_resultados\n",
        "    kwargs = dict([ kv.split('=') for kv in unquote(proximos_resultados[1:]).split(\"&\") ])\n",
        "    \n",
        "    resultados_pesquisa = twitter_api.search.tweets(**kwargs)\n",
        "    statuses += resultados_pesquisa['statuses']\n",
        "\n",
        "# Mostra uma pequena amostra do resultado.\n",
        "# O resultado está no formato JSON, conforme mostrado abaixo.\n",
        "print(json.dumps(statuses[0], indent=1))"
      ],
      "execution_count": 41,
      "outputs": [
        {
          "output_type": "stream",
          "text": [
            "Tamanho do conjunto de status 100\n",
            "{\n",
            " \"created_at\": \"Mon Jul 05 22:09:02 +0000 2021\",\n",
            " \"id\": 1412171689350283268,\n",
            " \"id_str\": \"1412171689350283268\",\n",
            " \"text\": \"RT @risklayer: Insanity. \\nLast Summer we pointed out the issues with the #Corona \\\"risk zones\\\" in #Germany being 10 to 20 days late. \\nThere\\u2026\",\n",
            " \"truncated\": false,\n",
            " \"entities\": {\n",
            "  \"hashtags\": [\n",
            "   {\n",
            "    \"text\": \"Corona\",\n",
            "    \"indices\": [\n",
            "     73,\n",
            "     80\n",
            "    ]\n",
            "   },\n",
            "   {\n",
            "    \"text\": \"Germany\",\n",
            "    \"indices\": [\n",
            "     97,\n",
            "     105\n",
            "    ]\n",
            "   }\n",
            "  ],\n",
            "  \"symbols\": [],\n",
            "  \"user_mentions\": [\n",
            "   {\n",
            "    \"screen_name\": \"risklayer\",\n",
            "    \"name\": \"Risklayer\",\n",
            "    \"id\": 2902636475,\n",
            "    \"id_str\": \"2902636475\",\n",
            "    \"indices\": [\n",
            "     3,\n",
            "     13\n",
            "    ]\n",
            "   }\n",
            "  ],\n",
            "  \"urls\": []\n",
            " },\n",
            " \"metadata\": {\n",
            "  \"iso_language_code\": \"en\",\n",
            "  \"result_type\": \"recent\"\n",
            " },\n",
            " \"source\": \"<a href=\\\"http://twitter.com/download/android\\\" rel=\\\"nofollow\\\">Twitter for Android</a>\",\n",
            " \"in_reply_to_status_id\": null,\n",
            " \"in_reply_to_status_id_str\": null,\n",
            " \"in_reply_to_user_id\": null,\n",
            " \"in_reply_to_user_id_str\": null,\n",
            " \"in_reply_to_screen_name\": null,\n",
            " \"user\": {\n",
            "  \"id\": 959585738680668161,\n",
            "  \"id_str\": \"959585738680668161\",\n",
            "  \"name\": \"Nine Oh Real\",\n",
            "  \"screen_name\": \"mythlfrythtyg\",\n",
            "  \"location\": \"Sol III, nord-\\u00f6stl. Quadrant\",\n",
            "  \"description\": \"Die Bio holt sich gerade einen Kaffee. Bitte weitergehen; Bio is just getting a coffee. Please move on.\\nVA, BlockedByShatner btw\",\n",
            "  \"url\": null,\n",
            "  \"entities\": {\n",
            "   \"description\": {\n",
            "    \"urls\": []\n",
            "   }\n",
            "  },\n",
            "  \"protected\": false,\n",
            "  \"followers_count\": 106,\n",
            "  \"friends_count\": 185,\n",
            "  \"listed_count\": 0,\n",
            "  \"created_at\": \"Sat Feb 03 00:34:03 +0000 2018\",\n",
            "  \"favourites_count\": 54952,\n",
            "  \"utc_offset\": null,\n",
            "  \"time_zone\": null,\n",
            "  \"geo_enabled\": true,\n",
            "  \"verified\": false,\n",
            "  \"statuses_count\": 29599,\n",
            "  \"lang\": null,\n",
            "  \"contributors_enabled\": false,\n",
            "  \"is_translator\": false,\n",
            "  \"is_translation_enabled\": false,\n",
            "  \"profile_background_color\": \"F5F8FA\",\n",
            "  \"profile_background_image_url\": null,\n",
            "  \"profile_background_image_url_https\": null,\n",
            "  \"profile_background_tile\": false,\n",
            "  \"profile_image_url\": \"http://pbs.twimg.com/profile_images/1245465216802066432/XahatfWn_normal.jpg\",\n",
            "  \"profile_image_url_https\": \"https://pbs.twimg.com/profile_images/1245465216802066432/XahatfWn_normal.jpg\",\n",
            "  \"profile_banner_url\": \"https://pbs.twimg.com/profile_banners/959585738680668161/1540737762\",\n",
            "  \"profile_link_color\": \"1DA1F2\",\n",
            "  \"profile_sidebar_border_color\": \"C0DEED\",\n",
            "  \"profile_sidebar_fill_color\": \"DDEEF6\",\n",
            "  \"profile_text_color\": \"333333\",\n",
            "  \"profile_use_background_image\": true,\n",
            "  \"has_extended_profile\": true,\n",
            "  \"default_profile\": true,\n",
            "  \"default_profile_image\": false,\n",
            "  \"following\": false,\n",
            "  \"follow_request_sent\": false,\n",
            "  \"notifications\": false,\n",
            "  \"translator_type\": \"none\",\n",
            "  \"withheld_in_countries\": []\n",
            " },\n",
            " \"geo\": null,\n",
            " \"coordinates\": null,\n",
            " \"place\": null,\n",
            " \"contributors\": null,\n",
            " \"retweeted_status\": {\n",
            "  \"created_at\": \"Mon Jul 05 22:06:18 +0000 2021\",\n",
            "  \"id\": 1412171002847584259,\n",
            "  \"id_str\": \"1412171002847584259\",\n",
            "  \"text\": \"Insanity. \\nLast Summer we pointed out the issues with the #Corona \\\"risk zones\\\" in #Germany being 10 to 20 days late\\u2026 https://t.co/XFiHDDYk5D\",\n",
            "  \"truncated\": true,\n",
            "  \"entities\": {\n",
            "   \"hashtags\": [\n",
            "    {\n",
            "     \"text\": \"Corona\",\n",
            "     \"indices\": [\n",
            "      58,\n",
            "      65\n",
            "     ]\n",
            "    },\n",
            "    {\n",
            "     \"text\": \"Germany\",\n",
            "     \"indices\": [\n",
            "      82,\n",
            "      90\n",
            "     ]\n",
            "    }\n",
            "   ],\n",
            "   \"symbols\": [],\n",
            "   \"user_mentions\": [],\n",
            "   \"urls\": [\n",
            "    {\n",
            "     \"url\": \"https://t.co/XFiHDDYk5D\",\n",
            "     \"expanded_url\": \"https://twitter.com/i/web/status/1412171002847584259\",\n",
            "     \"display_url\": \"twitter.com/i/web/status/1\\u2026\",\n",
            "     \"indices\": [\n",
            "      117,\n",
            "      140\n",
            "     ]\n",
            "    }\n",
            "   ]\n",
            "  },\n",
            "  \"metadata\": {\n",
            "   \"iso_language_code\": \"en\",\n",
            "   \"result_type\": \"recent\"\n",
            "  },\n",
            "  \"source\": \"<a href=\\\"https://mobile.twitter.com\\\" rel=\\\"nofollow\\\">Twitter Web App</a>\",\n",
            "  \"in_reply_to_status_id\": null,\n",
            "  \"in_reply_to_status_id_str\": null,\n",
            "  \"in_reply_to_user_id\": null,\n",
            "  \"in_reply_to_user_id_str\": null,\n",
            "  \"in_reply_to_screen_name\": null,\n",
            "  \"user\": {\n",
            "   \"id\": 2902636475,\n",
            "   \"id_str\": \"2902636475\",\n",
            "   \"name\": \"Risklayer\",\n",
            "   \"screen_name\": \"risklayer\",\n",
            "   \"location\": \"Karlsruhe, Germany\",\n",
            "   \"description\": \"Risklayer is an independent collaborative catastrophe risk thinktank in Germany - https://t.co/tWWcAGXYTY. Tweets from @JamesEDaniell, @JohannesBrand98.\",\n",
            "   \"url\": \"https://t.co/gVqqu6gvkD\",\n",
            "   \"entities\": {\n",
            "    \"url\": {\n",
            "     \"urls\": [\n",
            "      {\n",
            "       \"url\": \"https://t.co/gVqqu6gvkD\",\n",
            "       \"expanded_url\": \"http://www.risklayer.com\",\n",
            "       \"display_url\": \"risklayer.com\",\n",
            "       \"indices\": [\n",
            "        0,\n",
            "        23\n",
            "       ]\n",
            "      }\n",
            "     ]\n",
            "    },\n",
            "    \"description\": {\n",
            "     \"urls\": [\n",
            "      {\n",
            "       \"url\": \"https://t.co/tWWcAGXYTY\",\n",
            "       \"expanded_url\": \"http://risklayer-explorer.com\",\n",
            "       \"display_url\": \"risklayer-explorer.com\",\n",
            "       \"indices\": [\n",
            "        82,\n",
            "        105\n",
            "       ]\n",
            "      }\n",
            "     ]\n",
            "    }\n",
            "   },\n",
            "   \"protected\": false,\n",
            "   \"followers_count\": 43328,\n",
            "   \"friends_count\": 174,\n",
            "   \"listed_count\": 446,\n",
            "   \"created_at\": \"Tue Dec 02 18:10:16 +0000 2014\",\n",
            "   \"favourites_count\": 8380,\n",
            "   \"utc_offset\": null,\n",
            "   \"time_zone\": null,\n",
            "   \"geo_enabled\": false,\n",
            "   \"verified\": false,\n",
            "   \"statuses_count\": 10397,\n",
            "   \"lang\": null,\n",
            "   \"contributors_enabled\": false,\n",
            "   \"is_translator\": false,\n",
            "   \"is_translation_enabled\": false,\n",
            "   \"profile_background_color\": \"C0DEED\",\n",
            "   \"profile_background_image_url\": \"http://abs.twimg.com/images/themes/theme1/bg.png\",\n",
            "   \"profile_background_image_url_https\": \"https://abs.twimg.com/images/themes/theme1/bg.png\",\n",
            "   \"profile_background_tile\": false,\n",
            "   \"profile_image_url\": \"http://pbs.twimg.com/profile_images/1410320295702024192/sgcH9IFp_normal.png\",\n",
            "   \"profile_image_url_https\": \"https://pbs.twimg.com/profile_images/1410320295702024192/sgcH9IFp_normal.png\",\n",
            "   \"profile_banner_url\": \"https://pbs.twimg.com/profile_banners/2902636475/1448547344\",\n",
            "   \"profile_link_color\": \"1DA1F2\",\n",
            "   \"profile_sidebar_border_color\": \"C0DEED\",\n",
            "   \"profile_sidebar_fill_color\": \"DDEEF6\",\n",
            "   \"profile_text_color\": \"333333\",\n",
            "   \"profile_use_background_image\": true,\n",
            "   \"has_extended_profile\": true,\n",
            "   \"default_profile\": true,\n",
            "   \"default_profile_image\": false,\n",
            "   \"following\": false,\n",
            "   \"follow_request_sent\": false,\n",
            "   \"notifications\": false,\n",
            "   \"translator_type\": \"none\",\n",
            "   \"withheld_in_countries\": []\n",
            "  },\n",
            "  \"geo\": null,\n",
            "  \"coordinates\": null,\n",
            "  \"place\": null,\n",
            "  \"contributors\": null,\n",
            "  \"is_quote_status\": true,\n",
            "  \"quoted_status_id\": 1412165624105779204,\n",
            "  \"quoted_status_id_str\": \"1412165624105779204\",\n",
            "  \"quoted_status\": {\n",
            "   \"created_at\": \"Mon Jul 05 21:44:56 +0000 2021\",\n",
            "   \"id\": 1412165624105779204,\n",
            "   \"id_str\": \"1412165624105779204\",\n",
            "   \"text\": \"\\\"Ab Mittwoch gelten #Portugal und #Gro\\u00dfbritannien nicht mehr als #Corona Virusvariantengebiete. Die Bundesregierung\\u2026 https://t.co/2w4NGMa2pB\",\n",
            "   \"truncated\": true,\n",
            "   \"entities\": {\n",
            "    \"hashtags\": [\n",
            "     {\n",
            "      \"text\": \"Portugal\",\n",
            "      \"indices\": [\n",
            "       20,\n",
            "       29\n",
            "      ]\n",
            "     },\n",
            "     {\n",
            "      \"text\": \"Gro\\u00dfbritannien\",\n",
            "      \"indices\": [\n",
            "       34,\n",
            "       49\n",
            "      ]\n",
            "     },\n",
            "     {\n",
            "      \"text\": \"Corona\",\n",
            "      \"indices\": [\n",
            "       65,\n",
            "       72\n",
            "      ]\n",
            "     }\n",
            "    ],\n",
            "    \"symbols\": [],\n",
            "    \"user_mentions\": [],\n",
            "    \"urls\": [\n",
            "     {\n",
            "      \"url\": \"https://t.co/2w4NGMa2pB\",\n",
            "      \"expanded_url\": \"https://twitter.com/i/web/status/1412165624105779204\",\n",
            "      \"display_url\": \"twitter.com/i/web/status/1\\u2026\",\n",
            "      \"indices\": [\n",
            "       117,\n",
            "       140\n",
            "      ]\n",
            "     }\n",
            "    ]\n",
            "   },\n",
            "   \"metadata\": {\n",
            "    \"iso_language_code\": \"en\",\n",
            "    \"result_type\": \"recent\"\n",
            "   },\n",
            "   \"source\": \"<a href=\\\"https://mobile.twitter.com\\\" rel=\\\"nofollow\\\">Twitter Web App</a>\",\n",
            "   \"in_reply_to_status_id\": null,\n",
            "   \"in_reply_to_status_id_str\": null,\n",
            "   \"in_reply_to_user_id\": null,\n",
            "   \"in_reply_to_user_id_str\": null,\n",
            "   \"in_reply_to_screen_name\": null,\n",
            "   \"user\": {\n",
            "    \"id\": 2902636475,\n",
            "    \"id_str\": \"2902636475\",\n",
            "    \"name\": \"Risklayer\",\n",
            "    \"screen_name\": \"risklayer\",\n",
            "    \"location\": \"Karlsruhe, Germany\",\n",
            "    \"description\": \"Risklayer is an independent collaborative catastrophe risk thinktank in Germany - https://t.co/tWWcAGXYTY. Tweets from @JamesEDaniell, @JohannesBrand98.\",\n",
            "    \"url\": \"https://t.co/gVqqu6gvkD\",\n",
            "    \"entities\": {\n",
            "     \"url\": {\n",
            "      \"urls\": [\n",
            "       {\n",
            "        \"url\": \"https://t.co/gVqqu6gvkD\",\n",
            "        \"expanded_url\": \"http://www.risklayer.com\",\n",
            "        \"display_url\": \"risklayer.com\",\n",
            "        \"indices\": [\n",
            "         0,\n",
            "         23\n",
            "        ]\n",
            "       }\n",
            "      ]\n",
            "     },\n",
            "     \"description\": {\n",
            "      \"urls\": [\n",
            "       {\n",
            "        \"url\": \"https://t.co/tWWcAGXYTY\",\n",
            "        \"expanded_url\": \"http://risklayer-explorer.com\",\n",
            "        \"display_url\": \"risklayer-explorer.com\",\n",
            "        \"indices\": [\n",
            "         82,\n",
            "         105\n",
            "        ]\n",
            "       }\n",
            "      ]\n",
            "     }\n",
            "    },\n",
            "    \"protected\": false,\n",
            "    \"followers_count\": 43328,\n",
            "    \"friends_count\": 174,\n",
            "    \"listed_count\": 446,\n",
            "    \"created_at\": \"Tue Dec 02 18:10:16 +0000 2014\",\n",
            "    \"favourites_count\": 8380,\n",
            "    \"utc_offset\": null,\n",
            "    \"time_zone\": null,\n",
            "    \"geo_enabled\": false,\n",
            "    \"verified\": false,\n",
            "    \"statuses_count\": 10397,\n",
            "    \"lang\": null,\n",
            "    \"contributors_enabled\": false,\n",
            "    \"is_translator\": false,\n",
            "    \"is_translation_enabled\": false,\n",
            "    \"profile_background_color\": \"C0DEED\",\n",
            "    \"profile_background_image_url\": \"http://abs.twimg.com/images/themes/theme1/bg.png\",\n",
            "    \"profile_background_image_url_https\": \"https://abs.twimg.com/images/themes/theme1/bg.png\",\n",
            "    \"profile_background_tile\": false,\n",
            "    \"profile_image_url\": \"http://pbs.twimg.com/profile_images/1410320295702024192/sgcH9IFp_normal.png\",\n",
            "    \"profile_image_url_https\": \"https://pbs.twimg.com/profile_images/1410320295702024192/sgcH9IFp_normal.png\",\n",
            "    \"profile_banner_url\": \"https://pbs.twimg.com/profile_banners/2902636475/1448547344\",\n",
            "    \"profile_link_color\": \"1DA1F2\",\n",
            "    \"profile_sidebar_border_color\": \"C0DEED\",\n",
            "    \"profile_sidebar_fill_color\": \"DDEEF6\",\n",
            "    \"profile_text_color\": \"333333\",\n",
            "    \"profile_use_background_image\": true,\n",
            "    \"has_extended_profile\": true,\n",
            "    \"default_profile\": true,\n",
            "    \"default_profile_image\": false,\n",
            "    \"following\": false,\n",
            "    \"follow_request_sent\": false,\n",
            "    \"notifications\": false,\n",
            "    \"translator_type\": \"none\",\n",
            "    \"withheld_in_countries\": []\n",
            "   },\n",
            "   \"geo\": null,\n",
            "   \"coordinates\": null,\n",
            "   \"place\": null,\n",
            "   \"contributors\": null,\n",
            "   \"is_quote_status\": true,\n",
            "   \"quoted_status_id\": 1412163755153166336,\n",
            "   \"quoted_status_id_str\": \"1412163755153166336\",\n",
            "   \"retweet_count\": 38,\n",
            "   \"favorite_count\": 88,\n",
            "   \"favorited\": false,\n",
            "   \"retweeted\": false,\n",
            "   \"possibly_sensitive\": false,\n",
            "   \"lang\": \"de\"\n",
            "  },\n",
            "  \"retweet_count\": 10,\n",
            "  \"favorite_count\": 22,\n",
            "  \"favorited\": false,\n",
            "  \"retweeted\": false,\n",
            "  \"possibly_sensitive\": false,\n",
            "  \"lang\": \"en\"\n",
            " },\n",
            " \"is_quote_status\": true,\n",
            " \"quoted_status_id\": 1412165624105779204,\n",
            " \"quoted_status_id_str\": \"1412165624105779204\",\n",
            " \"retweet_count\": 10,\n",
            " \"favorite_count\": 0,\n",
            " \"favorited\": false,\n",
            " \"retweeted\": false,\n",
            " \"lang\": \"en\"\n",
            "}\n"
          ],
          "name": "stdout"
        }
      ]
    },
    {
      "cell_type": "code",
      "metadata": {
        "colab": {
          "base_uri": "https://localhost:8080/"
        },
        "id": "pJVRVcYbgAjR",
        "outputId": "2f426082-54fd-4d1b-b844-5858015ab941"
      },
      "source": [
        "# Importante também o número de vezes que um tweet específico foi re-tuitado.  \n",
        "\n",
        "for i in range(10):\n",
        "    print()\n",
        "    print(statuses[i]['text'])\n",
        "    print('Favorites: ', statuses[i]['favorite_count'])\n",
        "    print('Retweets: ', statuses[i]['retweet_count'])"
      ],
      "execution_count": 42,
      "outputs": [
        {
          "output_type": "stream",
          "text": [
            "\n",
            "RT @risklayer: Insanity. \n",
            "Last Summer we pointed out the issues with the #Corona \"risk zones\" in #Germany being 10 to 20 days late. \n",
            "There…\n",
            "Favorites:  0\n",
            "Retweets:  10\n",
            "\n",
            "RT @risklayer: \"Ab Mittwoch gelten #Portugal und #Großbritannien nicht mehr als #Corona Virusvariantengebiete. Die Bundesregierung stuft si…\n",
            "Favorites:  0\n",
            "Retweets:  38\n",
            "\n",
            "RT @risklayer: Insanity. \n",
            "Last Summer we pointed out the issues with the #Corona \"risk zones\" in #Germany being 10 to 20 days late. \n",
            "There…\n",
            "Favorites:  0\n",
            "Retweets:  10\n",
            "\n",
            "RT @risklayer: Insanity. \n",
            "Last Summer we pointed out the issues with the #Corona \"risk zones\" in #Germany being 10 to 20 days late. \n",
            "There…\n",
            "Favorites:  0\n",
            "Retweets:  10\n",
            "\n",
            "RT @risklayer: Insanity. \n",
            "Last Summer we pointed out the issues with the #Corona \"risk zones\" in #Germany being 10 to 20 days late. \n",
            "There…\n",
            "Favorites:  0\n",
            "Retweets:  10\n",
            "\n",
            "RT @FRCOVID_19: 🇩🇪 FLASH - L'#Allemagne a levé lundi les interdictions d'entrée sur son territoire liées à la pandémie pour les résidents d…\n",
            "Favorites:  0\n",
            "Retweets:  1\n",
            "\n",
            "RT @msphotography94: \"Primeira rota por Aveiro.\"📍👣🇵🇹\n",
            "📸 #MSphotography #S8pluscam #travelgram #history #culture #moliceiros #boats #route #r…\n",
            "Favorites:  0\n",
            "Retweets:  1\n",
            "\n",
            "\"Primeira rota por Aveiro.\"📍👣🇵🇹\n",
            "📸 #MSphotography #S8pluscam #travelgram #history #culture #moliceiros #boats #route… https://t.co/WTOqSGHCrb\n",
            "Favorites:  0\n",
            "Retweets:  1\n",
            "\n",
            "RT @risklayer: Insanity. \n",
            "Last Summer we pointed out the issues with the #Corona \"risk zones\" in #Germany being 10 to 20 days late. \n",
            "There…\n",
            "Favorites:  0\n",
            "Retweets:  10\n",
            "\n",
            "RT @risklayer: \"Ab Mittwoch gelten #Portugal und #Großbritannien nicht mehr als #Corona Virusvariantengebiete. Die Bundesregierung stuft si…\n",
            "Favorites:  0\n",
            "Retweets:  38\n"
          ],
          "name": "stdout"
        }
      ]
    },
    {
      "cell_type": "markdown",
      "metadata": {
        "id": "xgzKKJuigAjR"
      },
      "source": [
        "## Extraindo entidades do tweet"
      ]
    },
    {
      "cell_type": "markdown",
      "metadata": {
        "id": "kHMAXkktCBmK"
      },
      "source": [
        "Podemos agora organizar as entidades e o texto de alguns tweets em uma estrutura de dados para análise. O exemplo abaixo extrai o texto, *screen names* e *hashtags* dos tweets coletados.\n"
      ]
    },
    {
      "cell_type": "code",
      "metadata": {
        "colab": {
          "base_uri": "https://localhost:8080/"
        },
        "id": "ZsT7Xbq-gAjS",
        "outputId": "e5ee6dff-4270-481e-c490-734a24d4da0e"
      },
      "source": [
        "# Extrai o texto\n",
        "status_texts = [ status['text'] \n",
        "                 for status in statuses ]\n",
        "\n",
        "# Extrai o screen_name\n",
        "screen_names = [ user_mention['screen_name'] \n",
        "                 for status in statuses\n",
        "                     for user_mention in status['entities']['user_mentions'] ]\n",
        "\n",
        "# Extrai os hashtags\n",
        "hashtags = [ hashtag['text'] \n",
        "             for status in statuses\n",
        "                 for hashtag in status['entities']['hashtags'] ]\n",
        "\n",
        "# Cria uma coleção com todas as palavras de todos os tweets\n",
        "palavras = [ w \n",
        "          for t in status_texts \n",
        "              for w in t.split() ]\n",
        "\n",
        "# Explora os primeiros 5 elementos de cada...\n",
        "\n",
        "print(json.dumps(status_texts[0:5], indent=1))\n",
        "print(json.dumps(screen_names[0:5], indent=1) )\n",
        "print(json.dumps(hashtags[0:5], indent=1))\n",
        "print(json.dumps(palavras[0:5], indent=1))"
      ],
      "execution_count": 43,
      "outputs": [
        {
          "output_type": "stream",
          "text": [
            "[\n",
            " \"RT @risklayer: Insanity. \\nLast Summer we pointed out the issues with the #Corona \\\"risk zones\\\" in #Germany being 10 to 20 days late. \\nThere\\u2026\",\n",
            " \"RT @risklayer: \\\"Ab Mittwoch gelten #Portugal und #Gro\\u00dfbritannien nicht mehr als #Corona Virusvariantengebiete. Die Bundesregierung stuft si\\u2026\",\n",
            " \"RT @risklayer: Insanity. \\nLast Summer we pointed out the issues with the #Corona \\\"risk zones\\\" in #Germany being 10 to 20 days late. \\nThere\\u2026\",\n",
            " \"RT @risklayer: Insanity. \\nLast Summer we pointed out the issues with the #Corona \\\"risk zones\\\" in #Germany being 10 to 20 days late. \\nThere\\u2026\",\n",
            " \"RT @risklayer: Insanity. \\nLast Summer we pointed out the issues with the #Corona \\\"risk zones\\\" in #Germany being 10 to 20 days late. \\nThere\\u2026\"\n",
            "]\n",
            "[\n",
            " \"risklayer\",\n",
            " \"risklayer\",\n",
            " \"risklayer\",\n",
            " \"risklayer\",\n",
            " \"risklayer\"\n",
            "]\n",
            "[\n",
            " \"Corona\",\n",
            " \"Germany\",\n",
            " \"Portugal\",\n",
            " \"Gro\\u00dfbritannien\",\n",
            " \"Corona\"\n",
            "]\n",
            "[\n",
            " \"RT\",\n",
            " \"@risklayer:\",\n",
            " \"Insanity.\",\n",
            " \"Last\",\n",
            " \"Summer\"\n",
            "]\n"
          ],
          "name": "stdout"
        }
      ]
    },
    {
      "cell_type": "markdown",
      "metadata": {
        "id": "8DgDGGlfCt60"
      },
      "source": [
        "Metadados é uma ferramenta poderosa. Meta significa algo que descreve alguma coisa. Metadado é então o 'dado que descreve o dado'. Neste caso é toda informação complementar que melhor caracteriza o texto do tweet.\n",
        "O metadata de um tweet é retornado no formato JSON, com uma estrutura de chave-valor (key-value). \n"
      ]
    },
    {
      "cell_type": "markdown",
      "metadata": {
        "id": "G4zCLpXwgAjS"
      },
      "source": [
        "## Análise de frequência de palavras no texto de tweet"
      ]
    },
    {
      "cell_type": "markdown",
      "metadata": {
        "id": "04VCoPW_DNPC"
      },
      "source": [
        "*   Grande parte de analises de dados entra no aspecto de contar coisas em algum nível.\n",
        "*   Distribuição de frequência, em que contamos o número de ocorrência de uma variável, é uma ferramenta bem útil. \n",
        "* Em Python, podemos utilizar o módulo collections que fornece um contador para calcular uma distribuição de frequência. \n",
        "\n"
      ]
    },
    {
      "cell_type": "code",
      "metadata": {
        "colab": {
          "base_uri": "https://localhost:8080/"
        },
        "id": "kZmv3-XmgAjS",
        "outputId": "9bc819f4-a7d8-40d8-c0a8-def6af2b2efe"
      },
      "source": [
        "# Este código retorna pares com o termo e a frequência de ocorrência deste termo. \n",
        "# O print() dentro do loop garante que apenas os 10 primeiros resultados são mostrados. \n",
        "\n",
        "from collections import Counter\n",
        "for item in [palavras, screen_names, hashtags]:\n",
        "    c = Counter(item)\n",
        "    print(c.most_common()[:10]) # primeiros 10 \n",
        "    print()"
      ],
      "execution_count": 44,
      "outputs": [
        {
          "output_type": "stream",
          "text": [
            "[('RT', 91), ('#Corona', 83), ('@risklayer:', 77), ('in', 57), ('#Portugal', 43), ('Die', 42), ('und', 39), ('7-Tages-Inzidenz', 35), ('#Frankreich,', 35), ('#Spanien,', 35)]\n",
            "\n",
            "[('risklayer', 77), ('LViehler', 4), ('FRCOVID_19', 1), ('msphotography94', 1), ('tagesschau', 1), ('RABarozzi', 1), ('DiaCasMX', 1), ('RLanschot', 1), ('waytoparadise10', 1), ('SheikJihad', 1)]\n",
            "\n",
            "[('Corona', 83), ('Portugal', 79), ('England', 39), ('Frankreich', 35), ('Spanien', 35), ('Benelux', 35), ('Großbritannien', 34), ('Germany', 10), ('Inzidenzen', 4), ('MSphotography', 2)]\n",
            "\n"
          ],
          "name": "stdout"
        }
      ]
    },
    {
      "cell_type": "markdown",
      "metadata": {
        "id": "k6ktCdSOgAjT"
      },
      "source": [
        "## Resultados bem formatados\n",
        "\n",
        "O resultado da distribuição de frequência dos tópicos é uma estrutura de mapa do tipo *key/value (chave-valor)*. Podemos utilizar o módulo Python *prettytable* para mostrar visualmente os resultados na forma de uma tabela. \n"
      ]
    },
    {
      "cell_type": "code",
      "metadata": {
        "colab": {
          "base_uri": "https://localhost:8080/"
        },
        "id": "0njs0A_RgAjT",
        "outputId": "48cb9730-ae02-402b-98a9-a4d940534f48"
      },
      "source": [
        "# Importamos o módulo PrettyTable\n",
        "from prettytable import PrettyTable\n",
        "\n",
        "# Loop para montar três tabelas, cada uma contendo duas colunas. \n",
        "# A primeira colunoa mostra a informação (Palavra ou ScreenName ou Hashtag)\n",
        "# A segunda coluna mostra o número de ocorrências (Count)\n",
        "for label, data in (('Palavra', palavras), \n",
        "                    ('Screen Name', screen_names), \n",
        "                    ('Hashtag', hashtags)):\n",
        "    pt = PrettyTable(field_names=[label, 'Count']) \n",
        "    c = Counter(data)\n",
        "    [ pt.add_row(kv) for kv in c.most_common()[:10] ]\n",
        "    pt.align[label], pt.align['Count'] = 'l', 'r' # Ajusta o alinhamento das colunas (left,right)\n",
        "    print(pt)"
      ],
      "execution_count": 45,
      "outputs": [
        {
          "output_type": "stream",
          "text": [
            "+------------------+-------+\n",
            "| Palavra          | Count |\n",
            "+------------------+-------+\n",
            "| RT               |    91 |\n",
            "| #Corona          |    83 |\n",
            "| @risklayer:      |    77 |\n",
            "| in               |    57 |\n",
            "| #Portugal        |    43 |\n",
            "| Die              |    42 |\n",
            "| und              |    39 |\n",
            "| 7-Tages-Inzidenz |    35 |\n",
            "| #Frankreich,     |    35 |\n",
            "| #Spanien,        |    35 |\n",
            "+------------------+-------+\n",
            "+-----------------+-------+\n",
            "| Screen Name     | Count |\n",
            "+-----------------+-------+\n",
            "| risklayer       |    77 |\n",
            "| LViehler        |     4 |\n",
            "| FRCOVID_19      |     1 |\n",
            "| msphotography94 |     1 |\n",
            "| tagesschau      |     1 |\n",
            "| RABarozzi       |     1 |\n",
            "| DiaCasMX        |     1 |\n",
            "| RLanschot       |     1 |\n",
            "| waytoparadise10 |     1 |\n",
            "| SheikJihad      |     1 |\n",
            "+-----------------+-------+\n",
            "+----------------+-------+\n",
            "| Hashtag        | Count |\n",
            "+----------------+-------+\n",
            "| Corona         |    83 |\n",
            "| Portugal       |    79 |\n",
            "| England        |    39 |\n",
            "| Frankreich     |    35 |\n",
            "| Spanien        |    35 |\n",
            "| Benelux        |    35 |\n",
            "| Großbritannien |    34 |\n",
            "| Germany        |    10 |\n",
            "| Inzidenzen     |     4 |\n",
            "| MSphotography  |     2 |\n",
            "+----------------+-------+\n"
          ],
          "name": "stdout"
        }
      ]
    },
    {
      "cell_type": "markdown",
      "metadata": {
        "id": "yqpSFfKXgAjT"
      },
      "source": [
        "## Diversidade Léxica\n",
        "\n",
        "\n",
        "1.   Uma métrica mais avançada que também contempla frequências\n",
        "Aplicadas a textos não-estruturados.\n",
        "2.   Expressão do número único de tokens no texto dividido pelo número total de tokens. \n",
        "3. Pergunta interessante: \n",
        "Quão amplo ou restrito é um assunto conversado por um indivíduo ou grupo?\n"
      ]
    },
    {
      "cell_type": "code",
      "metadata": {
        "colab": {
          "base_uri": "https://localhost:8080/"
        },
        "id": "6wyJdNTvgAjT",
        "outputId": "272cb26f-c655-49b2-95c0-0704e50641b2"
      },
      "source": [
        "# Função para computar diversidade léxica. Número de tokens únicos no texto dividido pelo número total de tokens. \n",
        "# Observação: considere um token como uma palavra.\n",
        "def diversidade_lexica(tokens):\n",
        "    return len(set(tokens))/len(tokens) \n",
        "\n",
        "# Função para calcular o número médio de palavras por tweet\n",
        "def nro_medio_palavras(statuses):\n",
        "    total_palavras = sum([ len(s.split()) for s in statuses ]) \n",
        "    return total_palavras/len(statuses)\n",
        "\n",
        "print('Diversidade Palavra:', diversidade_lexica(palavras))\n",
        "print('Diversidade screen names:',diversidade_lexica(screen_names))\n",
        "print('Diversidade Hashtags:',diversidade_lexica(hashtags))\n",
        "print('Número médio Palavras:',nro_medio_palavras(status_texts))"
      ],
      "execution_count": 46,
      "outputs": [
        {
          "output_type": "stream",
          "text": [
            "Diversidade Palavra: 0.17971830985915493\n",
            "Diversidade screen names: 0.14130434782608695\n",
            "Diversidade Hashtags: 0.10776942355889724\n",
            "Número médio Palavras: 17.75\n"
          ],
          "name": "stdout"
        }
      ]
    },
    {
      "cell_type": "markdown",
      "metadata": {
        "id": "Pgws_FBaSyQ2"
      },
      "source": [
        "Interpretação dos Resultados: Diversidade Léxica\n",
        "*   **Diversidade Palavra:** quanto de informação única tem em cada status. Por exemplo, um valor de 0.39 indica que cada novo status carrega 39% de informação única. \n",
        "*   **Diversidade screen names:** quão único é um *screen name* mencionado. Um valor de 0.50 significa que 5 em 10 screen names mencionados são únicos. \n",
        "* **Hashtags:** significa diversidade em novas palavras para hashtags\n",
        "* **Número médio de palavras:** por exemplo, um valor de 17 significa que o número médio de palavras por tweet na amostra coletada é de 17 palavras. \n"
      ]
    },
    {
      "cell_type": "markdown",
      "metadata": {
        "id": "PqiL_mBNgAjU"
      },
      "source": [
        "## Plotando frequências de palavras"
      ]
    },
    {
      "cell_type": "code",
      "metadata": {
        "colab": {
          "base_uri": "https://localhost:8080/",
          "height": 300
        },
        "id": "hkHoVtXcgAjV",
        "outputId": "a393f8d5-a71a-4b2f-f9e3-45824fc5d428"
      },
      "source": [
        "# Importa a biblioteca matplotlib com o nome de 'plt'\n",
        "import matplotlib.pyplot as plt\n",
        "%matplotlib inline\n",
        "\n",
        "# Conta o número de palavras\n",
        "contador_palavras = sorted(Counter(palavras).values(), reverse=True)\n",
        "\n",
        "plt.loglog(contador_palavras)\n",
        "plt.ylabel(\"Frequência\")\n",
        "plt.xlabel(\"Rank de Palavras\")"
      ],
      "execution_count": 47,
      "outputs": [
        {
          "output_type": "execute_result",
          "data": {
            "text/plain": [
              "Text(0.5, 0, 'Rank de Palavras')"
            ]
          },
          "metadata": {
            "tags": []
          },
          "execution_count": 47
        },
        {
          "output_type": "display_data",
          "data": {
            "image/png": "[encoded data removed]",
            "text/plain": [
              "<Figure size 432x288 with 1 Axes>"
            ]
          },
          "metadata": {
            "tags": [],
            "needs_background": "light"
          }
        }
      ]
    },
    {
      "cell_type": "markdown",
      "metadata": {
        "id": "M9qKC_aggAjV"
      },
      "source": [
        "## Histogramas de palavras, screen names e hashtags\n",
        "\n",
        "O código abaixo apresenta histogramas para as palavras, screen names e hashtags. \n"
      ]
    },
    {
      "cell_type": "code",
      "metadata": {
        "colab": {
          "base_uri": "https://localhost:8080/",
          "height": 868
        },
        "id": "JNhAFtFUgAjV",
        "outputId": "182126ce-7053-4658-b363-ab73f9ce0d7c"
      },
      "source": [
        "# Loop que itera sobre os dados de palavras, screen names e hashtags\n",
        "for label, data in (('Words', palavras), \n",
        "                    ('Screen Names', screen_names), \n",
        "                    ('Hashtags', hashtags)):\n",
        "\n",
        "    # Cria um mapa de frequência para cada conjunto de dados e plota os valores\n",
        "    c = Counter(data)\n",
        "    plt.hist(list(c.values()))\n",
        "    \n",
        "    # Adiciona um título para o gráfico e um subtítulo para o eixo Y\n",
        "    plt.title(label)\n",
        "    plt.ylabel(\"Número de itens em cada intervalo\")\n",
        "    plt.xlabel(\"Intervalos (número de ocorrências de um item)\")\n",
        "    \n",
        "    # ... e mostra como uma nova figura\n",
        "    plt.figure()"
      ],
      "execution_count": 48,
      "outputs": [
        {
          "output_type": "display_data",
          "data": {
            "image/png": "[encoded data removed]",
            "text/plain": [
              "<Figure size 432x288 with 1 Axes>"
            ]
          },
          "metadata": {
            "tags": [],
            "needs_background": "light"
          }
        },
        {
          "output_type": "display_data",
          "data": {
            "image/png": "[encoded data removed]",
            "text/plain": [
              "<Figure size 432x288 with 1 Axes>"
            ]
          },
          "metadata": {
            "tags": [],
            "needs_background": "light"
          }
        },
        {
          "output_type": "display_data",
          "data": {
            "image/png": "[encoded data removed]",
            "text/plain": [
              "<Figure size 432x288 with 1 Axes>"
            ]
          },
          "metadata": {
            "tags": [],
            "needs_background": "light"
          }
        },
        {
          "output_type": "display_data",
          "data": {
            "text/plain": [
              "<Figure size 432x288 with 0 Axes>"
            ]
          },
          "metadata": {
            "tags": []
          }
        }
      ]
    },
    {
      "cell_type": "markdown",
      "metadata": {
        "id": "9UIAkwfOYvL5"
      },
      "source": [
        "#Exercícios"
      ]
    },
    {
      "cell_type": "markdown",
      "metadata": {
        "id": "buIZMmQhY2Nh"
      },
      "source": [
        "1. Escreva um código abaixo para buscar a lista de tópicos em tendência na Itália. Você deve se basear no código apresentado acima. \n",
        "\n"
      ]
    },
    {
      "cell_type": "code",
      "metadata": {
        "id": "-STHMa-7ZnvT",
        "colab": {
          "base_uri": "https://localhost:8080/"
        },
        "outputId": "a4d193bc-dba7-4bca-e7f3-0177cbf8aff2"
      },
      "source": [
        "# Preencha abaixo com o código para buscar os tópicos na localização WOE = Itália. \n",
        "#import json\n",
        "\n",
        "# Variável 'q' seta para o tópico 'Portugal'\n",
        "\n",
        "# Tente outras palavras mudando o valor desta variável. \n",
        "q = '#Italia' \n",
        "\n",
        "count = 100\n",
        "\n",
        "# Importa modulo 'unquote' para prevenir erros em url \n",
        "from urllib.parse import unquote\n",
        "\n",
        "# Solicita a pesquisa através do método twitter_api.search.tweets, passando como\n",
        "# parâmetro a string em *q*.\n",
        "\n",
        "resultados_pesquisa = twitter_api.search.tweets(q=q, count=count)\n",
        "\n",
        "statuses = resultados_pesquisa['statuses']\n",
        "\n",
        "# Faz a iteração em 5 blocos de resultados seguindo um 'cursor'\n",
        "for _ in range(5):\n",
        "    print('Tamanho do conjunto de status', len(statuses))\n",
        "    try:\n",
        "        proximos_resultados = resultados_pesquisa['search_metadata']['proximos_resultados']\n",
        "    except KeyError as e: # Termina quando proximos_resultados termina de existir\n",
        "        break\n",
        "        \n",
        "    # Cria um dicionário de proximos_resultados\n",
        "    kwargs = dict([ kv.split('=') for kv in unquote(proximos_resultados[1:]).split(\"&\") ])\n",
        "    \n",
        "    resultados_pesquisa = twitter_api.search.tweets(**kwargs)\n",
        "    statuses += resultados_pesquisa['statuses']\n",
        "\n",
        "# Mostra uma pequena amostra do resultado.\n",
        "# O resultado está no formato JSON, conforme mostrado abaixo.\n",
        "print(json.dumps(statuses[0], indent=1))\n",
        "#\n"
      ],
      "execution_count": 39,
      "outputs": [
        {
          "output_type": "stream",
          "text": [
            "Tamanho do conjunto de status 100\n",
            "{\n",
            " \"created_at\": \"Mon Jul 05 22:07:31 +0000 2021\",\n",
            " \"id\": 1412171310147555331,\n",
            " \"id_str\": \"1412171310147555331\",\n",
            " \"text\": \"#RafaellaCarra #Regina #Italia #Bella #Bravissima\",\n",
            " \"truncated\": false,\n",
            " \"entities\": {\n",
            "  \"hashtags\": [\n",
            "   {\n",
            "    \"text\": \"RafaellaCarra\",\n",
            "    \"indices\": [\n",
            "     0,\n",
            "     14\n",
            "    ]\n",
            "   },\n",
            "   {\n",
            "    \"text\": \"Regina\",\n",
            "    \"indices\": [\n",
            "     15,\n",
            "     22\n",
            "    ]\n",
            "   },\n",
            "   {\n",
            "    \"text\": \"Italia\",\n",
            "    \"indices\": [\n",
            "     23,\n",
            "     30\n",
            "    ]\n",
            "   },\n",
            "   {\n",
            "    \"text\": \"Bella\",\n",
            "    \"indices\": [\n",
            "     31,\n",
            "     37\n",
            "    ]\n",
            "   },\n",
            "   {\n",
            "    \"text\": \"Bravissima\",\n",
            "    \"indices\": [\n",
            "     38,\n",
            "     49\n",
            "    ]\n",
            "   }\n",
            "  ],\n",
            "  \"symbols\": [],\n",
            "  \"user_mentions\": [],\n",
            "  \"urls\": []\n",
            " },\n",
            " \"metadata\": {\n",
            "  \"iso_language_code\": \"und\",\n",
            "  \"result_type\": \"recent\"\n",
            " },\n",
            " \"source\": \"<a href=\\\"https://mobile.twitter.com\\\" rel=\\\"nofollow\\\">Twitter Web App</a>\",\n",
            " \"in_reply_to_status_id\": 1412168446947758082,\n",
            " \"in_reply_to_status_id_str\": \"1412168446947758082\",\n",
            " \"in_reply_to_user_id\": 1327840372211453952,\n",
            " \"in_reply_to_user_id_str\": \"1327840372211453952\",\n",
            " \"in_reply_to_screen_name\": \"Creativa30\",\n",
            " \"user\": {\n",
            "  \"id\": 1327840372211453952,\n",
            "  \"id_str\": \"1327840372211453952\",\n",
            "  \"name\": \"MarRV\",\n",
            "  \"screen_name\": \"Creativa30\",\n",
            "  \"location\": \"Madrid, citizen of the world. \",\n",
            "  \"description\": \"I wanted this account 2 be my professional profile but I can't help comment on other topics. Personal account.\\n#Dogslover #BilingualTwitter #Atleti #MadeinSpain\",\n",
            "  \"url\": null,\n",
            "  \"entities\": {\n",
            "   \"description\": {\n",
            "    \"urls\": []\n",
            "   }\n",
            "  },\n",
            "  \"protected\": false,\n",
            "  \"followers_count\": 39,\n",
            "  \"friends_count\": 93,\n",
            "  \"listed_count\": 0,\n",
            "  \"created_at\": \"Sun Nov 15 05:06:49 +0000 2020\",\n",
            "  \"favourites_count\": 1293,\n",
            "  \"utc_offset\": null,\n",
            "  \"time_zone\": null,\n",
            "  \"geo_enabled\": false,\n",
            "  \"verified\": false,\n",
            "  \"statuses_count\": 516,\n",
            "  \"lang\": null,\n",
            "  \"contributors_enabled\": false,\n",
            "  \"is_translator\": false,\n",
            "  \"is_translation_enabled\": false,\n",
            "  \"profile_background_color\": \"F5F8FA\",\n",
            "  \"profile_background_image_url\": null,\n",
            "  \"profile_background_image_url_https\": null,\n",
            "  \"profile_background_tile\": false,\n",
            "  \"profile_image_url\": \"http://pbs.twimg.com/profile_images/1399091644696305669/vQESZgnr_normal.jpg\",\n",
            "  \"profile_image_url_https\": \"https://pbs.twimg.com/profile_images/1399091644696305669/vQESZgnr_normal.jpg\",\n",
            "  \"profile_banner_url\": \"https://pbs.twimg.com/profile_banners/1327840372211453952/1619809278\",\n",
            "  \"profile_link_color\": \"1DA1F2\",\n",
            "  \"profile_sidebar_border_color\": \"C0DEED\",\n",
            "  \"profile_sidebar_fill_color\": \"DDEEF6\",\n",
            "  \"profile_text_color\": \"333333\",\n",
            "  \"profile_use_background_image\": true,\n",
            "  \"has_extended_profile\": true,\n",
            "  \"default_profile\": true,\n",
            "  \"default_profile_image\": false,\n",
            "  \"following\": false,\n",
            "  \"follow_request_sent\": false,\n",
            "  \"notifications\": false,\n",
            "  \"translator_type\": \"none\",\n",
            "  \"withheld_in_countries\": []\n",
            " },\n",
            " \"geo\": null,\n",
            " \"coordinates\": null,\n",
            " \"place\": null,\n",
            " \"contributors\": null,\n",
            " \"is_quote_status\": false,\n",
            " \"retweet_count\": 0,\n",
            " \"favorite_count\": 0,\n",
            " \"favorited\": false,\n",
            " \"retweeted\": false,\n",
            " \"lang\": \"und\"\n",
            "}\n"
          ],
          "name": "stdout"
        }
      ]
    },
    {
      "cell_type": "markdown",
      "metadata": {
        "id": "us-bFXqLZmgV"
      },
      "source": [
        "2. Mostre a lista de tópicos na forma de uma tabela. \n"
      ]
    },
    {
      "cell_type": "code",
      "metadata": {
        "id": "NJoNeZ6JZ09q",
        "colab": {
          "base_uri": "https://localhost:8080/"
        },
        "outputId": "b69e4c48-7547-4216-b4d7-204c1b862ea7"
      },
      "source": [
        "# Preencha abaixo com o código mostrar os tópicos em um tabela 'bonitinha'.\n",
        "## Importamos o módulo PrettyTable\n",
        "from prettytable import PrettyTable\n",
        "\n",
        "# Loop para montar três tabelas, cada uma contendo duas colunas. \n",
        "# A primeira colunoa mostra a informação (Palavra ou ScreenName ou Hashtag)\n",
        "# A segunda coluna mostra o número de ocorrências (Count)\n",
        "for label, data in (('Palavra', palavras), \n",
        "                    ('Screen Name', screen_names), \n",
        "                    ('Hashtag', hashtags)):\n",
        "    pt = PrettyTable(field_names=[label, 'Count']) \n",
        "    c = Counter(data)\n",
        "    [ pt.add_row(kv) for kv in c.most_common()[:10] ]\n",
        "    pt.align[label], pt.align['Count'] = 'l', 'r' # Ajusta o alinhamento das colunas (left,right)\n",
        "    print(pt)\n",
        "#\n"
      ],
      "execution_count": 40,
      "outputs": [
        {
          "output_type": "stream",
          "text": [
            "+---------+-------+\n",
            "| Palavra | Count |\n",
            "+---------+-------+\n",
            "| RT      |    70 |\n",
            "| #Italia |    38 |\n",
            "| a       |    29 |\n",
            "| di      |    27 |\n",
            "| e       |    27 |\n",
            "| il      |    26 |\n",
            "| la      |    24 |\n",
            "| in      |    20 |\n",
            "| de      |    18 |\n",
            "| Carrà   |    17 |\n",
            "+---------+-------+\n",
            "+-----------------+-------+\n",
            "| Screen Name     | Count |\n",
            "+-----------------+-------+\n",
            "| raffaella       |    16 |\n",
            "| JoseCarlosRRuiz |    14 |\n",
            "| Gianmar26145917 |     8 |\n",
            "| LopezOlvera     |     4 |\n",
            "| UnicoPadreSanto |     4 |\n",
            "| BasurtoFA       |     4 |\n",
            "| josemagarrido   |     4 |\n",
            "| danielancheytac |     4 |\n",
            "| Signorasinasce  |     3 |\n",
            "| sabiasundato_o  |     3 |\n",
            "+-----------------+-------+\n",
            "+----------------+-------+\n",
            "| Hashtag        | Count |\n",
            "+----------------+-------+\n",
            "| Italia         |    48 |\n",
            "| 5luglio        |    14 |\n",
            "| Mattarella     |     6 |\n",
            "| Macron         |     5 |\n",
            "| DdlZan         |     5 |\n",
            "| RaffaellaCarrà |     5 |\n",
            "| Euro2020       |     4 |\n",
            "| 5Jul           |     4 |\n",
            "| RaffaelaCarra  |     3 |\n",
            "| Italy          |     3 |\n",
            "+----------------+-------+\n"
          ],
          "name": "stdout"
        }
      ]
    }
  ]
}