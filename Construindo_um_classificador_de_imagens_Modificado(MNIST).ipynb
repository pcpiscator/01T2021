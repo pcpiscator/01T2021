{
  "nbformat": 4,
  "nbformat_minor": 0,
  "metadata": {
    "kernelspec": {
      "display_name": "Python 3",
      "language": "python",
      "name": "python3"
    },
    "language_info": {
      "codemirror_mode": {
        "name": "ipython",
        "version": 3
      },
      "file_extension": ".py",
      "mimetype": "text/x-python",
      "name": "python",
      "nbconvert_exporter": "python",
      "pygments_lexer": "ipython3",
      "version": "3.8.2"
    },
    "nav_menu": {
      "height": "264px",
      "width": "369px"
    },
    "toc": {
      "navigate_menu": true,
      "number_sections": true,
      "sideBar": true,
      "threshold": 6,
      "toc_cell": false,
      "toc_section_display": "block",
      "toc_window_display": false
    },
    "colab": {
      "name": "Construindo um classificador de imagens - Modificado(MNIST)",
      "provenance": [],
      "collapsed_sections": [],
      "include_colab_link": true
    }
  },
  "cells": [
    {
      "cell_type": "markdown",
      "metadata": {
        "id": "view-in-github",
        "colab_type": "text"
      },
      "source": [
        "<a href=\"https://colab.research.google.com/github/pcpiscator/01T2021/blob/main/Construindo_um_classificador_de_imagens_Modificado(MNIST).ipynb\" target=\"_parent\"><img src=\"https://colab.research.google.com/assets/colab-badge.svg\" alt=\"Open In Colab\"/></a>"
      ]
    },
    {
      "cell_type": "markdown",
      "metadata": {
        "id": "mg9PW0XaFzDy"
      },
      "source": [
        "# Curso de Especialização em Ciência de Dados - FURG\n",
        "## Machine Learning I - Redes Neurais (parte 1)\n",
        "### Prof. Marcelo Malheiros\n",
        "\n",
        "Código adaptado de Aurélien Geron (licença Apache-2.0)\n",
        "\n",
        "---"
      ]
    },
    {
      "cell_type": "markdown",
      "metadata": {
        "id": "NbA87UCHWB40"
      },
      "source": [
        "BIBLIOTECAS IMPORTANTES\n",
        "\n",
        "import pandas as pd                  \n",
        "import numpy as np\n",
        "\n",
        "import seaborn as sns\n",
        "\n",
        "import matplotlib.pyplot as plt\n",
        "\n",
        "from datetime import datetime\n",
        "\n",
        "from dateutil.parser import parse \n",
        "\n",
        "%matplotlib inline"
      ]
    },
    {
      "cell_type": "markdown",
      "metadata": {
        "id": "yAMVIFQBFzD-"
      },
      "source": [
        "# Inicialização\n",
        "\n",
        "Aqui importamos as bibliotecas fundamentais de Python para este _notebook_:\n",
        "\n",
        "- NumPy: suporte a vetores, matrizes e operações de Álgebra Linear\n",
        "- Matplotlib: biblioteca de visualização de dados\n",
        "- Pandas: pacote estatístico e de manipulação de DataFrames\n",
        "- Scikit-Learn: biblioteca com algoritmos de Machine Learning"
      ]
    },
    {
      "cell_type": "code",
      "metadata": {
        "id": "Zd1JPPl0FzD_"
      },
      "source": [
        "%matplotlib inline\n",
        "import numpy as np\n",
        "import matplotlib.pyplot as plt\n",
        "import pandas as pd\n",
        "import sklearn\n"
      ],
      "execution_count": 1,
      "outputs": []
    },
    {
      "cell_type": "markdown",
      "metadata": {
        "id": "KaxEHSUXFzEB"
      },
      "source": [
        "Este _notebook_, em particular, utiliza a biblioteca Keras para definir e treinar redes neurais. Aqui utilizamos a versão **integrada** de Keras, que já vem como parte da biblioteca mais geral TensorFlow.\n",
        "\n",
        "Em geral é mais fácil usar a versão integrada de Keras, pois esta está pronta para usar a Tensorflow, sem risco de incompatibilidade.\n",
        "\n",
        "Ambas já fazem parte do ambiente Colaboratory.\n",
        "\n",
        "**Atenção:** para quem utiliza o ambiente Jupyter, é preciso primeiro instalar o pacote `tensorflow`. Na linha de comando isso pode ser feito assim:\n",
        "\n",
        "    conda install tensorflow"
      ]
    },
    {
      "cell_type": "code",
      "metadata": {
        "id": "rqhhFG1cFzEC",
        "colab": {
          "base_uri": "https://localhost:8080/"
        },
        "outputId": "f00da735-6010-48d0-eb61-367e799836ed"
      },
      "source": [
        "import tensorflow as tf\n",
        "from tensorflow import keras\n",
        "\n",
        "print('tensorflow:      versão', tf.__version__)\n",
        "print('keras integrada: versão', keras.__version__)"
      ],
      "execution_count": 2,
      "outputs": [
        {
          "output_type": "stream",
          "text": [
            "tensorflow:      versão 2.4.1\n",
            "keras integrada: versão 2.4.0\n"
          ],
          "name": "stdout"
        }
      ]
    },
    {
      "cell_type": "markdown",
      "metadata": {
        "id": "CGgTb6zJFzEF"
      },
      "source": [
        "Este _notebook_ também utiliza a biblioteca `pydot` e a ferramenta Graphviz para visualizar as redes neurais. \n",
        "\n",
        "Ambos já fazem parte do ambiente Colaboratory.\n",
        "\n",
        "**Atenção:** para quem utiliza o ambiente Jupyter, é preciso primeiro instalar os pacotes `pydot` e `graphviz`. Na linha de comando isso pode ser feito assim:\n",
        "\n",
        "    conda install pydot graphviz"
      ]
    },
    {
      "cell_type": "code",
      "metadata": {
        "id": "xyKnzRJXFzEG"
      },
      "source": [
        "import pydot"
      ],
      "execution_count": 3,
      "outputs": []
    },
    {
      "cell_type": "markdown",
      "metadata": {
        "id": "qkyCmdMqFzEN"
      },
      "source": [
        "# Construindo um classificador de imagens"
      ]
    },
    {
      "cell_type": "markdown",
      "metadata": {
        "id": "0E6IrPzBFzEN"
      },
      "source": [
        "O primeiro passo é carregar um conjunto de dados. No caso, usamos aqui o _dataset_ **Fashion MNIST**, com imagens reduzidas de roupas. A biblioteca Keras tem várias funções para carregar conjuntos de dados populares em `keras.datasets`. \n",
        "\n",
        "O conjunto de dados já está dividido entre instâncias de treinamento e de teste, mas a seguir iremos dividir o conjunto de treinamento para ter um conjunto de validação.\n",
        "\n",
        "Cada instância é uma imagem em tons de cinza (com valores de 0 a 255) e com resolução 28 por 28 _pixels_. Note que esse _dataset_ foi feito para ser compatível com o conjunto **MNIST** original, tendo a mesma resolução, número de instâncias e número de classes (10), porém sendo mais desafiador de classificar."
      ]
    },
    {
      "cell_type": "code",
      "metadata": {
        "id": "PLndlrWDFzEN",
        "colab": {
          "base_uri": "https://localhost:8080/"
        },
        "outputId": "bb011a35-2b55-4d55-b77e-41a5fb64459c"
      },
      "source": [
        "# importação do dataset\n",
        "mnist = keras.datasets.mnist\n",
        "(X_train_full, y_train_full), (X_test, y_test) = mnist.load_data()\n",
        "print('treinamento completo:', X_train_full.shape)\n",
        "print('testes:              ', X_test.shape)"
      ],
      "execution_count": 7,
      "outputs": [
        {
          "output_type": "stream",
          "text": [
            "treinamento completo: (60000, 28, 28)\n",
            "testes:               (10000, 28, 28)\n"
          ],
          "name": "stdout"
        }
      ]
    },
    {
      "cell_type": "code",
      "metadata": {
        "colab": {
          "base_uri": "https://localhost:8080/"
        },
        "id": "c5ezIqVtfVrv",
        "outputId": "4fb5d758-84d9-4db9-aba4-7c5cf223753e"
      },
      "source": [
        "# separação dos dados de treinamento e validação\n",
        "X_valid, X_train = X_train_full[:5000] / 255., X_train_full[5000:] / 255.\n",
        "y_valid, y_train = y_train_full[:5000], y_train_full[5000:]\n",
        "X_test = X_test / 255.\n",
        "print('treinamento:', X_train.shape)\n",
        "print('validação:   ', X_valid.shape)"
      ],
      "execution_count": 6,
      "outputs": [
        {
          "output_type": "stream",
          "text": [
            "treinamento: (55000, 28, 28)\n",
            "validação:    (5000, 28, 28)\n"
          ],
          "name": "stdout"
        }
      ]
    },
    {
      "cell_type": "markdown",
      "metadata": {
        "id": "tlgS9wV7FzEO"
      },
      "source": [
        "Aqui o conjunto completo de treinamento é quebrado em dois, um de treinamento menor e outro de validação. Também é feita a conversão dos valores inteiros de tons de cinza (de 0 a 255) para um valor real no intervalo de 0 a 1."
      ]
    },
    {
      "cell_type": "code",
      "metadata": {
        "id": "MGMH56oyFzEO",
        "colab": {
          "base_uri": "https://localhost:8080/"
        },
        "outputId": "8200e484-1867-4e88-b24f-8324158ce9e7"
      },
      "source": [
        "# separação dos dados de treinamento e validação\n",
        "X_valid, X_train = X_train_full[:5000] / 255., X_train_full[5000:] / 255.\n",
        "y_valid, y_train = y_train_full[:5000], y_train_full[5000:]\n",
        "X_test = X_test / 255.\n",
        "print('treinamento:', X_train.shape)\n",
        "print('validação:   ', X_valid.shape)"
      ],
      "execution_count": 8,
      "outputs": [
        {
          "output_type": "stream",
          "text": [
            "treinamento: (55000, 28, 28)\n",
            "validação:    (5000, 28, 28)\n"
          ],
          "name": "stdout"
        }
      ]
    },
    {
      "cell_type": "markdown",
      "metadata": {
        "id": "Q30n0bRcFzEP"
      },
      "source": [
        "Abaixo é exibida primeira instância do conjunto de treino:"
      ]
    },
    {
      "cell_type": "code",
      "metadata": {
        "id": "h2DORva5FzEP",
        "colab": {
          "base_uri": "https://localhost:8080/",
          "height": 265
        },
        "outputId": "9126b892-974e-4c54-ec7d-6272e32a7459"
      },
      "source": [
        "plt.imshow(X_train[0], cmap='binary')\n",
        "plt.show()"
      ],
      "execution_count": 9,
      "outputs": [
        {
          "output_type": "display_data",
          "data": {
            "image/png": "[encoded data removed]",
            "text/plain": [
              "<Figure size 432x288 with 1 Axes>"
            ]
          },
          "metadata": {
            "tags": [],
            "needs_background": "light"
          }
        }
      ]
    },
    {
      "cell_type": "markdown",
      "metadata": {
        "id": "goHku5LZFzEQ"
      },
      "source": [
        "Os rótulos são valores inteiros de 0 a 9, quardados nos vetores `y` e que correspondem aos seguintes nomes de classes.\n",
        "\n",
        "Então a instância 0 é um **sete**."
      ]
    },
    {
      "cell_type": "code",
      "metadata": {
        "colab": {
          "base_uri": "https://localhost:8080/",
          "height": 265
        },
        "id": "m8BBLdgQiMsk",
        "outputId": "8c9f14b3-b9ce-47d4-c11c-7828601937a5"
      },
      "source": [
        "#A instância 66 p.ex. é um 5.\n",
        "plt.imshow(X_train[66], cmap='binary')\n",
        "plt.show()"
      ],
      "execution_count": 10,
      "outputs": [
        {
          "output_type": "display_data",
          "data": {
            "image/png": "[encoded data removed]",
            "text/plain": [
              "<Figure size 432x288 with 1 Axes>"
            ]
          },
          "metadata": {
            "tags": [],
            "needs_background": "light"
          }
        }
      ]
    },
    {
      "cell_type": "code",
      "metadata": {
        "id": "HOtQdsMMFzEQ",
        "colab": {
          "base_uri": "https://localhost:8080/",
          "height": 35
        },
        "outputId": "51d65629-e2e2-4ed3-8f76-9b5a688762bd"
      },
      "source": [
        "class_names = ['0', '1', '2', '3', '4',\n",
        "               '5', '6', '7', '8', '9']\n",
        "class_names[y_train[0]]"
      ],
      "execution_count": 11,
      "outputs": [
        {
          "output_type": "execute_result",
          "data": {
            "application/vnd.google.colaboratory.intrinsic+json": {
              "type": "string"
            },
            "text/plain": [
              "'7'"
            ]
          },
          "metadata": {
            "tags": []
          },
          "execution_count": 11
        }
      ]
    },
    {
      "cell_type": "code",
      "metadata": {
        "colab": {
          "base_uri": "https://localhost:8080/",
          "height": 35
        },
        "id": "8ZVa1sCWjGjI",
        "outputId": "d5e660fd-58d2-4348-bb2f-7b79461612f1"
      },
      "source": [
        "# Outro exemplo.\n",
        "class_names = ['0', '1', '2', '3', '4',\n",
        "               '5', '6', '7', '8', '9']\n",
        "class_names[y_train[980]]"
      ],
      "execution_count": 12,
      "outputs": [
        {
          "output_type": "execute_result",
          "data": {
            "application/vnd.google.colaboratory.intrinsic+json": {
              "type": "string"
            },
            "text/plain": [
              "'3'"
            ]
          },
          "metadata": {
            "tags": []
          },
          "execution_count": 12
        }
      ]
    },
    {
      "cell_type": "markdown",
      "metadata": {
        "id": "1R2IFwKhFzER"
      },
      "source": [
        "Abaixo é exibido um mosaico com várias instâncias do conjunto de treino:"
      ]
    },
    {
      "cell_type": "code",
      "metadata": {
        "id": "S67rSQ9vFzER",
        "colab": {
          "base_uri": "https://localhost:8080/",
          "height": 308
        },
        "outputId": "fa0a34c9-5af1-401a-9d7b-59786716b6ca"
      },
      "source": [
        "# não se preocupe com este código\n",
        "\n",
        "n_rows = 4\n",
        "n_cols = 10\n",
        "plt.figure(figsize=(n_cols * 1.2, n_rows * 1.2))\n",
        "for row in range(n_rows):\n",
        "    for col in range(n_cols):\n",
        "        index = n_cols * row + col\n",
        "        plt.subplot(n_rows, n_cols, index + 1)\n",
        "        plt.imshow(X_train[index], cmap='binary')\n",
        "        plt.axis('off')\n",
        "        plt.title(class_names[y_train[index]], fontsize=12)\n",
        "plt.subplots_adjust(wspace=0.2, hspace=0.5)\n",
        "plt.show()"
      ],
      "execution_count": 13,
      "outputs": [
        {
          "output_type": "display_data",
          "data": {
            "image/png": "[encoded data removed]",
            "text/plain": [
              "<Figure size 864x345.6 with 40 Axes>"
            ]
          },
          "metadata": {
            "tags": [],
            "needs_background": "light"
          }
        }
      ]
    },
    {
      "cell_type": "markdown",
      "metadata": {
        "id": "d6K9zoE5FzER"
      },
      "source": [
        "# Criando uma rede neural\n",
        "\n",
        "Aqui vamos criar uma rede neural de classificação, usando um modelo (ou arquitetura) do tipo sequencial. O modelo sequencial corresponde ao tipo mais simples de rede neural, onde uma sequência de camadas de neurônios é empilhada uma em cima da outra.\n",
        "\n",
        "- A criação começa com a chamada a `Sequential`, que define o tipo do modelo:\n",
        "\n",
        "        model = keras.models.Sequential()\n",
        "\n",
        "- Então uma camada do tipo `Flatten` é adicionada. Seu papel é apenas transformar a matriz de _pixels_ em um longo vetor. É uma camada de preprocessamento dos dados. Mas como esta é a primeira camada, é preciso definir o formato da entrada com `input_shape`:\n",
        "\n",
        "        model.add(keras.layers.Flatten(input_shape=[28, 28]))\n",
        "\n",
        "- A seguir adicionamos uma camada densa do tipo `Dense`, ou seja, totalmente conectada com a camada anterior. Esta conta com 300 neurônios e função de ativação ReLU:\n",
        "\n",
        "        model.add(keras.layers.Dense(300, activation='relu'))\n",
        "        \n",
        "- Então uma segunda camada `Dense` é adicionada, agora com 100 neurônios e função de ativação também ReLU:\n",
        "        \n",
        "        model.add(keras.layers.Dense(100, activation='relu'))\n",
        "        \n",
        "- Finalmente uma camada de saída é adicionada. Aqui o tipo também é `Dense`, mas a função de ativação é trocada para `softmax` para produzir a saída de classificador (uma vez que as classes são mutuamente exclusivas):\n",
        "        \n",
        "        model.add(keras.layers.Dense(10, activation='softmax'))\n",
        "\n",
        "Ainda que se possa criar uma rede neural com as diversas chamadas a `model.add(...)`, é mais conveniente criar o modelo passando uma lista de camadas, como mostrado a seguir."
      ]
    },
    {
      "cell_type": "code",
      "metadata": {
        "id": "rqaIO9f8FzES"
      },
      "source": [
        "# comando para 'zerar' a biblioteca Keras\n",
        "keras.backend.clear_session()\n",
        "\n",
        "# definição de sementes aleatórias\n",
        "np.random.seed(42)\n",
        "tf.random.set_seed(42)"
      ],
      "execution_count": 14,
      "outputs": []
    },
    {
      "cell_type": "code",
      "metadata": {
        "id": "EOH7jRFvFzET"
      },
      "source": [
        "# especificação do modelo\n",
        "model = keras.models.Sequential([\n",
        "    keras.layers.Flatten(input_shape=[28, 28]),\n",
        "    keras.layers.Dense(300, activation='relu'),\n",
        "    keras.layers.Dense(100, activation='relu'),\n",
        "    keras.layers.Dense(10, activation='softmax')\n",
        "])"
      ],
      "execution_count": 15,
      "outputs": []
    },
    {
      "cell_type": "code",
      "metadata": {
        "id": "ENAuv2WqFzET",
        "colab": {
          "base_uri": "https://localhost:8080/"
        },
        "outputId": "045a10cf-6f47-4749-c735-b78d47e1bf9c"
      },
      "source": [
        "# resumo legível da arquitetura deste modelo\n",
        "model.summary()"
      ],
      "execution_count": 16,
      "outputs": [
        {
          "output_type": "stream",
          "text": [
            "Model: \"sequential\"\n",
            "_________________________________________________________________\n",
            "Layer (type)                 Output Shape              Param #   \n",
            "=================================================================\n",
            "flatten (Flatten)            (None, 784)               0         \n",
            "_________________________________________________________________\n",
            "dense (Dense)                (None, 300)               235500    \n",
            "_________________________________________________________________\n",
            "dense_1 (Dense)              (None, 100)               30100     \n",
            "_________________________________________________________________\n",
            "dense_2 (Dense)              (None, 10)                1010      \n",
            "=================================================================\n",
            "Total params: 266,610\n",
            "Trainable params: 266,610\n",
            "Non-trainable params: 0\n",
            "_________________________________________________________________\n"
          ],
          "name": "stdout"
        }
      ]
    },
    {
      "cell_type": "markdown",
      "metadata": {
        "id": "A74KcxDiFzEU"
      },
      "source": [
        "Note que as camadas densas geralmente têm muitos parâmetros. Por exemplo, a primeira camada densa tem pesos de conexão de 784 × 300, além de mais 300 termos de _bias_, chegando a um total de 235.500 parâmetros.\n",
        "\n",
        "Isso dá ao modelo bastante flexibilidade para ajustar os dados de treinamento, mas também significa que o modelo corre o risco de ter _overfitting_, especialmente quando não há muitos dados de treinamento."
      ]
    },
    {
      "cell_type": "markdown",
      "metadata": {
        "id": "F29enauHFzEU"
      },
      "source": [
        "## Arquitetura da rede neural\n",
        "\n",
        "Podemos gerar uma figura da arquitetura deste modelo usando a função `keras.utils.plot_model`."
      ]
    },
    {
      "cell_type": "code",
      "metadata": {
        "id": "kHEgELLyFzEU",
        "colab": {
          "base_uri": "https://localhost:8080/",
          "height": 533
        },
        "outputId": "e071b838-c9d4-45c5-9e18-7bd1f6cf9196"
      },
      "source": [
        "keras.utils.plot_model(model, 'mnist_model.png', show_shapes=True)"
      ],
      "execution_count": 18,
      "outputs": [
        {
          "output_type": "execute_result",
          "data": {
            "image/png": "[encoded data removed]",
            "text/plain": [
              "<IPython.core.display.Image object>"
            ]
          },
          "metadata": {
            "tags": []
          },
          "execution_count": 18
        }
      ]
    },
    {
      "cell_type": "markdown",
      "metadata": {
        "id": "tgZ2qIcqFzEV"
      },
      "source": [
        "## Acesso às camadas\n",
        "\n",
        "A biblioteca permite acessar cada camada criada, usando índices de acesso tal como em uma lista de Python.\n",
        "\n",
        "Permite também ver atributos de cada camada, como o nome ou se é uma camada oculta. E ainda permite inspecionar os pesos de todas as conexões daquela camada."
      ]
    },
    {
      "cell_type": "code",
      "metadata": {
        "id": "PSWwPE5VFzEV",
        "colab": {
          "base_uri": "https://localhost:8080/"
        },
        "outputId": "1d8edda5-d575-4ed3-8f75-9c34f9c4be41"
      },
      "source": [
        "# acesso a cada uma das camadas\n",
        "model.layers"
      ],
      "execution_count": 19,
      "outputs": [
        {
          "output_type": "execute_result",
          "data": {
            "text/plain": [
              "[<tensorflow.python.keras.layers.core.Flatten at 0x7efc6e958950>,\n",
              " <tensorflow.python.keras.layers.core.Dense at 0x7efc6540b110>,\n",
              " <tensorflow.python.keras.layers.core.Dense at 0x7efc643ac350>,\n",
              " <tensorflow.python.keras.layers.core.Dense at 0x7efc643ac810>]"
            ]
          },
          "metadata": {
            "tags": []
          },
          "execution_count": 19
        }
      ]
    },
    {
      "cell_type": "code",
      "metadata": {
        "id": "9V8rBsVoFzEW",
        "colab": {
          "base_uri": "https://localhost:8080/",
          "height": 35
        },
        "outputId": "445a65b6-8260-4af3-8fc3-69662f936e9c"
      },
      "source": [
        "# primeira camada e respectivo nome\n",
        "hidden1 = model.layers[1]\n",
        "hidden1.name"
      ],
      "execution_count": 20,
      "outputs": [
        {
          "output_type": "execute_result",
          "data": {
            "application/vnd.google.colaboratory.intrinsic+json": {
              "type": "string"
            },
            "text/plain": [
              "'dense'"
            ]
          },
          "metadata": {
            "tags": []
          },
          "execution_count": 20
        }
      ]
    },
    {
      "cell_type": "code",
      "metadata": {
        "id": "Hvf9hgcFFzEW",
        "colab": {
          "base_uri": "https://localhost:8080/"
        },
        "outputId": "60c02c50-c1e5-4abf-eadc-0caa2db5f5d2"
      },
      "source": [
        "# encontra camada pelo nome\n",
        "model.get_layer(hidden1.name)"
      ],
      "execution_count": 21,
      "outputs": [
        {
          "output_type": "execute_result",
          "data": {
            "text/plain": [
              "<tensorflow.python.keras.layers.core.Dense at 0x7efc6540b110>"
            ]
          },
          "metadata": {
            "tags": []
          },
          "execution_count": 21
        }
      ]
    },
    {
      "cell_type": "code",
      "metadata": {
        "id": "YFZUVqN2FzEY",
        "colab": {
          "base_uri": "https://localhost:8080/"
        },
        "outputId": "3ad1de3b-515d-4137-bd11-a7f6c56a1ce5"
      },
      "source": [
        "# indica se a camada é ou não oculta\n",
        "model.get_layer(hidden1.name) is hidden1"
      ],
      "execution_count": 22,
      "outputs": [
        {
          "output_type": "execute_result",
          "data": {
            "text/plain": [
              "True"
            ]
          },
          "metadata": {
            "tags": []
          },
          "execution_count": 22
        }
      ]
    },
    {
      "cell_type": "markdown",
      "metadata": {
        "id": "m9l7CapdFzEY"
      },
      "source": [
        "Observe que a camada `Dense` inicializa os pesos das conexão aleatoriamente. Os vieses foram inicializados apenas com zero."
      ]
    },
    {
      "cell_type": "code",
      "metadata": {
        "id": "MRjMc_BaFzEY",
        "colab": {
          "base_uri": "https://localhost:8080/"
        },
        "outputId": "4833af09-342d-4a66-b5d3-b80bc527938c"
      },
      "source": [
        "# obtém pesos e vieses da camada\n",
        "weights, biases = hidden1.get_weights()\n",
        "print('weights:', weights.shape)\n",
        "print('biases: ', biases.shape)"
      ],
      "execution_count": 23,
      "outputs": [
        {
          "output_type": "stream",
          "text": [
            "weights: (784, 300)\n",
            "biases:  (300,)\n"
          ],
          "name": "stdout"
        }
      ]
    },
    {
      "cell_type": "code",
      "metadata": {
        "id": "AkvaAq_uFzEZ",
        "colab": {
          "base_uri": "https://localhost:8080/"
        },
        "outputId": "8dbf78ad-7708-42c4-fdb1-fa957cffca98"
      },
      "source": [
        "weights"
      ],
      "execution_count": 24,
      "outputs": [
        {
          "output_type": "execute_result",
          "data": {
            "text/plain": [
              "array([[ 0.02448617, -0.00877795, -0.02189048, ..., -0.02766046,\n",
              "         0.03859074, -0.06889391],\n",
              "       [ 0.00476504, -0.03105379, -0.0586676 , ...,  0.00602964,\n",
              "        -0.02763776, -0.04165364],\n",
              "       [-0.06189284, -0.06901957,  0.07102345, ..., -0.04238207,\n",
              "         0.07121518, -0.07331658],\n",
              "       ...,\n",
              "       [-0.03048757,  0.02155137, -0.05400612, ..., -0.00113463,\n",
              "         0.00228987,  0.05581069],\n",
              "       [ 0.07061854, -0.06960931,  0.07038955, ..., -0.00384101,\n",
              "         0.00034875,  0.02878492],\n",
              "       [-0.06022581,  0.01577859, -0.02585464, ..., -0.00527829,\n",
              "         0.00272203, -0.06793761]], dtype=float32)"
            ]
          },
          "metadata": {
            "tags": []
          },
          "execution_count": 24
        }
      ]
    },
    {
      "cell_type": "code",
      "metadata": {
        "id": "JxX2GKzJFzEZ",
        "colab": {
          "base_uri": "https://localhost:8080/"
        },
        "outputId": "ba9e9abb-3e6f-4bba-9aa0-9be8acb2aa66"
      },
      "source": [
        "biases"
      ],
      "execution_count": 25,
      "outputs": [
        {
          "output_type": "execute_result",
          "data": {
            "text/plain": [
              "array([0., 0., 0., 0., 0., 0., 0., 0., 0., 0., 0., 0., 0., 0., 0., 0., 0.,\n",
              "       0., 0., 0., 0., 0., 0., 0., 0., 0., 0., 0., 0., 0., 0., 0., 0., 0.,\n",
              "       0., 0., 0., 0., 0., 0., 0., 0., 0., 0., 0., 0., 0., 0., 0., 0., 0.,\n",
              "       0., 0., 0., 0., 0., 0., 0., 0., 0., 0., 0., 0., 0., 0., 0., 0., 0.,\n",
              "       0., 0., 0., 0., 0., 0., 0., 0., 0., 0., 0., 0., 0., 0., 0., 0., 0.,\n",
              "       0., 0., 0., 0., 0., 0., 0., 0., 0., 0., 0., 0., 0., 0., 0., 0., 0.,\n",
              "       0., 0., 0., 0., 0., 0., 0., 0., 0., 0., 0., 0., 0., 0., 0., 0., 0.,\n",
              "       0., 0., 0., 0., 0., 0., 0., 0., 0., 0., 0., 0., 0., 0., 0., 0., 0.,\n",
              "       0., 0., 0., 0., 0., 0., 0., 0., 0., 0., 0., 0., 0., 0., 0., 0., 0.,\n",
              "       0., 0., 0., 0., 0., 0., 0., 0., 0., 0., 0., 0., 0., 0., 0., 0., 0.,\n",
              "       0., 0., 0., 0., 0., 0., 0., 0., 0., 0., 0., 0., 0., 0., 0., 0., 0.,\n",
              "       0., 0., 0., 0., 0., 0., 0., 0., 0., 0., 0., 0., 0., 0., 0., 0., 0.,\n",
              "       0., 0., 0., 0., 0., 0., 0., 0., 0., 0., 0., 0., 0., 0., 0., 0., 0.,\n",
              "       0., 0., 0., 0., 0., 0., 0., 0., 0., 0., 0., 0., 0., 0., 0., 0., 0.,\n",
              "       0., 0., 0., 0., 0., 0., 0., 0., 0., 0., 0., 0., 0., 0., 0., 0., 0.,\n",
              "       0., 0., 0., 0., 0., 0., 0., 0., 0., 0., 0., 0., 0., 0., 0., 0., 0.,\n",
              "       0., 0., 0., 0., 0., 0., 0., 0., 0., 0., 0., 0., 0., 0., 0., 0., 0.,\n",
              "       0., 0., 0., 0., 0., 0., 0., 0., 0., 0., 0.], dtype=float32)"
            ]
          },
          "metadata": {
            "tags": []
          },
          "execution_count": 25
        }
      ]
    },
    {
      "cell_type": "markdown",
      "metadata": {
        "id": "MmJF24bjFzEa"
      },
      "source": [
        "## Compilando a rede neural\n",
        "\n",
        "Depois que um modelo é criado, é preciso chamar o método `compile()`, especificando a **função de perda** (aqui, a função `sparse_categorical_crossentropy`) e o **otimizador** a ser usado (`sgd`, algoritmo de descida do gradiente estocástico).\n",
        "\n",
        "Opcionalmente, você também pode especificar uma lista de **medidas de desempenho** extras para calcular durante o treinamento e avaliação. Neste caso apenas é indicada a acurácia com `accuracy`."
      ]
    },
    {
      "cell_type": "code",
      "metadata": {
        "id": "G8qZT7UdFzEa"
      },
      "source": [
        "model.compile(loss='sparse_categorical_crossentropy', optimizer='sgd', \n",
        "              metrics=['accuracy'])"
      ],
      "execution_count": 26,
      "outputs": []
    },
    {
      "cell_type": "markdown",
      "metadata": {
        "id": "EVeVoB2qFzEa"
      },
      "source": [
        "# Treinando e avaliando a rede neural\n",
        "\n",
        "Para treinar o modelo basta chamar o método `fit()`. \n",
        "\n",
        "Três parâmetros são obrigatórios: as _features_ de treinamento, os rótulos de treinamento e o número de épocas.\n",
        "\n",
        "Cada **época** (_epoch_) corresponde a uma etapa de atualização da rede neural.\n",
        "\n",
        "Opcionalemente é passado também um conjunto de validação. A biblioteca Keras medirá a perda e as métricas extras ao final de cada época, o que é muito útil para ver como o modelo realmente funciona: se o desempenho no conjunto de treinamento é muito melhor do que no conjunto de validação, provavelmente está ocorrendo _overfitting_."
      ]
    },
    {
      "cell_type": "code",
      "metadata": {
        "id": "XcTzUE33FzEb",
        "colab": {
          "base_uri": "https://localhost:8080/"
        },
        "outputId": "ef2194bf-24ed-497d-ff2c-e75a5082a277"
      },
      "source": [
        "# esta chamada pode demorar um pouco\n",
        "%time history = model.fit(X_train, y_train, epochs=25, validation_data=(X_valid, y_valid))"
      ],
      "execution_count": 27,
      "outputs": [
        {
          "output_type": "stream",
          "text": [
            "Epoch 1/25\n",
            "1719/1719 [==============================] - 6s 3ms/step - loss: 1.0483 - accuracy: 0.7215 - val_loss: 0.3103 - val_accuracy: 0.9120\n",
            "Epoch 2/25\n",
            "1719/1719 [==============================] - 5s 3ms/step - loss: 0.3103 - accuracy: 0.9111 - val_loss: 0.2473 - val_accuracy: 0.9304\n",
            "Epoch 3/25\n",
            "1719/1719 [==============================] - 5s 3ms/step - loss: 0.2556 - accuracy: 0.9255 - val_loss: 0.2060 - val_accuracy: 0.9426\n",
            "Epoch 4/25\n",
            "1719/1719 [==============================] - 5s 3ms/step - loss: 0.2133 - accuracy: 0.9392 - val_loss: 0.1823 - val_accuracy: 0.9494\n",
            "Epoch 5/25\n",
            "1719/1719 [==============================] - 5s 3ms/step - loss: 0.1859 - accuracy: 0.9466 - val_loss: 0.1646 - val_accuracy: 0.9536\n",
            "Epoch 6/25\n",
            "1719/1719 [==============================] - 5s 3ms/step - loss: 0.1652 - accuracy: 0.9518 - val_loss: 0.1483 - val_accuracy: 0.9604\n",
            "Epoch 7/25\n",
            "1719/1719 [==============================] - 5s 3ms/step - loss: 0.1465 - accuracy: 0.9591 - val_loss: 0.1368 - val_accuracy: 0.9628\n",
            "Epoch 8/25\n",
            "1719/1719 [==============================] - 5s 3ms/step - loss: 0.1311 - accuracy: 0.9627 - val_loss: 0.1295 - val_accuracy: 0.9636\n",
            "Epoch 9/25\n",
            "1719/1719 [==============================] - 5s 3ms/step - loss: 0.1223 - accuracy: 0.9663 - val_loss: 0.1184 - val_accuracy: 0.9674\n",
            "Epoch 10/25\n",
            "1719/1719 [==============================] - 5s 3ms/step - loss: 0.1073 - accuracy: 0.9701 - val_loss: 0.1091 - val_accuracy: 0.9690\n",
            "Epoch 11/25\n",
            "1719/1719 [==============================] - 5s 3ms/step - loss: 0.0995 - accuracy: 0.9720 - val_loss: 0.1050 - val_accuracy: 0.9698\n",
            "Epoch 12/25\n",
            "1719/1719 [==============================] - 5s 3ms/step - loss: 0.0913 - accuracy: 0.9744 - val_loss: 0.1006 - val_accuracy: 0.9708\n",
            "Epoch 13/25\n",
            "1719/1719 [==============================] - 5s 3ms/step - loss: 0.0803 - accuracy: 0.9777 - val_loss: 0.0949 - val_accuracy: 0.9730\n",
            "Epoch 14/25\n",
            "1719/1719 [==============================] - 5s 3ms/step - loss: 0.0793 - accuracy: 0.9771 - val_loss: 0.0921 - val_accuracy: 0.9740\n",
            "Epoch 15/25\n",
            "1719/1719 [==============================] - 5s 3ms/step - loss: 0.0708 - accuracy: 0.9804 - val_loss: 0.0877 - val_accuracy: 0.9724\n",
            "Epoch 16/25\n",
            "1719/1719 [==============================] - 5s 3ms/step - loss: 0.0687 - accuracy: 0.9810 - val_loss: 0.0860 - val_accuracy: 0.9740\n",
            "Epoch 17/25\n",
            "1719/1719 [==============================] - 5s 3ms/step - loss: 0.0625 - accuracy: 0.9829 - val_loss: 0.0834 - val_accuracy: 0.9752\n",
            "Epoch 18/25\n",
            "1719/1719 [==============================] - 5s 3ms/step - loss: 0.0571 - accuracy: 0.9850 - val_loss: 0.0798 - val_accuracy: 0.9768\n",
            "Epoch 19/25\n",
            "1719/1719 [==============================] - 5s 3ms/step - loss: 0.0545 - accuracy: 0.9852 - val_loss: 0.0781 - val_accuracy: 0.9768\n",
            "Epoch 20/25\n",
            "1719/1719 [==============================] - 5s 3ms/step - loss: 0.0524 - accuracy: 0.9859 - val_loss: 0.0774 - val_accuracy: 0.9758\n",
            "Epoch 21/25\n",
            "1719/1719 [==============================] - 5s 3ms/step - loss: 0.0482 - accuracy: 0.9874 - val_loss: 0.0735 - val_accuracy: 0.9784\n",
            "Epoch 22/25\n",
            "1719/1719 [==============================] - 5s 3ms/step - loss: 0.0466 - accuracy: 0.9881 - val_loss: 0.0743 - val_accuracy: 0.9778\n",
            "Epoch 23/25\n",
            "1719/1719 [==============================] - 5s 3ms/step - loss: 0.0462 - accuracy: 0.9877 - val_loss: 0.0756 - val_accuracy: 0.9766\n",
            "Epoch 24/25\n",
            "1719/1719 [==============================] - 5s 3ms/step - loss: 0.0398 - accuracy: 0.9902 - val_loss: 0.0727 - val_accuracy: 0.9772\n",
            "Epoch 25/25\n",
            "1719/1719 [==============================] - 5s 3ms/step - loss: 0.0373 - accuracy: 0.9905 - val_loss: 0.0707 - val_accuracy: 0.9794\n",
            "CPU times: user 2min 46s, sys: 12 s, total: 2min 58s\n",
            "Wall time: 2min 9s\n"
          ],
          "name": "stdout"
        }
      ]
    },
    {
      "cell_type": "code",
      "metadata": {
        "id": "4jK6oX2yFzEb",
        "colab": {
          "base_uri": "https://localhost:8080/"
        },
        "outputId": "4d717217-4719-4827-8a0f-e192ead3a6cc"
      },
      "source": [
        "# os dados do treinamento estão disponíveis no histórico retornado\n",
        "print('parâmetros:', history.params)\n",
        "print('métricas:  ', list(history.history.keys()))\n",
        "print('épocas:    ', history.epoch)"
      ],
      "execution_count": 28,
      "outputs": [
        {
          "output_type": "stream",
          "text": [
            "parâmetros: {'verbose': 1, 'epochs': 25, 'steps': 1719}\n",
            "métricas:   ['loss', 'accuracy', 'val_loss', 'val_accuracy']\n",
            "épocas:     [0, 1, 2, 3, 4, 5, 6, 7, 8, 9, 10, 11, 12, 13, 14, 15, 16, 17, 18, 19, 20, 21, 22, 23, 24]\n"
          ],
          "name": "stdout"
        }
      ]
    },
    {
      "cell_type": "markdown",
      "metadata": {
        "id": "7VTFBTMdFzEb"
      },
      "source": [
        "## Visualização da evolução das métricas ao longo do treinamento"
      ]
    },
    {
      "cell_type": "code",
      "metadata": {
        "id": "fXm1A2g8FzEb",
        "colab": {
          "base_uri": "https://localhost:8080/",
          "height": 378
        },
        "outputId": "d2d00f03-d864-48ab-8ec7-1359e2e7ebfc"
      },
      "source": [
        "pd.DataFrame(history.history).plot(figsize=(12, 6))\n",
        "plt.grid(True)\n",
        "plt.gca().set_ylim(0, 1)\n",
        "plt.show()"
      ],
      "execution_count": 30,
      "outputs": [
        {
          "output_type": "display_data",
          "data": {
            "image/png": "[encoded data removed]",
            "text/plain": [
              "<Figure size 864x432 with 1 Axes>"
            ]
          },
          "metadata": {
            "tags": [],
            "needs_background": "light"
          }
        }
      ]
    },
    {
      "cell_type": "markdown",
      "metadata": {
        "id": "jGY2eqMnFzEc"
      },
      "source": [
        "## Avaliação final do modelo e geração de previsões"
      ]
    },
    {
      "cell_type": "code",
      "metadata": {
        "id": "X8uKMDzAFzEc",
        "colab": {
          "base_uri": "https://localhost:8080/"
        },
        "outputId": "66a053fc-6ed1-4c25-9a29-6c7d01a82b8b"
      },
      "source": [
        "# avaliação com conjunto de teste\n",
        "model.evaluate(X_test, y_test)"
      ],
      "execution_count": 31,
      "outputs": [
        {
          "output_type": "stream",
          "text": [
            "313/313 [==============================] - 0s 1ms/step - loss: 0.0718 - accuracy: 0.9778\n"
          ],
          "name": "stdout"
        },
        {
          "output_type": "execute_result",
          "data": {
            "text/plain": [
              "[0.07178974151611328, 0.9778000116348267]"
            ]
          },
          "metadata": {
            "tags": []
          },
          "execution_count": 31
        }
      ]
    },
    {
      "cell_type": "code",
      "metadata": {
        "id": "SNbEZkq3FzEd",
        "colab": {
          "base_uri": "https://localhost:8080/"
        },
        "outputId": "1a298e8a-9ce5-4f39-dd4a-8df73dc81efd"
      },
      "source": [
        "# probabilidades computadas para três instâncias de teste\n",
        "X_new = X_test[:3]\n",
        "y_proba = model.predict(X_new)\n",
        "print(y_proba.round(2))"
      ],
      "execution_count": 32,
      "outputs": [
        {
          "output_type": "stream",
          "text": [
            "[[0. 0. 0. 0. 0. 0. 0. 1. 0. 0.]\n",
            " [0. 0. 1. 0. 0. 0. 0. 0. 0. 0.]\n",
            " [0. 1. 0. 0. 0. 0. 0. 0. 0. 0.]]\n"
          ],
          "name": "stdout"
        }
      ]
    },
    {
      "cell_type": "code",
      "metadata": {
        "id": "lYxYZ4FcFzEd",
        "colab": {
          "base_uri": "https://localhost:8080/"
        },
        "outputId": "3d9f4427-7fc2-4dd0-b2d1-bcf70b921c24"
      },
      "source": [
        "# classes previstas e reais para as mesmas três instâncias de teste\n",
        "y_pred = np.argmax(model.predict(X_new), axis=-1)\n",
        "print('previstas: ', np.array(class_names)[y_pred])\n",
        "print('reais:     ', np.array(class_names)[y_test[:3]])"
      ],
      "execution_count": 33,
      "outputs": [
        {
          "output_type": "stream",
          "text": [
            "previstas:  ['7' '2' '1']\n",
            "reais:      ['7' '2' '1']\n"
          ],
          "name": "stdout"
        }
      ]
    },
    {
      "cell_type": "code",
      "metadata": {
        "id": "bz1zIy0dFzEe",
        "colab": {
          "base_uri": "https://localhost:8080/",
          "height": 165
        },
        "outputId": "6a885748-bdb7-44e5-a99c-eb20fb1eb29a"
      },
      "source": [
        "# visualização das tres instâncias\n",
        "plt.figure(figsize=(7.2, 2.4))\n",
        "for index, image in enumerate(X_new):\n",
        "    plt.subplot(1, 3, index + 1)\n",
        "    plt.imshow(image, cmap=\"binary\", interpolation=\"nearest\")\n",
        "    plt.axis('off')\n",
        "    plt.title(class_names[y_test[index]], fontsize=12)\n",
        "plt.subplots_adjust(wspace=0.2, hspace=0.5)\n",
        "plt.show()"
      ],
      "execution_count": 34,
      "outputs": [
        {
          "output_type": "display_data",
          "data": {
            "image/png": "[encoded data removed]",
            "text/plain": [
              "<Figure size 518.4x172.8 with 3 Axes>"
            ]
          },
          "metadata": {
            "tags": [],
            "needs_background": "light"
          }
        }
      ]
    }
  ]
}