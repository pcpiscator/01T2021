{
  "nbformat": 4,
  "nbformat_minor": 0,
  "metadata": {
    "colab": {
      "name": "ECD 09 - Machine Learning I - Demonstração do algoritmo Big Sleep",
      "provenance": [],
      "collapsed_sections": [],
      "include_colab_link": true
    },
    "kernelspec": {
      "name": "python3",
      "display_name": "Python 3"
    },
    "accelerator": "GPU"
  },
  "cells": [
    {
      "cell_type": "markdown",
      "metadata": {
        "id": "view-in-github",
        "colab_type": "text"
      },
      "source": [
        "<a href=\"https://colab.research.google.com/github/pcpiscator/01T2021/blob/main/ECD_09_Machine_Learning_I_Demonstra%C3%A7%C3%A3o_do_algoritmo_Big_Sleep.ipynb\" target=\"_parent\"><img src=\"https://colab.research.google.com/assets/colab-badge.svg\" alt=\"Open In Colab\"/></a>"
      ]
    },
    {
      "cell_type": "code",
      "metadata": {
        "id": "vVtpg1jOuweA"
      },
      "source": [
        "# instalação do pacote 'big-sleep' e de todas as suas dependências\n",
        "!pip install big-sleep --upgrade"
      ],
      "execution_count": null,
      "outputs": []
    },
    {
      "cell_type": "markdown",
      "metadata": {
        "id": "YWHeWRaAnqn1"
      },
      "source": [
        "Não se preocupe com o código: basta alterar o campo TERMOS com alguns **termos em inglês** e aguadar a geração das imagens (ficarão na pasta do Colaboratory, podendo ser baixadas diretamente). Se quiser interromper, será preciso reiniciar este _notebook_ (no menu Runtime)."
      ]
    },
    {
      "cell_type": "code",
      "metadata": {
        "id": "68Ta5p3buxJO"
      },
      "source": [
        "from tqdm.notebook import trange\n",
        "from IPython.display import Image, display\n",
        "\n",
        "from big_sleep import Imagine\n",
        "\n",
        "TERMOS = 'house with garden and lake' #@param {type:\"string\"}\n",
        "EPOCAS         =   10 #@param {type:\"number\"} # default: 20\n",
        "ITERACOES      =  100 #@param {type:\"number\"} # default: 1050\n",
        "SALVAR_A_CADA  =   25 #@param {type:\"number\"} # default: 50\n",
        "TAXA_APREND    = 0.07 #@param {type:\"number\"} # default: 0.07\n",
        "\n",
        "model = Imagine(\n",
        "    text = TERMOS,\n",
        "    iterations = ITERACOES,\n",
        "    save_every = SALVAR_A_CADA,\n",
        "    lr = TAXA_APREND,\n",
        "    save_progress = True,\n",
        ")\n",
        "\n",
        "for epoch in range(EPOCAS):\n",
        "    print('\\n\\nÉPOCA', epoch)\n",
        "    for i in trange(model.iterations):\n",
        "        model.train_step(epoch, i)\n",
        "        if (i + 1) % model.save_every != 0:\n",
        "            continue\n",
        "        filename = TERMOS.replace(' ', '_')\n",
        "        image = Image(f'./{filename}.png')\n",
        "        display(image)"
      ],
      "execution_count": null,
      "outputs": []
    }
  ]
}