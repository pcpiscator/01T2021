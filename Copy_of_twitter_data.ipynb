{
  "nbformat": 4,
  "nbformat_minor": 0,
  "metadata": {
    "colab": {
      "name": "Copy of twitter_data.ipynb",
      "provenance": [],
      "include_colab_link": true
    },
    "kernelspec": {
      "name": "python3",
      "display_name": "Python 3"
    },
    "language_info": {
      "name": "python"
    }
  },
  "cells": [
    {
      "cell_type": "markdown",
      "metadata": {
        "id": "view-in-github",
        "colab_type": "text"
      },
      "source": [
        "<a href=\"https://colab.research.google.com/github/pcpiscator/01T2021/blob/main/Copy_of_twitter_data.ipynb\" target=\"_parent\"><img src=\"https://colab.research.google.com/assets/colab-badge.svg\" alt=\"Open In Colab\"/></a>"
      ]
    },
    {
      "cell_type": "markdown",
      "metadata": {
        "id": "ybocju9AGaCt"
      },
      "source": [
        "Acessando Dados do Twitter\n",
        "\n",
        "Por Vinícus M. Oliveira <vinicius@ieee.org>\n",
        "<br><br>\n",
        "**IMPORTANTE: você deve salvar este notebook localmente (computador ou Google Drive) para poder trabalhar nos exercícios. Basta clicar no Menu Arquivo-> Salvar cópia no Drive.**"
      ]
    },
    {
      "cell_type": "markdown",
      "metadata": {
        "id": "5kyUvr40Xhoj"
      },
      "source": [
        "Olá pessoal, neste CoLab faremos uma atividade *hands on* para entender um pouco melhor a questao de organização de dados semi-estruturados.\n",
        "<br> <br>\n",
        "A seguir, estudaremos um código Python para acessar informações da rede social Twitter e realizar consultas a partir da API disponibilizada pela rede social.\n",
        "<br> <br>\n",
        "Para se utilizar essa API, é necessário obter autorização de acesso como desenvolvedor (https://developer.twitter.com/en/apply-for-access). Depois de autorizado, você deverá gerar as suas chaves (*Consumer Keys* e *Authentication Tokens*) e alterar as respectivas chaves no código abaixo.\n",
        "<br> <br>\n",
        "Entretanto, caso você nõ deseje criar esse perfil de desenvolvedor na sua conta pessoal, o código a seguir já está com as minhas chaves de acesso, portanto, você poderá executar normalmente o código.\n",
        "<br> <br>\n",
        "Esse primeiro comando deverá ser usado para instalar a API *tweepy*, que é utilizada para acessar os dados da rede social Twitter.\n"
      ]
    },
    {
      "cell_type": "code",
      "metadata": {
        "id": "h65kiyR8rv43",
        "colab": {
          "base_uri": "https://localhost:8080/"
        },
        "outputId": "fabd6fb8-3c46-40b3-d247-0031906ab8b6"
      },
      "source": [
        "pip install tweepy\n"
      ],
      "execution_count": null,
      "outputs": [
        {
          "output_type": "stream",
          "text": [
            "Requirement already satisfied: tweepy in /usr/local/lib/python3.7/dist-packages (3.10.0)\n",
            "Requirement already satisfied: requests[socks]>=2.11.1 in /usr/local/lib/python3.7/dist-packages (from tweepy) (2.23.0)\n",
            "Requirement already satisfied: six>=1.10.0 in /usr/local/lib/python3.7/dist-packages (from tweepy) (1.15.0)\n",
            "Requirement already satisfied: requests-oauthlib>=0.7.0 in /usr/local/lib/python3.7/dist-packages (from tweepy) (1.3.0)\n",
            "Requirement already satisfied: certifi>=2017.4.17 in /usr/local/lib/python3.7/dist-packages (from requests[socks]>=2.11.1->tweepy) (2021.5.30)\n",
            "Requirement already satisfied: urllib3!=1.25.0,!=1.25.1,<1.26,>=1.21.1 in /usr/local/lib/python3.7/dist-packages (from requests[socks]>=2.11.1->tweepy) (1.24.3)\n",
            "Requirement already satisfied: idna<3,>=2.5 in /usr/local/lib/python3.7/dist-packages (from requests[socks]>=2.11.1->tweepy) (2.10)\n",
            "Requirement already satisfied: chardet<4,>=3.0.2 in /usr/local/lib/python3.7/dist-packages (from requests[socks]>=2.11.1->tweepy) (3.0.4)\n",
            "Requirement already satisfied: PySocks!=1.5.7,>=1.5.6; extra == \"socks\" in /usr/local/lib/python3.7/dist-packages (from requests[socks]>=2.11.1->tweepy) (1.7.1)\n",
            "Requirement already satisfied: oauthlib>=3.0.0 in /usr/local/lib/python3.7/dist-packages (from requests-oauthlib>=0.7.0->tweepy) (3.1.1)\n"
          ],
          "name": "stdout"
        }
      ]
    },
    {
      "cell_type": "markdown",
      "metadata": {
        "id": "NcsKY0p0hPqE"
      },
      "source": [
        "Nesse segundo bloco são definidas algumas funções que serão úteis para montar nossa consulta à base de dados e, também, para definir as informações que serão mostradas ao final da consulta.\n",
        "<br> <br>\n",
        "A função **tw_oauth** concentra todo o código necessário para se obter autorização de acesso com as credenciais devidamente validadas. Uma vez validadas as chaves de acesso, retorna o objeto de acesso.\n"
      ]
    },
    {
      "cell_type": "code",
      "metadata": {
        "id": "1k7lqgaxuqGY"
      },
      "source": [
        "\n",
        "import urllib\n",
        "import tweepy\n",
        "\n",
        "# AUTHENTICATION (OAuth)\n",
        "def tw_oauth():\n",
        "    # Caso você tenha feito sua própria conta como desenvolvedor\n",
        "    # substitua suas chaves nas linhas a seguir\n",
        "    CONSUMER_KEY = \"SYFpddpGiwLKmMBaUPellGXki\"\n",
        "    CONSUMER_SECRET = \"llbWAFXd5CRvK5GVYwvDPV2dpsHrkz2CVmG5ESXXSg13hnWGJx\"\n",
        "    ACCESS_TOKEN = \"234736278-xdQ9DJ3fNTcyRElqD6mNvCFOfyIWgsp9rGvsFPBv\"\n",
        "    ACCESS_TOKEN_SECRET = \"0hE4P481ByaOGsiIW95DyEqZfXmQmKtVpJ68GOzwMf896\"\n",
        "\n",
        "    auth1 = tweepy.auth.OAuthHandler(CONSUMER_KEY, CONSUMER_SECRET)\n",
        "    auth1.set_access_token(ACCESS_TOKEN, ACCESS_TOKEN_SECRET)\n",
        "\n",
        "    return tweepy.API(auth1)\n",
        "\n",
        "\n",
        "\n"
      ],
      "execution_count": null,
      "outputs": []
    },
    {
      "cell_type": "markdown",
      "metadata": {
        "id": "HuiqBzzbpAqH"
      },
      "source": [
        "Aqui a  função **tw_search** é utilizada para montar a consulta que será feita à base de dados do Twitter, com o objeto de manipulação recebido como argumento da função. A definição da consulta é feita por meio das variáveis globais definidas na função **main**.\n",
        "<br> <br>\n",
        "Após obter os dados da base, os dados já estão disponíveis e podem ser manipulados de acordo com o nosso interesse. Nesse caso simples, apenas mostramos na tela algumas informações básicas.\n",
        "<br> <br>\n",
        "Aqui, podemos fazer uso dos dados que resultaram da nossa consulta, ou seja, podemos preparar esses dados para elaborar análises de nosso interesse.\n",
        "<br> <br>\n",
        "Em vez de mostrarmos os dados na tela, podemos salvá-los em arquivo para exportar os dados. Uma boa maneira de fazer essa exportação são os padrões de dados semi-estruturados, como XML e JSON. :-)"
      ]
    },
    {
      "cell_type": "code",
      "metadata": {
        "id": "Hk2gtlxUkiLh"
      },
      "source": [
        "# TWEEPY SEARCH FUNCTION\n",
        "def tw_search(api):\n",
        "    counter = 0\n",
        "\n",
        "    for tweet in tweepy.Cursor(api.search,\n",
        "                                q = query,\n",
        "                                g = local,\n",
        "                                lang = language,\n",
        "                                result_type = tp,\n",
        "                                count = counting).items():\n",
        "        #TWEET INFO\n",
        "        created = tweet.created_at   #tweet created\n",
        "        text    = tweet.text         #tweet text\n",
        "        tweet_id = tweet.id          #tweet ID (not author ID)\n",
        "        cords   = tweet.coordinates  #geographic co-ordinates\n",
        "        retwc   = tweet.retweet_count #re-tweet count\n",
        "        #AUTHOR INFO\n",
        "        username  = tweet.author.name            #author/user name\n",
        "        usersince = tweet.author.created_at      #author/user profile creation date\n",
        "        followers = tweet.author.followers_count #number of author/user followers (inlink)\n",
        "        friends   = tweet.author.friends_count   #number of author/user friends (outlink)\n",
        "        authorid  = tweet.author.id              #author/user ID#\n",
        "        authorloc = tweet.author.location        #author/user location\n",
        "        #TECHNOLOGY INFO\n",
        "        geoenable = tweet.author.geo_enabled     #is author/user account geo enabled?\n",
        "        source    = tweet.source                 #platform source for tweet\n",
        "\n",
        "        print(username, text, source, sep=\" ; \", end=\"\\n ======= \\n\")\n",
        "       \n",
        "        counter = counter +1\n",
        "        if (counter == c):\n",
        "            break"
      ],
      "execution_count": null,
      "outputs": []
    },
    {
      "cell_type": "markdown",
      "metadata": {
        "id": "IhPSGt64rWzl"
      },
      "source": [
        "Esse é o trecho inicial do código, que prepara a nossa consulta à base online disponibilizada da rede social Twitter. \n",
        "<br> <br>\n",
        "A variável *locords* armazena diferentes localidades (London, New York, Washington DC, San Francisco, New Brunswick e Rio Grande) e suas respectivas coordenadas geográficas. Você pode buscar as coordenadas do seu município e adicionar na variável, com a devida identificação.\n",
        "<br> <br>\n",
        "Em *query* define-se o texto que será usado como interesse na consulta.\n",
        "<br> <br>\n",
        "Agora, execute o programa e veja o resultado.\n",
        "<br> <br>\n",
        "Copie esse óodigo no seu próprio CoLab e comece a fazer pequenas alterações naa variávels de consulta, para que você possa verificar mudanças nos resultados.\n",
        "<br><br>\n",
        "No código abaixo, tem-se como consulta *default* a pesquisa do termo *Futebol* (variável **query = \"Futebol\"**), considerando a região de Rio Grande (variável **local = 'rg'**), com mensagens em língua portuguesa (variável **language  = 'pt'**), com resultados do tipo popular (variável **tp  = 'popular'**) e retornando o máximo de 100 respostas (variável **counting  = 100**)."
      ]
    },
    {
      "cell_type": "code",
      "metadata": {
        "id": "pRMpkGxahMnV",
        "colab": {
          "base_uri": "https://localhost:8080/",
          "height": 362
        },
        "outputId": "c1f356f1-1e1b-45b1-ca71-8b9956c5d196"
      },
      "source": [
        "# MAIN ROUTINE\n",
        "def main():\n",
        "\n",
        "    global api, cmax, locords\n",
        "    global query, local, language, tp, c, d\n",
        "\n",
        "    # Geo-coordinates of five metropolitan areas\n",
        "    # London, NYC (lower, middle, upper), Wash DC, San Francisco, New Brunswick (NJ)\n",
        "    # Rio Grande, ...\n",
        "    \n",
        "    # Aqui na variável locords voce pode inserir o seu municipio\n",
        "    # buscando as coordenadas geográficas diretamente no Google\n",
        "                \n",
        "    locords =  {'lo': '0, 51.503, 20km',\n",
        "                'nyl': '-74, 40.73, 2mi',\n",
        "                'nym': '-74, 40.74, 2mi',\n",
        "                'nyu': '-73.96, 40.78, 2mi',\n",
        "                'dc': '-77.04, 38.91, 2mi',\n",
        "                'sf': '-122.45, 37.74, 10km',\n",
        "                'nb': '-74.45, 40.49, 2mi',\n",
        "                'rg': '-52.05, -32.02, 10km'}# Rio Grande\n",
        "                \n",
        "\n",
        "    # Maximum allowed tweet count (note: Twitter sets this to ~180 per 15 minutes)\n",
        "    cmax = 100\n",
        "    \n",
        "    query = \"Futebol\"\n",
        "    local = 'rg'  #'lo', 'nyl', 'nym', 'nyu', 'dc', 'sf', 'nb', 'rg'\n",
        "    language  = 'pt'  #'en','fr','es','pt'\n",
        "    tp  = 'popular' #'mixed','recent','popular'\n",
        "    c  = 10 \n",
        "\n",
        "    # Function to get authorization from Twitter\n",
        "    api = tw_oauth()\n",
        "\n",
        "    # Function to search data in Twitter\n",
        "    tw_search(api)\n",
        "\n",
        "if __name__ == \"__main__\":\n",
        "  main()"
      ],
      "execution_count": null,
      "outputs": [
        {
          "output_type": "error",
          "ename": "NameError",
          "evalue": "ignored",
          "traceback": [
            "\u001b[0;31m---------------------------------------------------------------------------\u001b[0m",
            "\u001b[0;31mNameError\u001b[0m                                 Traceback (most recent call last)",
            "\u001b[0;32m<ipython-input-5-344ddcf3b419>\u001b[0m in \u001b[0;36m<module>\u001b[0;34m()\u001b[0m\n\u001b[1;32m     38\u001b[0m \u001b[0;34m\u001b[0m\u001b[0m\n\u001b[1;32m     39\u001b[0m \u001b[0;32mif\u001b[0m \u001b[0m__name__\u001b[0m \u001b[0;34m==\u001b[0m \u001b[0;34m\"__main__\"\u001b[0m\u001b[0;34m:\u001b[0m\u001b[0;34m\u001b[0m\u001b[0;34m\u001b[0m\u001b[0m\n\u001b[0;32m---> 40\u001b[0;31m   \u001b[0mmain\u001b[0m\u001b[0;34m(\u001b[0m\u001b[0;34m)\u001b[0m\u001b[0;34m\u001b[0m\u001b[0;34m\u001b[0m\u001b[0m\n\u001b[0m",
            "\u001b[0;32m<ipython-input-5-344ddcf3b419>\u001b[0m in \u001b[0;36mmain\u001b[0;34m()\u001b[0m\n\u001b[1;32m     35\u001b[0m \u001b[0;34m\u001b[0m\u001b[0m\n\u001b[1;32m     36\u001b[0m     \u001b[0;31m# Function to search data in Twitter\u001b[0m\u001b[0;34m\u001b[0m\u001b[0;34m\u001b[0m\u001b[0;34m\u001b[0m\u001b[0m\n\u001b[0;32m---> 37\u001b[0;31m     \u001b[0mtw_search\u001b[0m\u001b[0;34m(\u001b[0m\u001b[0mapi\u001b[0m\u001b[0;34m)\u001b[0m\u001b[0;34m\u001b[0m\u001b[0;34m\u001b[0m\u001b[0m\n\u001b[0m\u001b[1;32m     38\u001b[0m \u001b[0;34m\u001b[0m\u001b[0m\n\u001b[1;32m     39\u001b[0m \u001b[0;32mif\u001b[0m \u001b[0m__name__\u001b[0m \u001b[0;34m==\u001b[0m \u001b[0;34m\"__main__\"\u001b[0m\u001b[0;34m:\u001b[0m\u001b[0;34m\u001b[0m\u001b[0;34m\u001b[0m\u001b[0m\n",
            "\u001b[0;32m<ipython-input-4-efd88ed97edd>\u001b[0m in \u001b[0;36mtw_search\u001b[0;34m(api)\u001b[0m\n\u001b[1;32m      8\u001b[0m                                 \u001b[0mlang\u001b[0m \u001b[0;34m=\u001b[0m \u001b[0mlanguage\u001b[0m\u001b[0;34m,\u001b[0m\u001b[0;34m\u001b[0m\u001b[0;34m\u001b[0m\u001b[0m\n\u001b[1;32m      9\u001b[0m                                 \u001b[0mresult_type\u001b[0m \u001b[0;34m=\u001b[0m \u001b[0mtp\u001b[0m\u001b[0;34m,\u001b[0m\u001b[0;34m\u001b[0m\u001b[0;34m\u001b[0m\u001b[0m\n\u001b[0;32m---> 10\u001b[0;31m                                 count = counting).items():\n\u001b[0m\u001b[1;32m     11\u001b[0m         \u001b[0;31m#TWEET INFO\u001b[0m\u001b[0;34m\u001b[0m\u001b[0;34m\u001b[0m\u001b[0;34m\u001b[0m\u001b[0m\n\u001b[1;32m     12\u001b[0m         \u001b[0mcreated\u001b[0m \u001b[0;34m=\u001b[0m \u001b[0mtweet\u001b[0m\u001b[0;34m.\u001b[0m\u001b[0mcreated_at\u001b[0m   \u001b[0;31m#tweet created\u001b[0m\u001b[0;34m\u001b[0m\u001b[0;34m\u001b[0m\u001b[0m\n",
            "\u001b[0;31mNameError\u001b[0m: name 'counting' is not defined"
          ]
        }
      ]
    }
  ]
}